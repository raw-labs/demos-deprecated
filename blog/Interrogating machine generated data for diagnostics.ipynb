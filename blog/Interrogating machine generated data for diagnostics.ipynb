{
 "cells": [
  {
   "cell_type": "markdown",
   "metadata": {},
   "source": [
    "# Integration of machine-generated data\n",
    "\n",
    "In our example below we have data from several sub-systems stored in S3 buckets, databases, docker logs and in formats ranging from log files, SQL database results sets, XML, JSON and Parquet files.\n",
    "We have the following data sources:\n",
    "\n",
    "We have the following data sources:\n",
    " * **Machine status** information logged periodically and stored in a database, we have chosen Oracle for this example.\n",
    " * **Machine maintenance** details, exported by the maintenance software with a proprietary (and often legacy) XML format.\n",
    " * **Software crashes** from Docker, these come in a JSON format and output by familiar docker inspect commands.\n",
    " * **Sensor data** from the machines, stored in Parquet files in a S3 bucket.\n",
    " * **Error Logs**, stored in an S3 bucket, in familiar log file formats that require parsing."
   ]
  },
  {
   "cell_type": "code",
   "execution_count": 2,
   "metadata": {},
   "outputs": [],
   "source": [
    "%load_ext raw_magic"
   ]
  },
  {
   "cell_type": "markdown",
   "metadata": {},
   "source": [
    "Credentials have been pre-registered for each RDBMS system, S3 bucket, etc in RAW.\n",
    "\n",
    "These credentials are given a name (e.g. `test-oracle`)."
   ]
  },
  {
   "cell_type": "code",
   "execution_count": 8,
   "metadata": {},
   "outputs": [
    {
     "data": {
      "text/plain": [
       "type: oracle\n",
       "host: test-oracle.raw-labs.com\n",
       "port: None\n",
       "database: rawdb\n",
       "username: rawtest"
      ]
     },
     "execution_count": 8,
     "metadata": {},
     "output_type": "execute_result"
    }
   ],
   "source": [
    "%rdbms_show test-oracle"
   ]
  },
  {
   "cell_type": "markdown",
   "metadata": {},
   "source": [
    "## Machine status\n",
    "\n",
    "Machines are being monitored and their status and location is being stored in a database; here we have stored in an Oracle database but might be in a file-based form or indeed a time-series database.\n",
    "\n",
    "\n",
    "With our RAW Query Language (RQL) we can look at the contents of Oracle database, in this case a table called ‘machines’, in a schema called ‘rawtest’. The `%%rql` tells Jupyter that the following is a RQL command. (See Using the Jupyter Client):"
   ]
  },
  {
   "cell_type": "code",
   "execution_count": 3,
   "metadata": {},
   "outputs": [
    {
     "data": {
      "text/html": [
       "<table class=\"nested-table\">\n",
       "<tr><th colspan=\"1\" rowspan=\"1\">MACHINEID</th><th colspan=\"1\" rowspan=\"1\">MODEL</th><th colspan=\"1\" rowspan=\"1\">AGE</th><th colspan=\"1\" rowspan=\"1\">STATUS</th><th colspan=\"1\" rowspan=\"1\">LATITUDE</th><th colspan=\"1\" rowspan=\"1\">LONGITUDE</th></tr>\n",
       "<tr><td colspan=\"1\" rowspan=\"1\" class=\"\">1</td><td colspan=\"1\" rowspan=\"1\" class=\"\">model3</td><td colspan=\"1\" rowspan=\"1\" class=\"\">18</td><td colspan=\"1\" rowspan=\"1\" class=\"\">OK</td><td colspan=\"1\" rowspan=\"1\" class=\"\">46.5155</td><td colspan=\"1\" rowspan=\"1\" class=\"\">6.6447</td></tr>\n",
       "<tr><td colspan=\"1\" rowspan=\"1\" class=\"\">2</td><td colspan=\"1\" rowspan=\"1\" class=\"\">model4</td><td colspan=\"1\" rowspan=\"1\" class=\"\">7</td><td colspan=\"1\" rowspan=\"1\" class=\"\">OK</td><td colspan=\"1\" rowspan=\"1\" class=\"\">46.5648</td><td colspan=\"1\" rowspan=\"1\" class=\"\">6.5514</td></tr>\n",
       "<tr><td colspan=\"1\" rowspan=\"1\" class=\"\">3</td><td colspan=\"1\" rowspan=\"1\" class=\"\">model3</td><td colspan=\"1\" rowspan=\"1\" class=\"\">8</td><td colspan=\"1\" rowspan=\"1\" class=\"\">OK</td><td colspan=\"1\" rowspan=\"1\" class=\"\">46.538</td><td colspan=\"1\" rowspan=\"1\" class=\"\">6.6295</td></tr>\n",
       "<tr><td colspan=\"1\" rowspan=\"1\" class=\"\">4</td><td colspan=\"1\" rowspan=\"1\" class=\"\">model3</td><td colspan=\"1\" rowspan=\"1\" class=\"\">7</td><td colspan=\"1\" rowspan=\"1\" class=\"\">OK</td><td colspan=\"1\" rowspan=\"1\" class=\"\">46.5705</td><td colspan=\"1\" rowspan=\"1\" class=\"\">6.5916</td></tr>\n",
       "<tr><td colspan=\"1\" rowspan=\"1\" class=\"\">5</td><td colspan=\"1\" rowspan=\"1\" class=\"\">model3</td><td colspan=\"1\" rowspan=\"1\" class=\"\">2</td><td colspan=\"1\" rowspan=\"1\" class=\"\">OK</td><td colspan=\"1\" rowspan=\"1\" class=\"\">46.5889</td><td colspan=\"1\" rowspan=\"1\" class=\"\">6.6429</td></tr>\n",
       "<tr><td colspan=\"1\" rowspan=\"1\" class=\"\">6</td><td colspan=\"1\" rowspan=\"1\" class=\"\">model3</td><td colspan=\"1\" rowspan=\"1\" class=\"\">7</td><td colspan=\"1\" rowspan=\"1\" class=\"\">OK</td><td colspan=\"1\" rowspan=\"1\" class=\"\">46.5393</td><td colspan=\"1\" rowspan=\"1\" class=\"\">6.6271</td></tr>\n",
       "<tr><td colspan=\"1\" rowspan=\"1\" class=\"\">7</td><td colspan=\"1\" rowspan=\"1\" class=\"\">model3</td><td colspan=\"1\" rowspan=\"1\" class=\"\">20</td><td colspan=\"1\" rowspan=\"1\" class=\"\">OK</td><td colspan=\"1\" rowspan=\"1\" class=\"\">46.5588</td><td colspan=\"1\" rowspan=\"1\" class=\"\">6.705</td></tr>\n",
       "<tr><td colspan=\"1\" rowspan=\"1\" class=\"\">8</td><td colspan=\"1\" rowspan=\"1\" class=\"\">model3</td><td colspan=\"1\" rowspan=\"1\" class=\"\">16</td><td colspan=\"1\" rowspan=\"1\" class=\"\">OK</td><td colspan=\"1\" rowspan=\"1\" class=\"\">46.5671</td><td colspan=\"1\" rowspan=\"1\" class=\"\">6.6963</td></tr>\n",
       "<tr><td colspan=\"1\" rowspan=\"1\" class=\"\">9</td><td colspan=\"1\" rowspan=\"1\" class=\"\">model4</td><td colspan=\"1\" rowspan=\"1\" class=\"\">7</td><td colspan=\"1\" rowspan=\"1\" class=\"\">OK</td><td colspan=\"1\" rowspan=\"1\" class=\"\">46.5695</td><td colspan=\"1\" rowspan=\"1\" class=\"\">6.6725</td></tr>\n",
       "<tr><td colspan=\"1\" rowspan=\"1\" class=\"\">10</td><td colspan=\"1\" rowspan=\"1\" class=\"\">model3</td><td colspan=\"1\" rowspan=\"1\" class=\"\">10</td><td colspan=\"1\" rowspan=\"1\" class=\"\">OK</td><td colspan=\"1\" rowspan=\"1\" class=\"\">46.5756</td><td colspan=\"1\" rowspan=\"1\" class=\"\">6.6934</td></tr>\n",
       "</table>"
      ],
      "text/plain": [
       "<raw_magic.nested_table.NestedTable at 0x7f8971577d30>"
      ]
     },
     "execution_count": 3,
     "metadata": {},
     "output_type": "execute_result"
    }
   ],
   "source": [
    "%%rql \n",
    "\n",
    "select * from read_oracle(\"test-oracle\", \"rawtest\", \"machines\") limit 10"
   ]
  },
  {
   "cell_type": "markdown",
   "metadata": {},
   "source": [
    "Let’s create a view called machines for ease-of-use. we use a `%%view` command inside Jupyter:"
   ]
  },
  {
   "cell_type": "code",
   "execution_count": 4,
   "metadata": {},
   "outputs": [
    {
     "data": {
      "text/plain": [
       "View \"machines\" created"
      ]
     },
     "execution_count": 4,
     "metadata": {},
     "output_type": "execute_result"
    }
   ],
   "source": [
    "%%view machines\n",
    "\n",
    " select * from read_oracle(\"test-oracle\", \"rawtest\", \"machines\") "
   ]
  },
  {
   "cell_type": "markdown",
   "metadata": {},
   "source": [
    "## Machine maintenance\n",
    "\n",
    "Machines have components (called comp1, comp2, etc), which are maintained over time. Each maintenance of a machine creates an XML file which are then exported by the maintenance software with all the info. "
   ]
  },
  {
   "cell_type": "code",
   "execution_count": 21,
   "metadata": {
    "scrolled": true
   },
   "outputs": [
    {
     "data": {
      "text/html": [
       "<table class=\"nested-table\">\n",
       "<tr><th colspan=\"1\" rowspan=\"1\">datetime</th><th colspan=\"1\" rowspan=\"1\">machineID</th><th colspan=\"1\" rowspan=\"1\">comp</th></tr>\n",
       "<tr><td colspan=\"1\" rowspan=\"1\" class=\"\">2014-06-01T06:00:00.000</td><td colspan=\"1\" rowspan=\"1\" class=\"\">1</td><td colspan=\"1\" rowspan=\"1\" class=\"\">comp2</td></tr>\n",
       "<tr><td colspan=\"1\" rowspan=\"1\" class=\"\">2014-07-16T06:00:00.000</td><td colspan=\"1\" rowspan=\"1\" class=\"\">1</td><td colspan=\"1\" rowspan=\"1\" class=\"\">comp4</td></tr>\n",
       "<tr><td colspan=\"1\" rowspan=\"1\" class=\"\">2014-07-31T06:00:00.000</td><td colspan=\"1\" rowspan=\"1\" class=\"\">1</td><td colspan=\"1\" rowspan=\"1\" class=\"\">comp3</td></tr>\n",
       "<tr><td colspan=\"1\" rowspan=\"1\" class=\"\">2014-12-13T06:00:00.000</td><td colspan=\"1\" rowspan=\"1\" class=\"\">1</td><td colspan=\"1\" rowspan=\"1\" class=\"\">comp1</td></tr>\n",
       "<tr><td colspan=\"1\" rowspan=\"1\" class=\"\">2015-01-05T06:00:00.000</td><td colspan=\"1\" rowspan=\"1\" class=\"\">1</td><td colspan=\"1\" rowspan=\"1\" class=\"\">comp4</td></tr>\n",
       "</table>"
      ],
      "text/plain": [
       "<raw_magic.nested_table.NestedTable at 0x7f8971060cf8>"
      ]
     },
     "execution_count": 21,
     "metadata": {},
     "output_type": "execute_result"
    }
   ],
   "source": [
    "%%rql\n",
    "\n",
    "select * from read(\"s3://raw-tutorial/ipython-demos/predictive-maintenance/maintenance.xml\").item\n",
    "limit 5"
   ]
  },
  {
   "cell_type": "markdown",
   "metadata": {},
   "source": [
    "We again create a view called maint for ease-of-use later on."
   ]
  },
  {
   "cell_type": "code",
   "execution_count": 24,
   "metadata": {},
   "outputs": [
    {
     "data": {
      "text/plain": [
       "View \"maint\" replaced"
      ]
     },
     "execution_count": 24,
     "metadata": {},
     "output_type": "execute_result"
    }
   ],
   "source": [
    "%%view maint\n",
    "\n",
    "select machineID,\n",
    "    comp,\n",
    "    to_timestamp(datetime, \"y-M-d'T'H:m:s.SSS\") as datetime\n",
    "from read(\"s3://raw-tutorial/ipython-demos/predictive-maintenance/maintenance.xml\").item"
   ]
  },
  {
   "cell_type": "markdown",
   "metadata": {},
   "source": [
    "## Software crashes\n",
    "\n",
    "\n",
    "Each machine has a specific service for controlling it.\n",
    "\n",
    "These services are deployed using docker. The status of this software can be extracted from the output of the `docker-inspect` command.\n",
    "\n",
    "The output of `docker-inspect` is a (long) JSON document, e.g.:\n",
    "  \n",
    "<div style=\"height: 350px;\n",
    "            overflow: auto;\n",
    "            background-color:#333;\n",
    "            color: white;\n",
    "            font: 1.3rem Inconsolata, monospace;\n",
    "            white-space: pre;\"> \n",
    "user@hostname$ docker inspect my_container\n",
    "[\n",
    "    {\n",
    "        \"Id\": \"c511f35a940573320f4ce475beed827127f9a446ac4deae0497c66f175c0f10f\",\n",
    "        \"Created\": \"2021-03-30T09:06:19.083699441Z\",\n",
    "        \"Path\": \"docker-entrypoint.sh\",\n",
    "        \"Args\": [\n",
    "            \"postgres\"\n",
    "        ],\n",
    "        \"State\": {\n",
    "            \"Status\": \"created\",\n",
    "            \"Running\": false,\n",
    "            \"Paused\": false,\n",
    "            \"Restarting\": false,\n",
    "            \"OOMKilled\": false,\n",
    "            \"Dead\": false,\n",
    "            \"Pid\": 0,\n",
    "            \"ExitCode\": 128,\n",
    "            \"Error\": \"driver failed programming external connectivity on endpoint my_postgres (c3bbf36ed02849b5ede6d4a2162159baf54fe808f83c734b8da64f21676d1886): Error starting userland proxy: listen tcp 0.0.0.0:5432: bind: address already in use\",\n",
    "            \"StartedAt\": \"0001-01-01T00:00:00Z\",\n",
    "            \"FinishedAt\": \"0001-01-01T00:00:00Z\"\n",
    "        },\n",
    "        \"Image\": \"sha256:55482601ce54af4608b14524a97aa6fa28fcd28f6d452048c57835dbdc8d75dd\",\n",
    "        \"ResolvConfPath\": \"/var/lib/docker/containers/c511f35a940573320f4ce475beed827127f9a446ac4deae0497c66f175c0f10f/resolv.conf\",\n",
    "        \"HostnamePath\": \"\",\n",
    "        \"HostsPath\": \"/var/lib/docker/containers/c511f35a940573320f4ce475beed827127f9a446ac4deae0497c66f175c0f10f/hosts\",\n",
    "        \"LogPath\": \"\",\n",
    "        \"Name\": \"/my_container\",\n",
    "        \"RestartCount\": 0,\n",
    "        \"Driver\": \"overlay2\",\n",
    "        \"Platform\": \"linux\",\n",
    "        \"MountLabel\": \"\",\n",
    "        \"ProcessLabel\": \"\",\n",
    "        \"AppArmorProfile\": \"\",\n",
    "        \"ExecIDs\": null,\n",
    "        \"HostConfig\": {\n",
    "            \"Binds\": null,\n",
    "            \"ContainerIDFile\": \"\",\n",
    "            \"LogConfig\": {\n",
    "                \"Type\": \"json-file\",\n",
    "                \"Config\": {}\n",
    "            },\n",
    "            \"NetworkMode\": \"default\",\n",
    "            \"PortBindings\": {\n",
    "                \"5432/tcp\": [\n",
    "                    {\n",
    "                        \"HostIp\": \"\",\n",
    "                        \"HostPort\": \"5432\"\n",
    "                    }\n",
    "                ]\n",
    "            },\n",
    "            \"RestartPolicy\": {\n",
    "                \"Name\": \"no\",\n",
    "                \"MaximumRetryCount\": 0\n",
    "            },\n",
    "            \"AutoRemove\": false,\n",
    "            \"VolumeDriver\": \"\",\n",
    "            \"VolumesFrom\": null,\n",
    "            \"CapAdd\": null,\n",
    "            \"CapDrop\": null,\n",
    "            \"CgroupnsMode\": \"\",\n",
    "            \"Dns\": [],\n",
    "            \"DnsOptions\": [],\n",
    "            \"DnsSearch\": [],\n",
    "            \"ExtraHosts\": null,\n",
    "            \"GroupAdd\": null,\n",
    "            \"IpcMode\": \"private\",\n",
    "            \"Cgroup\": \"\",\n",
    "            \"Links\": null,\n",
    "            \"OomScoreAdj\": 0,\n",
    "            \"PidMode\": \"\",\n",
    "            \"Privileged\": false,\n",
    "            \"PublishAllPorts\": false,\n",
    "            \"ReadonlyRootfs\": false,\n",
    "            \"SecurityOpt\": null,\n",
    "            \"UTSMode\": \"\",\n",
    "            \"UsernsMode\": \"\",\n",
    "            \"ShmSize\": 67108864,\n",
    "            \"Runtime\": \"runc\",\n",
    "            \"ConsoleSize\": [\n",
    "                0,\n",
    "                0\n",
    "            ],\n",
    "            \"Isolation\": \"\",\n",
    "            \"CpuShares\": 0,\n",
    "            \"Memory\": 0,\n",
    "            \"NanoCpus\": 0,\n",
    "            \"CgroupParent\": \"\",\n",
    "            \"BlkioWeight\": 0,\n",
    "            \"BlkioWeightDevice\": [],\n",
    "            \"BlkioDeviceReadBps\": null,\n",
    "            \"BlkioDeviceWriteBps\": null,\n",
    "            \"BlkioDeviceReadIOps\": null,\n",
    "            \"BlkioDeviceWriteIOps\": null,\n",
    "            \"CpuPeriod\": 0,\n",
    "            \"CpuQuota\": 0,\n",
    "            \"CpuRealtimePeriod\": 0,\n",
    "            \"CpuRealtimeRuntime\": 0,\n",
    "            \"CpusetCpus\": \"\",\n",
    "            \"CpusetMems\": \"\",\n",
    "            \"Devices\": [],\n",
    "            \"DeviceCgroupRules\": null,\n",
    "            \"DeviceRequests\": null,\n",
    "            \"KernelMemory\": 0,\n",
    "            \"KernelMemoryTCP\": 0,\n",
    "            \"MemoryReservation\": 0,\n",
    "            \"MemorySwap\": 0,\n",
    "            \"MemorySwappiness\": null,\n",
    "            \"OomKillDisable\": false,\n",
    "            \"PidsLimit\": null,\n",
    "            \"Ulimits\": null,\n",
    "            \"CpuCount\": 0,\n",
    "            \"CpuPercent\": 0,\n",
    "            \"IOMaximumIOps\": 0,\n",
    "            \"IOMaximumBandwidth\": 0,\n",
    "            \"MaskedPaths\": [\n",
    "                \"/proc/asound\",\n",
    "                \"/proc/acpi\",\n",
    "                \"/proc/kcore\",\n",
    "                \"/proc/keys\",\n",
    "                \"/proc/latency_stats\",\n",
    "                \"/proc/timer_list\",\n",
    "                \"/proc/timer_stats\",\n",
    "                \"/proc/sched_debug\",\n",
    "                \"/proc/scsi\",\n",
    "                \"/sys/firmware\"\n",
    "            ],\n",
    "            \"ReadonlyPaths\": [\n",
    "                \"/proc/bus\",\n",
    "                \"/proc/fs\",\n",
    "                \"/proc/irq\",\n",
    "                \"/proc/sys\",\n",
    "                \"/proc/sysrq-trigger\"\n",
    "            ]\n",
    "        },\n",
    "        \"GraphDriver\": {\n",
    "            \"Data\": {\n",
    "                \"LowerDir\": \"/var/lib/docker/overlay2/474001026d76446ce02a02aa7b2cb948941b5ad96452814fb741a71fd8bcc5d6-init/diff:/var/lib/docker/overlay2/10f2737b0dcb3434805a66d80a598fb9b5e36bb0b84eea9b1574cbc15d7c0258/diff:/var/lib/docker/overlay2/53f3c4e0d8782a5cbe80116ae158923e7812965c2574d89a574055d67a8cffad/diff:/var/lib/docker/overlay2/3039d42cca5dd43f700c481e6e653eb957f470a81157b208bdf1d364799d55fd/diff:/var/lib/docker/overlay2/963ea4bd9174ad01410625f5f2eda00fa02f3cd89eba3583ad730db479e242b8/diff:/var/lib/docker/overlay2/af5eb16ca64ee6f5b4e7d7bfec3ac1e6be5cd2bf9918287d962dcae738269a18/diff:/var/lib/docker/overlay2/4c471e716c30773444504e7076477ba9938690b82279b2ad39cb68e72225e271/diff:/var/lib/docker/overlay2/86d7a48124bb16be88df63898f4946f7a5c8ca9facbc1fcf19a6bff9373bb9fd/diff:/var/lib/docker/overlay2/536c62f83cc915e24c3a859d32c95024dc618dc17a800823cea942014a4851d8/diff:/var/lib/docker/overlay2/aa0764c9a76af911aabdcad9d6da6068de5d19801806e20eaeaac719ddf1cac0/diff:/var/lib/docker/overlay2/b785529a59d0cd4ac18b96b8e71f2f7f43445b8d93a437f9a589958f849902a4/diff:/var/lib/docker/overlay2/4715b83b2e7eeb1e86cf60ed83354c89146afd355831aeb85bcb2fd97792143f/diff:/var/lib/docker/overlay2/95c3e61d6047f91741db93e0f476ffe4ac1376f7ea2ad75ffb4512e6f8a97b7d/diff:/var/lib/docker/overlay2/ed6493303bedf3e8e3d582086518dee8be0b38ddfe99c1d9dedfb030527e6dd9/diff:/var/lib/docker/overlay2/9de3fcf2579c283d207d0f17302a17cc46a0ea31668c0e53dee910ad13166eeb/diff\",\n",
    "                \"MergedDir\": \"/var/lib/docker/overlay2/474001026d76446ce02a02aa7b2cb948941b5ad96452814fb741a71fd8bcc5d6/merged\",\n",
    "                \"UpperDir\": \"/var/lib/docker/overlay2/474001026d76446ce02a02aa7b2cb948941b5ad96452814fb741a71fd8bcc5d6/diff\",\n",
    "                \"WorkDir\": \"/var/lib/docker/overlay2/474001026d76446ce02a02aa7b2cb948941b5ad96452814fb741a71fd8bcc5d6/work\"\n",
    "            },\n",
    "            \"Name\": \"overlay2\"\n",
    "        },\n",
    "        \"Mounts\": [\n",
    "            {\n",
    "                \"Type\": \"volume\",\n",
    "                \"Name\": \"8b6c67de3da1b87e2ca01172ce929914067ad8194b9efc2c1fedac17a9f3976b\",\n",
    "                \"Source\": \"/var/lib/docker/volumes/8b6c67de3da1b87e2ca01172ce929914067ad8194b9efc2c1fedac17a9f3976b/_data\",\n",
    "                \"Destination\": \"/var/lib/postgresql/data\",\n",
    "                \"Driver\": \"local\",\n",
    "                \"Mode\": \"\",\n",
    "                \"RW\": true,\n",
    "                \"Propagation\": \"\"\n",
    "            },\n",
    "            {\n",
    "                \"Type\": \"volume\",\n",
    "                \"Name\": \"49fe56d11d609dac822a49eed6ddd00d9586fd7f900fac27b840a67202bfbad6\",\n",
    "                \"Source\": \"/var/lib/docker/volumes/49fe56d11d609dac822a49eed6ddd00d9586fd7f900fac27b840a67202bfbad6/_data\",\n",
    "                \"Destination\": \"my_postgres_db\",\n",
    "                \"Driver\": \"local\",\n",
    "                \"Mode\": \"\",\n",
    "                \"RW\": true,\n",
    "                \"Propagation\": \"\"\n",
    "            }\n",
    "        ],\n",
    "        \"Config\": {\n",
    "            \"Hostname\": \"c511f35a9405\",\n",
    "            \"Domainname\": \"\",\n",
    "            \"User\": \"\",\n",
    "            \"AttachStdin\": false,\n",
    "            \"AttachStdout\": false,\n",
    "            \"AttachStderr\": false,\n",
    "            \"ExposedPorts\": {\n",
    "                \"5432/tcp\": {}\n",
    "            },\n",
    "            \"Tty\": false,\n",
    "            \"OpenStdin\": false,\n",
    "            \"StdinOnce\": false,\n",
    "            \"Env\": [\n",
    "                \"POSTGRES_PASSWORD=1234\",\n",
    "                \"PATH=/usr/local/sbin:/usr/local/bin:/usr/sbin:/usr/bin:/sbin:/bin:/usr/lib/postgresql/11/bin\",\n",
    "                \"GOSU_VERSION=1.12\",\n",
    "                \"LANG=en_US.utf8\",\n",
    "                \"PG_MAJOR=11\",\n",
    "                \"PG_VERSION=11.11-1.pgdg90+1\",\n",
    "                \"PGDATA=/var/lib/postgresql/data\"\n",
    "            ],\n",
    "            \"Cmd\": [\n",
    "                \"postgres\"\n",
    "            ],\n",
    "            \"Image\": \"postgres:11\",\n",
    "            \"Volumes\": {\n",
    "                \"/var/lib/postgresql/data\": {},\n",
    "                \"my_postgres_db\": {}\n",
    "            },\n",
    "            \"WorkingDir\": \"\",\n",
    "            \"Entrypoint\": [\n",
    "                \"docker-entrypoint.sh\"\n",
    "            ],\n",
    "            \"OnBuild\": null,\n",
    "            \"Labels\": {},\n",
    "            \"StopSignal\": \"SIGINT\"\n",
    "        },\n",
    "        \"NetworkSettings\": {\n",
    "            \"Bridge\": \"\",\n",
    "            \"SandboxID\": \"e5f96e69ef66f4fac20ceabd14b093ffbab09f3140be9af75bbd76108b29f470\",\n",
    "            \"HairpinMode\": false,\n",
    "            \"LinkLocalIPv6Address\": \"\",\n",
    "            \"LinkLocalIPv6PrefixLen\": 0,\n",
    "            \"Ports\": {},\n",
    "            \"SandboxKey\": \"/var/run/docker/netns/e5f96e69ef66\",\n",
    "            \"SecondaryIPAddresses\": null,\n",
    "            \"SecondaryIPv6Addresses\": null,\n",
    "            \"EndpointID\": \"c3bbf36ed02849b5ede6d4a2162159baf54fe808f83c734b8da64f21676d1886\",\n",
    "            \"Gateway\": \"\",\n",
    "            \"GlobalIPv6Address\": \"\",\n",
    "            \"GlobalIPv6PrefixLen\": 0,\n",
    "            \"IPAddress\": \"172.17.0.2\",\n",
    "            \"IPPrefixLen\": 16,\n",
    "            \"IPv6Gateway\": \"\",\n",
    "            \"MacAddress\": \"02:42:ac:11:00:02\",\n",
    "            \"Networks\": {\n",
    "                \"bridge\": {\n",
    "                    \"IPAMConfig\": null,\n",
    "                    \"Links\": null,\n",
    "                    \"Aliases\": null,\n",
    "                    \"NetworkID\": \"5127a176fe070162367154bddf17d9d03ec5f43f6f0107691aa9fa789f5949d2\",\n",
    "                    \"EndpointID\": \"c3bbf36ed02849b5ede6d4a2162159baf54fe808f83c734b8da64f21676d1886\",\n",
    "                    \"Gateway\": \"\",\n",
    "                    \"IPAddress\": \"172.17.0.2\",\n",
    "                    \"IPPrefixLen\": 16,\n",
    "                    \"IPv6Gateway\": \"\",\n",
    "                    \"GlobalIPv6Address\": \"\",\n",
    "                    \"GlobalIPv6PrefixLen\": 0,\n",
    "                    \"MacAddress\": \"02:42:ac:11:00:02\",\n",
    "                    \"DriverOpts\": null\n",
    "                }\n",
    "            }\n",
    "        }\n",
    "    }\n",
    "]\n",
    "\n",
    "</div>"
   ]
  },
  {
   "cell_type": "markdown",
   "metadata": {},
   "source": [
    "These values are being dumped in a file after each run.\n",
    "\n",
    "So lets start by using `describe`, which is a command in RAW which samples the file and gives you information about the format and available fields that were detected."
   ]
  },
  {
   "cell_type": "code",
   "execution_count": 8,
   "metadata": {},
   "outputs": [
    {
     "data": {
      "text/html": [
       "<table class=\"nested-table\">\n",
       "<tr><th colspan=\"1\" rowspan=\"2\">format</th><th colspan=\"1\" rowspan=\"2\">comment</th><th colspan=\"1\" rowspan=\"2\">type</th><th colspan=\"2\" rowspan=\"1\">properties</th><th colspan=\"1\" rowspan=\"2\">is_collection</th><th colspan=\"3\" rowspan=\"1\">columns</th></tr>\n",
       "<tr><th colspan=\"1\" rowspan=\"1\">name</th><th colspan=\"1\" rowspan=\"1\">value</th><th colspan=\"1\" rowspan=\"1\">col_name</th><th colspan=\"1\" rowspan=\"1\">col_type</th><th colspan=\"1\" rowspan=\"1\">nullable</th></tr>\n",
       "<tr><td colspan=\"1\" rowspan=\"23\" class=\"\">json</td><td colspan=\"1\" rowspan=\"23\" class=\"\">encoding iso-8859-1 (confidence: 25%)</td><td colspan=\"1\" rowspan=\"23\" class=\"\">collection(record(`Id`: string,`Created`: string,`Path`: string,`Args`: collection(string),`State`: record(`Status`: string,`Running`: bool,`Paused`: bool,`Restarting`: bool,`OOMKilled`: bool,`Dead`: bool,`Pid`: int,`ExitCode`: int,`Error`: string,`StartedAt`: string,`FinishedAt`: string),`Image`: string,`ResolvConfPath`: string,`HostnamePath`: string,`HostsPath`: string,`LogPath`: string,`Name`: string,`RestartCount`: int,`Driver`: string,`Platform`: string,`MountLabel`: string,`ProcessLabel`: string,`AppArmorProfile`: string,`ExecIDs`: null,`HostConfig`: record(`Binds`: null,`ContainerIDFile`: string,`LogConfig`: record(`Type`: string,`Config`: record()),`NetworkMode`: string,`PortBindings`: record(),`RestartPolicy`: record(`Name`: string,`MaximumRetryCount`: int),`AutoRemove`: bool,`VolumeDriver`: string,`VolumesFrom`: null,`CapAdd`: null,`CapDrop`: null,`CgroupnsMode`: string,`Dns`: collection(nothing),`DnsOptions`: collection(nothing),`DnsSearch`: collection(nothing),`ExtraHosts`: null,`GroupAdd`: null,`IpcMode`: string,`Cgroup`: string,`Links`: null,`OomScoreAdj`: int,`PidMode`: string,`Privileged`: bool,`PublishAllPorts`: bool,`ReadonlyRootfs`: bool,`SecurityOpt`: null,`UTSMode`: string,`UsernsMode`: string,`ShmSize`: int,`Runtime`: string,`ConsoleSize`: collection(int),`Isolation`: string,`CpuShares`: int,`Memory`: int,`NanoCpus`: int,`CgroupParent`: string,`BlkioWeight`: int,`BlkioWeightDevice`: collection(nothing),`BlkioDeviceReadBps`: null,`BlkioDeviceWriteBps`: null,`BlkioDeviceReadIOps`: null,`BlkioDeviceWriteIOps`: null,`CpuPeriod`: int,`CpuQuota`: int,`CpuRealtimePeriod`: int,`CpuRealtimeRuntime`: int,`CpusetCpus`: string,`CpusetMems`: string,`Devices`: collection(nothing),`DeviceCgroupRules`: null,`DeviceRequests`: null,`KernelMemory`: int,`KernelMemoryTCP`: int,`MemoryReservation`: int,`MemorySwap`: int,`MemorySwappiness`: null,`OomKillDisable`: bool,`PidsLimit`: null,`Ulimits`: null,`CpuCount`: int,`CpuPercent`: int,`IOMaximumIOps`: int,`IOMaximumBandwidth`: int,`MaskedPaths`: collection(string),`ReadonlyPaths`: collection(string)),`GraphDriver`: record(`Data`: record(`LowerDir`: string,`MergedDir`: string,`UpperDir`: string,`WorkDir`: string),`Name`: string),`Mounts`: collection(nothing),`Config`: record(`Hostname`: string,`Domainname`: string,`User`: string,`AttachStdin`: bool,`AttachStdout`: bool,`AttachStderr`: bool,`Tty`: bool,`OpenStdin`: bool,`StdinOnce`: bool,`Env`: collection(string),`Cmd`: collection(string),`Image`: string,`Volumes`: null,`WorkingDir`: string,`Entrypoint`: null,`OnBuild`: null,`Labels`: record()),`NetworkSettings`: record(`Bridge`: string,`SandboxID`: string,`HairpinMode`: bool,`LinkLocalIPv6Address`: string,`LinkLocalIPv6PrefixLen`: int,`Ports`: record(),`SandboxKey`: string,`SecondaryIPAddresses`: null,`SecondaryIPv6Addresses`: null,`EndpointID`: string,`Gateway`: string,`GlobalIPv6Address`: string,`GlobalIPv6PrefixLen`: int,`IPAddress`: string,`IPPrefixLen`: int,`IPv6Gateway`: string,`MacAddress`: string,`Networks`: record(`bridge`: record(`IPAMConfig`: null,`Links`: null,`Aliases`: null,`NetworkID`: string,`EndpointID`: string,`Gateway`: string,`IPAddress`: string,`IPPrefixLen`: int,`IPv6Gateway`: string,`GlobalIPv6Address`: string,`GlobalIPv6PrefixLen`: int,`MacAddress`: string,`DriverOpts`: null)))))</td><td colspan=\"2\" rowspan=\"23\" class=\"empty-value\">empty</td><td colspan=\"1\" rowspan=\"23\" class=\"\">True</td><td colspan=\"1\" rowspan=\"1\" class=\"\">Id</td><td colspan=\"1\" rowspan=\"1\" class=\"\">string</td><td colspan=\"1\" rowspan=\"1\" class=\"\">False</td></tr>\n",
       "<tr><td colspan=\"1\" rowspan=\"1\" class=\"\">Created</td><td colspan=\"1\" rowspan=\"1\" class=\"\">string</td><td colspan=\"1\" rowspan=\"1\" class=\"\">False</td></tr>\n",
       "<tr><td colspan=\"1\" rowspan=\"1\" class=\"\">Path</td><td colspan=\"1\" rowspan=\"1\" class=\"\">string</td><td colspan=\"1\" rowspan=\"1\" class=\"\">False</td></tr>\n",
       "<tr><td colspan=\"1\" rowspan=\"1\" class=\"\">Args</td><td colspan=\"1\" rowspan=\"1\" class=\"\">collection(string)</td><td colspan=\"1\" rowspan=\"1\" class=\"\">False</td></tr>\n",
       "<tr><td colspan=\"1\" rowspan=\"1\" class=\"\">State</td><td colspan=\"1\" rowspan=\"1\" class=\"\">record(`Status`: string,`Running`: bool,`Paused`: bool,`Restarting`: bool,`OOMKilled`: bool,`Dead`: bool,`Pid`: int,`ExitCode`: int,`Error`: string,`StartedAt`: string,`FinishedAt`: string)</td><td colspan=\"1\" rowspan=\"1\" class=\"\">False</td></tr>\n",
       "<tr><td colspan=\"1\" rowspan=\"1\" class=\"\">Image</td><td colspan=\"1\" rowspan=\"1\" class=\"\">string</td><td colspan=\"1\" rowspan=\"1\" class=\"\">False</td></tr>\n",
       "<tr><td colspan=\"1\" rowspan=\"1\" class=\"\">ResolvConfPath</td><td colspan=\"1\" rowspan=\"1\" class=\"\">string</td><td colspan=\"1\" rowspan=\"1\" class=\"\">False</td></tr>\n",
       "<tr><td colspan=\"1\" rowspan=\"1\" class=\"\">HostnamePath</td><td colspan=\"1\" rowspan=\"1\" class=\"\">string</td><td colspan=\"1\" rowspan=\"1\" class=\"\">False</td></tr>\n",
       "<tr><td colspan=\"1\" rowspan=\"1\" class=\"\">HostsPath</td><td colspan=\"1\" rowspan=\"1\" class=\"\">string</td><td colspan=\"1\" rowspan=\"1\" class=\"\">False</td></tr>\n",
       "<tr><td colspan=\"1\" rowspan=\"1\" class=\"\">LogPath</td><td colspan=\"1\" rowspan=\"1\" class=\"\">string</td><td colspan=\"1\" rowspan=\"1\" class=\"\">False</td></tr>\n",
       "<tr><td colspan=\"1\" rowspan=\"1\" class=\"\">Name</td><td colspan=\"1\" rowspan=\"1\" class=\"\">string</td><td colspan=\"1\" rowspan=\"1\" class=\"\">False</td></tr>\n",
       "<tr><td colspan=\"1\" rowspan=\"1\" class=\"\">RestartCount</td><td colspan=\"1\" rowspan=\"1\" class=\"\">int</td><td colspan=\"1\" rowspan=\"1\" class=\"\">False</td></tr>\n",
       "<tr><td colspan=\"1\" rowspan=\"1\" class=\"\">Driver</td><td colspan=\"1\" rowspan=\"1\" class=\"\">string</td><td colspan=\"1\" rowspan=\"1\" class=\"\">False</td></tr>\n",
       "<tr><td colspan=\"1\" rowspan=\"1\" class=\"\">Platform</td><td colspan=\"1\" rowspan=\"1\" class=\"\">string</td><td colspan=\"1\" rowspan=\"1\" class=\"\">False</td></tr>\n",
       "<tr><td colspan=\"1\" rowspan=\"1\" class=\"\">MountLabel</td><td colspan=\"1\" rowspan=\"1\" class=\"\">string</td><td colspan=\"1\" rowspan=\"1\" class=\"\">False</td></tr>\n",
       "<tr><td colspan=\"1\" rowspan=\"1\" class=\"\">ProcessLabel</td><td colspan=\"1\" rowspan=\"1\" class=\"\">string</td><td colspan=\"1\" rowspan=\"1\" class=\"\">False</td></tr>\n",
       "<tr><td colspan=\"1\" rowspan=\"1\" class=\"\">AppArmorProfile</td><td colspan=\"1\" rowspan=\"1\" class=\"\">string</td><td colspan=\"1\" rowspan=\"1\" class=\"\">False</td></tr>\n",
       "<tr><td colspan=\"1\" rowspan=\"1\" class=\"\">ExecIDs</td><td colspan=\"1\" rowspan=\"1\" class=\"\">null</td><td colspan=\"1\" rowspan=\"1\" class=\"\">True</td></tr>\n",
       "<tr><td colspan=\"1\" rowspan=\"1\" class=\"\">HostConfig</td><td colspan=\"1\" rowspan=\"1\" class=\"\">record(`Binds`: null,`ContainerIDFile`: string,`LogConfig`: record(`Type`: string,`Config`: record()),`NetworkMode`: string,`PortBindings`: record(),`RestartPolicy`: record(`Name`: string,`MaximumRetryCount`: int),`AutoRemove`: bool,`VolumeDriver`: string,`VolumesFrom`: null,`CapAdd`: null,`CapDrop`: null,`CgroupnsMode`: string,`Dns`: collection(nothing),`DnsOptions`: collection(nothing),`DnsSearch`: collection(nothing),`ExtraHosts`: null,`GroupAdd`: null,`IpcMode`: string,`Cgroup`: string,`Links`: null,`OomScoreAdj`: int,`PidMode`: string,`Privileged`: bool,`PublishAllPorts`: bool,`ReadonlyRootfs`: bool,`SecurityOpt`: null,`UTSMode`: string,`UsernsMode`: string,`ShmSize`: int,`Runtime`: string,`ConsoleSize`: collection(int),`Isolation`: string,`CpuShares`: int,`Memory`: int,`NanoCpus`: int,`CgroupParent`: string,`BlkioWeight`: int,`BlkioWeightDevice`: collection(nothing),`BlkioDeviceReadBps`: null,`BlkioDeviceWriteBps`: null,`BlkioDeviceReadIOps`: null,`BlkioDeviceWriteIOps`: null,`CpuPeriod`: int,`CpuQuota`: int,`CpuRealtimePeriod`: int,`CpuRealtimeRuntime`: int,`CpusetCpus`: string,`CpusetMems`: string,`Devices`: collection(nothing),`DeviceCgroupRules`: null,`DeviceRequests`: null,`KernelMemory`: int,`KernelMemoryTCP`: int,`MemoryReservation`: int,`MemorySwap`: int,`MemorySwappiness`: null,`OomKillDisable`: bool,`PidsLimit`: null,`Ulimits`: null,`CpuCount`: int,`CpuPercent`: int,`IOMaximumIOps`: int,`IOMaximumBandwidth`: int,`MaskedPaths`: collection(string),`ReadonlyPaths`: collection(string))</td><td colspan=\"1\" rowspan=\"1\" class=\"\">False</td></tr>\n",
       "<tr><td colspan=\"1\" rowspan=\"1\" class=\"\">GraphDriver</td><td colspan=\"1\" rowspan=\"1\" class=\"\">record(`Data`: record(`LowerDir`: string,`MergedDir`: string,`UpperDir`: string,`WorkDir`: string),`Name`: string)</td><td colspan=\"1\" rowspan=\"1\" class=\"\">False</td></tr>\n",
       "<tr><td colspan=\"1\" rowspan=\"1\" class=\"\">Mounts</td><td colspan=\"1\" rowspan=\"1\" class=\"\">collection(nothing)</td><td colspan=\"1\" rowspan=\"1\" class=\"\">False</td></tr>\n",
       "<tr><td colspan=\"1\" rowspan=\"1\" class=\"\">Config</td><td colspan=\"1\" rowspan=\"1\" class=\"\">record(`Hostname`: string,`Domainname`: string,`User`: string,`AttachStdin`: bool,`AttachStdout`: bool,`AttachStderr`: bool,`Tty`: bool,`OpenStdin`: bool,`StdinOnce`: bool,`Env`: collection(string),`Cmd`: collection(string),`Image`: string,`Volumes`: null,`WorkingDir`: string,`Entrypoint`: null,`OnBuild`: null,`Labels`: record())</td><td colspan=\"1\" rowspan=\"1\" class=\"\">False</td></tr>\n",
       "<tr><td colspan=\"1\" rowspan=\"1\" class=\"\">NetworkSettings</td><td colspan=\"1\" rowspan=\"1\" class=\"\">record(`Bridge`: string,`SandboxID`: string,`HairpinMode`: bool,`LinkLocalIPv6Address`: string,`LinkLocalIPv6PrefixLen`: int,`Ports`: record(),`SandboxKey`: string,`SecondaryIPAddresses`: null,`SecondaryIPv6Addresses`: null,`EndpointID`: string,`Gateway`: string,`GlobalIPv6Address`: string,`GlobalIPv6PrefixLen`: int,`IPAddress`: string,`IPPrefixLen`: int,`IPv6Gateway`: string,`MacAddress`: string,`Networks`: record(`bridge`: record(`IPAMConfig`: null,`Links`: null,`Aliases`: null,`NetworkID`: string,`EndpointID`: string,`Gateway`: string,`IPAddress`: string,`IPPrefixLen`: int,`IPv6Gateway`: string,`GlobalIPv6Address`: string,`GlobalIPv6PrefixLen`: int,`MacAddress`: string,`DriverOpts`: null)))</td><td colspan=\"1\" rowspan=\"1\" class=\"\">False</td></tr>\n",
       "</table>"
      ],
      "text/plain": [
       "<raw_magic.nested_table.NestedTable at 0x7f89712baa90>"
      ]
     },
     "execution_count": 8,
     "metadata": {},
     "output_type": "execute_result"
    }
   ],
   "source": [
    "%%query\n",
    "\n",
    "describe(\"s3://raw-tutorial/ipython-demos/predictive-maintenance/docker-inspect-output.json\")"
   ]
  },
  {
   "cell_type": "markdown",
   "metadata": {},
   "source": [
    "We can get the corresponding machine from the `Name` field and the `State` field has an exit code, which tells us if it the software finished successfully or not.\n",
    "\n",
    "We can query this data directly in RAW thanks to our rich data model.\n",
    "The `read` command relies on the same method as the `describe` shown above, to detect the format/structure of the data."
   ]
  },
  {
   "cell_type": "code",
   "execution_count": 9,
   "metadata": {},
   "outputs": [
    {
     "data": {
      "text/html": [
       "<table class=\"nested-table\">\n",
       "<tr><th colspan=\"1\" rowspan=\"2\">Name</th><th colspan=\"11\" rowspan=\"1\">State</th></tr>\n",
       "<tr><th colspan=\"1\" rowspan=\"1\">Status</th><th colspan=\"1\" rowspan=\"1\">Running</th><th colspan=\"1\" rowspan=\"1\">Paused</th><th colspan=\"1\" rowspan=\"1\">Restarting</th><th colspan=\"1\" rowspan=\"1\">OOMKilled</th><th colspan=\"1\" rowspan=\"1\">Dead</th><th colspan=\"1\" rowspan=\"1\">Pid</th><th colspan=\"1\" rowspan=\"1\">ExitCode</th><th colspan=\"1\" rowspan=\"1\">Error</th><th colspan=\"1\" rowspan=\"1\">StartedAt</th><th colspan=\"1\" rowspan=\"1\">FinishedAt</th></tr>\n",
       "<tr><td colspan=\"1\" rowspan=\"1\" class=\"\">machine 35</td><td colspan=\"1\" rowspan=\"1\" class=\"\">running</td><td colspan=\"1\" rowspan=\"1\" class=\"\">True</td><td colspan=\"1\" rowspan=\"1\" class=\"\">False</td><td colspan=\"1\" rowspan=\"1\" class=\"\">False</td><td colspan=\"1\" rowspan=\"1\" class=\"\">False</td><td colspan=\"1\" rowspan=\"1\" class=\"\">False</td><td colspan=\"1\" rowspan=\"1\" class=\"\">86629</td><td colspan=\"1\" rowspan=\"1\" class=\"\">0</td><td colspan=\"1\" rowspan=\"1\" class=\"\"></td><td colspan=\"1\" rowspan=\"1\" class=\"\">2015-01-05T06:00:00.000</td><td colspan=\"1\" rowspan=\"1\" class=\"\">2015-01-05T06:00:00.000</td></tr>\n",
       "<tr><td colspan=\"1\" rowspan=\"1\" class=\"\">machine 1</td><td colspan=\"1\" rowspan=\"1\" class=\"\">running</td><td colspan=\"1\" rowspan=\"1\" class=\"\">False</td><td colspan=\"1\" rowspan=\"1\" class=\"\">False</td><td colspan=\"1\" rowspan=\"1\" class=\"\">False</td><td colspan=\"1\" rowspan=\"1\" class=\"\">False</td><td colspan=\"1\" rowspan=\"1\" class=\"\">True</td><td colspan=\"1\" rowspan=\"1\" class=\"\">86629</td><td colspan=\"1\" rowspan=\"1\" class=\"\">4</td><td colspan=\"1\" rowspan=\"1\" class=\"\">comp4</td><td colspan=\"1\" rowspan=\"1\" class=\"\">2015-01-05T06:00:00.000</td><td colspan=\"1\" rowspan=\"1\" class=\"\">2015-01-05T06:00:00.000</td></tr>\n",
       "<tr><td colspan=\"1\" rowspan=\"1\" class=\"\">machine 1</td><td colspan=\"1\" rowspan=\"1\" class=\"\">running</td><td colspan=\"1\" rowspan=\"1\" class=\"\">False</td><td colspan=\"1\" rowspan=\"1\" class=\"\">False</td><td colspan=\"1\" rowspan=\"1\" class=\"\">False</td><td colspan=\"1\" rowspan=\"1\" class=\"\">False</td><td colspan=\"1\" rowspan=\"1\" class=\"\">True</td><td colspan=\"1\" rowspan=\"1\" class=\"\">86629</td><td colspan=\"1\" rowspan=\"1\" class=\"\">1</td><td colspan=\"1\" rowspan=\"1\" class=\"\">comp1</td><td colspan=\"1\" rowspan=\"1\" class=\"\">2015-03-06T06:00:00.000</td><td colspan=\"1\" rowspan=\"1\" class=\"\">2015-03-06T06:00:00.000</td></tr>\n",
       "<tr><td colspan=\"1\" rowspan=\"1\" class=\"\">machine 19</td><td colspan=\"1\" rowspan=\"1\" class=\"\">running</td><td colspan=\"1\" rowspan=\"1\" class=\"\">True</td><td colspan=\"1\" rowspan=\"1\" class=\"\">False</td><td colspan=\"1\" rowspan=\"1\" class=\"\">False</td><td colspan=\"1\" rowspan=\"1\" class=\"\">False</td><td colspan=\"1\" rowspan=\"1\" class=\"\">False</td><td colspan=\"1\" rowspan=\"1\" class=\"\">86629</td><td colspan=\"1\" rowspan=\"1\" class=\"\">0</td><td colspan=\"1\" rowspan=\"1\" class=\"\"></td><td colspan=\"1\" rowspan=\"1\" class=\"\">2015-04-20T06:00:00.000</td><td colspan=\"1\" rowspan=\"1\" class=\"\">2015-04-20T06:00:00.000</td></tr>\n",
       "<tr><td colspan=\"1\" rowspan=\"1\" class=\"\">machine 94</td><td colspan=\"1\" rowspan=\"1\" class=\"\">running</td><td colspan=\"1\" rowspan=\"1\" class=\"\">True</td><td colspan=\"1\" rowspan=\"1\" class=\"\">False</td><td colspan=\"1\" rowspan=\"1\" class=\"\">False</td><td colspan=\"1\" rowspan=\"1\" class=\"\">False</td><td colspan=\"1\" rowspan=\"1\" class=\"\">False</td><td colspan=\"1\" rowspan=\"1\" class=\"\">86629</td><td colspan=\"1\" rowspan=\"1\" class=\"\">0</td><td colspan=\"1\" rowspan=\"1\" class=\"\"></td><td colspan=\"1\" rowspan=\"1\" class=\"\">2015-04-20T06:00:00.000</td><td colspan=\"1\" rowspan=\"1\" class=\"\">2015-04-20T06:00:00.000</td></tr>\n",
       "</table>"
      ],
      "text/plain": [
       "<raw_magic.nested_table.NestedTable at 0x7f89712d7f60>"
      ]
     },
     "execution_count": 9,
     "metadata": {},
     "output_type": "execute_result"
    }
   ],
   "source": [
    "%%rql\n",
    "\n",
    "select Name, State \n",
    "from read(\"s3://raw-tutorial/ipython-demos/predictive-maintenance/docker-inspect-output.json\")\n",
    "limit 5"
   ]
  },
  {
   "cell_type": "markdown",
   "metadata": {},
   "source": [
    "Note that the output is compose of two fields: `Name` and `State`. `State` is a record with multiple fields within."
   ]
  },
  {
   "cell_type": "markdown",
   "metadata": {},
   "source": [
    "Let's now turn this data into an easier-to-consume tabular form."
   ]
  },
  {
   "cell_type": "code",
   "execution_count": 10,
   "metadata": {},
   "outputs": [
    {
     "data": {
      "text/html": [
       "<table class=\"nested-table\">\n",
       "<tr><th colspan=\"1\" rowspan=\"1\">machineId</th><th colspan=\"1\" rowspan=\"1\">FinishedAt</th><th colspan=\"1\" rowspan=\"1\">ExitCode</th><th colspan=\"1\" rowspan=\"1\">Error</th></tr>\n",
       "<tr><td colspan=\"1\" rowspan=\"1\" class=\"\">1</td><td colspan=\"1\" rowspan=\"1\" class=\"\">2015-01-05 06:00:00</td><td colspan=\"1\" rowspan=\"1\" class=\"\">4</td><td colspan=\"1\" rowspan=\"1\" class=\"\">comp4</td></tr>\n",
       "<tr><td colspan=\"1\" rowspan=\"1\" class=\"\">1</td><td colspan=\"1\" rowspan=\"1\" class=\"\">2015-03-06 06:00:00</td><td colspan=\"1\" rowspan=\"1\" class=\"\">1</td><td colspan=\"1\" rowspan=\"1\" class=\"\">comp1</td></tr>\n",
       "<tr><td colspan=\"1\" rowspan=\"1\" class=\"\">1</td><td colspan=\"1\" rowspan=\"1\" class=\"\">2015-04-20 06:00:00</td><td colspan=\"1\" rowspan=\"1\" class=\"\">2</td><td colspan=\"1\" rowspan=\"1\" class=\"\">comp2</td></tr>\n",
       "<tr><td colspan=\"1\" rowspan=\"1\" class=\"\">1</td><td colspan=\"1\" rowspan=\"1\" class=\"\">2015-06-19 06:00:00</td><td colspan=\"1\" rowspan=\"1\" class=\"\">4</td><td colspan=\"1\" rowspan=\"1\" class=\"\">comp4</td></tr>\n",
       "<tr><td colspan=\"1\" rowspan=\"1\" class=\"\">1</td><td colspan=\"1\" rowspan=\"1\" class=\"\">2015-09-02 06:00:00</td><td colspan=\"1\" rowspan=\"1\" class=\"\">4</td><td colspan=\"1\" rowspan=\"1\" class=\"\">comp4</td></tr>\n",
       "<tr><td colspan=\"1\" rowspan=\"1\" class=\"\">1</td><td colspan=\"1\" rowspan=\"1\" class=\"\">2015-10-17 06:00:00</td><td colspan=\"1\" rowspan=\"1\" class=\"\">2</td><td colspan=\"1\" rowspan=\"1\" class=\"\">comp2</td></tr>\n",
       "<tr><td colspan=\"1\" rowspan=\"1\" class=\"\">1</td><td colspan=\"1\" rowspan=\"1\" class=\"\">2015-12-16 06:00:00</td><td colspan=\"1\" rowspan=\"1\" class=\"\">4</td><td colspan=\"1\" rowspan=\"1\" class=\"\">comp4</td></tr>\n",
       "<tr><td colspan=\"1\" rowspan=\"1\" class=\"\">2</td><td colspan=\"1\" rowspan=\"1\" class=\"\">2015-03-19 06:00:00</td><td colspan=\"1\" rowspan=\"1\" class=\"\">1</td><td colspan=\"1\" rowspan=\"1\" class=\"\">comp1</td></tr>\n",
       "<tr><td colspan=\"1\" rowspan=\"1\" class=\"\">2</td><td colspan=\"1\" rowspan=\"1\" class=\"\">2015-03-19 06:00:00</td><td colspan=\"1\" rowspan=\"1\" class=\"\">2</td><td colspan=\"1\" rowspan=\"1\" class=\"\">comp2</td></tr>\n",
       "<tr><td colspan=\"1\" rowspan=\"1\" class=\"\">2</td><td colspan=\"1\" rowspan=\"1\" class=\"\">2015-04-18 06:00:00</td><td colspan=\"1\" rowspan=\"1\" class=\"\">2</td><td colspan=\"1\" rowspan=\"1\" class=\"\">comp2</td></tr>\n",
       "</table>"
      ],
      "text/plain": [
       "<raw_magic.nested_table.NestedTable at 0x7f89710575c0>"
      ]
     },
     "execution_count": 10,
     "metadata": {},
     "output_type": "execute_result"
    }
   ],
   "source": [
    "%%rql\n",
    "select \n",
    "    cast(substr(Name, 9 , 1) as int) as machineId, \n",
    "    to_timestamp(State.FinishedAt, \"y-M-d'T'H:m:s.SSS\") as FinishedAt, \n",
    "    State.ExitCode, \n",
    "    State.Error \n",
    "from read(\"s3://raw-tutorial/ipython-demos/predictive-maintenance/docker-inspect-output.json\")\n",
    "where State.ExitCode != 0\n",
    "limit 10"
   ]
  },
  {
   "cell_type": "markdown",
   "metadata": {},
   "source": [
    "As before, let's turn this query into a view to consume it later on."
   ]
  },
  {
   "cell_type": "code",
   "execution_count": 11,
   "metadata": {},
   "outputs": [
    {
     "data": {
      "text/plain": [
       "View \"failures\" created"
      ]
     },
     "execution_count": 11,
     "metadata": {},
     "output_type": "execute_result"
    }
   ],
   "source": [
    "%%view failures \n",
    "\n",
    "select cast(substr(Name, 9 , 2) as int) as machineID, \n",
    "    to_timestamp(State.FinishedAt, \"y-M-d'T'H:m:s.SSS\") as FinishedAt, \n",
    "    State.ExitCode, \n",
    "    State.Error \n",
    "from read(\"s3://raw-tutorial/ipython-demos/predictive-maintenance/docker-inspect-output.json\")\n",
    "where State.ExitCode != 0"
   ]
  },
  {
   "cell_type": "markdown",
   "metadata": {},
   "source": [
    "## Errors \n",
    "\n",
    "Errors are collected from logs. These logs are uploaded to a logging service, which in turn collects and saves all records into an S3 bucket."
   ]
  },
  {
   "cell_type": "code",
   "execution_count": 12,
   "metadata": {},
   "outputs": [
    {
     "data": {
      "text/html": [
       "<table class=\"nested-table\">\n",
       "<tr><th colspan=\"1\" rowspan=\"1\">string</th></tr>\n",
       "<tr><td colspan=\"1\" rowspan=\"1\" class=\"\">2015-01-03T07:00:00.000 WARN  machine 1 with error=error1</td></tr>\n",
       "<tr><td colspan=\"1\" rowspan=\"1\" class=\"\">2015-01-03T07:00:00.000001 WARN mean bird steam sell copy two beauty a line hot discuss few east</td></tr>\n",
       "<tr><td colspan=\"1\" rowspan=\"1\" class=\"\">2015-01-03T07:00:00.000002 WARN good rule left simple solve fell busy order deal love copy office ask bit paint hand hair</td></tr>\n",
       "<tr><td colspan=\"1\" rowspan=\"1\" class=\"\">2015-01-03T07:00:00.000003 INFO short engine else live equate need pretty wood support full break enough open come king even please describe knew stead</td></tr>\n",
       "<tr><td colspan=\"1\" rowspan=\"1\" class=\"\">2015-01-03T07:00:00.000004 INFO quick animal hunt ice coat cotton two sight spend bone govern often sugar root high down surprise</td></tr>\n",
       "<tr><td colspan=\"1\" rowspan=\"1\" class=\"\">2015-01-03T07:00:00.000005 WARN engine student took brought heavy section plan direct bread vary flat neck fast like quotient fruit wash agree vary fine</td></tr>\n",
       "<tr><td colspan=\"1\" rowspan=\"1\" class=\"\">2015-01-03T07:00:00.000006 INFO ask throw yellow raise syllable paint throw nine get sense radio duck shoulder teach keep other</td></tr>\n",
       "<tr><td colspan=\"1\" rowspan=\"1\" class=\"\">2015-01-03T07:00:00.000007 DEBUG matter opposite spring saw thing south don&#x27;t village result</td></tr>\n",
       "<tr><td colspan=\"1\" rowspan=\"1\" class=\"\">2015-01-03T07:00:00.000008 ERROR listen after third than woman are middle develop case effect depend north</td></tr>\n",
       "<tr><td colspan=\"1\" rowspan=\"1\" class=\"\">2015-01-03T20:00:00.000 WARN  machine 1 with error=error3</td></tr>\n",
       "<tr><td colspan=\"1\" rowspan=\"1\" class=\"\">2015-01-03T20:00:00.000001 INFO quiet find trade them product bed describe piece steel market market necessary</td></tr>\n",
       "<tr><td colspan=\"1\" rowspan=\"1\" class=\"\">2015-01-03T20:00:00.000002 DEBUG swim night some us arrange sharp flat clock study bottom</td></tr>\n",
       "<tr><td colspan=\"1\" rowspan=\"1\" class=\"\">2015-01-03T20:00:00.000003 ERROR case smile girl vary scale dream get colony those sharp save molecule fresh</td></tr>\n",
       "<tr><td colspan=\"1\" rowspan=\"1\" class=\"\">2015-01-03T20:00:00.000004 DEBUG interest prove weight were beat choose six direct cell type</td></tr>\n",
       "<tr><td colspan=\"1\" rowspan=\"1\" class=\"\">2015-01-03T20:00:00.000005 WARN basic if swim blood moon eight skin care free difficult wall suffix appear beat his real act gas segment</td></tr>\n",
       "</table>"
      ],
      "text/plain": [
       "<raw_magic.nested_table.NestedTable at 0x7f8971057710>"
      ]
     },
     "execution_count": 12,
     "metadata": {},
     "output_type": "execute_result"
    }
   ],
   "source": [
    "%%rql\n",
    "\n",
    "select * from read_lines(\"s3://raw-tutorial/ipython-demos/predictive-maintenance/machine_logs.log\")\n",
    "limit 15"
   ]
  },
  {
   "cell_type": "markdown",
   "metadata": {},
   "source": [
    "Although RAW detects some commonly-used log formats, we are often forced to rely on regular expressions to obtain specific patterns.\n",
    "\n",
    "We can parse this file using `PARSE AS` and a regular expression.\n",
    "\n",
    "The `SKIP ON FAIL` keyword tells RAW to just keep the entries that match the regular expression and skip all others."
   ]
  },
  {
   "cell_type": "code",
   "execution_count": 13,
   "metadata": {},
   "outputs": [
    {
     "data": {
      "text/html": [
       "<table class=\"nested-table\">\n",
       "<tr><th colspan=\"1\" rowspan=\"1\">datetime</th><th colspan=\"1\" rowspan=\"1\">machineID</th><th colspan=\"1\" rowspan=\"1\">error</th></tr>\n",
       "<tr><td colspan=\"1\" rowspan=\"1\" class=\"\">2015-01-03T07:00:00.000</td><td colspan=\"1\" rowspan=\"1\" class=\"\">1</td><td colspan=\"1\" rowspan=\"1\" class=\"\">error1</td></tr>\n",
       "<tr><td colspan=\"1\" rowspan=\"1\" class=\"\">2015-01-03T20:00:00.000</td><td colspan=\"1\" rowspan=\"1\" class=\"\">1</td><td colspan=\"1\" rowspan=\"1\" class=\"\">error3</td></tr>\n",
       "<tr><td colspan=\"1\" rowspan=\"1\" class=\"\">2015-01-04T06:00:00.000</td><td colspan=\"1\" rowspan=\"1\" class=\"\">1</td><td colspan=\"1\" rowspan=\"1\" class=\"\">error5</td></tr>\n",
       "<tr><td colspan=\"1\" rowspan=\"1\" class=\"\">2015-01-10T15:00:00.000</td><td colspan=\"1\" rowspan=\"1\" class=\"\">1</td><td colspan=\"1\" rowspan=\"1\" class=\"\">error4</td></tr>\n",
       "<tr><td colspan=\"1\" rowspan=\"1\" class=\"\">2015-01-22T10:00:00.000</td><td colspan=\"1\" rowspan=\"1\" class=\"\">1</td><td colspan=\"1\" rowspan=\"1\" class=\"\">error4</td></tr>\n",
       "<tr><td colspan=\"1\" rowspan=\"1\" class=\"\">2015-01-25T15:00:00.000</td><td colspan=\"1\" rowspan=\"1\" class=\"\">1</td><td colspan=\"1\" rowspan=\"1\" class=\"\">error4</td></tr>\n",
       "<tr><td colspan=\"1\" rowspan=\"1\" class=\"\">2015-01-27T04:00:00.000</td><td colspan=\"1\" rowspan=\"1\" class=\"\">1</td><td colspan=\"1\" rowspan=\"1\" class=\"\">error1</td></tr>\n",
       "<tr><td colspan=\"1\" rowspan=\"1\" class=\"\">2015-03-03T22:00:00.000</td><td colspan=\"1\" rowspan=\"1\" class=\"\">1</td><td colspan=\"1\" rowspan=\"1\" class=\"\">error2</td></tr>\n",
       "<tr><td colspan=\"1\" rowspan=\"1\" class=\"\">2015-03-05T06:00:00.000</td><td colspan=\"1\" rowspan=\"1\" class=\"\">1</td><td colspan=\"1\" rowspan=\"1\" class=\"\">error1</td></tr>\n",
       "<tr><td colspan=\"1\" rowspan=\"1\" class=\"\">2015-03-20T18:00:00.000</td><td colspan=\"1\" rowspan=\"1\" class=\"\">1</td><td colspan=\"1\" rowspan=\"1\" class=\"\">error1</td></tr>\n",
       "</table>"
      ],
      "text/plain": [
       "<raw_magic.nested_table.NestedTable at 0x7f897105f400>"
      ]
     },
     "execution_count": 13,
     "metadata": {},
     "output_type": "execute_result"
    }
   ],
   "source": [
    "%%rql\n",
    "\n",
    "select * from \n",
    "    read_lines(\"s3://raw-tutorial/ipython-demos/predictive-maintenance/machine_logs.log\")\n",
    "parse as r\"\"\"(.*) WARN  machine (\\d+) with error=(\\w+)\"\"\" skip on fail\n",
    "into (datetime: _1, machineID: cast(_2 as int), error: _3)\n",
    "limit 10"
   ]
  },
  {
   "cell_type": "markdown",
   "metadata": {},
   "source": [
    "We now have a list of \"error conditions\" per machine, so let's create the corresponding view."
   ]
  },
  {
   "cell_type": "code",
   "execution_count": 14,
   "metadata": {},
   "outputs": [
    {
     "data": {
      "text/plain": [
       "View \"errors\" created"
      ]
     },
     "execution_count": 14,
     "metadata": {},
     "output_type": "execute_result"
    }
   ],
   "source": [
    "%%view errors\n",
    "\n",
    "read_lines(\"s3://raw-tutorial/ipython-demos/predictive-maintenance/machine_logs.log\")\n",
    "    parse as r\"\"\"(.*) WARN  machine (\\d+) with error=(\\w+)\"\"\" skip on fail\n",
    "    into (datetime: to_timestamp(_1, \"y-M-d'T'H:m:s.SSS\"), machineID: cast(_2 as int), error: _3)"
   ]
  },
  {
   "cell_type": "markdown",
   "metadata": {},
   "source": [
    "## Sensor data\n",
    "\n",
    "Sensor data is collected and stored in Parquet files. (e.g. some s/w stack is shipping that into a Kafka service which would itself be storing/saving it into the data lake)."
   ]
  },
  {
   "cell_type": "code",
   "execution_count": 15,
   "metadata": {},
   "outputs": [
    {
     "data": {
      "text/html": [
       "<table class=\"nested-table\">\n",
       "<tr><th colspan=\"1\" rowspan=\"1\">datetime</th><th colspan=\"1\" rowspan=\"1\">machineID</th><th colspan=\"1\" rowspan=\"1\">volt</th><th colspan=\"1\" rowspan=\"1\">rotate</th><th colspan=\"1\" rowspan=\"1\">pressure</th><th colspan=\"1\" rowspan=\"1\">vibration</th></tr>\n",
       "<tr><td colspan=\"1\" rowspan=\"1\" class=\"\">2015-01-01 07:00:00</td><td colspan=\"1\" rowspan=\"1\" class=\"\">1</td><td colspan=\"1\" rowspan=\"1\" class=\"\">176.217853015625</td><td colspan=\"1\" rowspan=\"1\" class=\"\">418.504078221616</td><td colspan=\"1\" rowspan=\"1\" class=\"\">113.077935462083</td><td colspan=\"1\" rowspan=\"1\" class=\"\">45.0876857639276</td></tr>\n",
       "<tr><td colspan=\"1\" rowspan=\"1\" class=\"\">2015-01-01 08:00:00</td><td colspan=\"1\" rowspan=\"1\" class=\"\">1</td><td colspan=\"1\" rowspan=\"1\" class=\"\">162.87922289706</td><td colspan=\"1\" rowspan=\"1\" class=\"\">402.747489565395</td><td colspan=\"1\" rowspan=\"1\" class=\"\">95.4605253823187</td><td colspan=\"1\" rowspan=\"1\" class=\"\">43.4139726834815</td></tr>\n",
       "<tr><td colspan=\"1\" rowspan=\"1\" class=\"\">2015-01-01 09:00:00</td><td colspan=\"1\" rowspan=\"1\" class=\"\">1</td><td colspan=\"1\" rowspan=\"1\" class=\"\">170.989902405567</td><td colspan=\"1\" rowspan=\"1\" class=\"\">527.349825452291</td><td colspan=\"1\" rowspan=\"1\" class=\"\">75.2379048586662</td><td colspan=\"1\" rowspan=\"1\" class=\"\">34.1788471214451</td></tr>\n",
       "<tr><td colspan=\"1\" rowspan=\"1\" class=\"\">2015-01-01 10:00:00</td><td colspan=\"1\" rowspan=\"1\" class=\"\">1</td><td colspan=\"1\" rowspan=\"1\" class=\"\">162.462833264092</td><td colspan=\"1\" rowspan=\"1\" class=\"\">346.149335043074</td><td colspan=\"1\" rowspan=\"1\" class=\"\">109.248561276504</td><td colspan=\"1\" rowspan=\"1\" class=\"\">41.1221440884256</td></tr>\n",
       "<tr><td colspan=\"1\" rowspan=\"1\" class=\"\">2015-01-01 11:00:00</td><td colspan=\"1\" rowspan=\"1\" class=\"\">1</td><td colspan=\"1\" rowspan=\"1\" class=\"\">157.61002119306</td><td colspan=\"1\" rowspan=\"1\" class=\"\">435.376873016938</td><td colspan=\"1\" rowspan=\"1\" class=\"\">111.886648210168</td><td colspan=\"1\" rowspan=\"1\" class=\"\">25.9905109982024</td></tr>\n",
       "</table>"
      ],
      "text/plain": [
       "<raw_magic.nested_table.NestedTable at 0x7f897105f9e8>"
      ]
     },
     "execution_count": 15,
     "metadata": {},
     "output_type": "execute_result"
    }
   ],
   "source": [
    "%%rql\n",
    "\n",
    "select * from read(\"s3://raw-tutorial/ipython-demos/predictive-maintenance/telemetry.parquet\")\n",
    "limit 5"
   ]
  },
  {
   "cell_type": "markdown",
   "metadata": {},
   "source": [
    "Let's again make the corresponding view."
   ]
  },
  {
   "cell_type": "code",
   "execution_count": 16,
   "metadata": {},
   "outputs": [
    {
     "data": {
      "text/plain": [
       "View \"telemetry\" created"
      ]
     },
     "execution_count": 16,
     "metadata": {},
     "output_type": "execute_result"
    }
   ],
   "source": [
    "%%view telemetry\n",
    "\n",
    "select * from read(\"s3://raw-tutorial/ipython-demos/predictive-maintenance/telemetry.parquet\")"
   ]
  },
  {
   "cell_type": "markdown",
   "metadata": {},
   "source": [
    "## Collecting our information for interrogation\n",
    "\n",
    "Now we have all the sources defined, we can start to dig into the data to get answers. For a given machine (id), we would like to collect some information about the last failure. We are interested in:\n",
    "\n",
    " * Basic information such as the error, timestamp, machine age, model etc. from ‘failures’ and ‘machines’ views\n",
    "* Last maintenance of that machine (from our ‘maint’ view).\n",
    "* Sensor data of the 6 hours before the crash (from our ‘telemetry’ view).\n",
    "Let’s create a RAW package to get this data, which contains a single function ‘last_failure’, which takes an id of a machine as a single parameter:\n"
   ]
  },
  {
   "cell_type": "code",
   "execution_count": 26,
   "metadata": {},
   "outputs": [
    {
     "data": {
      "text/plain": [
       "Package \"machine_errors\" created"
      ]
     },
     "execution_count": 26,
     "metadata": {},
     "output_type": "execute_result"
    }
   ],
   "source": [
    "%%package machine_errors\n",
    "\n",
    "last_failure(id: int) := {\n",
    "    last := select max(FinishedAt) from failures where machineID = id;\n",
    "\n",
    "    select \n",
    "        f.machineID, \n",
    "        m.MODEL,\n",
    "        m.AGE,\n",
    "        f.FinishedAt, \n",
    "        f.ExitCode, \n",
    "        f.Error,\n",
    "        select max(datetime) from maint where datetime < last and machineID = id as LastMaintenance,\n",
    "        select * from telemetry where datetime < last and datetime > last - interval \"6 hours\" and machineID = id as LastTelemetry\n",
    "    from failures f, machines m\n",
    "    where  f.machineID = id and \n",
    "           m.MACHINEID= id and \n",
    "           f.FinishedAt = last \n",
    "    \n",
    "}"
   ]
  },
  {
   "cell_type": "markdown",
   "metadata": {},
   "source": [
    "This function can then be imported and used in a query, using an import statement below. Notice how the output is itself a nested structure:"
   ]
  },
  {
   "cell_type": "code",
   "execution_count": 28,
   "metadata": {},
   "outputs": [
    {
     "data": {
      "text/html": [
       "<table class=\"nested-table\">\n",
       "<tr><th colspan=\"1\" rowspan=\"2\">machineID</th><th colspan=\"1\" rowspan=\"2\">MODEL</th><th colspan=\"1\" rowspan=\"2\">AGE</th><th colspan=\"1\" rowspan=\"2\">FinishedAt</th><th colspan=\"1\" rowspan=\"2\">ExitCode</th><th colspan=\"1\" rowspan=\"2\">Error</th><th colspan=\"1\" rowspan=\"2\">LastMaintenance</th><th colspan=\"6\" rowspan=\"1\">LastTelemetry</th></tr>\n",
       "<tr><th colspan=\"1\" rowspan=\"1\">datetime</th><th colspan=\"1\" rowspan=\"1\">machineID</th><th colspan=\"1\" rowspan=\"1\">volt</th><th colspan=\"1\" rowspan=\"1\">rotate</th><th colspan=\"1\" rowspan=\"1\">pressure</th><th colspan=\"1\" rowspan=\"1\">vibration</th></tr>\n",
       "<tr><td colspan=\"1\" rowspan=\"5\" class=\"\">2</td><td colspan=\"1\" rowspan=\"5\" class=\"\">model4</td><td colspan=\"1\" rowspan=\"5\" class=\"\">7</td><td colspan=\"1\" rowspan=\"5\" class=\"\">2015-12-29 06:00:00</td><td colspan=\"1\" rowspan=\"5\" class=\"\">2</td><td colspan=\"1\" rowspan=\"5\" class=\"\">comp2</td><td colspan=\"1\" rowspan=\"5\" class=\"\">2015-12-14 06:00:00</td><td colspan=\"1\" rowspan=\"1\" class=\"\">2015-12-29 01:00:00</td><td colspan=\"1\" rowspan=\"1\" class=\"\">2</td><td colspan=\"1\" rowspan=\"1\" class=\"\">181.122454404048</td><td colspan=\"1\" rowspan=\"1\" class=\"\">422.248743563851</td><td colspan=\"1\" rowspan=\"1\" class=\"\">88.3546110995375</td><td colspan=\"1\" rowspan=\"1\" class=\"\">40.4808513621125</td></tr>\n",
       "<tr><td colspan=\"1\" rowspan=\"1\" class=\"\">2015-12-29 02:00:00</td><td colspan=\"1\" rowspan=\"1\" class=\"\">2</td><td colspan=\"1\" rowspan=\"1\" class=\"\">155.531463911638</td><td colspan=\"1\" rowspan=\"1\" class=\"\">360.292589699392</td><td colspan=\"1\" rowspan=\"1\" class=\"\">89.9717860463751</td><td colspan=\"1\" rowspan=\"1\" class=\"\">47.6867694434344</td></tr>\n",
       "<tr><td colspan=\"1\" rowspan=\"1\" class=\"\">2015-12-29 03:00:00</td><td colspan=\"1\" rowspan=\"1\" class=\"\">2</td><td colspan=\"1\" rowspan=\"1\" class=\"\">154.391321059884</td><td colspan=\"1\" rowspan=\"1\" class=\"\">336.716866564908</td><td colspan=\"1\" rowspan=\"1\" class=\"\">85.4803478445541</td><td colspan=\"1\" rowspan=\"1\" class=\"\">39.0619294305281</td></tr>\n",
       "<tr><td colspan=\"1\" rowspan=\"1\" class=\"\">2015-12-29 04:00:00</td><td colspan=\"1\" rowspan=\"1\" class=\"\">2</td><td colspan=\"1\" rowspan=\"1\" class=\"\">180.299390217032</td><td colspan=\"1\" rowspan=\"1\" class=\"\">376.813608560992</td><td colspan=\"1\" rowspan=\"1\" class=\"\">99.0113824029604</td><td colspan=\"1\" rowspan=\"1\" class=\"\">44.1473769277538</td></tr>\n",
       "<tr><td colspan=\"1\" rowspan=\"1\" class=\"\">2015-12-29 05:00:00</td><td colspan=\"1\" rowspan=\"1\" class=\"\">2</td><td colspan=\"1\" rowspan=\"1\" class=\"\">136.025763974856</td><td colspan=\"1\" rowspan=\"1\" class=\"\">275.934791927404</td><td colspan=\"1\" rowspan=\"1\" class=\"\">80.1039045906238</td><td colspan=\"1\" rowspan=\"1\" class=\"\">41.9574602687997</td></tr>\n",
       "</table>"
      ],
      "text/plain": [
       "<raw_magic.nested_table.NestedTable at 0x7f8971068ba8>"
      ]
     },
     "execution_count": 28,
     "metadata": {},
     "output_type": "execute_result"
    }
   ],
   "source": [
    "%%rql \n",
    "from machine_errors import last_failure\n",
    "\n",
    "last_failure(2)"
   ]
  },
  {
   "cell_type": "markdown",
   "metadata": {},
   "source": [
    "## Web Services\n",
    "\n",
    "RAW will also create REST endpoints for packages. This happens automatically when Views and Functions are created. You don’t have to do anything special. If you have access to the underlying datasets then you will be able to call the Web Service API.\n",
    "\n",
    "We can therefore just use curl directly. RAW will produce JSON data output by default (even though other formats are possible, as long as they are compatible with the output data being produced).\n",
    "\n",
    "<div style=\"height: 350px;\n",
    "            overflow: auto;\n",
    "            background-color:#333;\n",
    "            color: white;\n",
    "            font: 1.3rem Inconsolata, monospace;\n",
    "            white-space: pre;\"> \n",
    "curl -X GET http://localhost:54321/1/public/query-package/machine_errors/last_failure?id=2  --header \"Authorization: Bearer user-token\"\n",
    "[\n",
    "   {\n",
    "      \"machineID\":2,\n",
    "      \"MODEL\":\"model4\",\n",
    "      \"AGE\":7,\n",
    "      \"FinishedAt\":\"2015-12-29T06:00:00.000\",\n",
    "      \"ExitCode\":2,\n",
    "      \"Error\":\"comp2\",\n",
    "      \"LastMaintenance\":\"2015-12-14T07:00:00.000\",\n",
    "      \"LastTelemetry\":[\n",
    "         {\n",
    "            \"datetime\":\"2015-12-29T01:00:00.000\",\n",
    "            \"machineID\":2,\n",
    "            \"volt\":181.122454404048,\n",
    "            \"rotate\":422.248743563851,\n",
    "            \"pressure\":88.3546110995375,\n",
    "            \"vibration\":40.4808513621125\n",
    "         },\n",
    "         {\n",
    "            \"datetime\":\"2015-12-29T02:00:00.000\",\n",
    "            \"machineID\":2,\n",
    "            \"volt\":155.531463911638,\n",
    "            \"rotate\":360.292589699392,\n",
    "            \"pressure\":89.9717860463751,\n",
    "            \"vibration\":47.6867694434344\n",
    "         },\n",
    "         {\n",
    "            \"datetime\":\"2015-12-29T03:00:00.000\",\n",
    "            \"machineID\":2,\n",
    "            \"volt\":154.391321059884,\n",
    "            \"rotate\":336.716866564908,\n",
    "            \"pressure\":85.4803478445541,\n",
    "            \"vibration\":39.0619294305281\n",
    "         },\n",
    "         {\n",
    "            \"datetime\":\"2015-12-29T04:00:00.000\",\n",
    "            \"machineID\":2,\n",
    "            \"volt\":180.299390217032,\n",
    "            \"rotate\":376.813608560992,\n",
    "            \"pressure\":99.0113824029604,\n",
    "            \"vibration\":44.1473769277538\n",
    "         },\n",
    "         {\n",
    "            \"datetime\":\"2015-12-29T05:00:00.000\",\n",
    "            \"machineID\":2,\n",
    "            \"volt\":136.025763974856,\n",
    "            \"rotate\":275.934791927404,\n",
    "            \"pressure\":80.1039045906238,\n",
    "            \"vibration\":41.9574602687997\n",
    "         }\n",
    "      ]\n",
    "   }\n",
    "]\n",
    "    \n",
    "</div>"
   ]
  },
  {
   "cell_type": "markdown",
   "metadata": {},
   "source": [
    "# Putting it all together, with some Python\n",
    "\n",
    "Now that we have our (virtual) data sources ready, let’s do some plots. We will be using Python and RQL queries for this. Python and RQL are very interoperable, in this example we call RQL queries from Python. You can also use Python directly inside RQL.\n",
    "\n",
    "We start by seeing failures per model of machine. This can be done with a regular GROUP BY and a COUNT. We now use Python code, with matplotlib, and instantiate the RAW client from within Python:"
   ]
  },
  {
   "cell_type": "code",
   "execution_count": 29,
   "metadata": {},
   "outputs": [
    {
     "data": {
      "image/png": "[encoded data removed]",
      "text/plain": [
       "<Figure size 432x288 with 1 Axes>"
      ]
     },
     "metadata": {
      "needs_background": "light"
     },
     "output_type": "display_data"
    }
   ],
   "source": [
    "%matplotlib inline\n",
    "\n",
    "import matplotlib.pyplot as plt\n",
    "from rawapi import new_raw_client\n",
    "\n",
    "raw = new_raw_client()\n",
    "\n",
    "data = raw.query(\"\"\"\n",
    "    SELECT MODEL, COUNT(*) as crashes\n",
    "        FROM machines m, failures f\n",
    "        WHERE m.MACHINEID = f.machineID\n",
    "        GROUP BY m.MODEL\n",
    "        ORDER BY crashes DESC\"\"\")\n",
    "\n",
    "data = list(data)\n",
    "\n",
    "models = [r['MODEL'] for r in data]\n",
    "crashes = [r['crashes'] for r in data]\n",
    "plt.title('Crashes per model')\n",
    "plt.bar(models,crashes)\n",
    "plt.show()"
   ]
  },
  {
   "cell_type": "markdown",
   "metadata": {},
   "source": [
    "Note that RAW’s Python client provides a smooth integration with Python. It produces Python iterators, dictionaries, etc. In some situations, RAW can even be generating data, server-side, in formats that can be efficiently processed in Python. Here is another example this time a scatter chart:"
   ]
  },
  {
   "cell_type": "code",
   "execution_count": 30,
   "metadata": {},
   "outputs": [
    {
     "data": {
      "image/png": "[encoded data removed]",
      "text/plain": [
       "<Figure size 432x288 with 1 Axes>"
      ]
     },
     "metadata": {
      "needs_background": "light"
     },
     "output_type": "display_data"
    }
   ],
   "source": [
    "data = raw.query(\"\"\"\n",
    "    SELECT m.MACHINEID,\n",
    "        SELECT COUNT(*) from failures f where m.MACHINEID = f.machineID as crashes,\n",
    "        SELECT COUNT(*) from errors e where m.MACHINEID = e.machineID as errors    \n",
    "    FROM machines m\"\"\")\n",
    "\n",
    "data = list(data)\n",
    "\n",
    "errors = [r['errors'] for r in data]\n",
    "crashes = [r['crashes'] for r in data]\n",
    "\n",
    "plt.title('Crashes/Errors Correlation')\n",
    "\n",
    "plt.xlabel('Failures')\n",
    "plt.ylabel('Errors')\n",
    "plt.plot(errors, crashes, 'bo')\n",
    "plt.show()"
   ]
  },
  {
   "cell_type": "markdown",
   "metadata": {},
   "source": [
    "## Using an external tool (Tableau)\n",
    "\n",
    "Thus far, we did queries and created views in the RAW Query Language.\n",
    "\n",
    "RAW also provides a pure SQL compatibility layer: any view created in RAW that is a “SQL table” is automatically available through our SQL entry point. In the SQL entry point, users submitted ORACLE SQL dialect queries instead. The data sources are the “RQL views” that are SQL tables.\n",
    "\n",
    "In fact, our Tableau integration uses the SQL compatibility layer and the JDBC driver. This allows business users to replicate the exact analysis shown above in a “no code” version. Here are some screenshots of the equivalent analysis:\n",
    "\n",
    "|                               |                              |\n",
    "| ----------------------------- |------------------------------|\n",
    "| <img src=\"img/tableau6.png\"/> |<img src=\"img/tableau3.png\"/> |\n",
    "| <img src=\"img/tableau5.png\"/> |<img src=\"img/tableau2.png\"/> |\n"
   ]
  }
 ],
 "metadata": {
  "kernelspec": {
   "display_name": "Python 3",
   "language": "python",
   "name": "python3"
  },
  "language_info": {
   "codemirror_mode": {
    "name": "ipython",
    "version": 3
   },
   "file_extension": ".py",
   "mimetype": "text/x-python",
   "name": "python",
   "nbconvert_exporter": "python",
   "pygments_lexer": "ipython3",
   "version": "3.6.9"
  }
 },
 "nbformat": 4,
 "nbformat_minor": 2
}
