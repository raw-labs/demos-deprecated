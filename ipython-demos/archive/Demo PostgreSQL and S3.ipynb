{
 "cells": [
  {
   "cell_type": "markdown",
   "metadata": {},
   "source": [
    "# Using RAW: joining data in S3 and PostgreSQL relational database"
   ]
  },
  {
   "cell_type": "markdown",
   "metadata": {},
   "source": [
    "## Enabling RAW <-> Jupyter integration"
   ]
  },
  {
   "cell_type": "code",
   "execution_count": 1,
   "metadata": {},
   "outputs": [],
   "source": [
    "%load_ext raw_magic"
   ]
  },
  {
   "cell_type": "markdown",
   "metadata": {},
   "source": [
    "### Making sure all is well"
   ]
  },
  {
   "cell_type": "code",
   "execution_count": 2,
   "metadata": {},
   "outputs": [
    {
     "data": {
      "text/html": [
       "<table class=\"nested-table\">\n",
       "<tr><th colspan=\"1\" rowspan=\"1\">int</th></tr>\n",
       "<tr><td colspan=\"1\" rowspan=\"1\" class=\"\">2</td></tr>\n",
       "</table>"
      ],
      "text/plain": [
       "<raw_magic.nested_table.NestedTable at 0x7fde6b1e2e80>"
      ]
     },
     "execution_count": 2,
     "metadata": {},
     "output_type": "execute_result"
    }
   ],
   "source": [
    "%%query\n",
    "1+1"
   ]
  },
  {
   "cell_type": "markdown",
   "metadata": {},
   "source": [
    "## Looking at data in the PostgreSQL relational database"
   ]
  },
  {
   "cell_type": "code",
   "execution_count": 4,
   "metadata": {},
   "outputs": [
    {
     "data": {
      "text/plain": [
       "RDBMS server \"demos\" replaced"
      ]
     },
     "execution_count": 4,
     "metadata": {},
     "output_type": "execute_result"
    }
   ],
   "source": [
    "%%rdbms_register demos \n",
    "type: postgresql \n",
    "host: test-psql.raw-labs.com\n",
    "database: demos\n",
    "username: rawtest\n",
    "password: f55ba92415"
   ]
  },
  {
   "cell_type": "markdown",
   "metadata": {},
   "source": [
    "This demo uses data from IMDB, the \"Internet Movie Database\"."
   ]
  },
  {
   "cell_type": "code",
   "execution_count": 5,
   "metadata": {},
   "outputs": [
    {
     "data": {
      "text/html": [
       "<table class=\"nested-table\">\n",
       "<tr><th colspan=\"1\" rowspan=\"1\">tconst</th><th colspan=\"1\" rowspan=\"1\">startyear</th><th colspan=\"1\" rowspan=\"1\">primarytitle</th><th colspan=\"1\" rowspan=\"1\">originaltitle</th><th colspan=\"1\" rowspan=\"1\">primaryname</th></tr>\n",
       "<tr><td colspan=\"1\" rowspan=\"1\" class=\"\">tt0027125</td><td colspan=\"1\" rowspan=\"1\" class=\"\">1935</td><td colspan=\"1\" rowspan=\"1\" class=\"\">Top Hat</td><td colspan=\"1\" rowspan=\"1\" class=\"\">Top Hat</td><td colspan=\"1\" rowspan=\"1\" class=\"\">Fred Astaire</td></tr>\n",
       "<tr><td colspan=\"1\" rowspan=\"1\" class=\"\">tt0028333</td><td colspan=\"1\" rowspan=\"1\" class=\"\">1936</td><td colspan=\"1\" rowspan=\"1\" class=\"\">Swing Time</td><td colspan=\"1\" rowspan=\"1\" class=\"\">Swing Time</td><td colspan=\"1\" rowspan=\"1\" class=\"\">Fred Astaire</td></tr>\n",
       "<tr><td colspan=\"1\" rowspan=\"1\" class=\"\">tt0034862</td><td colspan=\"1\" rowspan=\"1\" class=\"\">1942</td><td colspan=\"1\" rowspan=\"1\" class=\"\">Holiday Inn</td><td colspan=\"1\" rowspan=\"1\" class=\"\">Holiday Inn</td><td colspan=\"1\" rowspan=\"1\" class=\"\">Fred Astaire</td></tr>\n",
       "<tr><td colspan=\"1\" rowspan=\"1\" class=\"\">tt0050419</td><td colspan=\"1\" rowspan=\"1\" class=\"\">1957</td><td colspan=\"1\" rowspan=\"1\" class=\"\">Funny Face</td><td colspan=\"1\" rowspan=\"1\" class=\"\">Funny Face</td><td colspan=\"1\" rowspan=\"1\" class=\"\">Fred Astaire</td></tr>\n",
       "<tr><td colspan=\"1\" rowspan=\"1\" class=\"\">tt0053137</td><td colspan=\"1\" rowspan=\"1\" class=\"\">1959</td><td colspan=\"1\" rowspan=\"1\" class=\"\">On the Beach</td><td colspan=\"1\" rowspan=\"1\" class=\"\">On the Beach</td><td colspan=\"1\" rowspan=\"1\" class=\"\">Fred Astaire</td></tr>\n",
       "<tr><td colspan=\"1\" rowspan=\"1\" class=\"\">tt0037382</td><td colspan=\"1\" rowspan=\"1\" class=\"\">1944</td><td colspan=\"1\" rowspan=\"1\" class=\"\">To Have and Have Not</td><td colspan=\"1\" rowspan=\"1\" class=\"\">To Have and Have Not</td><td colspan=\"1\" rowspan=\"1\" class=\"\">Lauren Bacall</td></tr>\n",
       "<tr><td colspan=\"1\" rowspan=\"1\" class=\"\">tt0038355</td><td colspan=\"1\" rowspan=\"1\" class=\"\">1946</td><td colspan=\"1\" rowspan=\"1\" class=\"\">The Big Sleep</td><td colspan=\"1\" rowspan=\"1\" class=\"\">The Big Sleep</td><td colspan=\"1\" rowspan=\"1\" class=\"\">Lauren Bacall</td></tr>\n",
       "<tr><td colspan=\"1\" rowspan=\"1\" class=\"\">tt0039302</td><td colspan=\"1\" rowspan=\"1\" class=\"\">1947</td><td colspan=\"1\" rowspan=\"1\" class=\"\">Dark Passage</td><td colspan=\"1\" rowspan=\"1\" class=\"\">Dark Passage</td><td colspan=\"1\" rowspan=\"1\" class=\"\">Lauren Bacall</td></tr>\n",
       "<tr><td colspan=\"1\" rowspan=\"1\" class=\"\">tt0040506</td><td colspan=\"1\" rowspan=\"1\" class=\"\">1948</td><td colspan=\"1\" rowspan=\"1\" class=\"\">Key Largo</td><td colspan=\"1\" rowspan=\"1\" class=\"\">Key Largo</td><td colspan=\"1\" rowspan=\"1\" class=\"\">Lauren Bacall</td></tr>\n",
       "<tr><td colspan=\"1\" rowspan=\"1\" class=\"\">tt0045891</td><td colspan=\"1\" rowspan=\"1\" class=\"\">1953</td><td colspan=\"1\" rowspan=\"1\" class=\"\">How to Marry a Millionaire</td><td colspan=\"1\" rowspan=\"1\" class=\"\">How to Marry a Millionaire</td><td colspan=\"1\" rowspan=\"1\" class=\"\">Lauren Bacall</td></tr>\n",
       "</table>"
      ],
      "text/plain": [
       "<raw_magic.nested_table.NestedTable at 0x7fde6b210da0>"
      ]
     },
     "execution_count": 5,
     "metadata": {},
     "output_type": "execute_result"
    }
   ],
   "source": [
    "%%query\n",
    "SELECT *\n",
    "FROM READ_PGSQL(\"demos\", \"public\", \"movies\")\n",
    "LIMIT 10"
   ]
  },
  {
   "cell_type": "markdown",
   "metadata": {},
   "source": [
    "### Let's declare a VIEW to use this source"
   ]
  },
  {
   "cell_type": "code",
   "execution_count": 6,
   "metadata": {},
   "outputs": [
    {
     "data": {
      "text/plain": [
       "View \"movies\" replaced"
      ]
     },
     "execution_count": 6,
     "metadata": {},
     "output_type": "execute_result"
    }
   ],
   "source": [
    "%%view movies\n",
    "READ_PGSQL(\"demos\", \"public\", \"movies\")"
   ]
  },
  {
   "cell_type": "markdown",
   "metadata": {},
   "source": [
    "Now we can use it in a query more succinctly:"
   ]
  },
  {
   "cell_type": "code",
   "execution_count": 7,
   "metadata": {},
   "outputs": [
    {
     "data": {
      "text/html": [
       "<table class=\"nested-table\">\n",
       "<tr><th colspan=\"1\" rowspan=\"1\">tconst</th><th colspan=\"1\" rowspan=\"1\">startyear</th><th colspan=\"1\" rowspan=\"1\">primarytitle</th><th colspan=\"1\" rowspan=\"1\">originaltitle</th><th colspan=\"1\" rowspan=\"1\">primaryname</th></tr>\n",
       "<tr><td colspan=\"1\" rowspan=\"1\" class=\"\">tt0027125</td><td colspan=\"1\" rowspan=\"1\" class=\"\">1935</td><td colspan=\"1\" rowspan=\"1\" class=\"\">Top Hat</td><td colspan=\"1\" rowspan=\"1\" class=\"\">Top Hat</td><td colspan=\"1\" rowspan=\"1\" class=\"\">Fred Astaire</td></tr>\n",
       "<tr><td colspan=\"1\" rowspan=\"1\" class=\"\">tt0028333</td><td colspan=\"1\" rowspan=\"1\" class=\"\">1936</td><td colspan=\"1\" rowspan=\"1\" class=\"\">Swing Time</td><td colspan=\"1\" rowspan=\"1\" class=\"\">Swing Time</td><td colspan=\"1\" rowspan=\"1\" class=\"\">Fred Astaire</td></tr>\n",
       "<tr><td colspan=\"1\" rowspan=\"1\" class=\"\">tt0034862</td><td colspan=\"1\" rowspan=\"1\" class=\"\">1942</td><td colspan=\"1\" rowspan=\"1\" class=\"\">Holiday Inn</td><td colspan=\"1\" rowspan=\"1\" class=\"\">Holiday Inn</td><td colspan=\"1\" rowspan=\"1\" class=\"\">Fred Astaire</td></tr>\n",
       "<tr><td colspan=\"1\" rowspan=\"1\" class=\"\">tt0050419</td><td colspan=\"1\" rowspan=\"1\" class=\"\">1957</td><td colspan=\"1\" rowspan=\"1\" class=\"\">Funny Face</td><td colspan=\"1\" rowspan=\"1\" class=\"\">Funny Face</td><td colspan=\"1\" rowspan=\"1\" class=\"\">Fred Astaire</td></tr>\n",
       "<tr><td colspan=\"1\" rowspan=\"1\" class=\"\">tt0053137</td><td colspan=\"1\" rowspan=\"1\" class=\"\">1959</td><td colspan=\"1\" rowspan=\"1\" class=\"\">On the Beach</td><td colspan=\"1\" rowspan=\"1\" class=\"\">On the Beach</td><td colspan=\"1\" rowspan=\"1\" class=\"\">Fred Astaire</td></tr>\n",
       "<tr><td colspan=\"1\" rowspan=\"1\" class=\"\">tt0037382</td><td colspan=\"1\" rowspan=\"1\" class=\"\">1944</td><td colspan=\"1\" rowspan=\"1\" class=\"\">To Have and Have Not</td><td colspan=\"1\" rowspan=\"1\" class=\"\">To Have and Have Not</td><td colspan=\"1\" rowspan=\"1\" class=\"\">Lauren Bacall</td></tr>\n",
       "<tr><td colspan=\"1\" rowspan=\"1\" class=\"\">tt0038355</td><td colspan=\"1\" rowspan=\"1\" class=\"\">1946</td><td colspan=\"1\" rowspan=\"1\" class=\"\">The Big Sleep</td><td colspan=\"1\" rowspan=\"1\" class=\"\">The Big Sleep</td><td colspan=\"1\" rowspan=\"1\" class=\"\">Lauren Bacall</td></tr>\n",
       "<tr><td colspan=\"1\" rowspan=\"1\" class=\"\">tt0039302</td><td colspan=\"1\" rowspan=\"1\" class=\"\">1947</td><td colspan=\"1\" rowspan=\"1\" class=\"\">Dark Passage</td><td colspan=\"1\" rowspan=\"1\" class=\"\">Dark Passage</td><td colspan=\"1\" rowspan=\"1\" class=\"\">Lauren Bacall</td></tr>\n",
       "<tr><td colspan=\"1\" rowspan=\"1\" class=\"\">tt0040506</td><td colspan=\"1\" rowspan=\"1\" class=\"\">1948</td><td colspan=\"1\" rowspan=\"1\" class=\"\">Key Largo</td><td colspan=\"1\" rowspan=\"1\" class=\"\">Key Largo</td><td colspan=\"1\" rowspan=\"1\" class=\"\">Lauren Bacall</td></tr>\n",
       "<tr><td colspan=\"1\" rowspan=\"1\" class=\"\">tt0045891</td><td colspan=\"1\" rowspan=\"1\" class=\"\">1953</td><td colspan=\"1\" rowspan=\"1\" class=\"\">How to Marry a Millionaire</td><td colspan=\"1\" rowspan=\"1\" class=\"\">How to Marry a Millionaire</td><td colspan=\"1\" rowspan=\"1\" class=\"\">Lauren Bacall</td></tr>\n",
       "</table>"
      ],
      "text/plain": [
       "<raw_magic.nested_table.NestedTable at 0x7fde6b1b0208>"
      ]
     },
     "execution_count": 7,
     "metadata": {},
     "output_type": "execute_result"
    }
   ],
   "source": [
    "%%query\n",
    "SELECT * FROM movies\n",
    "LIMIT 10"
   ]
  },
  {
   "cell_type": "markdown",
   "metadata": {},
   "source": [
    "### What's Tom Cruise been up to?"
   ]
  },
  {
   "cell_type": "code",
   "execution_count": 8,
   "metadata": {},
   "outputs": [
    {
     "data": {
      "text/html": [
       "<table class=\"nested-table\">\n",
       "<tr><th colspan=\"1\" rowspan=\"1\">startyear</th><th colspan=\"1\" rowspan=\"1\">primarytitle</th></tr>\n",
       "<tr><td colspan=\"1\" rowspan=\"1\" class=\"\">2017</td><td colspan=\"1\" rowspan=\"1\" class=\"\">American Made</td></tr>\n",
       "<tr><td colspan=\"1\" rowspan=\"1\" class=\"\">2017</td><td colspan=\"1\" rowspan=\"1\" class=\"\">The Mummy</td></tr>\n",
       "<tr><td colspan=\"1\" rowspan=\"1\" class=\"\">2016</td><td colspan=\"1\" rowspan=\"1\" class=\"\">Jack Reacher: Never Go Back</td></tr>\n",
       "<tr><td colspan=\"1\" rowspan=\"1\" class=\"\">2015</td><td colspan=\"1\" rowspan=\"1\" class=\"\">Mission: Impossible - Rogue Nation</td></tr>\n",
       "<tr><td colspan=\"1\" rowspan=\"1\" class=\"\">2014</td><td colspan=\"1\" rowspan=\"1\" class=\"\">Edge of Tomorrow</td></tr>\n",
       "<tr><td colspan=\"1\" rowspan=\"1\" class=\"\">2013</td><td colspan=\"1\" rowspan=\"1\" class=\"\">Oblivion</td></tr>\n",
       "<tr><td colspan=\"1\" rowspan=\"1\" class=\"\">2012</td><td colspan=\"1\" rowspan=\"1\" class=\"\">Rock of Ages</td></tr>\n",
       "<tr><td colspan=\"1\" rowspan=\"1\" class=\"\">2012</td><td colspan=\"1\" rowspan=\"1\" class=\"\">Jack Reacher</td></tr>\n",
       "<tr><td colspan=\"1\" rowspan=\"1\" class=\"\">2011</td><td colspan=\"1\" rowspan=\"1\" class=\"\">Mission: Impossible - Ghost Protocol</td></tr>\n",
       "<tr><td colspan=\"1\" rowspan=\"1\" class=\"\">2010</td><td colspan=\"1\" rowspan=\"1\" class=\"\">Knight and Day</td></tr>\n",
       "</table>"
      ],
      "text/plain": [
       "<raw_magic.nested_table.NestedTable at 0x7fde6b1b0ba8>"
      ]
     },
     "execution_count": 8,
     "metadata": {},
     "output_type": "execute_result"
    }
   ],
   "source": [
    "%%query\n",
    "SELECT startyear, primarytitle\n",
    "FROM movies\n",
    "WHERE primaryname = \"Tom Cruise\"\n",
    "ORDER BY startyear DESC\n",
    "LIMIT 10"
   ]
  },
  {
   "cell_type": "markdown",
   "metadata": {},
   "source": [
    "Note this is just like regular SQL (so far!)."
   ]
  },
  {
   "cell_type": "markdown",
   "metadata": {},
   "source": [
    "Let's reshape this data a bit, so it looks more readable. We'll do it creating a new view \"actors_in_movies\"."
   ]
  },
  {
   "cell_type": "code",
   "execution_count": 9,
   "metadata": {},
   "outputs": [
    {
     "data": {
      "text/plain": [
       "View \"actors_in_movies\" replaced"
      ]
     },
     "execution_count": 9,
     "metadata": {},
     "output_type": "execute_result"
    }
   ],
   "source": [
    "%%view actors_in_movies\n",
    "SELECT primarytitle + \" (\" + originaltitle + \", \" + startyear + \")\" AS title, primaryname AS name\n",
    "FROM movies"
   ]
  },
  {
   "cell_type": "markdown",
   "metadata": {},
   "source": [
    "Let's see how that looks:"
   ]
  },
  {
   "cell_type": "code",
   "execution_count": 10,
   "metadata": {},
   "outputs": [
    {
     "data": {
      "text/html": [
       "<table class=\"nested-table\">\n",
       "<tr><th colspan=\"1\" rowspan=\"1\">title</th><th colspan=\"1\" rowspan=\"1\">name</th></tr>\n",
       "<tr><td colspan=\"1\" rowspan=\"1\" class=\"\">Top Hat (Top Hat, 1935)</td><td colspan=\"1\" rowspan=\"1\" class=\"\">Fred Astaire</td></tr>\n",
       "<tr><td colspan=\"1\" rowspan=\"1\" class=\"\">Swing Time (Swing Time, 1936)</td><td colspan=\"1\" rowspan=\"1\" class=\"\">Fred Astaire</td></tr>\n",
       "<tr><td colspan=\"1\" rowspan=\"1\" class=\"\">Holiday Inn (Holiday Inn, 1942)</td><td colspan=\"1\" rowspan=\"1\" class=\"\">Fred Astaire</td></tr>\n",
       "<tr><td colspan=\"1\" rowspan=\"1\" class=\"\">Funny Face (Funny Face, 1957)</td><td colspan=\"1\" rowspan=\"1\" class=\"\">Fred Astaire</td></tr>\n",
       "<tr><td colspan=\"1\" rowspan=\"1\" class=\"\">On the Beach (On the Beach, 1959)</td><td colspan=\"1\" rowspan=\"1\" class=\"\">Fred Astaire</td></tr>\n",
       "<tr><td colspan=\"1\" rowspan=\"1\" class=\"\">To Have and Have Not (To Have and Have Not, 1944)</td><td colspan=\"1\" rowspan=\"1\" class=\"\">Lauren Bacall</td></tr>\n",
       "<tr><td colspan=\"1\" rowspan=\"1\" class=\"\">The Big Sleep (The Big Sleep, 1946)</td><td colspan=\"1\" rowspan=\"1\" class=\"\">Lauren Bacall</td></tr>\n",
       "<tr><td colspan=\"1\" rowspan=\"1\" class=\"\">Dark Passage (Dark Passage, 1947)</td><td colspan=\"1\" rowspan=\"1\" class=\"\">Lauren Bacall</td></tr>\n",
       "<tr><td colspan=\"1\" rowspan=\"1\" class=\"\">Key Largo (Key Largo, 1948)</td><td colspan=\"1\" rowspan=\"1\" class=\"\">Lauren Bacall</td></tr>\n",
       "<tr><td colspan=\"1\" rowspan=\"1\" class=\"\">How to Marry a Millionaire (How to Marry a Millionaire, 1953)</td><td colspan=\"1\" rowspan=\"1\" class=\"\">Lauren Bacall</td></tr>\n",
       "</table>"
      ],
      "text/plain": [
       "<raw_magic.nested_table.NestedTable at 0x7fde6b1b0048>"
      ]
     },
     "execution_count": 10,
     "metadata": {},
     "output_type": "execute_result"
    }
   ],
   "source": [
    "%%query\n",
    "SELECT *\n",
    "FROM  actors_in_movies\n",
    "LIMIT 10"
   ]
  },
  {
   "cell_type": "markdown",
   "metadata": {},
   "source": [
    "## Another dataset: list of TV series, stored on a file in Dropbox"
   ]
  },
  {
   "cell_type": "markdown",
   "metadata": {},
   "source": [
    "Let's read directly data from Dropbox!"
   ]
  },
  {
   "cell_type": "code",
   "execution_count": 11,
   "metadata": {},
   "outputs": [
    {
     "data": {
      "text/plain": [
       "\"s3://raw-tutorial\" replaced"
      ]
     },
     "execution_count": 11,
     "metadata": {},
     "output_type": "execute_result"
    }
   ],
   "source": [
    "%buckets_register raw-tutorial"
   ]
  },
  {
   "cell_type": "code",
   "execution_count": 13,
   "metadata": {},
   "outputs": [
    {
     "data": {
      "text/html": [
       "<table class=\"nested-table\">\n",
       "<tr><th colspan=\"1\" rowspan=\"1\">title</th><th colspan=\"1\" rowspan=\"1\">ep</th><th colspan=\"1\" rowspan=\"1\">starring</th></tr>\n",
       "<tr><td colspan=\"1\" rowspan=\"9\" class=\"\">ER</td><td colspan=\"1\" rowspan=\"9\" class=\"\">S1E23</td><td colspan=\"1\" rowspan=\"1\" class=\"\">Deezer D</td></tr>\n",
       "<tr><td colspan=\"1\" rowspan=\"1\" class=\"\">Laura Ceron</td></tr>\n",
       "<tr><td colspan=\"1\" rowspan=\"1\" class=\"\">Laura Innes</td></tr>\n",
       "<tr><td colspan=\"1\" rowspan=\"1\" class=\"\">Noah Wyle</td></tr>\n",
       "<tr><td colspan=\"1\" rowspan=\"1\" class=\"\">Eriq La Salle</td></tr>\n",
       "<tr><td colspan=\"1\" rowspan=\"1\" class=\"\">Julianna Margulies</td></tr>\n",
       "<tr><td colspan=\"1\" rowspan=\"1\" class=\"\">George Clooney</td></tr>\n",
       "<tr><td colspan=\"1\" rowspan=\"1\" class=\"\">Anthony Edwards</td></tr>\n",
       "<tr><td colspan=\"1\" rowspan=\"1\" class=\"\">Maura Tierney</td></tr>\n",
       "<tr><td colspan=\"1\" rowspan=\"9\" class=\"\">ALF</td><td colspan=\"1\" rowspan=\"9\" class=\"\">S3E4</td><td colspan=\"1\" rowspan=\"1\" class=\"\">Liz Sheridan</td></tr>\n",
       "<tr><td colspan=\"1\" rowspan=\"1\" class=\"\">John LaMotta</td></tr>\n",
       "<tr><td colspan=\"1\" rowspan=\"1\" class=\"\">Benji Gregory</td></tr>\n",
       "<tr><td colspan=\"1\" rowspan=\"1\" class=\"\">Andrea Elson</td></tr>\n",
       "<tr><td colspan=\"1\" rowspan=\"1\" class=\"\">Anne Schedeen</td></tr>\n",
       "<tr><td colspan=\"1\" rowspan=\"1\" class=\"\">Max Wright</td></tr>\n",
       "<tr><td colspan=\"1\" rowspan=\"1\" class=\"\">Paul Fusco</td></tr>\n",
       "<tr><td colspan=\"1\" rowspan=\"1\" class=\"\">Mihaly &#x27;Michu&#x27; Meszaros</td></tr>\n",
       "<tr><td colspan=\"1\" rowspan=\"1\" class=\"\">Josh Blake</td></tr>\n",
       "<tr><td colspan=\"1\" rowspan=\"9\" class=\"\">ER</td><td colspan=\"1\" rowspan=\"9\" class=\"\">S14E12</td><td colspan=\"1\" rowspan=\"1\" class=\"\">Deezer D</td></tr>\n",
       "<tr><td colspan=\"1\" rowspan=\"1\" class=\"\">Laura Cerón</td></tr>\n",
       "<tr><td colspan=\"1\" rowspan=\"1\" class=\"\">Laura Innes</td></tr>\n",
       "<tr><td colspan=\"1\" rowspan=\"1\" class=\"\">Noah Wyle</td></tr>\n",
       "<tr><td colspan=\"1\" rowspan=\"1\" class=\"\">Eriq La Salle</td></tr>\n",
       "<tr><td colspan=\"1\" rowspan=\"1\" class=\"\">Julianna Margulies</td></tr>\n",
       "<tr><td colspan=\"1\" rowspan=\"1\" class=\"\">George Clooney</td></tr>\n",
       "<tr><td colspan=\"1\" rowspan=\"1\" class=\"\">Anthony Edwards</td></tr>\n",
       "<tr><td colspan=\"1\" rowspan=\"1\" class=\"\">Maura Tierney</td></tr>\n",
       "</table>"
      ],
      "text/plain": [
       "<raw_magic.nested_table.NestedTable at 0x7fde6b1bc400>"
      ]
     },
     "execution_count": 13,
     "metadata": {},
     "output_type": "execute_result"
    }
   ],
   "source": [
    "%%query\n",
    "SELECT *\n",
    "FROM READ(\"s3://raw-tutorial/ipython-demos/series.hjson\")\n",
    "LIMIT 3"
   ]
  },
  {
   "cell_type": "markdown",
   "metadata": {},
   "source": [
    "Let's now create view to access this data more easily as before."
   ]
  },
  {
   "cell_type": "code",
   "execution_count": 14,
   "metadata": {},
   "outputs": [
    {
     "data": {
      "text/plain": [
       "View \"series\" replaced"
      ]
     },
     "execution_count": 14,
     "metadata": {},
     "output_type": "execute_result"
    }
   ],
   "source": [
    "%%view series\n",
    "SELECT *\n",
    "FROM READ(\"s3://raw-tutorial/ipython-demos/series.hjson\")"
   ]
  },
  {
   "cell_type": "markdown",
   "metadata": {},
   "source": [
    "Let's also reshape it a bit. Note we are using non-SQL: we are \"unnesting\" the nested data in the FROM clause."
   ]
  },
  {
   "cell_type": "code",
   "execution_count": 15,
   "metadata": {},
   "outputs": [
    {
     "data": {
      "text/plain": [
       "View \"actors_in_series\" replaced"
      ]
     },
     "execution_count": 15,
     "metadata": {},
     "output_type": "execute_result"
    }
   ],
   "source": [
    "%%view actors_in_series\n",
    "SELECT s.title + \" (\" + s.ep + \")\" as title, p AS name\n",
    "from series s, s.starring p"
   ]
  },
  {
   "cell_type": "markdown",
   "metadata": {},
   "source": [
    "Let's see how that looks like:"
   ]
  },
  {
   "cell_type": "code",
   "execution_count": 16,
   "metadata": {},
   "outputs": [
    {
     "data": {
      "text/html": [
       "<table class=\"nested-table\">\n",
       "<tr><th colspan=\"1\" rowspan=\"1\">title</th><th colspan=\"1\" rowspan=\"1\">name</th></tr>\n",
       "<tr><td colspan=\"1\" rowspan=\"1\" class=\"\">ER (S1E23)</td><td colspan=\"1\" rowspan=\"1\" class=\"\">Deezer D</td></tr>\n",
       "<tr><td colspan=\"1\" rowspan=\"1\" class=\"\">ER (S1E23)</td><td colspan=\"1\" rowspan=\"1\" class=\"\">Laura Ceron</td></tr>\n",
       "<tr><td colspan=\"1\" rowspan=\"1\" class=\"\">ER (S1E23)</td><td colspan=\"1\" rowspan=\"1\" class=\"\">Laura Innes</td></tr>\n",
       "<tr><td colspan=\"1\" rowspan=\"1\" class=\"\">ER (S1E23)</td><td colspan=\"1\" rowspan=\"1\" class=\"\">Noah Wyle</td></tr>\n",
       "<tr><td colspan=\"1\" rowspan=\"1\" class=\"\">ER (S1E23)</td><td colspan=\"1\" rowspan=\"1\" class=\"\">Eriq La Salle</td></tr>\n",
       "<tr><td colspan=\"1\" rowspan=\"1\" class=\"\">ER (S1E23)</td><td colspan=\"1\" rowspan=\"1\" class=\"\">Julianna Margulies</td></tr>\n",
       "<tr><td colspan=\"1\" rowspan=\"1\" class=\"\">ER (S1E23)</td><td colspan=\"1\" rowspan=\"1\" class=\"\">George Clooney</td></tr>\n",
       "<tr><td colspan=\"1\" rowspan=\"1\" class=\"\">ER (S1E23)</td><td colspan=\"1\" rowspan=\"1\" class=\"\">Anthony Edwards</td></tr>\n",
       "<tr><td colspan=\"1\" rowspan=\"1\" class=\"\">ER (S1E23)</td><td colspan=\"1\" rowspan=\"1\" class=\"\">Maura Tierney</td></tr>\n",
       "<tr><td colspan=\"1\" rowspan=\"1\" class=\"\">ALF (S3E4)</td><td colspan=\"1\" rowspan=\"1\" class=\"\">Liz Sheridan</td></tr>\n",
       "<tr><td colspan=\"1\" rowspan=\"1\" class=\"\">ALF (S3E4)</td><td colspan=\"1\" rowspan=\"1\" class=\"\">John LaMotta</td></tr>\n",
       "<tr><td colspan=\"1\" rowspan=\"1\" class=\"\">ALF (S3E4)</td><td colspan=\"1\" rowspan=\"1\" class=\"\">Benji Gregory</td></tr>\n",
       "<tr><td colspan=\"1\" rowspan=\"1\" class=\"\">ALF (S3E4)</td><td colspan=\"1\" rowspan=\"1\" class=\"\">Andrea Elson</td></tr>\n",
       "<tr><td colspan=\"1\" rowspan=\"1\" class=\"\">ALF (S3E4)</td><td colspan=\"1\" rowspan=\"1\" class=\"\">Anne Schedeen</td></tr>\n",
       "<tr><td colspan=\"1\" rowspan=\"1\" class=\"\">ALF (S3E4)</td><td colspan=\"1\" rowspan=\"1\" class=\"\">Max Wright</td></tr>\n",
       "<tr><td colspan=\"1\" rowspan=\"1\" class=\"\">ALF (S3E4)</td><td colspan=\"1\" rowspan=\"1\" class=\"\">Paul Fusco</td></tr>\n",
       "<tr><td colspan=\"1\" rowspan=\"1\" class=\"\">ALF (S3E4)</td><td colspan=\"1\" rowspan=\"1\" class=\"\">Mihaly &#x27;Michu&#x27; Meszaros</td></tr>\n",
       "<tr><td colspan=\"1\" rowspan=\"1\" class=\"\">ALF (S3E4)</td><td colspan=\"1\" rowspan=\"1\" class=\"\">Josh Blake</td></tr>\n",
       "<tr><td colspan=\"1\" rowspan=\"1\" class=\"\">ER (S14E12)</td><td colspan=\"1\" rowspan=\"1\" class=\"\">Deezer D</td></tr>\n",
       "<tr><td colspan=\"1\" rowspan=\"1\" class=\"\">ER (S14E12)</td><td colspan=\"1\" rowspan=\"1\" class=\"\">Laura Cerón</td></tr>\n",
       "</table>"
      ],
      "text/plain": [
       "<raw_magic.nested_table.NestedTable at 0x7fde6b1c47f0>"
      ]
     },
     "execution_count": 16,
     "metadata": {},
     "output_type": "execute_result"
    }
   ],
   "source": [
    "%%query\n",
    "SELECT *\n",
    "FROM actors_in_series\n",
    "LIMIT 20"
   ]
  },
  {
   "cell_type": "markdown",
   "metadata": {},
   "source": [
    "Now both views we created - actors in movies and actors in series - can be trivially combined since they are \"structurally compatible\", as if they were from the same single source. An actor appearing in both a movie and a TV series is now showing in a single query."
   ]
  },
  {
   "cell_type": "code",
   "execution_count": 17,
   "metadata": {},
   "outputs": [
    {
     "data": {
      "text/plain": [
       "View \"actors_in_all\" replaced"
      ]
     },
     "execution_count": 17,
     "metadata": {},
     "output_type": "execute_result"
    }
   ],
   "source": [
    "%%view actors_in_all\n",
    "SELECT *\n",
    "FROM\n",
    "actors_in_movies\n",
    "UNION ALL\n",
    "actors_in_series"
   ]
  },
  {
   "cell_type": "markdown",
   "metadata": {},
   "source": [
    "So now let's query that view. Note we are querying *BOTH* Dropbox and a PostgreSQL relational database system. And it's all transparent!"
   ]
  },
  {
   "cell_type": "code",
   "execution_count": 18,
   "metadata": {},
   "outputs": [
    {
     "data": {
      "text/html": [
       "<table class=\"nested-table\">\n",
       "<tr><th colspan=\"1\" rowspan=\"1\">title</th><th colspan=\"1\" rowspan=\"1\">name</th></tr>\n",
       "<tr><td colspan=\"1\" rowspan=\"1\" class=\"\">300: Rise of an Empire (300: Rise of an Empire, 2014)</td><td colspan=\"1\" rowspan=\"1\" class=\"\">Sullivan Stapleton</td></tr>\n",
       "<tr><td colspan=\"1\" rowspan=\"1\" class=\"\">Strike Back (Strike Back, 2010)</td><td colspan=\"1\" rowspan=\"1\" class=\"\">Sullivan Stapleton</td></tr>\n",
       "<tr><td colspan=\"1\" rowspan=\"1\" class=\"\">Blindspot (Blindspot, 2015)</td><td colspan=\"1\" rowspan=\"1\" class=\"\">Sullivan Stapleton</td></tr>\n",
       "<tr><td colspan=\"1\" rowspan=\"1\" class=\"\">Blindspot (S3E4)</td><td colspan=\"1\" rowspan=\"1\" class=\"\">Sullivan Stapleton</td></tr>\n",
       "<tr><td colspan=\"1\" rowspan=\"1\" class=\"\">Blindspot (S3E15)</td><td colspan=\"1\" rowspan=\"1\" class=\"\">Sullivan Stapleton</td></tr>\n",
       "<tr><td colspan=\"1\" rowspan=\"1\" class=\"\">Blindspot (S2E3)</td><td colspan=\"1\" rowspan=\"1\" class=\"\">Sullivan Stapleton</td></tr>\n",
       "<tr><td colspan=\"1\" rowspan=\"1\" class=\"\">Blindspot (S3E3)</td><td colspan=\"1\" rowspan=\"1\" class=\"\">Sullivan Stapleton</td></tr>\n",
       "<tr><td colspan=\"1\" rowspan=\"1\" class=\"\">Blindspot (S2E11)</td><td colspan=\"1\" rowspan=\"1\" class=\"\">Sullivan Stapleton</td></tr>\n",
       "<tr><td colspan=\"1\" rowspan=\"1\" class=\"\">Blindspot (S1E6)</td><td colspan=\"1\" rowspan=\"1\" class=\"\">Sullivan Stapleton</td></tr>\n",
       "<tr><td colspan=\"1\" rowspan=\"1\" class=\"\">Blindspot (S2E8)</td><td colspan=\"1\" rowspan=\"1\" class=\"\">Sullivan Stapleton</td></tr>\n",
       "</table>"
      ],
      "text/plain": [
       "<raw_magic.nested_table.NestedTable at 0x7fde6b1c4d68>"
      ]
     },
     "execution_count": 18,
     "metadata": {},
     "output_type": "execute_result"
    }
   ],
   "source": [
    "%%query\n",
    "SELECT *\n",
    "FROM actors_in_all\n",
    "WHERE name = \"Sullivan Stapleton\"\n",
    "LIMIT 10"
   ]
  },
  {
   "cell_type": "markdown",
   "metadata": {},
   "source": [
    "Note that \"Blindspot\" is a TV series (from Dropbox), and \"300: Rise of an Empire\" is a movie (from PostgreSQL)."
   ]
  },
  {
   "cell_type": "markdown",
   "metadata": {},
   "source": [
    "## Cleaning the TV Series dataset\n",
    "\n",
    "A problem: in the Dropbox dataset (TV series), some names are spelled slightly wrong."
   ]
  },
  {
   "cell_type": "code",
   "execution_count": 19,
   "metadata": {},
   "outputs": [
    {
     "data": {
      "text/html": [
       "<table class=\"nested-table\">\n",
       "<tr><th colspan=\"1\" rowspan=\"1\">string</th></tr>\n",
       "<tr><td colspan=\"1\" rowspan=\"1\" class=\"\">Benj Gregory</td></tr>\n",
       "<tr><td colspan=\"1\" rowspan=\"1\" class=\"\">Benji Gregory</td></tr>\n",
       "<tr><td colspan=\"1\" rowspan=\"1\" class=\"\">Laura Ceron</td></tr>\n",
       "<tr><td colspan=\"1\" rowspan=\"1\" class=\"\">Laura Cerón</td></tr>\n",
       "<tr><td colspan=\"1\" rowspan=\"1\" class=\"\">Sulivan Stapleton</td></tr>\n",
       "<tr><td colspan=\"1\" rowspan=\"1\" class=\"\">Sullivan Stapleton</td></tr>\n",
       "</table>"
      ],
      "text/plain": [
       "<raw_magic.nested_table.NestedTable at 0x7fde6b1c82b0>"
      ]
     },
     "execution_count": 19,
     "metadata": {},
     "output_type": "execute_result"
    }
   ],
   "source": [
    "%%query\n",
    "SELECT V FROM (\n",
    "    SELECT DISTINCT name\n",
    "    FROM actors_in_series\n",
    "    WHERE name LIKE \"%Stapleton%\" OR name LIKE \"%Benj%\" OR name LIKE \"%Laura Ce%\"\n",
    ") V  ORDER BY V LIMIT 10"
   ]
  },
  {
   "cell_type": "markdown",
   "metadata": {},
   "source": [
    "For this we need some reference dataset. But we have one: the IMDB database (PostgreSQL) that has a curated list of actors names. So let's replace the mispelled names by the most similar ones found in the curated IMDB list."
   ]
  },
  {
   "cell_type": "markdown",
   "metadata": {},
   "source": [
    "We build a view with \"primary names\" coming from IMDB (PostgreSQL)."
   ]
  },
  {
   "cell_type": "code",
   "execution_count": 20,
   "metadata": {},
   "outputs": [
    {
     "data": {
      "text/plain": [
       "View \"ref_names\" replaced"
      ]
     },
     "execution_count": 20,
     "metadata": {},
     "output_type": "execute_result"
    }
   ],
   "source": [
    "%%view ref_names\n",
    "SELECT primaryname\n",
    "FROM READ_PGSQL(\"demos\", \"public\", \"names\")"
   ]
  },
  {
   "cell_type": "markdown",
   "metadata": {},
   "source": [
    "There's quite a few of them!"
   ]
  },
  {
   "cell_type": "code",
   "execution_count": 21,
   "metadata": {},
   "outputs": [
    {
     "data": {
      "text/html": [
       "<table class=\"nested-table\">\n",
       "<tr><th colspan=\"1\" rowspan=\"1\">long</th></tr>\n",
       "<tr><td colspan=\"1\" rowspan=\"1\" class=\"\">252320</td></tr>\n",
       "</table>"
      ],
      "text/plain": [
       "<raw_magic.nested_table.NestedTable at 0x7fde6b1c8d30>"
      ]
     },
     "execution_count": 21,
     "metadata": {},
     "output_type": "execute_result"
    }
   ],
   "source": [
    "%%query\n",
    "SELECT COUNT(*) FROM ref_names"
   ]
  },
  {
   "cell_type": "markdown",
   "metadata": {},
   "source": [
    "So let's script a cleaning tool for our case in the RAW language (RQL) itself. RQL is what we've been using all along. It looks-and-feels like SQL but it's a lot more powerful."
   ]
  },
  {
   "cell_type": "code",
   "execution_count": 22,
   "metadata": {},
   "outputs": [
    {
     "data": {
      "text/plain": [
       "View \"fixed_actors_in_series\" replaced"
      ]
     },
     "execution_count": 22,
     "metadata": {},
     "output_type": "execute_result"
    }
   ],
   "source": [
    "%%view fixed_actors_in_series\n",
    "\n",
    "candidates(x: string, vs: collection(string nullable)) := {\n",
    "    select\n",
    "        levenshtein_distance(n, x) AS score,\n",
    "        n AS value\n",
    "    from vs n\n",
    "    where len(x) == len(n) and substr(x, 1, 1) = substr(n, 1, 1)\n",
    "};\n",
    "\n",
    "bestmatch(s: string, vs: collection(string nullable)) :=\n",
    "    cfirst(\n",
    "        select x.value\n",
    "        from candidates(s, vs) x\n",
    "        where x.score < 4\n",
    "        order by x.score asc\n",
    "        limit 3\n",
    "    )\n",
    ";\n",
    "\n",
    "SELECT title, name, bestmatch(name, ref_names) AS fixed_name\n",
    "FROM actors_in_series"
   ]
  },
  {
   "cell_type": "markdown",
   "metadata": {},
   "source": [
    "Let's now see the names that are different from our reference names."
   ]
  },
  {
   "cell_type": "code",
   "execution_count": 24,
   "metadata": {},
   "outputs": [
    {
     "data": {
      "text/html": [
       "<table class=\"nested-table\">\n",
       "<tr><th colspan=\"1\" rowspan=\"1\">title</th><th colspan=\"1\" rowspan=\"1\">name</th><th colspan=\"1\" rowspan=\"1\">fixed_name</th></tr>\n",
       "<tr><td colspan=\"1\" rowspan=\"1\" class=\"\">ER (S1E23)</td><td colspan=\"1\" rowspan=\"1\" class=\"\">Laura Ceron</td><td colspan=\"1\" rowspan=\"1\" class=\"\">Laura Cerón</td></tr>\n",
       "<tr><td colspan=\"1\" rowspan=\"1\" class=\"\">ER (S10E20)</td><td colspan=\"1\" rowspan=\"1\" class=\"\">Laura Ceron</td><td colspan=\"1\" rowspan=\"1\" class=\"\">Laura Cerón</td></tr>\n",
       "<tr><td colspan=\"1\" rowspan=\"1\" class=\"\">ER (S5E16)</td><td colspan=\"1\" rowspan=\"1\" class=\"\">Laura Ceron</td><td colspan=\"1\" rowspan=\"1\" class=\"\">Laura Cerón</td></tr>\n",
       "<tr><td colspan=\"1\" rowspan=\"1\" class=\"\">ER (S12E12)</td><td colspan=\"1\" rowspan=\"1\" class=\"\">Laura Ceron</td><td colspan=\"1\" rowspan=\"1\" class=\"\">Laura Cerón</td></tr>\n",
       "<tr><td colspan=\"1\" rowspan=\"1\" class=\"\">ER (S8E4)</td><td colspan=\"1\" rowspan=\"1\" class=\"\">Eric La Salle</td><td colspan=\"1\" rowspan=\"1\" class=\"\">Eriq La Salle</td></tr>\n",
       "<tr><td colspan=\"1\" rowspan=\"1\" class=\"\">ER (S2E11)</td><td colspan=\"1\" rowspan=\"1\" class=\"\">Eric La Salle</td><td colspan=\"1\" rowspan=\"1\" class=\"\">Eriq La Salle</td></tr>\n",
       "<tr><td colspan=\"1\" rowspan=\"1\" class=\"\">ER (S3E4)</td><td colspan=\"1\" rowspan=\"1\" class=\"\">Eric La Salle</td><td colspan=\"1\" rowspan=\"1\" class=\"\">Eriq La Salle</td></tr>\n",
       "<tr><td colspan=\"1\" rowspan=\"1\" class=\"\">ER (S12E14)</td><td colspan=\"1\" rowspan=\"1\" class=\"\">Eric La Salle</td><td colspan=\"1\" rowspan=\"1\" class=\"\">Eriq La Salle</td></tr>\n",
       "<tr><td colspan=\"1\" rowspan=\"1\" class=\"\">ER (S12E8)</td><td colspan=\"1\" rowspan=\"1\" class=\"\">Eric La Salle</td><td colspan=\"1\" rowspan=\"1\" class=\"\">Eriq La Salle</td></tr>\n",
       "<tr><td colspan=\"1\" rowspan=\"1\" class=\"\">ER (S4E16)</td><td colspan=\"1\" rowspan=\"1\" class=\"\">Eric La Salle</td><td colspan=\"1\" rowspan=\"1\" class=\"\">Eriq La Salle</td></tr>\n",
       "<tr><td colspan=\"1\" rowspan=\"1\" class=\"\">ER (S15E20)</td><td colspan=\"1\" rowspan=\"1\" class=\"\">Eric La Salle</td><td colspan=\"1\" rowspan=\"1\" class=\"\">Eriq La Salle</td></tr>\n",
       "<tr><td colspan=\"1\" rowspan=\"1\" class=\"\">ER (S2E21)</td><td colspan=\"1\" rowspan=\"1\" class=\"\">Eric La Salle</td><td colspan=\"1\" rowspan=\"1\" class=\"\">Eriq La Salle</td></tr>\n",
       "<tr><td colspan=\"1\" rowspan=\"1\" class=\"\">ER (S4E14)</td><td colspan=\"1\" rowspan=\"1\" class=\"\">Eric La Salle</td><td colspan=\"1\" rowspan=\"1\" class=\"\">Eriq La Salle</td></tr>\n",
       "<tr><td colspan=\"1\" rowspan=\"1\" class=\"\">ER (S9E16)</td><td colspan=\"1\" rowspan=\"1\" class=\"\">Eric La Salle</td><td colspan=\"1\" rowspan=\"1\" class=\"\">Eriq La Salle</td></tr>\n",
       "<tr><td colspan=\"1\" rowspan=\"1\" class=\"\">ER (S12E20)</td><td colspan=\"1\" rowspan=\"1\" class=\"\">Laura Ceron</td><td colspan=\"1\" rowspan=\"1\" class=\"\">Laura Cerón</td></tr>\n",
       "<tr><td colspan=\"1\" rowspan=\"1\" class=\"\">ER (S1E17)</td><td colspan=\"1\" rowspan=\"1\" class=\"\">Laura Ceron</td><td colspan=\"1\" rowspan=\"1\" class=\"\">Laura Cerón</td></tr>\n",
       "<tr><td colspan=\"1\" rowspan=\"1\" class=\"\">ER (S3E15)</td><td colspan=\"1\" rowspan=\"1\" class=\"\">Laura Ceron</td><td colspan=\"1\" rowspan=\"1\" class=\"\">Laura Cerón</td></tr>\n",
       "<tr><td colspan=\"1\" rowspan=\"1\" class=\"\">ER (S4E20)</td><td colspan=\"1\" rowspan=\"1\" class=\"\">Laura Ceron</td><td colspan=\"1\" rowspan=\"1\" class=\"\">Laura Cerón</td></tr>\n",
       "<tr><td colspan=\"1\" rowspan=\"1\" class=\"\">ER (S11E7)</td><td colspan=\"1\" rowspan=\"1\" class=\"\">Laura Ceron</td><td colspan=\"1\" rowspan=\"1\" class=\"\">Laura Cerón</td></tr>\n",
       "<tr><td colspan=\"1\" rowspan=\"1\" class=\"\">ER (S7E1)</td><td colspan=\"1\" rowspan=\"1\" class=\"\">Laura Ceron</td><td colspan=\"1\" rowspan=\"1\" class=\"\">Laura Cerón</td></tr>\n",
       "<tr><td colspan=\"1\" rowspan=\"1\" class=\"\">ER (S3E18)</td><td colspan=\"1\" rowspan=\"1\" class=\"\">Laura Ceron</td><td colspan=\"1\" rowspan=\"1\" class=\"\">Laura Cerón</td></tr>\n",
       "<tr><td colspan=\"1\" rowspan=\"1\" class=\"\">ER (S10E4)</td><td colspan=\"1\" rowspan=\"1\" class=\"\">Eric La Salle</td><td colspan=\"1\" rowspan=\"1\" class=\"\">Eriq La Salle</td></tr>\n",
       "<tr><td colspan=\"1\" rowspan=\"1\" class=\"\">ER (S12E17)</td><td colspan=\"1\" rowspan=\"1\" class=\"\">Eric La Salle</td><td colspan=\"1\" rowspan=\"1\" class=\"\">Eriq La Salle</td></tr>\n",
       "<tr><td colspan=\"1\" rowspan=\"1\" class=\"\">ER (S6E19)</td><td colspan=\"1\" rowspan=\"1\" class=\"\">Eric La Salle</td><td colspan=\"1\" rowspan=\"1\" class=\"\">Eriq La Salle</td></tr>\n",
       "<tr><td colspan=\"1\" rowspan=\"1\" class=\"\">ER (S5E8)</td><td colspan=\"1\" rowspan=\"1\" class=\"\">Eric La Salle</td><td colspan=\"1\" rowspan=\"1\" class=\"\">Eriq La Salle</td></tr>\n",
       "<tr><td colspan=\"1\" rowspan=\"1\" class=\"\">ER (S5E4)</td><td colspan=\"1\" rowspan=\"1\" class=\"\">Eric La Salle</td><td colspan=\"1\" rowspan=\"1\" class=\"\">Eriq La Salle</td></tr>\n",
       "<tr><td colspan=\"1\" rowspan=\"1\" class=\"\">ER (S8E18)</td><td colspan=\"1\" rowspan=\"1\" class=\"\">Eric La Salle</td><td colspan=\"1\" rowspan=\"1\" class=\"\">Eriq La Salle</td></tr>\n",
       "<tr><td colspan=\"1\" rowspan=\"1\" class=\"\">ER (S15E19)</td><td colspan=\"1\" rowspan=\"1\" class=\"\">Laura Ceron</td><td colspan=\"1\" rowspan=\"1\" class=\"\">Laura Cerón</td></tr>\n",
       "<tr><td colspan=\"1\" rowspan=\"1\" class=\"\">ER (S15E19)</td><td colspan=\"1\" rowspan=\"1\" class=\"\">Eric La Salle</td><td colspan=\"1\" rowspan=\"1\" class=\"\">Eriq La Salle</td></tr>\n",
       "<tr><td colspan=\"1\" rowspan=\"1\" class=\"\">ER (S10E11)</td><td colspan=\"1\" rowspan=\"1\" class=\"\">Eric La Salle</td><td colspan=\"1\" rowspan=\"1\" class=\"\">Eriq La Salle</td></tr>\n",
       "</table>"
      ],
      "text/plain": [
       "<raw_magic.nested_table.NestedTable at 0x7fde6b210fd0>"
      ]
     },
     "execution_count": 24,
     "metadata": {},
     "output_type": "execute_result"
    }
   ],
   "source": [
    "%%query\n",
    "SELECT *\n",
    "FROM fixed_actors_in_series\n",
    "WHERE name != fixed_name\n",
    "LIMIT 30"
   ]
  },
  {
   "cell_type": "markdown",
   "metadata": {},
   "source": [
    "So let's now rebuild our list of actors in movies + series with the correct names."
   ]
  },
  {
   "cell_type": "code",
   "execution_count": null,
   "metadata": {},
   "outputs": [],
   "source": [
    "%%view fixed_all_actors\n",
    "SELECT *\n",
    "FROM actors_in_movies\n",
    "UNION ALL\n",
    "(SELECT title, fixed_name AS name FROM fixed_actors_in_series)"
   ]
  },
  {
   "cell_type": "markdown",
   "metadata": {},
   "source": [
    "Let's see if names look good! (Sullivan Stapleton had two different spellings before):"
   ]
  },
  {
   "cell_type": "code",
   "execution_count": null,
   "metadata": {},
   "outputs": [],
   "source": [
    "%%query\n",
    "SELECT *\n",
    "FROM fixed_all_actors\n",
    "WHERE name = \"Sullivan Stapleton\" LIMIT 20"
   ]
  },
  {
   "cell_type": "markdown",
   "metadata": {},
   "source": [
    "## And we're done! Merging data from PostgreSQL and Dropbox data while cleaning it!"
   ]
  }
 ],
 "metadata": {
  "kernelspec": {
   "display_name": "Python 3",
   "language": "python",
   "name": "python3"
  },
  "language_info": {
   "codemirror_mode": {
    "name": "ipython",
    "version": 3
   },
   "file_extension": ".py",
   "mimetype": "text/x-python",
   "name": "python",
   "nbconvert_exporter": "python",
   "pygments_lexer": "ipython3",
   "version": "3.6.9"
  }
 },
 "nbformat": 4,
 "nbformat_minor": 2
}
