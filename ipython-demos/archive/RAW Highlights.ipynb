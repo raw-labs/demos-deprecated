{
 "cells": [
  {
   "cell_type": "markdown",
   "metadata": {},
   "source": [
    "# Raw Query language highlights"
   ]
  },
  {
   "cell_type": "markdown",
   "metadata": {},
   "source": [
    "#### Enabling RAW <-> Jupyter integration"
   ]
  },
  {
   "cell_type": "code",
   "execution_count": 3,
   "metadata": {},
   "outputs": [
    {
     "name": "stdout",
     "output_type": "stream",
     "text": [
      "The raw_magic extension is already loaded. To reload it, use:\n",
      "  %reload_ext raw_magic\n"
     ]
    }
   ],
   "source": [
    "%load_ext raw_magic"
   ]
  },
  {
   "cell_type": "markdown",
   "metadata": {},
   "source": [
    "#### Just checking that everything is ok"
   ]
  },
  {
   "cell_type": "code",
   "execution_count": 15,
   "metadata": {},
   "outputs": [
    {
     "data": {
      "text/html": [
       "<table class=\"nested-table\">\n",
       "<tr><th colspan=\"1\" rowspan=\"1\">int</th></tr>\n",
       "<tr><td colspan=\"1\" rowspan=\"1\" class=\"\">2</td></tr>\n",
       "</table>"
      ],
      "text/plain": [
       "<raw_magic.nested_table.NestedTable at 0x7f9258041908>"
      ]
     },
     "execution_count": 15,
     "metadata": {},
     "output_type": "execute_result"
    }
   ],
   "source": [
    "%%query\n",
    "\n",
    "1+1"
   ]
  },
  {
   "cell_type": "code",
   "execution_count": 5,
   "metadata": {},
   "outputs": [
    {
     "name": "stdout",
     "output_type": "stream",
     "text": [
      "API error: S3 credentials already exists\n"
     ]
    }
   ],
   "source": [
    "%buckets_register raw-tutorial"
   ]
  },
  {
   "cell_type": "markdown",
   "metadata": {},
   "source": [
    "## Hierarchical"
   ]
  },
  {
   "cell_type": "code",
   "execution_count": 6,
   "metadata": {},
   "outputs": [
    {
     "data": {
      "text/html": [
       "<table class=\"nested-table\">\n",
       "<tr><th colspan=\"1\" rowspan=\"6\">name</th><th colspan=\"1\" rowspan=\"6\">patient_id</th><th colspan=\"1\" rowspan=\"6\">city</th><th colspan=\"1\" rowspan=\"6\">surname</th><th colspan=\"1\" rowspan=\"6\">country</th><th colspan=\"1\" rowspan=\"6\">gender</th><th colspan=\"1\" rowspan=\"6\">birthDate</th><th colspan=\"8\" rowspan=\"1\">chartBasedData</th><th colspan=\"15\" rowspan=\"1\">patientBasedData</th></tr>\n",
       "<tr><th colspan=\"4\" rowspan=\"1\">nursingReports</th><th colspan=\"4\" rowspan=\"1\">medication</th><th colspan=\"4\" rowspan=\"1\">formData</th><th colspan=\"6\" rowspan=\"1\">diagnosis</th><th colspan=\"5\" rowspan=\"1\">stays</th></tr>\n",
       "<tr><th colspan=\"4\" rowspan=\"1\">item</th><th colspan=\"4\" rowspan=\"1\">item</th><th colspan=\"4\" rowspan=\"1\">item</th><th colspan=\"6\" rowspan=\"1\">item</th><th colspan=\"5\" rowspan=\"1\">item</th></tr>\n",
       "<tr><th colspan=\"1\" rowspan=\"3\">totalMinutes</th><th colspan=\"1\" rowspan=\"3\">nurseCount</th><th colspan=\"1\" rowspan=\"3\">reportDateTime</th><th colspan=\"1\" rowspan=\"3\">minutesPerNurse</th><th colspan=\"1\" rowspan=\"3\">orderDate</th><th colspan=\"1\" rowspan=\"3\">routeOfApplication</th><th colspan=\"1\" rowspan=\"3\">orderer</th><th colspan=\"1\" rowspan=\"3\">medication</th><th colspan=\"1\" rowspan=\"3\">formType</th><th colspan=\"2\" rowspan=\"1\">items</th><th colspan=\"1\" rowspan=\"3\">FormId</th><th colspan=\"1\" rowspan=\"3\">code</th><th colspan=\"1\" rowspan=\"3\">description</th><th colspan=\"1\" rowspan=\"3\">diag_date</th><th colspan=\"1\" rowspan=\"3\">sub_category</th><th colspan=\"1\" rowspan=\"3\">category</th><th colspan=\"1\" rowspan=\"3\">diag_id</th><th colspan=\"1\" rowspan=\"3\">roomNumber</th><th colspan=\"1\" rowspan=\"3\">wardId</th><th colspan=\"1\" rowspan=\"3\">validFrom</th><th colspan=\"1\" rowspan=\"3\">validUntill</th><th colspan=\"1\" rowspan=\"3\">bedNumber</th></tr>\n",
       "<tr><th colspan=\"2\" rowspan=\"1\">item</th></tr>\n",
       "<tr><th colspan=\"1\" rowspan=\"1\">name</th><th colspan=\"1\" rowspan=\"1\">value</th></tr>\n",
       "<tr><td colspan=\"1\" rowspan=\"3\" class=\"\">Josiah</td><td colspan=\"1\" rowspan=\"3\" class=\"\">P00000</td><td colspan=\"1\" rowspan=\"3\" class=\"\">Florence</td><td colspan=\"1\" rowspan=\"3\" class=\"\">Peterson</td><td colspan=\"1\" rowspan=\"3\" class=\"\">Italy</td><td colspan=\"1\" rowspan=\"3\" class=\"\">male</td><td colspan=\"1\" rowspan=\"3\" class=\"\">1980/01/03</td><td colspan=\"1\" rowspan=\"1\" class=\"\">15</td><td colspan=\"1\" rowspan=\"1\" class=\"\">2</td><td colspan=\"1\" rowspan=\"1\" class=\"\">2006/07/22 04:28:00</td><td colspan=\"1\" rowspan=\"1\" class=\"\">7</td><td colspan=\"1\" rowspan=\"1\" class=\"\">2012/10/22 14:45:00</td><td colspan=\"1\" rowspan=\"1\" class=\"\">oral</td><td colspan=\"1\" rowspan=\"1\" class=\"\">Physician</td><td colspan=\"1\" rowspan=\"1\" class=\"\">Crestor 180 mg</td><td colspan=\"1\" rowspan=\"1\" class=\"\">ALLERGIES_FORM</td><td colspan=\"1\" rowspan=\"1\" class=\"\">ALLERGIES_COMMENT</td><td colspan=\"1\" rowspan=\"1\" class=\"\">some warning</td><td colspan=\"1\" rowspan=\"1\" class=\"\">10000</td><td colspan=\"1\" rowspan=\"3\" class=\"\">L27.8</td><td colspan=\"1\" rowspan=\"3\" class=\"\">Dermatitis due to other substances taken internally</td><td colspan=\"1\" rowspan=\"3\" class=\"\">2010/08/26</td><td colspan=\"1\" rowspan=\"3\" class=\"\">Dermatitis and eczema</td><td colspan=\"1\" rowspan=\"3\" class=\"\">Diseases of the skin and subcutaneous tissue</td><td colspan=\"1\" rowspan=\"3\" class=\"\">0</td><td colspan=\"1\" rowspan=\"1\" class=\"\">30</td><td colspan=\"1\" rowspan=\"1\" class=\"\">9716</td><td colspan=\"1\" rowspan=\"1\" class=\"\">2000/02/01</td><td colspan=\"1\" rowspan=\"1\" class=\"\">2000/02/03</td><td colspan=\"1\" rowspan=\"1\" class=\"\">7</td></tr>\n",
       "<tr><td colspan=\"1\" rowspan=\"2\" class=\"\">5</td><td colspan=\"1\" rowspan=\"2\" class=\"\">3</td><td colspan=\"1\" rowspan=\"2\" class=\"\">2011/03/16 06:32:00</td><td colspan=\"1\" rowspan=\"2\" class=\"\">1</td><td colspan=\"1\" rowspan=\"2\" class=\"\">2007/02/27 23:07:00</td><td colspan=\"1\" rowspan=\"2\" class=\"\">oral</td><td colspan=\"1\" rowspan=\"2\" class=\"\">Physician</td><td colspan=\"1\" rowspan=\"2\" class=\"\">Hydrocodone (combined with acetaminophen) 40 mg</td><td colspan=\"1\" rowspan=\"2\" class=\"\">INFECTIOUS_DISEASES_FORM</td><td colspan=\"1\" rowspan=\"2\" class=\"\">Rubella</td><td colspan=\"1\" rowspan=\"2\" class=\"\">true</td><td colspan=\"1\" rowspan=\"2\" class=\"\">10001</td><td colspan=\"1\" rowspan=\"1\" class=\"\">264</td><td colspan=\"1\" rowspan=\"1\" class=\"\">9716</td><td colspan=\"1\" rowspan=\"1\" class=\"\">2012/12/27</td><td colspan=\"1\" rowspan=\"1\" class=\"\">2012/12/28</td><td colspan=\"1\" rowspan=\"1\" class=\"\">1</td></tr>\n",
       "<tr><td colspan=\"1\" rowspan=\"1\" class=\"\">150</td><td colspan=\"1\" rowspan=\"1\" class=\"\">9716</td><td colspan=\"1\" rowspan=\"1\" class=\"\">2003/09/01</td><td colspan=\"1\" rowspan=\"1\" class=\"\">2003/09/03</td><td colspan=\"1\" rowspan=\"1\" class=\"\">2</td></tr>\n",
       "<tr><td colspan=\"1\" rowspan=\"3\" class=\"\">Magdalena</td><td colspan=\"1\" rowspan=\"3\" class=\"\">P00001</td><td colspan=\"1\" rowspan=\"3\" class=\"\">Rome</td><td colspan=\"1\" rowspan=\"3\" class=\"\">Brown</td><td colspan=\"1\" rowspan=\"3\" class=\"\">Italy</td><td colspan=\"1\" rowspan=\"3\" class=\"\">female</td><td colspan=\"1\" rowspan=\"3\" class=\"\">1953/11/10</td><td colspan=\"1\" rowspan=\"1\" class=\"\">15</td><td colspan=\"1\" rowspan=\"1\" class=\"\">2</td><td colspan=\"1\" rowspan=\"1\" class=\"\">2007/07/25 00:03:00</td><td colspan=\"1\" rowspan=\"1\" class=\"\">7</td><td colspan=\"1\" rowspan=\"1\" class=\"\">2002/10/24 16:36:00</td><td colspan=\"1\" rowspan=\"1\" class=\"\">oral</td><td colspan=\"1\" rowspan=\"1\" class=\"\">Physician</td><td colspan=\"1\" rowspan=\"1\" class=\"\">Azithromycin  80 mg</td><td colspan=\"1\" rowspan=\"2\" class=\"\">ALLERGIES_FORM</td><td colspan=\"1\" rowspan=\"1\" class=\"\">ALLERGIES_COMMENT</td><td colspan=\"1\" rowspan=\"1\" class=\"\">some warning</td><td colspan=\"1\" rowspan=\"2\" class=\"\">10002</td><td colspan=\"6\" rowspan=\"3\" class=\"null-value\">null</td><td colspan=\"1\" rowspan=\"3\" class=\"\">153</td><td colspan=\"1\" rowspan=\"3\" class=\"\">9460</td><td colspan=\"1\" rowspan=\"3\" class=\"\">2003/10/19</td><td colspan=\"1\" rowspan=\"3\" class=\"\">2003/10/22</td><td colspan=\"1\" rowspan=\"3\" class=\"\">5</td></tr>\n",
       "<tr><td colspan=\"1\" rowspan=\"2\" class=\"\">5</td><td colspan=\"1\" rowspan=\"2\" class=\"\">1</td><td colspan=\"1\" rowspan=\"2\" class=\"\">2006/08/13 22:18:00</td><td colspan=\"1\" rowspan=\"2\" class=\"\">5</td><td colspan=\"1\" rowspan=\"1\" class=\"\">2011/09/07 02:29:00</td><td colspan=\"1\" rowspan=\"1\" class=\"\">oral</td><td colspan=\"1\" rowspan=\"1\" class=\"\">Physician</td><td colspan=\"1\" rowspan=\"1\" class=\"\">Lisinopril 120 mg</td><td colspan=\"1\" rowspan=\"1\" class=\"\">Sulfonamides</td><td colspan=\"1\" rowspan=\"1\" class=\"\">true</td></tr>\n",
       "<tr><td colspan=\"1\" rowspan=\"1\" class=\"\">2011/06/02 01:42:00</td><td colspan=\"1\" rowspan=\"1\" class=\"\">oral</td><td colspan=\"1\" rowspan=\"1\" class=\"\">Physician</td><td colspan=\"1\" rowspan=\"1\" class=\"\">Nexium 80 mg</td><td colspan=\"1\" rowspan=\"1\" class=\"\">INFECTIOUS_DISEASES_FORM</td><td colspan=\"2\" rowspan=\"1\" class=\"null-value\">null</td><td colspan=\"1\" rowspan=\"1\" class=\"\">10003</td></tr>\n",
       "<tr><td colspan=\"1\" rowspan=\"4\" class=\"\">Agustus</td><td colspan=\"1\" rowspan=\"4\" class=\"\">P00002</td><td colspan=\"1\" rowspan=\"4\" class=\"\">Guimaraes</td><td colspan=\"1\" rowspan=\"4\" class=\"\">Nelson</td><td colspan=\"1\" rowspan=\"4\" class=\"\">Portugal</td><td colspan=\"1\" rowspan=\"4\" class=\"\">male</td><td colspan=\"1\" rowspan=\"4\" class=\"\">1993/11/04</td><td colspan=\"1\" rowspan=\"1\" class=\"\">25</td><td colspan=\"1\" rowspan=\"1\" class=\"\">3</td><td colspan=\"1\" rowspan=\"1\" class=\"\">2010/05/05 20:42:00</td><td colspan=\"1\" rowspan=\"1\" class=\"\">8</td><td colspan=\"1\" rowspan=\"1\" class=\"\">2010/05/26 23:09:00</td><td colspan=\"1\" rowspan=\"1\" class=\"\">oral</td><td colspan=\"1\" rowspan=\"1\" class=\"\">Physician</td><td colspan=\"1\" rowspan=\"1\" class=\"\">Singulair 60 mg</td><td colspan=\"1\" rowspan=\"2\" class=\"\">ALLERGIES_FORM</td><td colspan=\"1\" rowspan=\"1\" class=\"\">ALLERGIES_COMMENT</td><td colspan=\"1\" rowspan=\"1\" class=\"\">some warning</td><td colspan=\"1\" rowspan=\"2\" class=\"\">10004</td><td colspan=\"1\" rowspan=\"4\" class=\"\">L55.8</td><td colspan=\"1\" rowspan=\"4\" class=\"\">Other sunburn</td><td colspan=\"1\" rowspan=\"4\" class=\"\">2012/05/06</td><td colspan=\"1\" rowspan=\"4\" class=\"\">Radiation-related disorders of the skin and subcutaneous tissue</td><td colspan=\"1\" rowspan=\"4\" class=\"\">Diseases of the skin and subcutaneous tissue</td><td colspan=\"1\" rowspan=\"4\" class=\"\">1</td><td colspan=\"1\" rowspan=\"1\" class=\"\">51</td><td colspan=\"1\" rowspan=\"1\" class=\"\">10024</td><td colspan=\"1\" rowspan=\"1\" class=\"\">2006/01/27</td><td colspan=\"1\" rowspan=\"1\" class=\"\">2006/01/30</td><td colspan=\"1\" rowspan=\"1\" class=\"\">8</td></tr>\n",
       "<tr><td colspan=\"1\" rowspan=\"1\" class=\"\">20</td><td colspan=\"1\" rowspan=\"1\" class=\"\">1</td><td colspan=\"1\" rowspan=\"1\" class=\"\">2007/06/18 10:27:00</td><td colspan=\"1\" rowspan=\"1\" class=\"\">20</td><td colspan=\"1\" rowspan=\"2\" class=\"\">2002/12/05 02:18:00</td><td colspan=\"1\" rowspan=\"2\" class=\"\">oral</td><td colspan=\"1\" rowspan=\"2\" class=\"\">Physician</td><td colspan=\"1\" rowspan=\"2\" class=\"\">Seroquel 40 mg</td><td colspan=\"1\" rowspan=\"1\" class=\"\">Penicillin</td><td colspan=\"1\" rowspan=\"1\" class=\"\">true</td><td colspan=\"1\" rowspan=\"3\" class=\"\">287</td><td colspan=\"1\" rowspan=\"3\" class=\"\">10024</td><td colspan=\"1\" rowspan=\"3\" class=\"\">2014/12/16</td><td colspan=\"1\" rowspan=\"3\" class=\"\">2014/12/18</td><td colspan=\"1\" rowspan=\"3\" class=\"\">7</td></tr>\n",
       "<tr><td colspan=\"1\" rowspan=\"2\" class=\"\">5</td><td colspan=\"1\" rowspan=\"2\" class=\"\">3</td><td colspan=\"1\" rowspan=\"2\" class=\"\">2001/10/26 05:16:00</td><td colspan=\"1\" rowspan=\"2\" class=\"\">1</td><td colspan=\"1\" rowspan=\"2\" class=\"\">INFECTIOUS_DISEASES_FORM</td><td colspan=\"1\" rowspan=\"1\" class=\"\">Common cold (Acute viral rhinopharyngitis; Acute coryza)</td><td colspan=\"1\" rowspan=\"1\" class=\"\">true</td><td colspan=\"1\" rowspan=\"2\" class=\"\">10005</td></tr>\n",
       "<tr><td colspan=\"1\" rowspan=\"1\" class=\"\">Staphylococcal food poisoning</td><td colspan=\"1\" rowspan=\"1\" class=\"\">true</td></tr>\n",
       "</table>"
      ],
      "text/plain": [
       "<raw_magic.nested_table.NestedTable at 0x7f92580377b8>"
      ]
     },
     "execution_count": 6,
     "metadata": {},
     "output_type": "execute_result"
    }
   ],
   "source": [
    "%%query\n",
    "\n",
    "select * \n",
    "from read_xml(\"s3://raw-tutorial/ipython-demos/patients.xml\").item \n",
    "limit 3"
   ]
  },
  {
   "cell_type": "code",
   "execution_count": 7,
   "metadata": {},
   "outputs": [
    {
     "data": {
      "text/html": [
       "<table class=\"nested-table\">\n",
       "<tr><th colspan=\"1\" rowspan=\"1\">surname</th><th colspan=\"1\" rowspan=\"1\">nurseMinutes</th></tr>\n",
       "<tr><td colspan=\"1\" rowspan=\"1\" class=\"\">Stewart</td><td colspan=\"1\" rowspan=\"1\" class=\"\">20</td></tr>\n",
       "<tr><td colspan=\"1\" rowspan=\"1\" class=\"\">Butler</td><td colspan=\"1\" rowspan=\"1\" class=\"\">45</td></tr>\n",
       "<tr><td colspan=\"1\" rowspan=\"1\" class=\"\">Moore</td><td colspan=\"1\" rowspan=\"1\" class=\"\">10</td></tr>\n",
       "<tr><td colspan=\"1\" rowspan=\"1\" class=\"\">Walker</td><td colspan=\"1\" rowspan=\"1\" class=\"\">25</td></tr>\n",
       "<tr><td colspan=\"1\" rowspan=\"1\" class=\"\">Nelson</td><td colspan=\"1\" rowspan=\"1\" class=\"\">50</td></tr>\n",
       "<tr><td colspan=\"1\" rowspan=\"1\" class=\"\">Long</td><td colspan=\"1\" rowspan=\"1\" class=\"\">40</td></tr>\n",
       "<tr><td colspan=\"1\" rowspan=\"1\" class=\"\">Baker</td><td colspan=\"1\" rowspan=\"1\" class=\"\">15</td></tr>\n",
       "<tr><td colspan=\"1\" rowspan=\"1\" class=\"\">Adams</td><td colspan=\"1\" rowspan=\"1\" class=\"\">10</td></tr>\n",
       "<tr><td colspan=\"1\" rowspan=\"1\" class=\"\">Parker</td><td colspan=\"1\" rowspan=\"1\" class=\"\">15</td></tr>\n",
       "<tr><td colspan=\"1\" rowspan=\"1\" class=\"\">Kelly</td><td colspan=\"1\" rowspan=\"1\" class=\"\">40</td></tr>\n",
       "</table>"
      ],
      "text/plain": [
       "<raw_magic.nested_table.NestedTable at 0x7f92580960f0>"
      ]
     },
     "execution_count": 7,
     "metadata": {},
     "output_type": "execute_result"
    }
   ],
   "source": [
    "%%query\n",
    " \n",
    "patients := read_xml(\"s3://raw-tutorial/ipython-demos/patients.xml\");\n",
    "\n",
    "SELECT surname, SUM(totalMinutes) AS nurseMinutes\n",
    "FROM patients.item, chartBasedData.nursingReports.item\n",
    "GROUP BY name, surname\n",
    "limit 10"
   ]
  },
  {
   "cell_type": "code",
   "execution_count": 8,
   "metadata": {},
   "outputs": [
    {
     "data": {
      "text/html": [
       "<table class=\"nested-table\">\n",
       "<tr><th colspan=\"1\" rowspan=\"2\">name</th><th colspan=\"1\" rowspan=\"2\">numbers</th><th colspan=\"2\" rowspan=\"1\">data</th></tr>\n",
       "<tr><th colspan=\"1\" rowspan=\"1\">Name</th><th colspan=\"1\" rowspan=\"1\">Country</th></tr>\n",
       "<tr><td colspan=\"1\" rowspan=\"10\" class=\"\">My custom record</td><td colspan=\"1\" rowspan=\"1\" class=\"\">1</td><td colspan=\"1\" rowspan=\"1\" class=\"\">Goroka</td><td colspan=\"1\" rowspan=\"1\" class=\"\">Papua New Guinea</td></tr>\n",
       "<tr><td colspan=\"1\" rowspan=\"1\" class=\"\">2</td><td colspan=\"1\" rowspan=\"1\" class=\"\">Madang</td><td colspan=\"1\" rowspan=\"1\" class=\"\">Papua New Guinea</td></tr>\n",
       "<tr><td colspan=\"1\" rowspan=\"1\" class=\"\">3</td><td colspan=\"1\" rowspan=\"1\" class=\"\">Mount Hagen</td><td colspan=\"1\" rowspan=\"1\" class=\"\">Papua New Guinea</td></tr>\n",
       "<tr><td colspan=\"1\" rowspan=\"7\" class=\"\">4</td><td colspan=\"1\" rowspan=\"1\" class=\"\">Nadzab</td><td colspan=\"1\" rowspan=\"1\" class=\"\">Papua New Guinea</td></tr>\n",
       "<tr><td colspan=\"1\" rowspan=\"1\" class=\"\">Port Moresby Jacksons Intl</td><td colspan=\"1\" rowspan=\"1\" class=\"\">Papua New Guinea</td></tr>\n",
       "<tr><td colspan=\"1\" rowspan=\"1\" class=\"\">Wewak Intl</td><td colspan=\"1\" rowspan=\"1\" class=\"\">Papua New Guinea</td></tr>\n",
       "<tr><td colspan=\"1\" rowspan=\"1\" class=\"\">Narsarsuaq</td><td colspan=\"1\" rowspan=\"1\" class=\"\">Greenland</td></tr>\n",
       "<tr><td colspan=\"1\" rowspan=\"1\" class=\"\">Nuuk</td><td colspan=\"1\" rowspan=\"1\" class=\"\">Greenland</td></tr>\n",
       "<tr><td colspan=\"1\" rowspan=\"1\" class=\"\">Sondre Stromfjord</td><td colspan=\"1\" rowspan=\"1\" class=\"\">Greenland</td></tr>\n",
       "<tr><td colspan=\"1\" rowspan=\"1\" class=\"\">Thule Air Base</td><td colspan=\"1\" rowspan=\"1\" class=\"\">Greenland</td></tr>\n",
       "</table>"
      ],
      "text/plain": [
       "<raw_magic.nested_table.NestedTable at 0x7f92760c5f60>"
      ]
     },
     "execution_count": 8,
     "metadata": {},
     "output_type": "execute_result"
    }
   ],
   "source": [
    "%%query\n",
    "\n",
    "(\n",
    "    name: \"Airports\",\n",
    "    numbers: [1, 2, 3, 4],\n",
    "    data: select Name, Country from read(\"s3://raw-tutorial/airports.csv\") limit 10    \n",
    ")"
   ]
  },
  {
   "cell_type": "markdown",
   "metadata": {},
   "source": [
    "## Declarations, functions and packages"
   ]
  },
  {
   "cell_type": "code",
   "execution_count": 9,
   "metadata": {},
   "outputs": [
    {
     "name": "stdout",
     "output_type": "stream",
     "text": [
      "Package \"custom_pkg\" was replaced\n"
     ]
    }
   ],
   "source": [
    "%%package custom_pkg\n",
    "// My custom package\n",
    "\n",
    "// my custom function inside a package\n",
    "foo(a: int) := {\n",
    "   a+1\n",
    "}\n",
    "\n",
    "// My custom dataset inside a function\n",
    "data := select foo(n) from n in [1, 2, 3, 4];\n",
    "\n",
    "data\n"
   ]
  },
  {
   "cell_type": "code",
   "execution_count": 10,
   "metadata": {},
   "outputs": [
    {
     "data": {
      "text/html": [
       "<table class=\"nested-table\">\n",
       "<tr><th colspan=\"1\" rowspan=\"1\">int</th></tr>\n",
       "<tr><td colspan=\"1\" rowspan=\"1\" class=\"\">2</td></tr>\n",
       "<tr><td colspan=\"1\" rowspan=\"1\" class=\"\">3</td></tr>\n",
       "<tr><td colspan=\"1\" rowspan=\"1\" class=\"\">4</td></tr>\n",
       "<tr><td colspan=\"1\" rowspan=\"1\" class=\"\">5</td></tr>\n",
       "</table>"
      ],
      "text/plain": [
       "<raw_magic.nested_table.NestedTable at 0x7f9258047860>"
      ]
     },
     "execution_count": 10,
     "metadata": {},
     "output_type": "execute_result"
    }
   ],
   "source": [
    "%%query\n",
    "\n",
    "from custom_pkg import data\n",
    "\n",
    "select * from data"
   ]
  },
  {
   "cell_type": "markdown",
   "metadata": {},
   "source": [
    "## Caching"
   ]
  },
  {
   "cell_type": "code",
   "execution_count": 11,
   "metadata": {
    "scrolled": true
   },
   "outputs": [
    {
     "name": "stdout",
     "output_type": "stream",
     "text": [
      "Execution time: 0:00:01.638956\n"
     ]
    },
    {
     "data": {
      "text/html": [
       "<table class=\"nested-table\">\n",
       "<tr><th colspan=\"1\" rowspan=\"1\">Location</th><th colspan=\"1\" rowspan=\"1\">PrintMedia</th><th colspan=\"1\" rowspan=\"1\">SocialMedia</th><th colspan=\"1\" rowspan=\"1\">Radio</th><th colspan=\"1\" rowspan=\"1\">Television</th><th colspan=\"1\" rowspan=\"1\">Total</th></tr>\n",
       "<tr><td colspan=\"1\" rowspan=\"1\" class=\"\">Geneve</td><td colspan=\"1\" rowspan=\"1\" class=\"\">100.0</td><td colspan=\"1\" rowspan=\"1\" class=\"\">50.0</td><td colspan=\"1\" rowspan=\"1\" class=\"\">100.0</td><td colspan=\"1\" rowspan=\"1\" class=\"\">200.0</td><td colspan=\"1\" rowspan=\"1\" class=\"\">450.0</td></tr>\n",
       "<tr><td colspan=\"1\" rowspan=\"1\" class=\"\">Zurich</td><td colspan=\"1\" rowspan=\"1\" class=\"\">101.0</td><td colspan=\"1\" rowspan=\"1\" class=\"\">51.0</td><td colspan=\"1\" rowspan=\"1\" class=\"\">32.0</td><td colspan=\"1\" rowspan=\"1\" class=\"\">201.0</td><td colspan=\"1\" rowspan=\"1\" class=\"\">385.0</td></tr>\n",
       "<tr><td colspan=\"1\" rowspan=\"1\" class=\"\">Basel</td><td colspan=\"1\" rowspan=\"1\" class=\"\">102.0</td><td colspan=\"1\" rowspan=\"1\" class=\"\">52.0</td><td colspan=\"1\" rowspan=\"1\" class=\"\">102.0</td><td colspan=\"1\" rowspan=\"1\" class=\"\">202.0</td><td colspan=\"1\" rowspan=\"1\" class=\"\">458.0</td></tr>\n",
       "<tr><td colspan=\"1\" rowspan=\"1\" class=\"\">Lausanne</td><td colspan=\"1\" rowspan=\"1\" class=\"\">103.0</td><td colspan=\"1\" rowspan=\"1\" class=\"\">53.0</td><td colspan=\"1\" rowspan=\"1\" class=\"\">103.0</td><td colspan=\"1\" rowspan=\"1\" class=\"\">203.0</td><td colspan=\"1\" rowspan=\"1\" class=\"\">462.0</td></tr>\n",
       "<tr><td colspan=\"1\" rowspan=\"1\" class=\"\">Luzern</td><td colspan=\"1\" rowspan=\"1\" class=\"\">104.0</td><td colspan=\"1\" rowspan=\"1\" class=\"\">54.0</td><td colspan=\"1\" rowspan=\"1\" class=\"\">104.0</td><td colspan=\"1\" rowspan=\"1\" class=\"\">204.0</td><td colspan=\"1\" rowspan=\"1\" class=\"\">466.0</td></tr>\n",
       "<tr><td colspan=\"1\" rowspan=\"1\" class=\"\">Fribourg</td><td colspan=\"1\" rowspan=\"1\" class=\"\">105.0</td><td colspan=\"1\" rowspan=\"1\" class=\"\">55.0</td><td colspan=\"1\" rowspan=\"1\" class=\"\">105.0</td><td colspan=\"1\" rowspan=\"1\" class=\"\">205.0</td><td colspan=\"1\" rowspan=\"1\" class=\"\">470.0</td></tr>\n",
       "<tr><td colspan=\"1\" rowspan=\"1\" class=\"\">Neuchatel</td><td colspan=\"1\" rowspan=\"1\" class=\"\">106.0</td><td colspan=\"1\" rowspan=\"1\" class=\"\">56.0</td><td colspan=\"1\" rowspan=\"1\" class=\"\">106.0</td><td colspan=\"1\" rowspan=\"1\" class=\"\">206.0</td><td colspan=\"1\" rowspan=\"1\" class=\"\">474.0</td></tr>\n",
       "<tr><td colspan=\"1\" rowspan=\"1\" class=\"\">Zug</td><td colspan=\"1\" rowspan=\"1\" class=\"\">107.0</td><td colspan=\"1\" rowspan=\"1\" class=\"\">57.0</td><td colspan=\"1\" rowspan=\"1\" class=\"\">107.0</td><td colspan=\"1\" rowspan=\"1\" class=\"\">207.0</td><td colspan=\"1\" rowspan=\"1\" class=\"\">478.0</td></tr>\n",
       "</table>"
      ],
      "text/plain": [
       "<raw_magic.nested_table.NestedTable at 0x7f9258047c88>"
      ]
     },
     "execution_count": 11,
     "metadata": {},
     "output_type": "execute_result"
    }
   ],
   "source": [
    "%%timed_query\n",
    "SELECT *\n",
    "FROM read_excel(\"s3://raw-tutorial/ipython-demos/excel1.xlsx\", cache := interval \"15 second\")"
   ]
  },
  {
   "cell_type": "code",
   "execution_count": 12,
   "metadata": {},
   "outputs": [
    {
     "name": "stdout",
     "output_type": "stream",
     "text": [
      "Execution time: 0:00:00.091300\n"
     ]
    },
    {
     "data": {
      "text/html": [
       "<table class=\"nested-table\">\n",
       "<tr><th colspan=\"1\" rowspan=\"1\">Location</th><th colspan=\"1\" rowspan=\"1\">PrintMedia</th><th colspan=\"1\" rowspan=\"1\">SocialMedia</th><th colspan=\"1\" rowspan=\"1\">Radio</th><th colspan=\"1\" rowspan=\"1\">Television</th><th colspan=\"1\" rowspan=\"1\">Total</th></tr>\n",
       "<tr><td colspan=\"1\" rowspan=\"1\" class=\"\">Geneve</td><td colspan=\"1\" rowspan=\"1\" class=\"\">100.0</td><td colspan=\"1\" rowspan=\"1\" class=\"\">50.0</td><td colspan=\"1\" rowspan=\"1\" class=\"\">100.0</td><td colspan=\"1\" rowspan=\"1\" class=\"\">200.0</td><td colspan=\"1\" rowspan=\"1\" class=\"\">450.0</td></tr>\n",
       "<tr><td colspan=\"1\" rowspan=\"1\" class=\"\">Zurich</td><td colspan=\"1\" rowspan=\"1\" class=\"\">101.0</td><td colspan=\"1\" rowspan=\"1\" class=\"\">51.0</td><td colspan=\"1\" rowspan=\"1\" class=\"\">32.0</td><td colspan=\"1\" rowspan=\"1\" class=\"\">201.0</td><td colspan=\"1\" rowspan=\"1\" class=\"\">385.0</td></tr>\n",
       "<tr><td colspan=\"1\" rowspan=\"1\" class=\"\">Basel</td><td colspan=\"1\" rowspan=\"1\" class=\"\">102.0</td><td colspan=\"1\" rowspan=\"1\" class=\"\">52.0</td><td colspan=\"1\" rowspan=\"1\" class=\"\">102.0</td><td colspan=\"1\" rowspan=\"1\" class=\"\">202.0</td><td colspan=\"1\" rowspan=\"1\" class=\"\">458.0</td></tr>\n",
       "<tr><td colspan=\"1\" rowspan=\"1\" class=\"\">Lausanne</td><td colspan=\"1\" rowspan=\"1\" class=\"\">103.0</td><td colspan=\"1\" rowspan=\"1\" class=\"\">53.0</td><td colspan=\"1\" rowspan=\"1\" class=\"\">103.0</td><td colspan=\"1\" rowspan=\"1\" class=\"\">203.0</td><td colspan=\"1\" rowspan=\"1\" class=\"\">462.0</td></tr>\n",
       "<tr><td colspan=\"1\" rowspan=\"1\" class=\"\">Luzern</td><td colspan=\"1\" rowspan=\"1\" class=\"\">104.0</td><td colspan=\"1\" rowspan=\"1\" class=\"\">54.0</td><td colspan=\"1\" rowspan=\"1\" class=\"\">104.0</td><td colspan=\"1\" rowspan=\"1\" class=\"\">204.0</td><td colspan=\"1\" rowspan=\"1\" class=\"\">466.0</td></tr>\n",
       "<tr><td colspan=\"1\" rowspan=\"1\" class=\"\">Fribourg</td><td colspan=\"1\" rowspan=\"1\" class=\"\">105.0</td><td colspan=\"1\" rowspan=\"1\" class=\"\">55.0</td><td colspan=\"1\" rowspan=\"1\" class=\"\">105.0</td><td colspan=\"1\" rowspan=\"1\" class=\"\">205.0</td><td colspan=\"1\" rowspan=\"1\" class=\"\">470.0</td></tr>\n",
       "<tr><td colspan=\"1\" rowspan=\"1\" class=\"\">Neuchatel</td><td colspan=\"1\" rowspan=\"1\" class=\"\">106.0</td><td colspan=\"1\" rowspan=\"1\" class=\"\">56.0</td><td colspan=\"1\" rowspan=\"1\" class=\"\">106.0</td><td colspan=\"1\" rowspan=\"1\" class=\"\">206.0</td><td colspan=\"1\" rowspan=\"1\" class=\"\">474.0</td></tr>\n",
       "<tr><td colspan=\"1\" rowspan=\"1\" class=\"\">Zug</td><td colspan=\"1\" rowspan=\"1\" class=\"\">107.0</td><td colspan=\"1\" rowspan=\"1\" class=\"\">57.0</td><td colspan=\"1\" rowspan=\"1\" class=\"\">107.0</td><td colspan=\"1\" rowspan=\"1\" class=\"\">207.0</td><td colspan=\"1\" rowspan=\"1\" class=\"\">478.0</td></tr>\n",
       "</table>"
      ],
      "text/plain": [
       "<raw_magic.nested_table.NestedTable at 0x7f92580524e0>"
      ]
     },
     "execution_count": 12,
     "metadata": {},
     "output_type": "execute_result"
    }
   ],
   "source": [
    "%%timed_query\n",
    "SELECT *\n",
    "FROM read_excel(\"s3://raw-tutorial/ipython-demos/excel1.xlsx\", cache := interval \"15 second\")"
   ]
  },
  {
   "cell_type": "markdown",
   "metadata": {},
   "source": [
    "## Schema inference"
   ]
  },
  {
   "cell_type": "code",
   "execution_count": 13,
   "metadata": {},
   "outputs": [
    {
     "data": {
      "text/html": [
       "<table class=\"nested-table\">\n",
       "<tr><th colspan=\"1\" rowspan=\"2\">format</th><th colspan=\"1\" rowspan=\"2\">comment</th><th colspan=\"1\" rowspan=\"2\">type</th><th colspan=\"2\" rowspan=\"1\">properties</th><th colspan=\"1\" rowspan=\"2\">is_collection</th><th colspan=\"3\" rowspan=\"1\">columns</th></tr>\n",
       "<tr><th colspan=\"1\" rowspan=\"1\">name</th><th colspan=\"1\" rowspan=\"1\">value</th><th colspan=\"1\" rowspan=\"1\">col_name</th><th colspan=\"1\" rowspan=\"1\">col_type</th><th colspan=\"1\" rowspan=\"1\">nullable</th></tr>\n",
       "<tr><td colspan=\"1\" rowspan=\"12\" class=\"\">csv</td><td colspan=\"1\" rowspan=\"12\" class=\"\">encoding utf-8 (confidence: 100%)</td><td colspan=\"1\" rowspan=\"12\" class=\"\">collection(record(`AirportID`: int,`Name`: string,`City`: string,`Country`: string,`IATA_FAA`: string,`ICAO`: string,`Latitude`: double,`Longitude`: double,`Altitude`: int,`Timezone`: double,`DST`: string,`TZ`: string))</td><td colspan=\"1\" rowspan=\"1\" class=\"\">has_header</td><td colspan=\"1\" rowspan=\"1\" class=\"\">true</td><td colspan=\"1\" rowspan=\"12\" class=\"\">True</td><td colspan=\"1\" rowspan=\"1\" class=\"\">AirportID</td><td colspan=\"1\" rowspan=\"1\" class=\"\">int</td><td colspan=\"1\" rowspan=\"1\" class=\"\">False</td></tr>\n",
       "<tr><td colspan=\"1\" rowspan=\"1\" class=\"\">nans</td><td colspan=\"1\" rowspan=\"1\" class=\"\">[]</td><td colspan=\"1\" rowspan=\"1\" class=\"\">Name</td><td colspan=\"1\" rowspan=\"1\" class=\"\">string</td><td colspan=\"1\" rowspan=\"1\" class=\"\">False</td></tr>\n",
       "<tr><td colspan=\"1\" rowspan=\"1\" class=\"\">multiLine_fields</td><td colspan=\"1\" rowspan=\"1\" class=\"\">false</td><td colspan=\"1\" rowspan=\"1\" class=\"\">City</td><td colspan=\"1\" rowspan=\"1\" class=\"\">string</td><td colspan=\"1\" rowspan=\"1\" class=\"\">False</td></tr>\n",
       "<tr><td colspan=\"1\" rowspan=\"1\" class=\"\">skip</td><td colspan=\"1\" rowspan=\"1\" class=\"\">1</td><td colspan=\"1\" rowspan=\"1\" class=\"\">Country</td><td colspan=\"1\" rowspan=\"1\" class=\"\">string</td><td colspan=\"1\" rowspan=\"1\" class=\"\">False</td></tr>\n",
       "<tr><td colspan=\"1\" rowspan=\"1\" class=\"\">nulls</td><td colspan=\"1\" rowspan=\"1\" class=\"\">[&quot;&quot;]</td><td colspan=\"1\" rowspan=\"1\" class=\"\">IATA_FAA</td><td colspan=\"1\" rowspan=\"1\" class=\"\">string</td><td colspan=\"1\" rowspan=\"1\" class=\"\">False</td></tr>\n",
       "<tr><td colspan=\"1\" rowspan=\"1\" class=\"\">quote</td><td colspan=\"1\" rowspan=\"1\" class=\"\">&quot;</td><td colspan=\"1\" rowspan=\"1\" class=\"\">ICAO</td><td colspan=\"1\" rowspan=\"1\" class=\"\">string</td><td colspan=\"1\" rowspan=\"1\" class=\"\">False</td></tr>\n",
       "<tr><td colspan=\"1\" rowspan=\"1\" class=\"\">escape</td><td colspan=\"1\" rowspan=\"1\" class=\"\">\\</td><td colspan=\"1\" rowspan=\"1\" class=\"\">Latitude</td><td colspan=\"1\" rowspan=\"1\" class=\"\">double</td><td colspan=\"1\" rowspan=\"1\" class=\"\">False</td></tr>\n",
       "<tr><td colspan=\"1\" rowspan=\"5\" class=\"\">delimiter</td><td colspan=\"1\" rowspan=\"5\" class=\"\">,</td><td colspan=\"1\" rowspan=\"1\" class=\"\">Longitude</td><td colspan=\"1\" rowspan=\"1\" class=\"\">double</td><td colspan=\"1\" rowspan=\"1\" class=\"\">False</td></tr>\n",
       "<tr><td colspan=\"1\" rowspan=\"1\" class=\"\">Altitude</td><td colspan=\"1\" rowspan=\"1\" class=\"\">int</td><td colspan=\"1\" rowspan=\"1\" class=\"\">False</td></tr>\n",
       "<tr><td colspan=\"1\" rowspan=\"1\" class=\"\">Timezone</td><td colspan=\"1\" rowspan=\"1\" class=\"\">double</td><td colspan=\"1\" rowspan=\"1\" class=\"\">False</td></tr>\n",
       "<tr><td colspan=\"1\" rowspan=\"1\" class=\"\">DST</td><td colspan=\"1\" rowspan=\"1\" class=\"\">string</td><td colspan=\"1\" rowspan=\"1\" class=\"\">False</td></tr>\n",
       "<tr><td colspan=\"1\" rowspan=\"1\" class=\"\">TZ</td><td colspan=\"1\" rowspan=\"1\" class=\"\">string</td><td colspan=\"1\" rowspan=\"1\" class=\"\">False</td></tr>\n",
       "</table>"
      ],
      "text/plain": [
       "<raw_magic.nested_table.NestedTable at 0x7f92580529e8>"
      ]
     },
     "execution_count": 13,
     "metadata": {},
     "output_type": "execute_result"
    }
   ],
   "source": [
    "%%query \n",
    "describe(\"s3://raw-tutorial/airports.csv\")"
   ]
  },
  {
   "cell_type": "markdown",
   "metadata": {},
   "source": [
    "#### Also works with databases"
   ]
  },
  {
   "cell_type": "code",
   "execution_count": 14,
   "metadata": {},
   "outputs": [
    {
     "data": {
      "text/html": [
       "<table class=\"nested-table\">\n",
       "<tr><th colspan=\"1\" rowspan=\"2\">format</th><th colspan=\"1\" rowspan=\"2\">comment</th><th colspan=\"1\" rowspan=\"2\">type</th><th colspan=\"2\" rowspan=\"1\">properties</th><th colspan=\"1\" rowspan=\"2\">is_collection</th><th colspan=\"3\" rowspan=\"1\">columns</th></tr>\n",
       "<tr><th colspan=\"1\" rowspan=\"1\">name</th><th colspan=\"1\" rowspan=\"1\">value</th><th colspan=\"1\" rowspan=\"1\">col_name</th><th colspan=\"1\" rowspan=\"1\">col_type</th><th colspan=\"1\" rowspan=\"1\">nullable</th></tr>\n",
       "<tr><td colspan=\"1\" rowspan=\"7\" class=\"\">relational table</td><td colspan=\"1\" rowspan=\"7\" class=\"\"></td><td colspan=\"1\" rowspan=\"7\" class=\"\">collection(record(`ID`: int nullable,`NAME`: string nullable,`DESCRIPTION`: string nullable,`ADDRESS`: string nullable,`TIMEZONE`: string nullable,`LATITUDE`: decimal nullable,`LONGITUDE`: decimal nullable))</td><td colspan=\"2\" rowspan=\"7\" class=\"empty-value\">empty</td><td colspan=\"1\" rowspan=\"7\" class=\"\">True</td><td colspan=\"1\" rowspan=\"1\" class=\"\">ID</td><td colspan=\"1\" rowspan=\"1\" class=\"\">int</td><td colspan=\"1\" rowspan=\"1\" class=\"\">True</td></tr>\n",
       "<tr><td colspan=\"1\" rowspan=\"1\" class=\"\">NAME</td><td colspan=\"1\" rowspan=\"1\" class=\"\">string</td><td colspan=\"1\" rowspan=\"1\" class=\"\">True</td></tr>\n",
       "<tr><td colspan=\"1\" rowspan=\"1\" class=\"\">DESCRIPTION</td><td colspan=\"1\" rowspan=\"1\" class=\"\">string</td><td colspan=\"1\" rowspan=\"1\" class=\"\">True</td></tr>\n",
       "<tr><td colspan=\"1\" rowspan=\"1\" class=\"\">ADDRESS</td><td colspan=\"1\" rowspan=\"1\" class=\"\">string</td><td colspan=\"1\" rowspan=\"1\" class=\"\">True</td></tr>\n",
       "<tr><td colspan=\"1\" rowspan=\"1\" class=\"\">TIMEZONE</td><td colspan=\"1\" rowspan=\"1\" class=\"\">string</td><td colspan=\"1\" rowspan=\"1\" class=\"\">True</td></tr>\n",
       "<tr><td colspan=\"1\" rowspan=\"1\" class=\"\">LATITUDE</td><td colspan=\"1\" rowspan=\"1\" class=\"\">decimal</td><td colspan=\"1\" rowspan=\"1\" class=\"\">True</td></tr>\n",
       "<tr><td colspan=\"1\" rowspan=\"1\" class=\"\">LONGITUDE</td><td colspan=\"1\" rowspan=\"1\" class=\"\">decimal</td><td colspan=\"1\" rowspan=\"1\" class=\"\">True</td></tr>\n",
       "</table>"
      ],
      "text/plain": [
       "<raw_magic.nested_table.NestedTable at 0x7f9258052518>"
      ]
     },
     "execution_count": 14,
     "metadata": {},
     "output_type": "execute_result"
    }
   ],
   "source": [
    "%%query\n",
    "describe(\"oracle://demo_oracle/rawdemo/datacenters\")"
   ]
  },
  {
   "cell_type": "code",
   "execution_count": null,
   "metadata": {},
   "outputs": [],
   "source": []
  }
 ],
 "metadata": {
  "kernelspec": {
   "display_name": "Python 3",
   "language": "python",
   "name": "python3"
  },
  "language_info": {
   "codemirror_mode": {
    "name": "ipython",
    "version": 3
   },
   "file_extension": ".py",
   "mimetype": "text/x-python",
   "name": "python",
   "nbconvert_exporter": "python",
   "pygments_lexer": "ipython3",
   "version": "3.8.5"
  }
 },
 "nbformat": 4,
 "nbformat_minor": 2
}
