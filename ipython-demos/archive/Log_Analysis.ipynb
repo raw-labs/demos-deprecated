{
 "cells": [
  {
   "cell_type": "code",
   "execution_count": 1,
   "metadata": {},
   "outputs": [],
   "source": [
    "%load_ext raw_magic"
   ]
  },
  {
   "cell_type": "markdown",
   "metadata": {},
   "source": [
    "# Parsing log files\n",
    "\n",
    "The log file `log_example.log` is obtained from an HTTP server. "
   ]
  },
  {
   "cell_type": "code",
   "execution_count": 2,
   "metadata": {},
   "outputs": [
    {
     "name": "stdout",
     "output_type": "stream",
     "text": [
      "API error: S3 credentials already exists\n"
     ]
    }
   ],
   "source": [
    "%buckets_register raw-tutorial"
   ]
  },
  {
   "cell_type": "code",
   "execution_count": 3,
   "metadata": {},
   "outputs": [
    {
     "name": "stdout",
     "output_type": "stream",
     "text": [
      "Showing only 100 values...\n"
     ]
    },
    {
     "data": {
      "text/html": [
       "<table class=\"nested-table\">\n",
       "<tr><th colspan=\"1\" rowspan=\"1\">string</th></tr>\n",
       "<tr><td colspan=\"1\" rowspan=\"1\" class=\"\">199.72.81.55 - [01/Jul/2015:00:00:01 -0400] &quot;GET /history/apollo/ HTTP/1.0&quot; 200 6245</td></tr>\n",
       "<tr><td colspan=\"1\" rowspan=\"1\" class=\"\">unicomp6.unicomp.net - [01/Jul/2015:00:00:06 -0400] &quot;GET /shuttle/countdown/ HTTP/1.0&quot; 200 3985</td></tr>\n",
       "<tr><td colspan=\"1\" rowspan=\"1\" class=\"\">199.120.110.21 - [01/Jul/2015:00:00:09 -0400] &quot;GET /shuttle/missions/sts-73/mission-sts-73.html HTTP/1.0&quot; 200 4085</td></tr>\n",
       "<tr><td colspan=\"1\" rowspan=\"1\" class=\"\">burger.letters.com - [01/Jul/2015:00:00:11 -0400] &quot;GET /shuttle/countdown/liftoff.html HTTP/1.0&quot; 304 0</td></tr>\n",
       "<tr><td colspan=\"1\" rowspan=\"1\" class=\"\">199.120.110.21 - [01/Jul/2015:00:00:11 -0400] &quot;GET /shuttle/missions/sts-73/sts-73-patch-small.gif HTTP/1.0&quot; 200 4179</td></tr>\n",
       "<tr><td colspan=\"1\" rowspan=\"1\" class=\"\">burger.letters.com - [01/Jul/2015:00:00:12 -0400] &quot;GET /images/NASA-logosmall.gif HTTP/1.0&quot; 304 0</td></tr>\n",
       "<tr><td colspan=\"1\" rowspan=\"1\" class=\"\">burger.letters.com - [01/Jul/2015:00:00:12 -0400] &quot;GET /shuttle/countdown/video/livevideo.gif HTTP/1.0&quot; 200 0</td></tr>\n",
       "<tr><td colspan=\"1\" rowspan=\"1\" class=\"\">205.212.115.106 - [01/Jul/2015:00:00:12 -0400] &quot;GET /shuttle/countdown/countdown.html HTTP/1.0&quot; 200 3985</td></tr>\n",
       "<tr><td colspan=\"1\" rowspan=\"1\" class=\"\">d104.aa.net - [01/Jul/2015:00:00:13 -0400] &quot;GET /shuttle/countdown/ HTTP/1.0&quot; 200 3985</td></tr>\n",
       "<tr><td colspan=\"1\" rowspan=\"1\" class=\"\">129.94.144.152 - [01/Jul/2015:00:00:13 -0400] &quot;GET / HTTP/1.0&quot; 200 7074</td></tr>\n",
       "<tr><td colspan=\"1\" rowspan=\"1\" class=\"\">unicomp6.unicomp.net - [01/Jul/2015:00:00:14 -0400] &quot;GET /shuttle/countdown/count.gif HTTP/1.0&quot; 200 40310</td></tr>\n",
       "<tr><td colspan=\"1\" rowspan=\"1\" class=\"\">unicomp6.unicomp.net - [01/Jul/2015:00:00:14 -0400] &quot;GET /images/NASA-logosmall.gif HTTP/1.0&quot; 200 786</td></tr>\n",
       "<tr><td colspan=\"1\" rowspan=\"1\" class=\"\">unicomp6.unicomp.net - [01/Jul/2015:00:00:14 -0400] &quot;GET /images/KSC-logosmall.gif HTTP/1.0&quot; 200 1204</td></tr>\n",
       "<tr><td colspan=\"1\" rowspan=\"1\" class=\"\">d104.aa.net - [01/Jul/2015:00:00:15 -0400] &quot;GET /shuttle/countdown/count.gif HTTP/1.0&quot; 200 40310</td></tr>\n",
       "<tr><td colspan=\"1\" rowspan=\"1\" class=\"\">d104.aa.net - [01/Jul/2015:00:00:15 -0400] &quot;GET /images/NASA-logosmall.gif HTTP/1.0&quot; 200 786</td></tr>\n",
       "<tr><td colspan=\"1\" rowspan=\"1\" class=\"\">d104.aa.net - [01/Jul/2015:00:00:15 -0400] &quot;GET /images/KSC-logosmall.gif HTTP/1.0&quot; 200 1204</td></tr>\n",
       "<tr><td colspan=\"1\" rowspan=\"1\" class=\"\">129.94.144.152 - [01/Jul/2015:00:00:17 -0400] &quot;GET /images/ksclogo-medium.gif HTTP/1.0&quot; 304 0</td></tr>\n",
       "<tr><td colspan=\"1\" rowspan=\"1\" class=\"\">199.120.110.21 - [01/Jul/2015:00:00:17 -0400] &quot;GET /images/launch-logo.gif HTTP/1.0&quot; 200 1713</td></tr>\n",
       "<tr><td colspan=\"1\" rowspan=\"1\" class=\"\">ppptky391.asahi-net.or.jp - [01/Jul/2015:00:00:18 -0400] &quot;GET /facts/about_ksc.html HTTP/1.0&quot; 200 3977</td></tr>\n",
       "<tr><td colspan=\"1\" rowspan=\"1\" class=\"\">net-1-141.eden.com - [01/Jul/2015:00:00:19 -0400] &quot;GET /shuttle/missions/sts-71/images/KSC-95EC-0916.jpg HTTP/1.0&quot; 200 34029</td></tr>\n",
       "<tr><td colspan=\"1\" rowspan=\"1\" class=\"\">ppptky391.asahi-net.or.jp - [01/Jul/2015:00:00:19 -0400] &quot;GET /images/launchpalms-small.gif HTTP/1.0&quot; 200 11473</td></tr>\n",
       "<tr><td colspan=\"1\" rowspan=\"1\" class=\"\">205.189.154.54 - [01/Jul/2015:00:00:24 -0400] &quot;GET /shuttle/countdown/ HTTP/1.0&quot; 200 3985</td></tr>\n",
       "<tr><td colspan=\"1\" rowspan=\"1\" class=\"\">waters-gw.starway.net.au - [01/Jul/2015:00:00:25 -0400] &quot;GET /shuttle/missions/51-l/mission-51-l.html HTTP/1.0&quot; 200 6723</td></tr>\n",
       "<tr><td colspan=\"1\" rowspan=\"1\" class=\"\">ppp-mia-30.shadow.net - [01/Jul/2015:00:00:27 -0400] &quot;GET / HTTP/1.0&quot; 200 7074</td></tr>\n",
       "<tr><td colspan=\"1\" rowspan=\"1\" class=\"\">205.189.154.54 - [01/Jul/2015:00:00:29 -0400] &quot;GET /shuttle/countdown/count.gif HTTP/1.0&quot; 200 40310</td></tr>\n",
       "<tr><td colspan=\"1\" rowspan=\"1\" class=\"\">alyssa.prodigy.com - [01/Jul/2015:00:00:33 -0400] &quot;GET /shuttle/missions/sts-71/sts-71-patch-small.gif HTTP/1.0&quot; 200 12054</td></tr>\n",
       "<tr><td colspan=\"1\" rowspan=\"1\" class=\"\">ppp-mia-30.shadow.net - [01/Jul/2015:00:00:35 -0400] &quot;GET /images/ksclogo-medium.gif HTTP/1.0&quot; 200 5866</td></tr>\n",
       "<tr><td colspan=\"1\" rowspan=\"1\" class=\"\">dial22.lloyd.com - [01/Jul/2015:00:00:37 -0400] &quot;GET /shuttle/missions/sts-71/images/KSC-95EC-0613.jpg HTTP/1.0&quot; 200 61716</td></tr>\n",
       "<tr><td colspan=\"1\" rowspan=\"1\" class=\"\">smyth-pc.moorecap.com - [01/Jul/2015:00:00:38 -0400] &quot;GET /history/apollo/apollo-13/images/70HC314.GIF HTTP/1.0&quot; 200 101267</td></tr>\n",
       "<tr><td colspan=\"1\" rowspan=\"1\" class=\"\">205.189.154.54 - [01/Jul/2015:00:00:40 -0400] &quot;GET /images/NASA-logosmall.gif HTTP/1.0&quot; 200 786</td></tr>\n",
       "<tr><td colspan=\"1\" rowspan=\"1\" class=\"\">ix-orl2-01.ix.netcom.com - [01/Jul/2015:00:00:41 -0400] &quot;GET /shuttle/countdown/ HTTP/1.0&quot; 200 3985</td></tr>\n",
       "<tr><td colspan=\"1\" rowspan=\"1\" class=\"\">ppp-mia-30.shadow.net - [01/Jul/2015:00:00:41 -0400] &quot;GET /images/NASA-logosmall.gif HTTP/1.0&quot; 200 786</td></tr>\n",
       "<tr><td colspan=\"1\" rowspan=\"1\" class=\"\">ppp-mia-30.shadow.net - [01/Jul/2015:00:00:41 -0400] &quot;GET /images/MOSAIC-logosmall.gif HTTP/1.0&quot; 200 363</td></tr>\n",
       "<tr><td colspan=\"1\" rowspan=\"1\" class=\"\">205.189.154.54 - [01/Jul/2015:00:00:41 -0400] &quot;GET /images/KSC-logosmall.gif HTTP/1.0&quot; 200 1204</td></tr>\n",
       "<tr><td colspan=\"1\" rowspan=\"1\" class=\"\">ppp-mia-30.shadow.net - [01/Jul/2015:00:00:41 -0400] &quot;GET /images/USA-logosmall.gif HTTP/1.0&quot; 200 234</td></tr>\n",
       "<tr><td colspan=\"1\" rowspan=\"1\" class=\"\">ppp-mia-30.shadow.net - [01/Jul/2015:00:00:43 -0400] &quot;GET /images/WORLD-logosmall.gif HTTP/1.0&quot; 200 669</td></tr>\n",
       "<tr><td colspan=\"1\" rowspan=\"1\" class=\"\">ix-orl2-01.ix.netcom.com - [01/Jul/2015:00:00:44 -0400] &quot;GET /shuttle/countdown/count.gif HTTP/1.0&quot; 200 40310</td></tr>\n",
       "<tr><td colspan=\"1\" rowspan=\"1\" class=\"\">gayle-gaston.tenet.edu - [01/Jul/2015:00:00:50 -0400] &quot;GET /shuttle/missions/sts-71/mission-sts-71.html HTTP/1.0&quot; 200 12040</td></tr>\n",
       "<tr><td colspan=\"1\" rowspan=\"1\" class=\"\">piweba3y.prodigy.com - [01/Jul/2015:00:00:54 -0400] &quot;GET /shuttle/missions/sts-71/sts-71-patch-small.gif HTTP/1.0&quot; 200 12054</td></tr>\n",
       "<tr><td colspan=\"1\" rowspan=\"1\" class=\"\">scheyer.clark.net - [01/Jul/2015:00:00:58 -0400] &quot;GET /shuttle/missions/sts-71/movies/sts-71-mir-dock-2.mpg HTTP/1.0&quot; 200 49152</td></tr>\n",
       "<tr><td colspan=\"1\" rowspan=\"1\" class=\"\">ppp-nyc-3-1.ios.com - [01/Jul/2015:00:00:59 -0400] &quot;GET /shuttle/missions/sts-71/images/KSC-95EC-0882.jpg HTTP/1.0&quot; 200 77163</td></tr>\n",
       "<tr><td colspan=\"1\" rowspan=\"1\" class=\"\">199.72.81.55 - [01/Jul/2015:00:00:59 -0400] &quot;GET /history/ HTTP/1.0&quot; 200 1382</td></tr>\n",
       "<tr><td colspan=\"1\" rowspan=\"1\" class=\"\">port26.annex2.nwlink.com - [01/Jul/2015:00:01:02 -0400] &quot;GET /software/winvn/winvn.html HTTP/1.0&quot; 200 9867</td></tr>\n",
       "<tr><td colspan=\"1\" rowspan=\"1\" class=\"\">port26.annex2.nwlink.com - [01/Jul/2015:00:01:04 -0400] &quot;GET /software/winvn/winvn.gif HTTP/1.0&quot; 200 25218</td></tr>\n",
       "<tr><td colspan=\"1\" rowspan=\"1\" class=\"\">port26.annex2.nwlink.com - [01/Jul/2015:00:01:04 -0400] &quot;GET /images/construct.gif HTTP/1.0&quot; 200 1414</td></tr>\n",
       "<tr><td colspan=\"1\" rowspan=\"1\" class=\"\">port26.annex2.nwlink.com - [01/Jul/2015:00:01:04 -0400] &quot;GET /software/winvn/bluemarb.gif HTTP/1.0&quot; 200 4441</td></tr>\n",
       "<tr><td colspan=\"1\" rowspan=\"1\" class=\"\">dd14-012.compuserve.com - [01/Jul/2015:00:01:05 -0400] &quot;GET /shuttle/technology/images/srb_16-small.gif HTTP/1.0&quot; 200 42732</td></tr>\n",
       "<tr><td colspan=\"1\" rowspan=\"1\" class=\"\">205.189.154.54 - [01/Jul/2015:00:01:06 -0400] &quot;GET /cgi-bin/imagemap/countdown?99,176 HTTP/1.0&quot; 302 110</td></tr>\n",
       "<tr><td colspan=\"1\" rowspan=\"1\" class=\"\">205.189.154.54 - [01/Jul/2015:00:01:08 -0400] &quot;GET /shuttle/missions/sts-71/images/images.html HTTP/1.0&quot; 200 7634</td></tr>\n",
       "<tr><td colspan=\"1\" rowspan=\"1\" class=\"\">www-a1.proxy.aol.com - [01/Jul/2015:00:01:09 -0400] &quot;GET /shuttle/countdown/ HTTP/1.0&quot; 200 3985</td></tr>\n",
       "<tr><td colspan=\"1\" rowspan=\"1\" class=\"\">205.212.115.106 - [01/Jul/2015:00:01:13 -0400] &quot;GET /shuttle/missions/sts-71/images/images.html HTTP/1.0&quot; 200 7634</td></tr>\n",
       "<tr><td colspan=\"1\" rowspan=\"1\" class=\"\">piweba3y.prodigy.com - [01/Jul/2015:00:01:14 -0400] &quot;GET /shuttle/technology/images/srb_mod_compare_3-small.gif HTTP/1.0&quot; 200 55666</td></tr>\n",
       "<tr><td colspan=\"1\" rowspan=\"1\" class=\"\">remote27.compusmart.ab.ca - [01/Jul/2015:00:01:14 -0400] &quot;GET /shuttle/missions/sts-71/sts-71-patch-small.gif HTTP/1.0&quot; 200 12054</td></tr>\n",
       "<tr><td colspan=\"1\" rowspan=\"1\" class=\"\">port26.annex2.nwlink.com - [01/Jul/2015:00:01:17 -0400] &quot;GET /software/winvn/wvsmall.gif HTTP/1.0&quot; 200 13372</td></tr>\n",
       "<tr><td colspan=\"1\" rowspan=\"1\" class=\"\">ix-orl2-01.ix.netcom.com - [01/Jul/2015:00:01:18 -0400] &quot;GET /images/KSC-logosmall.gif HTTP/1.0&quot; 200 1204</td></tr>\n",
       "<tr><td colspan=\"1\" rowspan=\"1\" class=\"\">smyth-pc.moorecap.com - [01/Jul/2015:00:01:19 -0400] &quot;GET /history/apollo/images/footprint-small.gif HTTP/1.0&quot; 200 18149</td></tr>\n",
       "<tr><td colspan=\"1\" rowspan=\"1\" class=\"\">205.189.154.54 - [01/Jul/2015:00:01:19 -0400] &quot;GET /shuttle/missions/sts-71/images/KSC-95EC-0423.txt HTTP/1.0&quot; 200 1224</td></tr>\n",
       "<tr><td colspan=\"1\" rowspan=\"1\" class=\"\">www-b4.proxy.aol.com - [01/Jul/2015:00:01:21 -0400] &quot;GET /shuttle/countdown/video/livevideo.gif HTTP/1.0&quot; 200 70712</td></tr>\n",
       "<tr><td colspan=\"1\" rowspan=\"1\" class=\"\">smyth-pc.moorecap.com - [01/Jul/2015:00:01:24 -0400] &quot;GET /history/apollo/apollo-spacecraft.txt HTTP/1.0&quot; 200 2261</td></tr>\n",
       "<tr><td colspan=\"1\" rowspan=\"1\" class=\"\">slip1.yab.com - [01/Jul/2015:00:01:26 -0400] &quot;GET /shuttle/resources/orbiters/endeavour.html HTTP/1.0&quot; 200 6168</td></tr>\n",
       "<tr><td colspan=\"1\" rowspan=\"1\" class=\"\">link097.txdirect.net - [01/Jul/2015:00:01:26 -0400] &quot;GET /shuttle/missions/missions.html HTTP/1.0&quot; 200 8677</td></tr>\n",
       "<tr><td colspan=\"1\" rowspan=\"1\" class=\"\">port26.annex2.nwlink.com - [01/Jul/2015:00:01:27 -0400] &quot;GET /images/KSC-logosmall.gif HTTP/1.0&quot; 200 1204</td></tr>\n",
       "<tr><td colspan=\"1\" rowspan=\"1\" class=\"\">port26.annex2.nwlink.com - [01/Jul/2015:00:01:27 -0400] &quot;GET /images/MOSAIC-logosmall.gif HTTP/1.0&quot; 200 363</td></tr>\n",
       "<tr><td colspan=\"1\" rowspan=\"1\" class=\"\">remote27.compusmart.ab.ca - [01/Jul/2015:00:01:27 -0400] &quot;GET /shuttle/countdown/ HTTP/1.0&quot; 200 3985</td></tr>\n",
       "<tr><td colspan=\"1\" rowspan=\"1\" class=\"\">link097.txdirect.net - [01/Jul/2015:00:01:27 -0400] &quot;GET /images/launchmedium.gif HTTP/1.0&quot; 200 11853</td></tr>\n",
       "<tr><td colspan=\"1\" rowspan=\"1\" class=\"\">slip1.yab.com - [01/Jul/2015:00:01:29 -0400] &quot;GET /shuttle/resources/orbiters/endeavour.gif HTTP/1.0&quot; 200 16991</td></tr>\n",
       "<tr><td colspan=\"1\" rowspan=\"1\" class=\"\">link097.txdirect.net - [01/Jul/2015:00:01:31 -0400] &quot;GET /images/NASA-logosmall.gif HTTP/1.0&quot; 200 786</td></tr>\n",
       "<tr><td colspan=\"1\" rowspan=\"1\" class=\"\">link097.txdirect.net - [01/Jul/2015:00:01:31 -0400] &quot;GET /images/KSC-logosmall.gif HTTP/1.0&quot; 200 1204</td></tr>\n",
       "<tr><td colspan=\"1\" rowspan=\"1\" class=\"\">port26.annex2.nwlink.com - [01/Jul/2015:00:01:32 -0400] &quot;GET /images/USA-logosmall.gif HTTP/1.0&quot; 200 234</td></tr>\n",
       "<tr><td colspan=\"1\" rowspan=\"1\" class=\"\">port26.annex2.nwlink.com - [01/Jul/2015:00:01:32 -0400] &quot;GET /images/WORLD-logosmall.gif HTTP/1.0&quot; 200 669</td></tr>\n",
       "<tr><td colspan=\"1\" rowspan=\"1\" class=\"\">onyx.southwind.net - [01/Jul/2015:00:01:34 -0400] &quot;GET /shuttle/countdown/countdown.html HTTP/1.0&quot; 200 3985</td></tr>\n",
       "<tr><td colspan=\"1\" rowspan=\"1\" class=\"\">onyx.southwind.net - [01/Jul/2015:00:01:35 -0400] &quot;GET /shuttle/countdown/count.gif HTTP/1.0&quot; 200 40310</td></tr>\n",
       "<tr><td colspan=\"1\" rowspan=\"1\" class=\"\">onyx.southwind.net - [01/Jul/2015:00:01:39 -0400] &quot;GET /images/KSC-logosmall.gif HTTP/1.0&quot; 304 0</td></tr>\n",
       "<tr><td colspan=\"1\" rowspan=\"1\" class=\"\">unicomp6.unicomp.net - [01/Jul/2015:00:01:41 -0400] &quot;GET /htbin/cdt_main.pl HTTP/1.0&quot; 200 3214</td></tr>\n",
       "<tr><td colspan=\"1\" rowspan=\"1\" class=\"\">199.72.81.55 - [01/Jul/2015:00:01:43 -0400] &quot;GET / HTTP/1.0&quot; 200 7074</td></tr>\n",
       "<tr><td colspan=\"1\" rowspan=\"1\" class=\"\">link097.txdirect.net - [01/Jul/2015:00:01:44 -0400] &quot;GET /shuttle/missions/sts-78/mission-sts-78.html HTTP/1.0&quot; 200 4377</td></tr>\n",
       "<tr><td colspan=\"1\" rowspan=\"1\" class=\"\">link097.txdirect.net - [01/Jul/2015:00:01:45 -0400] &quot;GET /shuttle/missions/sts-78/sts-78-patch-small.gif HTTP/1.0&quot; 200 4179</td></tr>\n",
       "<tr><td colspan=\"1\" rowspan=\"1\" class=\"\">199.72.81.55 - [01/Jul/2015:00:01:46 -0400] &quot;GET /images/ksclogo-medium.gif HTTP/1.0&quot; 200 5866</td></tr>\n",
       "<tr><td colspan=\"1\" rowspan=\"1\" class=\"\">gater4.sematech.org - [01/Jul/2015:00:01:46 -0400] &quot;GET /shuttle/countdown/ HTTP/1.0&quot; 200 3985</td></tr>\n",
       "<tr><td colspan=\"1\" rowspan=\"1\" class=\"\">link097.txdirect.net - [01/Jul/2015:00:01:47 -0400] &quot;GET /images/launch-logo.gif HTTP/1.0&quot; 200 1713</td></tr>\n",
       "<tr><td colspan=\"1\" rowspan=\"1\" class=\"\">ppp-nyc-3-1.ios.com - [01/Jul/2015:00:01:49 -0400] &quot;GET /shuttle/missions/sts-71/images/KSC-95EC-0917.jpg HTTP/1.0&quot; 200 52491</td></tr>\n",
       "<tr><td colspan=\"1\" rowspan=\"1\" class=\"\">gater3.sematech.org - [01/Jul/2015:00:01:50 -0400] &quot;GET /shuttle/countdown/count.gif HTTP/1.0&quot; 200 40310</td></tr>\n",
       "<tr><td colspan=\"1\" rowspan=\"1\" class=\"\">199.72.81.55 - [01/Jul/2015:00:01:50 -0400] &quot;GET /images/MOSAIC-logosmall.gif HTTP/1.0&quot; 200 363</td></tr>\n",
       "<tr><td colspan=\"1\" rowspan=\"1\" class=\"\">199.72.81.55 - [01/Jul/2015:00:01:51 -0400] &quot;GET /images/USA-logosmall.gif HTTP/1.0&quot; 200 234</td></tr>\n",
       "<tr><td colspan=\"1\" rowspan=\"1\" class=\"\">gater4.sematech.org - [01/Jul/2015:00:01:52 -0400] &quot;GET /images/NASA-logosmall.gif HTTP/1.0&quot; 200 786</td></tr>\n",
       "<tr><td colspan=\"1\" rowspan=\"1\" class=\"\">199.72.81.55 - [01/Jul/2015:00:01:52 -0400] &quot;GET /images/WORLD-logosmall.gif HTTP/1.0&quot; 200 669</td></tr>\n",
       "<tr><td colspan=\"1\" rowspan=\"1\" class=\"\">ix-or10-06.ix.netcom.com - [01/Jul/2015:00:01:52 -0400] &quot;GET /software/winvn/userguide/wvnguide.html HTTP/1.0&quot; 200 5998</td></tr>\n",
       "<tr><td colspan=\"1\" rowspan=\"1\" class=\"\">gater3.sematech.org - [01/Jul/2015:00:01:52 -0400] &quot;GET /images/KSC-logosmall.gif HTTP/1.0&quot; 200 1204</td></tr>\n",
       "<tr><td colspan=\"1\" rowspan=\"1\" class=\"\">remote27.compusmart.ab.ca - [01/Jul/2015:00:01:53 -0400] &quot;GET /cgi-bin/imagemap/countdown?102,174 HTTP/1.0&quot; 302 110</td></tr>\n",
       "<tr><td colspan=\"1\" rowspan=\"1\" class=\"\">remote27.compusmart.ab.ca - [01/Jul/2015:00:01:55 -0400] &quot;GET /shuttle/missions/sts-71/images/images.html HTTP/1.0&quot; 200 7634</td></tr>\n",
       "<tr><td colspan=\"1\" rowspan=\"1\" class=\"\">link097.txdirect.net - [01/Jul/2015:00:01:55 -0400] &quot;GET /shuttle/resources/orbiters/columbia.html HTTP/1.0&quot; 200 6922</td></tr>\n",
       "<tr><td colspan=\"1\" rowspan=\"1\" class=\"\">dave.dev1.ihub.com - [01/Jul/2015:00:01:55 -0400] &quot;GET /shuttle/countdown/ HTTP/1.0&quot; 200 3985</td></tr>\n",
       "<tr><td colspan=\"1\" rowspan=\"1\" class=\"\">link097.txdirect.net - [01/Jul/2015:00:01:56 -0400] &quot;GET /shuttle/resources/orbiters/columbia-logo.gif HTTP/1.0&quot; 200 11417</td></tr>\n",
       "<tr><td colspan=\"1\" rowspan=\"1\" class=\"\">netport-27.iu.net - [01/Jul/2015:00:01:57 -0400] &quot;GET / HTTP/1.0&quot; 200 7074</td></tr>\n",
       "<tr><td colspan=\"1\" rowspan=\"1\" class=\"\">ix-or10-06.ix.netcom.com - [01/Jul/2015:00:01:57 -0400] &quot;GET /software/winvn/userguide/wvnguide.gif HTTP/1.0&quot; 200 4151</td></tr>\n",
       "<tr><td colspan=\"1\" rowspan=\"1\" class=\"\">dave.dev1.ihub.com - [01/Jul/2015:00:01:58 -0400] &quot;GET /images/NASA-logosmall.gif HTTP/1.0&quot; 200 786</td></tr>\n",
       "<tr><td colspan=\"1\" rowspan=\"1\" class=\"\">dave.dev1.ihub.com - [01/Jul/2015:00:01:58 -0400] &quot;GET /images/KSC-logosmall.gif HTTP/1.0&quot; 200 1204</td></tr>\n",
       "<tr><td colspan=\"1\" rowspan=\"1\" class=\"\">dave.dev1.ihub.com - [01/Jul/2015:00:01:58 -0400] &quot;GET /shuttle/countdown/count.gif HTTP/1.0&quot; 200 40310</td></tr>\n",
       "<tr><td colspan=\"1\" rowspan=\"1\" class=\"\">pm13.j51.com - [01/Jul/2015:00:01:58 -0400] &quot;GET /shuttle/missions/sts-71/movies/crew-arrival-t38.mpg HTTP/1.0&quot; 200 305722</td></tr>\n",
       "<tr><td colspan=\"1\" rowspan=\"1\" class=\"\">bart-slip1.llnl.gov - [01/Jul/2015:00:01:59 -0400] &quot;GET /shuttle/missions/missions.html HTTP/1.0&quot; 200 8677</td></tr>\n",
       "</table>"
      ],
      "text/plain": [
       "<raw_magic.nested_table.NestedTable at 0x7f67999d2be0>"
      ]
     },
     "execution_count": 3,
     "metadata": {},
     "output_type": "execute_result"
    }
   ],
   "source": [
    "%%query\n",
    "read_lines(\"s3://raw-tutorial/ipython-demos/log_example.log\")"
   ]
  },
  {
   "cell_type": "markdown",
   "metadata": {},
   "source": [
    "The file is turned into a structured form using a regular expression.\n",
    "\n",
    "Note that the keyword `PARSE AS` maps each match of the regular expression into anonymous field names: `_1, _2, ...`. The keyword `INTO` creates a new record from those fields."
   ]
  },
  {
   "cell_type": "code",
   "execution_count": 4,
   "metadata": {},
   "outputs": [
    {
     "name": "stdout",
     "output_type": "stream",
     "text": [
      "View \"logs\" was replaced\n"
     ]
    }
   ],
   "source": [
    "%%view logs\n",
    "log_file := read_lines(\"s3://raw-tutorial/ipython-demos/log_example.log\");\n",
    "\n",
    "SELECT * FROM log_file\n",
    "PARSE AS r\"\"\"(.+) - \\[(.+)\\] \"(\\w+) (.+) .+\" (\\d+) (\\d+)\"\"\"\n",
    "INTO (host: _1, timestamp: _2, method: _3, url: _4, return_code: _5, size: _6)"
   ]
  },
  {
   "cell_type": "code",
   "execution_count": 5,
   "metadata": {},
   "outputs": [
    {
     "data": {
      "text/html": [
       "<table class=\"nested-table\">\n",
       "<tr><th colspan=\"1\" rowspan=\"1\">host</th><th colspan=\"1\" rowspan=\"1\">timestamp</th><th colspan=\"1\" rowspan=\"1\">method</th><th colspan=\"1\" rowspan=\"1\">url</th><th colspan=\"1\" rowspan=\"1\">return_code</th><th colspan=\"1\" rowspan=\"1\">size</th></tr>\n",
       "<tr><td colspan=\"1\" rowspan=\"1\" class=\"\">199.72.81.55</td><td colspan=\"1\" rowspan=\"1\" class=\"\">01/Jul/2015:00:00:01 -0400</td><td colspan=\"1\" rowspan=\"1\" class=\"\">GET</td><td colspan=\"1\" rowspan=\"1\" class=\"\">/history/apollo/</td><td colspan=\"1\" rowspan=\"1\" class=\"\">200</td><td colspan=\"1\" rowspan=\"1\" class=\"\">6245</td></tr>\n",
       "<tr><td colspan=\"1\" rowspan=\"1\" class=\"\">unicomp6.unicomp.net</td><td colspan=\"1\" rowspan=\"1\" class=\"\">01/Jul/2015:00:00:06 -0400</td><td colspan=\"1\" rowspan=\"1\" class=\"\">GET</td><td colspan=\"1\" rowspan=\"1\" class=\"\">/shuttle/countdown/</td><td colspan=\"1\" rowspan=\"1\" class=\"\">200</td><td colspan=\"1\" rowspan=\"1\" class=\"\">3985</td></tr>\n",
       "<tr><td colspan=\"1\" rowspan=\"1\" class=\"\">199.120.110.21</td><td colspan=\"1\" rowspan=\"1\" class=\"\">01/Jul/2015:00:00:09 -0400</td><td colspan=\"1\" rowspan=\"1\" class=\"\">GET</td><td colspan=\"1\" rowspan=\"1\" class=\"\">/shuttle/missions/sts-73/mission-sts-73.html</td><td colspan=\"1\" rowspan=\"1\" class=\"\">200</td><td colspan=\"1\" rowspan=\"1\" class=\"\">4085</td></tr>\n",
       "<tr><td colspan=\"1\" rowspan=\"1\" class=\"\">burger.letters.com</td><td colspan=\"1\" rowspan=\"1\" class=\"\">01/Jul/2015:00:00:11 -0400</td><td colspan=\"1\" rowspan=\"1\" class=\"\">GET</td><td colspan=\"1\" rowspan=\"1\" class=\"\">/shuttle/countdown/liftoff.html</td><td colspan=\"1\" rowspan=\"1\" class=\"\">304</td><td colspan=\"1\" rowspan=\"1\" class=\"\">0</td></tr>\n",
       "<tr><td colspan=\"1\" rowspan=\"1\" class=\"\">199.120.110.21</td><td colspan=\"1\" rowspan=\"1\" class=\"\">01/Jul/2015:00:00:11 -0400</td><td colspan=\"1\" rowspan=\"1\" class=\"\">GET</td><td colspan=\"1\" rowspan=\"1\" class=\"\">/shuttle/missions/sts-73/sts-73-patch-small.gif</td><td colspan=\"1\" rowspan=\"1\" class=\"\">200</td><td colspan=\"1\" rowspan=\"1\" class=\"\">4179</td></tr>\n",
       "</table>"
      ],
      "text/plain": [
       "<raw_magic.nested_table.NestedTable at 0x7f679999aa58>"
      ]
     },
     "execution_count": 5,
     "metadata": {},
     "output_type": "execute_result"
    }
   ],
   "source": [
    "%query SELECT * FROM logs LIMIT 5"
   ]
  },
  {
   "cell_type": "markdown",
   "metadata": {},
   "source": [
    "# Performing a query\n",
    "\n",
    "The following query returns in hierarchical form, the top 10 hostname group by HTTP return code.\n",
    "\n",
    "Note that `*` in a `GROUP BY` query refers to the elements in each group. Also note that, in RAW, a SELECT statement can be used as a column and can refer to all columns/variables in scope."
   ]
  },
  {
   "cell_type": "code",
   "execution_count": 6,
   "metadata": {},
   "outputs": [
    {
     "data": {
      "text/html": [
       "<table class=\"nested-table\">\n",
       "<tr><th colspan=\"1\" rowspan=\"2\">return_code</th><th colspan=\"2\" rowspan=\"1\">hosts</th></tr>\n",
       "<tr><th colspan=\"1\" rowspan=\"1\">host</th><th colspan=\"1\" rowspan=\"1\">requests</th></tr>\n",
       "<tr><td colspan=\"1\" rowspan=\"10\" class=\"\">200</td><td colspan=\"1\" rowspan=\"1\" class=\"\">kristina.az.com</td><td colspan=\"1\" rowspan=\"1\" class=\"\">109</td></tr>\n",
       "<tr><td colspan=\"1\" rowspan=\"1\" class=\"\">piweba1y.prodigy.com</td><td colspan=\"1\" rowspan=\"1\" class=\"\">55</td></tr>\n",
       "<tr><td colspan=\"1\" rowspan=\"1\" class=\"\">www-a1.proxy.aol.com</td><td colspan=\"1\" rowspan=\"1\" class=\"\">46</td></tr>\n",
       "<tr><td colspan=\"1\" rowspan=\"1\" class=\"\">teleman.pr.mcs.net</td><td colspan=\"1\" rowspan=\"1\" class=\"\">45</td></tr>\n",
       "<tr><td colspan=\"1\" rowspan=\"1\" class=\"\">pm-1-25.connectnet.com</td><td colspan=\"1\" rowspan=\"1\" class=\"\">41</td></tr>\n",
       "<tr><td colspan=\"1\" rowspan=\"1\" class=\"\">piweba3y.prodigy.com</td><td colspan=\"1\" rowspan=\"1\" class=\"\">41</td></tr>\n",
       "<tr><td colspan=\"1\" rowspan=\"1\" class=\"\">129.188.154.200</td><td colspan=\"1\" rowspan=\"1\" class=\"\">41</td></tr>\n",
       "<tr><td colspan=\"1\" rowspan=\"1\" class=\"\">news.ti.com</td><td colspan=\"1\" rowspan=\"1\" class=\"\">41</td></tr>\n",
       "<tr><td colspan=\"1\" rowspan=\"1\" class=\"\">palona1.cns.hp.com</td><td colspan=\"1\" rowspan=\"1\" class=\"\">38</td></tr>\n",
       "<tr><td colspan=\"1\" rowspan=\"1\" class=\"\">slip-5.io.com</td><td colspan=\"1\" rowspan=\"1\" class=\"\">34</td></tr>\n",
       "<tr><td colspan=\"1\" rowspan=\"10\" class=\"\">304</td><td colspan=\"1\" rowspan=\"1\" class=\"\">burger.letters.com</td><td colspan=\"1\" rowspan=\"1\" class=\"\">30</td></tr>\n",
       "<tr><td colspan=\"1\" rowspan=\"1\" class=\"\">brandt.xensei.com</td><td colspan=\"1\" rowspan=\"1\" class=\"\">26</td></tr>\n",
       "<tr><td colspan=\"1\" rowspan=\"1\" class=\"\">palona1.cns.hp.com</td><td colspan=\"1\" rowspan=\"1\" class=\"\">10</td></tr>\n",
       "<tr><td colspan=\"1\" rowspan=\"1\" class=\"\">teleman.pr.mcs.net</td><td colspan=\"1\" rowspan=\"1\" class=\"\">9</td></tr>\n",
       "<tr><td colspan=\"1\" rowspan=\"1\" class=\"\">wittgenstein.execpc.com</td><td colspan=\"1\" rowspan=\"1\" class=\"\">9</td></tr>\n",
       "<tr><td colspan=\"1\" rowspan=\"1\" class=\"\">webe.hooked.net</td><td colspan=\"1\" rowspan=\"1\" class=\"\">9</td></tr>\n",
       "<tr><td colspan=\"1\" rowspan=\"1\" class=\"\">kenmarks-ppp.clark.net</td><td colspan=\"1\" rowspan=\"1\" class=\"\">8</td></tr>\n",
       "<tr><td colspan=\"1\" rowspan=\"1\" class=\"\">leet.cts.com</td><td colspan=\"1\" rowspan=\"1\" class=\"\">8</td></tr>\n",
       "<tr><td colspan=\"1\" rowspan=\"1\" class=\"\">204.227.13.50</td><td colspan=\"1\" rowspan=\"1\" class=\"\">7</td></tr>\n",
       "<tr><td colspan=\"1\" rowspan=\"1\" class=\"\">wwwproxy.info.au</td><td colspan=\"1\" rowspan=\"1\" class=\"\">7</td></tr>\n",
       "<tr><td colspan=\"1\" rowspan=\"10\" class=\"\">302</td><td colspan=\"1\" rowspan=\"1\" class=\"\">ip16-085.phx.primenet.com</td><td colspan=\"1\" rowspan=\"1\" class=\"\">7</td></tr>\n",
       "<tr><td colspan=\"1\" rowspan=\"1\" class=\"\">sartre.execpc.com</td><td colspan=\"1\" rowspan=\"1\" class=\"\">6</td></tr>\n",
       "<tr><td colspan=\"1\" rowspan=\"1\" class=\"\">net-1-141.eden.com</td><td colspan=\"1\" rowspan=\"1\" class=\"\">6</td></tr>\n",
       "<tr><td colspan=\"1\" rowspan=\"1\" class=\"\">crl9.crl.com</td><td colspan=\"1\" rowspan=\"1\" class=\"\">5</td></tr>\n",
       "<tr><td colspan=\"1\" rowspan=\"1\" class=\"\">teleman.pr.mcs.net</td><td colspan=\"1\" rowspan=\"1\" class=\"\">4</td></tr>\n",
       "<tr><td colspan=\"1\" rowspan=\"1\" class=\"\">n2o.phantom.com</td><td colspan=\"1\" rowspan=\"1\" class=\"\">4</td></tr>\n",
       "<tr><td colspan=\"1\" rowspan=\"1\" class=\"\">ocn13.miracosta.cc.ca.us</td><td colspan=\"1\" rowspan=\"1\" class=\"\">4</td></tr>\n",
       "<tr><td colspan=\"1\" rowspan=\"1\" class=\"\">axia.ic.nanzan-u.ac.jp</td><td colspan=\"1\" rowspan=\"1\" class=\"\">4</td></tr>\n",
       "<tr><td colspan=\"1\" rowspan=\"1\" class=\"\">larryr.cts.com</td><td colspan=\"1\" rowspan=\"1\" class=\"\">4</td></tr>\n",
       "<tr><td colspan=\"1\" rowspan=\"1\" class=\"\">ppp4.sunrem.com</td><td colspan=\"1\" rowspan=\"1\" class=\"\">3</td></tr>\n",
       "</table>"
      ],
      "text/plain": [
       "<raw_magic.nested_table.NestedTable at 0x7f67999a56d8>"
      ]
     },
     "execution_count": 6,
     "metadata": {},
     "output_type": "execute_result"
    }
   ],
   "source": [
    "%%query\n",
    "\n",
    "SELECT return_code,\n",
    "       (SELECT host, count(*) as requests FROM * GROUP BY host ORDER BY requests DESC LIMIT 10) AS hosts\n",
    "FROM logs\n",
    "GROUP BY return_code\n"
   ]
  },
  {
   "cell_type": "markdown",
   "metadata": {},
   "source": [
    "#  Displaying locations\n",
    "\n",
    "This query shows the locations of IPs of requests that returned errors.\n",
    "\n",
    "The query uses a regular expression to filter hosts that are not IPs and them joins the result with  `locations` a json file taken from a location database.\n",
    "\n",
    "Note that no schemas were created, no data was explicitly loaded and no separate ETL process or scripts were needed: these optimizations are all done internally by RAW and transparent to the user."
   ]
  },
  {
   "cell_type": "code",
   "execution_count": 7,
   "metadata": {},
   "outputs": [
    {
     "name": "stdout",
     "output_type": "stream",
     "text": [
      "Showing only 100 values...\n"
     ]
    },
    {
     "data": {
      "text/html": [
       "<table class=\"nested-table\">\n",
       "<tr><th colspan=\"1\" rowspan=\"1\">ip</th><th colspan=\"1\" rowspan=\"1\">country</th><th colspan=\"1\" rowspan=\"1\">latitude</th><th colspan=\"1\" rowspan=\"1\">longitude</th></tr>\n",
       "<tr><td colspan=\"1\" rowspan=\"1\" class=\"\">198.142.12.2</td><td colspan=\"1\" rowspan=\"1\" class=\"\">Australia</td><td colspan=\"1\" rowspan=\"1\" class=\"\">-33.494</td><td colspan=\"1\" rowspan=\"1\" class=\"\">143.2104</td></tr>\n",
       "<tr><td colspan=\"1\" rowspan=\"1\" class=\"\">203.12.152.51</td><td colspan=\"1\" rowspan=\"1\" class=\"\">Australia</td><td colspan=\"1\" rowspan=\"1\" class=\"\">-37.8103</td><td colspan=\"1\" rowspan=\"1\" class=\"\">144.9544</td></tr>\n",
       "<tr><td colspan=\"1\" rowspan=\"1\" class=\"\">149.171.160.183</td><td colspan=\"1\" rowspan=\"1\" class=\"\">Australia</td><td colspan=\"1\" rowspan=\"1\" class=\"\">-33.8427</td><td colspan=\"1\" rowspan=\"1\" class=\"\">151.1936</td></tr>\n",
       "<tr><td colspan=\"1\" rowspan=\"1\" class=\"\">129.94.144.152</td><td colspan=\"1\" rowspan=\"1\" class=\"\">Australia</td><td colspan=\"1\" rowspan=\"1\" class=\"\">-33.8928</td><td colspan=\"1\" rowspan=\"1\" class=\"\">151.2472</td></tr>\n",
       "<tr><td colspan=\"1\" rowspan=\"1\" class=\"\">103.224.182.240</td><td colspan=\"1\" rowspan=\"1\" class=\"\">Australia</td><td colspan=\"1\" rowspan=\"1\" class=\"\">-33.494</td><td colspan=\"1\" rowspan=\"1\" class=\"\">143.2104</td></tr>\n",
       "<tr><td colspan=\"1\" rowspan=\"1\" class=\"\">149.171.160.182</td><td colspan=\"1\" rowspan=\"1\" class=\"\">Australia</td><td colspan=\"1\" rowspan=\"1\" class=\"\">-33.8427</td><td colspan=\"1\" rowspan=\"1\" class=\"\">151.1936</td></tr>\n",
       "<tr><td colspan=\"1\" rowspan=\"1\" class=\"\">200.10.239.205</td><td colspan=\"1\" rowspan=\"1\" class=\"\">Brazil</td><td colspan=\"1\" rowspan=\"1\" class=\"\">-22.8305</td><td colspan=\"1\" rowspan=\"1\" class=\"\">-43.2192</td></tr>\n",
       "<tr><td colspan=\"1\" rowspan=\"1\" class=\"\">200.10.239.195</td><td colspan=\"1\" rowspan=\"1\" class=\"\">Brazil</td><td colspan=\"1\" rowspan=\"1\" class=\"\">-22.8305</td><td colspan=\"1\" rowspan=\"1\" class=\"\">-43.2192</td></tr>\n",
       "<tr><td colspan=\"1\" rowspan=\"1\" class=\"\">205.189.154.54</td><td colspan=\"1\" rowspan=\"1\" class=\"\">Canada</td><td colspan=\"1\" rowspan=\"1\" class=\"\">48.6393</td><td colspan=\"1\" rowspan=\"1\" class=\"\">-93.4469</td></tr>\n",
       "<tr><td colspan=\"1\" rowspan=\"1\" class=\"\">158.69.158.186</td><td colspan=\"1\" rowspan=\"1\" class=\"\">Canada</td><td colspan=\"1\" rowspan=\"1\" class=\"\">45.5</td><td colspan=\"1\" rowspan=\"1\" class=\"\">-73.5833</td></tr>\n",
       "<tr><td colspan=\"1\" rowspan=\"1\" class=\"\">158.69.158.186</td><td colspan=\"1\" rowspan=\"1\" class=\"\">Canada</td><td colspan=\"1\" rowspan=\"1\" class=\"\">45.5</td><td colspan=\"1\" rowspan=\"1\" class=\"\">-73.5833</td></tr>\n",
       "<tr><td colspan=\"1\" rowspan=\"1\" class=\"\">204.191.209.4</td><td colspan=\"1\" rowspan=\"1\" class=\"\">Canada</td><td colspan=\"1\" rowspan=\"1\" class=\"\">53.55</td><td colspan=\"1\" rowspan=\"1\" class=\"\">-113.5</td></tr>\n",
       "<tr><td colspan=\"1\" rowspan=\"1\" class=\"\">216.58.47.164</td><td colspan=\"1\" rowspan=\"1\" class=\"\">Canada</td><td colspan=\"1\" rowspan=\"1\" class=\"\">43.6827</td><td colspan=\"1\" rowspan=\"1\" class=\"\">-79.373</td></tr>\n",
       "<tr><td colspan=\"1\" rowspan=\"1\" class=\"\">204.225.103.221</td><td colspan=\"1\" rowspan=\"1\" class=\"\">Canada</td><td colspan=\"1\" rowspan=\"1\" class=\"\">43.7196</td><td colspan=\"1\" rowspan=\"1\" class=\"\">-79.6854</td></tr>\n",
       "<tr><td colspan=\"1\" rowspan=\"1\" class=\"\">204.138.186.21</td><td colspan=\"1\" rowspan=\"1\" class=\"\">Canada</td><td colspan=\"1\" rowspan=\"1\" class=\"\">43.504</td><td colspan=\"1\" rowspan=\"1\" class=\"\">-80.5366</td></tr>\n",
       "<tr><td colspan=\"1\" rowspan=\"1\" class=\"\">208.81.1.197</td><td colspan=\"1\" rowspan=\"1\" class=\"\">Canada</td><td colspan=\"1\" rowspan=\"1\" class=\"\">49.898</td><td colspan=\"1\" rowspan=\"1\" class=\"\">-97.1401</td></tr>\n",
       "<tr><td colspan=\"1\" rowspan=\"1\" class=\"\">208.81.1.197</td><td colspan=\"1\" rowspan=\"1\" class=\"\">Canada</td><td colspan=\"1\" rowspan=\"1\" class=\"\">49.898</td><td colspan=\"1\" rowspan=\"1\" class=\"\">-97.1401</td></tr>\n",
       "<tr><td colspan=\"1\" rowspan=\"1\" class=\"\">204.244.4.10</td><td colspan=\"1\" rowspan=\"1\" class=\"\">Canada</td><td colspan=\"1\" rowspan=\"1\" class=\"\">49.2866</td><td colspan=\"1\" rowspan=\"1\" class=\"\">-123.1158</td></tr>\n",
       "<tr><td colspan=\"1\" rowspan=\"1\" class=\"\">204.19.123.36</td><td colspan=\"1\" rowspan=\"1\" class=\"\">Canada</td><td colspan=\"1\" rowspan=\"1\" class=\"\">45.5057</td><td colspan=\"1\" rowspan=\"1\" class=\"\">-73.555</td></tr>\n",
       "<tr><td colspan=\"1\" rowspan=\"1\" class=\"\">136.159.35.88</td><td colspan=\"1\" rowspan=\"1\" class=\"\">Canada</td><td colspan=\"1\" rowspan=\"1\" class=\"\">51.0621</td><td colspan=\"1\" rowspan=\"1\" class=\"\">-114.1159</td></tr>\n",
       "<tr><td colspan=\"1\" rowspan=\"1\" class=\"\">199.166.39.14</td><td colspan=\"1\" rowspan=\"1\" class=\"\">Canada</td><td colspan=\"1\" rowspan=\"1\" class=\"\">51.0708</td><td colspan=\"1\" rowspan=\"1\" class=\"\">-113.6931</td></tr>\n",
       "<tr><td colspan=\"1\" rowspan=\"1\" class=\"\">200.13.2.37</td><td colspan=\"1\" rowspan=\"1\" class=\"\">Chile</td><td colspan=\"1\" rowspan=\"1\" class=\"\">-38.7333</td><td colspan=\"1\" rowspan=\"1\" class=\"\">-72.6</td></tr>\n",
       "<tr><td colspan=\"1\" rowspan=\"1\" class=\"\">202.70.0.6</td><td colspan=\"1\" rowspan=\"1\" class=\"\">China</td><td colspan=\"1\" rowspan=\"1\" class=\"\">22.5333</td><td colspan=\"1\" rowspan=\"1\" class=\"\">114.1333</td></tr>\n",
       "<tr><td colspan=\"1\" rowspan=\"1\" class=\"\">185.53.178.6</td><td colspan=\"1\" rowspan=\"1\" class=\"\">Germany</td><td colspan=\"1\" rowspan=\"1\" class=\"\">51.2993</td><td colspan=\"1\" rowspan=\"1\" class=\"\">9.491</td></tr>\n",
       "<tr><td colspan=\"1\" rowspan=\"1\" class=\"\">185.53.178.6</td><td colspan=\"1\" rowspan=\"1\" class=\"\">Germany</td><td colspan=\"1\" rowspan=\"1\" class=\"\">51.2993</td><td colspan=\"1\" rowspan=\"1\" class=\"\">9.491</td></tr>\n",
       "<tr><td colspan=\"1\" rowspan=\"1\" class=\"\">185.53.178.6</td><td colspan=\"1\" rowspan=\"1\" class=\"\">Germany</td><td colspan=\"1\" rowspan=\"1\" class=\"\">51.2993</td><td colspan=\"1\" rowspan=\"1\" class=\"\">9.491</td></tr>\n",
       "<tr><td colspan=\"1\" rowspan=\"1\" class=\"\">89.144.33.13</td><td colspan=\"1\" rowspan=\"1\" class=\"\">Germany</td><td colspan=\"1\" rowspan=\"1\" class=\"\">51.2993</td><td colspan=\"1\" rowspan=\"1\" class=\"\">9.491</td></tr>\n",
       "<tr><td colspan=\"1\" rowspan=\"1\" class=\"\">185.53.178.9</td><td colspan=\"1\" rowspan=\"1\" class=\"\">Germany</td><td colspan=\"1\" rowspan=\"1\" class=\"\">51.2993</td><td colspan=\"1\" rowspan=\"1\" class=\"\">9.491</td></tr>\n",
       "<tr><td colspan=\"1\" rowspan=\"1\" class=\"\">152.52.42.20</td><td colspan=\"1\" rowspan=\"1\" class=\"\">India</td><td colspan=\"1\" rowspan=\"1\" class=\"\">20.0</td><td colspan=\"1\" rowspan=\"1\" class=\"\">77.0</td></tr>\n",
       "<tr><td colspan=\"1\" rowspan=\"1\" class=\"\">133.26.150.16</td><td colspan=\"1\" rowspan=\"1\" class=\"\">Japan</td><td colspan=\"1\" rowspan=\"1\" class=\"\">35.69</td><td colspan=\"1\" rowspan=\"1\" class=\"\">139.69</td></tr>\n",
       "<tr><td colspan=\"1\" rowspan=\"1\" class=\"\">210.188.201.144</td><td colspan=\"1\" rowspan=\"1\" class=\"\">Japan</td><td colspan=\"1\" rowspan=\"1\" class=\"\">35.69</td><td colspan=\"1\" rowspan=\"1\" class=\"\">139.69</td></tr>\n",
       "<tr><td colspan=\"1\" rowspan=\"1\" class=\"\">210.188.201.144</td><td colspan=\"1\" rowspan=\"1\" class=\"\">Japan</td><td colspan=\"1\" rowspan=\"1\" class=\"\">35.69</td><td colspan=\"1\" rowspan=\"1\" class=\"\">139.69</td></tr>\n",
       "<tr><td colspan=\"1\" rowspan=\"1\" class=\"\">210.188.201.144</td><td colspan=\"1\" rowspan=\"1\" class=\"\">Japan</td><td colspan=\"1\" rowspan=\"1\" class=\"\">35.69</td><td colspan=\"1\" rowspan=\"1\" class=\"\">139.69</td></tr>\n",
       "<tr><td colspan=\"1\" rowspan=\"1\" class=\"\">210.188.201.144</td><td colspan=\"1\" rowspan=\"1\" class=\"\">Japan</td><td colspan=\"1\" rowspan=\"1\" class=\"\">35.69</td><td colspan=\"1\" rowspan=\"1\" class=\"\">139.69</td></tr>\n",
       "<tr><td colspan=\"1\" rowspan=\"1\" class=\"\">202.245.215.1</td><td colspan=\"1\" rowspan=\"1\" class=\"\">Japan</td><td colspan=\"1\" rowspan=\"1\" class=\"\">35.1802</td><td colspan=\"1\" rowspan=\"1\" class=\"\">136.9067</td></tr>\n",
       "<tr><td colspan=\"1\" rowspan=\"1\" class=\"\">130.54.33.130</td><td colspan=\"1\" rowspan=\"1\" class=\"\">Japan</td><td colspan=\"1\" rowspan=\"1\" class=\"\">35.0214</td><td colspan=\"1\" rowspan=\"1\" class=\"\">135.7556</td></tr>\n",
       "<tr><td colspan=\"1\" rowspan=\"1\" class=\"\">133.127.203.203</td><td colspan=\"1\" rowspan=\"1\" class=\"\">Japan</td><td colspan=\"1\" rowspan=\"1\" class=\"\">35.69</td><td colspan=\"1\" rowspan=\"1\" class=\"\">139.69</td></tr>\n",
       "<tr><td colspan=\"1\" rowspan=\"1\" class=\"\">157.16.39.32</td><td colspan=\"1\" rowspan=\"1\" class=\"\">Japan</td><td colspan=\"1\" rowspan=\"1\" class=\"\">34.6864</td><td colspan=\"1\" rowspan=\"1\" class=\"\">135.52</td></tr>\n",
       "<tr><td colspan=\"1\" rowspan=\"1\" class=\"\">133.29.100.251</td><td colspan=\"1\" rowspan=\"1\" class=\"\">Japan</td><td colspan=\"1\" rowspan=\"1\" class=\"\">35.1802</td><td colspan=\"1\" rowspan=\"1\" class=\"\">136.9067</td></tr>\n",
       "<tr><td colspan=\"1\" rowspan=\"1\" class=\"\">202.248.38.130</td><td colspan=\"1\" rowspan=\"1\" class=\"\">Japan</td><td colspan=\"1\" rowspan=\"1\" class=\"\">35.6427</td><td colspan=\"1\" rowspan=\"1\" class=\"\">139.7677</td></tr>\n",
       "<tr><td colspan=\"1\" rowspan=\"1\" class=\"\">202.33.84.230</td><td colspan=\"1\" rowspan=\"1\" class=\"\">Japan</td><td colspan=\"1\" rowspan=\"1\" class=\"\">35.69</td><td colspan=\"1\" rowspan=\"1\" class=\"\">139.69</td></tr>\n",
       "<tr><td colspan=\"1\" rowspan=\"1\" class=\"\">202.36.46.52</td><td colspan=\"1\" rowspan=\"1\" class=\"\">New Zealand</td><td colspan=\"1\" rowspan=\"1\" class=\"\">-43.5333</td><td colspan=\"1\" rowspan=\"1\" class=\"\">172.6333</td></tr>\n",
       "<tr><td colspan=\"1\" rowspan=\"1\" class=\"\">203.252.3.13</td><td colspan=\"1\" rowspan=\"1\" class=\"\">Republic of Korea</td><td colspan=\"1\" rowspan=\"1\" class=\"\">37.5112</td><td colspan=\"1\" rowspan=\"1\" class=\"\">126.9741</td></tr>\n",
       "<tr><td colspan=\"1\" rowspan=\"1\" class=\"\">166.79.67.111</td><td colspan=\"1\" rowspan=\"1\" class=\"\">Republic of Korea</td><td colspan=\"1\" rowspan=\"1\" class=\"\">37.5112</td><td colspan=\"1\" rowspan=\"1\" class=\"\">126.9741</td></tr>\n",
       "<tr><td colspan=\"1\" rowspan=\"1\" class=\"\">81.177.135.141</td><td colspan=\"1\" rowspan=\"1\" class=\"\">Russia</td><td colspan=\"1\" rowspan=\"1\" class=\"\">55.7485</td><td colspan=\"1\" rowspan=\"1\" class=\"\">37.6184</td></tr>\n",
       "<tr><td colspan=\"1\" rowspan=\"1\" class=\"\">176.74.176.187</td><td colspan=\"1\" rowspan=\"1\" class=\"\">United Kingdom</td><td colspan=\"1\" rowspan=\"1\" class=\"\">51.4964</td><td colspan=\"1\" rowspan=\"1\" class=\"\">-0.1224</td></tr>\n",
       "<tr><td colspan=\"1\" rowspan=\"1\" class=\"\">170.178.178.55</td><td colspan=\"1\" rowspan=\"1\" class=\"\">United States</td><td colspan=\"1\" rowspan=\"1\" class=\"\">36.0768</td><td colspan=\"1\" rowspan=\"1\" class=\"\">-115.0891</td></tr>\n",
       "<tr><td colspan=\"1\" rowspan=\"1\" class=\"\">209.99.64.43</td><td colspan=\"1\" rowspan=\"1\" class=\"\">United States</td><td colspan=\"1\" rowspan=\"1\" class=\"\">30.2643</td><td colspan=\"1\" rowspan=\"1\" class=\"\">-97.7138</td></tr>\n",
       "<tr><td colspan=\"1\" rowspan=\"1\" class=\"\">134.20.175.12</td><td colspan=\"1\" rowspan=\"1\" class=\"\">United States</td><td colspan=\"1\" rowspan=\"1\" class=\"\">43.3233</td><td colspan=\"1\" rowspan=\"1\" class=\"\">-111.7822</td></tr>\n",
       "<tr><td colspan=\"1\" rowspan=\"1\" class=\"\">23.236.62.147</td><td colspan=\"1\" rowspan=\"1\" class=\"\">United States</td><td colspan=\"1\" rowspan=\"1\" class=\"\">37.4192</td><td colspan=\"1\" rowspan=\"1\" class=\"\">-122.0574</td></tr>\n",
       "<tr><td colspan=\"1\" rowspan=\"1\" class=\"\">209.129.31.34</td><td colspan=\"1\" rowspan=\"1\" class=\"\">United States</td><td colspan=\"1\" rowspan=\"1\" class=\"\">33.2004</td><td colspan=\"1\" rowspan=\"1\" class=\"\">-117.2907</td></tr>\n",
       "<tr><td colspan=\"1\" rowspan=\"1\" class=\"\">205.212.115.106</td><td colspan=\"1\" rowspan=\"1\" class=\"\">United States</td><td colspan=\"1\" rowspan=\"1\" class=\"\">39.6237</td><td colspan=\"1\" rowspan=\"1\" class=\"\">-104.8738</td></tr>\n",
       "<tr><td colspan=\"1\" rowspan=\"1\" class=\"\">199.120.91.6</td><td colspan=\"1\" rowspan=\"1\" class=\"\">United States</td><td colspan=\"1\" rowspan=\"1\" class=\"\">41.9106</td><td colspan=\"1\" rowspan=\"1\" class=\"\">-91.7142</td></tr>\n",
       "<tr><td colspan=\"1\" rowspan=\"1\" class=\"\">163.205.78.13</td><td colspan=\"1\" rowspan=\"1\" class=\"\">United States</td><td colspan=\"1\" rowspan=\"1\" class=\"\">28.4718</td><td colspan=\"1\" rowspan=\"1\" class=\"\">-80.8167</td></tr>\n",
       "<tr><td colspan=\"1\" rowspan=\"1\" class=\"\">156.151.176.45</td><td colspan=\"1\" rowspan=\"1\" class=\"\">United States</td><td colspan=\"1\" rowspan=\"1\" class=\"\">37.5331</td><td colspan=\"1\" rowspan=\"1\" class=\"\">-122.2471</td></tr>\n",
       "<tr><td colspan=\"1\" rowspan=\"1\" class=\"\">129.93.165.2</td><td colspan=\"1\" rowspan=\"1\" class=\"\">United States</td><td colspan=\"1\" rowspan=\"1\" class=\"\">40.8</td><td colspan=\"1\" rowspan=\"1\" class=\"\">-96.667</td></tr>\n",
       "<tr><td colspan=\"1\" rowspan=\"1\" class=\"\">204.248.98.63</td><td colspan=\"1\" rowspan=\"1\" class=\"\">United States</td><td colspan=\"1\" rowspan=\"1\" class=\"\">37.751</td><td colspan=\"1\" rowspan=\"1\" class=\"\">-97.822</td></tr>\n",
       "<tr><td colspan=\"1\" rowspan=\"1\" class=\"\">204.212.132.27</td><td colspan=\"1\" rowspan=\"1\" class=\"\">United States</td><td colspan=\"1\" rowspan=\"1\" class=\"\">37.751</td><td colspan=\"1\" rowspan=\"1\" class=\"\">-97.822</td></tr>\n",
       "<tr><td colspan=\"1\" rowspan=\"1\" class=\"\">206.173.119.101</td><td colspan=\"1\" rowspan=\"1\" class=\"\">United States</td><td colspan=\"1\" rowspan=\"1\" class=\"\">37.751</td><td colspan=\"1\" rowspan=\"1\" class=\"\">-97.822</td></tr>\n",
       "<tr><td colspan=\"1\" rowspan=\"1\" class=\"\">144.191.237.17</td><td colspan=\"1\" rowspan=\"1\" class=\"\">United States</td><td colspan=\"1\" rowspan=\"1\" class=\"\">37.751</td><td colspan=\"1\" rowspan=\"1\" class=\"\">-97.822</td></tr>\n",
       "<tr><td colspan=\"1\" rowspan=\"1\" class=\"\">147.31.254.131</td><td colspan=\"1\" rowspan=\"1\" class=\"\">United States</td><td colspan=\"1\" rowspan=\"1\" class=\"\">39.8489</td><td colspan=\"1\" rowspan=\"1\" class=\"\">-75.3823</td></tr>\n",
       "<tr><td colspan=\"1\" rowspan=\"1\" class=\"\">184.168.221.96</td><td colspan=\"1\" rowspan=\"1\" class=\"\">United States</td><td colspan=\"1\" rowspan=\"1\" class=\"\">33.6119</td><td colspan=\"1\" rowspan=\"1\" class=\"\">-111.8906</td></tr>\n",
       "<tr><td colspan=\"1\" rowspan=\"1\" class=\"\">204.120.34.71</td><td colspan=\"1\" rowspan=\"1\" class=\"\">United States</td><td colspan=\"1\" rowspan=\"1\" class=\"\">37.751</td><td colspan=\"1\" rowspan=\"1\" class=\"\">-97.822</td></tr>\n",
       "<tr><td colspan=\"1\" rowspan=\"1\" class=\"\">63.249.92.87</td><td colspan=\"1\" rowspan=\"1\" class=\"\">United States</td><td colspan=\"1\" rowspan=\"1\" class=\"\">36.9713</td><td colspan=\"1\" rowspan=\"1\" class=\"\">-121.9875</td></tr>\n",
       "<tr><td colspan=\"1\" rowspan=\"1\" class=\"\">205.157.131.144</td><td colspan=\"1\" rowspan=\"1\" class=\"\">United States</td><td colspan=\"1\" rowspan=\"1\" class=\"\">39.6237</td><td colspan=\"1\" rowspan=\"1\" class=\"\">-104.8738</td></tr>\n",
       "<tr><td colspan=\"1\" rowspan=\"1\" class=\"\">205.147.133.13</td><td colspan=\"1\" rowspan=\"1\" class=\"\">United States</td><td colspan=\"1\" rowspan=\"1\" class=\"\">40.5516</td><td colspan=\"1\" rowspan=\"1\" class=\"\">-74.4637</td></tr>\n",
       "<tr><td colspan=\"1\" rowspan=\"1\" class=\"\">192.64.147.208</td><td colspan=\"1\" rowspan=\"1\" class=\"\">United States</td><td colspan=\"1\" rowspan=\"1\" class=\"\">28.0043</td><td colspan=\"1\" rowspan=\"1\" class=\"\">-82.546</td></tr>\n",
       "<tr><td colspan=\"1\" rowspan=\"1\" class=\"\">204.212.154.177</td><td colspan=\"1\" rowspan=\"1\" class=\"\">United States</td><td colspan=\"1\" rowspan=\"1\" class=\"\">37.751</td><td colspan=\"1\" rowspan=\"1\" class=\"\">-97.822</td></tr>\n",
       "<tr><td colspan=\"1\" rowspan=\"1\" class=\"\">199.3.65.7</td><td colspan=\"1\" rowspan=\"1\" class=\"\">United States</td><td colspan=\"1\" rowspan=\"1\" class=\"\">37.751</td><td colspan=\"1\" rowspan=\"1\" class=\"\">-97.822</td></tr>\n",
       "<tr><td colspan=\"1\" rowspan=\"1\" class=\"\">129.193.116.41</td><td colspan=\"1\" rowspan=\"1\" class=\"\">United States</td><td colspan=\"1\" rowspan=\"1\" class=\"\">33.8743</td><td colspan=\"1\" rowspan=\"1\" class=\"\">-118.3721</td></tr>\n",
       "<tr><td colspan=\"1\" rowspan=\"1\" class=\"\">173.160.130.2</td><td colspan=\"1\" rowspan=\"1\" class=\"\">United States</td><td colspan=\"1\" rowspan=\"1\" class=\"\">47.5013</td><td colspan=\"1\" rowspan=\"1\" class=\"\">-122.0065</td></tr>\n",
       "<tr><td colspan=\"1\" rowspan=\"1\" class=\"\">199.181.132.250</td><td colspan=\"1\" rowspan=\"1\" class=\"\">United States</td><td colspan=\"1\" rowspan=\"1\" class=\"\">33.7866</td><td colspan=\"1\" rowspan=\"1\" class=\"\">-118.2987</td></tr>\n",
       "<tr><td colspan=\"1\" rowspan=\"1\" class=\"\">199.3.65.5</td><td colspan=\"1\" rowspan=\"1\" class=\"\">United States</td><td colspan=\"1\" rowspan=\"1\" class=\"\">37.751</td><td colspan=\"1\" rowspan=\"1\" class=\"\">-97.822</td></tr>\n",
       "<tr><td colspan=\"1\" rowspan=\"1\" class=\"\">156.42.141.48</td><td colspan=\"1\" rowspan=\"1\" class=\"\">United States</td><td colspan=\"1\" rowspan=\"1\" class=\"\">33.4549</td><td colspan=\"1\" rowspan=\"1\" class=\"\">-112.0777</td></tr>\n",
       "<tr><td colspan=\"1\" rowspan=\"1\" class=\"\">206.188.193.206</td><td colspan=\"1\" rowspan=\"1\" class=\"\">United States</td><td colspan=\"1\" rowspan=\"1\" class=\"\">30.1438</td><td colspan=\"1\" rowspan=\"1\" class=\"\">-81.5401</td></tr>\n",
       "<tr><td colspan=\"1\" rowspan=\"1\" class=\"\">128.196.250.28</td><td colspan=\"1\" rowspan=\"1\" class=\"\">United States</td><td colspan=\"1\" rowspan=\"1\" class=\"\">32.2338</td><td colspan=\"1\" rowspan=\"1\" class=\"\">-110.95</td></tr>\n",
       "<tr><td colspan=\"1\" rowspan=\"1\" class=\"\">184.172.156.232</td><td colspan=\"1\" rowspan=\"1\" class=\"\">United States</td><td colspan=\"1\" rowspan=\"1\" class=\"\">32.7787</td><td colspan=\"1\" rowspan=\"1\" class=\"\">-96.8217</td></tr>\n",
       "<tr><td colspan=\"1\" rowspan=\"1\" class=\"\">204.227.13.50</td><td colspan=\"1\" rowspan=\"1\" class=\"\">United States</td><td colspan=\"1\" rowspan=\"1\" class=\"\">39.7525</td><td colspan=\"1\" rowspan=\"1\" class=\"\">-104.9995</td></tr>\n",
       "<tr><td colspan=\"1\" rowspan=\"1\" class=\"\">128.196.175.141</td><td colspan=\"1\" rowspan=\"1\" class=\"\">United States</td><td colspan=\"1\" rowspan=\"1\" class=\"\">32.2338</td><td colspan=\"1\" rowspan=\"1\" class=\"\">-110.95</td></tr>\n",
       "<tr><td colspan=\"1\" rowspan=\"1\" class=\"\">204.212.254.71</td><td colspan=\"1\" rowspan=\"1\" class=\"\">United States</td><td colspan=\"1\" rowspan=\"1\" class=\"\">37.751</td><td colspan=\"1\" rowspan=\"1\" class=\"\">-97.822</td></tr>\n",
       "<tr><td colspan=\"1\" rowspan=\"1\" class=\"\">156.151.176.30</td><td colspan=\"1\" rowspan=\"1\" class=\"\">United States</td><td colspan=\"1\" rowspan=\"1\" class=\"\">37.5331</td><td colspan=\"1\" rowspan=\"1\" class=\"\">-122.2471</td></tr>\n",
       "<tr><td colspan=\"1\" rowspan=\"1\" class=\"\">184.105.135.196</td><td colspan=\"1\" rowspan=\"1\" class=\"\">United States</td><td colspan=\"1\" rowspan=\"1\" class=\"\">37.5497</td><td colspan=\"1\" rowspan=\"1\" class=\"\">-121.9621</td></tr>\n",
       "<tr><td colspan=\"1\" rowspan=\"1\" class=\"\">104.199.126.236</td><td colspan=\"1\" rowspan=\"1\" class=\"\">United States</td><td colspan=\"1\" rowspan=\"1\" class=\"\">37.4192</td><td colspan=\"1\" rowspan=\"1\" class=\"\">-122.0574</td></tr>\n",
       "<tr><td colspan=\"1\" rowspan=\"1\" class=\"\">204.157.204.186</td><td colspan=\"1\" rowspan=\"1\" class=\"\">United States</td><td colspan=\"1\" rowspan=\"1\" class=\"\">38.9014</td><td colspan=\"1\" rowspan=\"1\" class=\"\">-77.0526</td></tr>\n",
       "<tr><td colspan=\"1\" rowspan=\"1\" class=\"\">139.121.119.19</td><td colspan=\"1\" rowspan=\"1\" class=\"\">United States</td><td colspan=\"1\" rowspan=\"1\" class=\"\">38.9499</td><td colspan=\"1\" rowspan=\"1\" class=\"\">-77.2223</td></tr>\n",
       "<tr><td colspan=\"1\" rowspan=\"1\" class=\"\">129.188.154.200</td><td colspan=\"1\" rowspan=\"1\" class=\"\">United States</td><td colspan=\"1\" rowspan=\"1\" class=\"\">42.0564</td><td colspan=\"1\" rowspan=\"1\" class=\"\">-88.0725</td></tr>\n",
       "<tr><td colspan=\"1\" rowspan=\"1\" class=\"\">204.134.97.29</td><td colspan=\"1\" rowspan=\"1\" class=\"\">United States</td><td colspan=\"1\" rowspan=\"1\" class=\"\">35.0757</td><td colspan=\"1\" rowspan=\"1\" class=\"\">-106.6406</td></tr>\n",
       "<tr><td colspan=\"1\" rowspan=\"1\" class=\"\">205.184.190.47</td><td colspan=\"1\" rowspan=\"1\" class=\"\">United States</td><td colspan=\"1\" rowspan=\"1\" class=\"\">37.751</td><td colspan=\"1\" rowspan=\"1\" class=\"\">-97.822</td></tr>\n",
       "<tr><td colspan=\"1\" rowspan=\"1\" class=\"\">173.255.230.74</td><td colspan=\"1\" rowspan=\"1\" class=\"\">United States</td><td colspan=\"1\" rowspan=\"1\" class=\"\">40.7357</td><td colspan=\"1\" rowspan=\"1\" class=\"\">-74.1724</td></tr>\n",
       "<tr><td colspan=\"1\" rowspan=\"1\" class=\"\">66.109.28.30</td><td colspan=\"1\" rowspan=\"1\" class=\"\">United States</td><td colspan=\"1\" rowspan=\"1\" class=\"\">40.657</td><td colspan=\"1\" rowspan=\"1\" class=\"\">-74.008</td></tr>\n",
       "<tr><td colspan=\"1\" rowspan=\"1\" class=\"\">72.52.4.122</td><td colspan=\"1\" rowspan=\"1\" class=\"\">United States</td><td colspan=\"1\" rowspan=\"1\" class=\"\">42.3626</td><td colspan=\"1\" rowspan=\"1\" class=\"\">-71.0843</td></tr>\n",
       "<tr><td colspan=\"1\" rowspan=\"1\" class=\"\">72.52.4.122</td><td colspan=\"1\" rowspan=\"1\" class=\"\">United States</td><td colspan=\"1\" rowspan=\"1\" class=\"\">42.3626</td><td colspan=\"1\" rowspan=\"1\" class=\"\">-71.0843</td></tr>\n",
       "<tr><td colspan=\"1\" rowspan=\"1\" class=\"\">204.227.13.26</td><td colspan=\"1\" rowspan=\"1\" class=\"\">United States</td><td colspan=\"1\" rowspan=\"1\" class=\"\">39.7525</td><td colspan=\"1\" rowspan=\"1\" class=\"\">-104.9995</td></tr>\n",
       "<tr><td colspan=\"1\" rowspan=\"1\" class=\"\">68.178.213.61</td><td colspan=\"1\" rowspan=\"1\" class=\"\">United States</td><td colspan=\"1\" rowspan=\"1\" class=\"\">33.6119</td><td colspan=\"1\" rowspan=\"1\" class=\"\">-111.8906</td></tr>\n",
       "<tr><td colspan=\"1\" rowspan=\"1\" class=\"\">205.188.0.173</td><td colspan=\"1\" rowspan=\"1\" class=\"\">United States</td><td colspan=\"1\" rowspan=\"1\" class=\"\">37.751</td><td colspan=\"1\" rowspan=\"1\" class=\"\">-97.822</td></tr>\n",
       "<tr><td colspan=\"1\" rowspan=\"1\" class=\"\">139.169.183.42</td><td colspan=\"1\" rowspan=\"1\" class=\"\">United States</td><td colspan=\"1\" rowspan=\"1\" class=\"\">29.5672</td><td colspan=\"1\" rowspan=\"1\" class=\"\">-95.0925</td></tr>\n",
       "<tr><td colspan=\"1\" rowspan=\"1\" class=\"\">63.208.208.149</td><td colspan=\"1\" rowspan=\"1\" class=\"\">United States</td><td colspan=\"1\" rowspan=\"1\" class=\"\">37.751</td><td colspan=\"1\" rowspan=\"1\" class=\"\">-97.822</td></tr>\n",
       "<tr><td colspan=\"1\" rowspan=\"1\" class=\"\">204.131.81.135</td><td colspan=\"1\" rowspan=\"1\" class=\"\">United States</td><td colspan=\"1\" rowspan=\"1\" class=\"\">37.751</td><td colspan=\"1\" rowspan=\"1\" class=\"\">-97.822</td></tr>\n",
       "<tr><td colspan=\"1\" rowspan=\"1\" class=\"\">128.187.140.171</td><td colspan=\"1\" rowspan=\"1\" class=\"\">United States</td><td colspan=\"1\" rowspan=\"1\" class=\"\">40.3563</td><td colspan=\"1\" rowspan=\"1\" class=\"\">-111.7325</td></tr>\n",
       "<tr><td colspan=\"1\" rowspan=\"1\" class=\"\">69.64.147.24</td><td colspan=\"1\" rowspan=\"1\" class=\"\">United States</td><td colspan=\"1\" rowspan=\"1\" class=\"\">47.6727</td><td colspan=\"1\" rowspan=\"1\" class=\"\">-122.1873</td></tr>\n",
       "</table>"
      ],
      "text/plain": [
       "<raw_magic.nested_table.NestedTable at 0x7f67999a83c8>"
      ]
     },
     "execution_count": 7,
     "metadata": {},
     "output_type": "execute_result"
    }
   ],
   "source": [
    "%%query\n",
    "ips := (SELECT DISTINCT host FROM logs) PARSE AS r\"\"\"(\\d+\\.\\d+\\.\\d+\\.\\d+)\"\"\" SKIP ON FAIL;\n",
    "\n",
    "locations := read(\"s3://raw-tutorial/ipython-demos/ip_locations.json\");\n",
    "\n",
    "SELECT  ip, country_name as country, latitude, longitude FROM ips p, locations \n",
    "WHERE p = ip and country_name IS NOT NULL\n",
    "ORDER BY country\n"
   ]
  },
  {
   "cell_type": "code",
   "execution_count": null,
   "metadata": {},
   "outputs": [],
   "source": []
  }
 ],
 "metadata": {
  "kernelspec": {
   "display_name": "Python 3",
   "language": "python",
   "name": "python3"
  },
  "language_info": {
   "codemirror_mode": {
    "name": "ipython",
    "version": 3
   },
   "file_extension": ".py",
   "mimetype": "text/x-python",
   "name": "python",
   "nbconvert_exporter": "python",
   "pygments_lexer": "ipython3",
   "version": "3.6.9"
  }
 },
 "nbformat": 4,
 "nbformat_minor": 2
}
