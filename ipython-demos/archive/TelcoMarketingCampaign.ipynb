{
 "cells": [
  {
   "cell_type": "markdown",
   "metadata": {},
   "source": [
    "A person from marketing is preparing a campaign and is working its budget allocations per city using [an Excel file](https://www.dropbox.com/s/ssjxk3j58iuwfai/campaign.xlsx?dl=1).\n",
    "The person would like to augment the data using external sources in order to get a better plan."
   ]
  },
  {
   "cell_type": "code",
   "execution_count": 8,
   "metadata": {},
   "outputs": [
    {
     "name": "stdout",
     "output_type": "stream",
     "text": [
      "The raw_magic extension is already loaded. To reload it, use:\n",
      "  %reload_ext raw_magic\n"
     ]
    }
   ],
   "source": [
    "%load_ext raw_magic"
   ]
  },
  {
   "cell_type": "code",
   "execution_count": 9,
   "metadata": {},
   "outputs": [
    {
     "name": "stdout",
     "output_type": "stream",
     "text": [
      "API error: S3 credentials already exists\n"
     ]
    }
   ],
   "source": [
    "%buckets_register raw-tutorial"
   ]
  },
  {
   "cell_type": "code",
   "execution_count": 3,
   "metadata": {},
   "outputs": [],
   "source": [
    "%%view campaign\n",
    "SELECT *\n",
    "FROM read_excel(\"s3://raw-tutorial/ipython-demos/campaign.xlsx\", cache := interval \"1 day\")"
   ]
  },
  {
   "cell_type": "code",
   "execution_count": 4,
   "metadata": {},
   "outputs": [
    {
     "data": {
      "text/html": [
       "<table class=\"nested-table\">\n",
       "<tr><th colspan=\"1\" rowspan=\"1\">Location</th><th colspan=\"1\" rowspan=\"1\">PrintMedia</th><th colspan=\"1\" rowspan=\"1\">SocialMedia</th><th colspan=\"1\" rowspan=\"1\">Radio</th><th colspan=\"1\" rowspan=\"1\">Television</th><th colspan=\"1\" rowspan=\"1\">Total</th></tr>\n",
       "<tr><td colspan=\"1\" rowspan=\"1\" class=\"\">Basel</td><td colspan=\"1\" rowspan=\"1\" class=\"\">102.0</td><td colspan=\"1\" rowspan=\"1\" class=\"\">52.0</td><td colspan=\"1\" rowspan=\"1\" class=\"\">102.0</td><td colspan=\"1\" rowspan=\"1\" class=\"\">202.0</td><td colspan=\"1\" rowspan=\"1\" class=\"\">458.0</td></tr>\n",
       "<tr><td colspan=\"1\" rowspan=\"1\" class=\"\">Fribourg</td><td colspan=\"1\" rowspan=\"1\" class=\"\">105.0</td><td colspan=\"1\" rowspan=\"1\" class=\"\">55.0</td><td colspan=\"1\" rowspan=\"1\" class=\"\">105.0</td><td colspan=\"1\" rowspan=\"1\" class=\"\">205.0</td><td colspan=\"1\" rowspan=\"1\" class=\"\">470.0</td></tr>\n",
       "<tr><td colspan=\"1\" rowspan=\"1\" class=\"\">Geneve</td><td colspan=\"1\" rowspan=\"1\" class=\"\">100.0</td><td colspan=\"1\" rowspan=\"1\" class=\"\">50.0</td><td colspan=\"1\" rowspan=\"1\" class=\"\">100.0</td><td colspan=\"1\" rowspan=\"1\" class=\"\">200.0</td><td colspan=\"1\" rowspan=\"1\" class=\"\">450.0</td></tr>\n",
       "<tr><td colspan=\"1\" rowspan=\"1\" class=\"\">Lausanne</td><td colspan=\"1\" rowspan=\"1\" class=\"\">103.0</td><td colspan=\"1\" rowspan=\"1\" class=\"\">53.0</td><td colspan=\"1\" rowspan=\"1\" class=\"\">103.0</td><td colspan=\"1\" rowspan=\"1\" class=\"\">203.0</td><td colspan=\"1\" rowspan=\"1\" class=\"\">462.0</td></tr>\n",
       "<tr><td colspan=\"1\" rowspan=\"1\" class=\"\">Luzern</td><td colspan=\"1\" rowspan=\"1\" class=\"\">104.0</td><td colspan=\"1\" rowspan=\"1\" class=\"\">54.0</td><td colspan=\"1\" rowspan=\"1\" class=\"\">104.0</td><td colspan=\"1\" rowspan=\"1\" class=\"\">204.0</td><td colspan=\"1\" rowspan=\"1\" class=\"\">466.0</td></tr>\n",
       "<tr><td colspan=\"1\" rowspan=\"1\" class=\"\">Neuchatel</td><td colspan=\"1\" rowspan=\"1\" class=\"\">106.0</td><td colspan=\"1\" rowspan=\"1\" class=\"\">56.0</td><td colspan=\"1\" rowspan=\"1\" class=\"\">106.0</td><td colspan=\"1\" rowspan=\"1\" class=\"\">206.0</td><td colspan=\"1\" rowspan=\"1\" class=\"\">474.0</td></tr>\n",
       "<tr><td colspan=\"1\" rowspan=\"1\" class=\"\">Zug</td><td colspan=\"1\" rowspan=\"1\" class=\"\">107.0</td><td colspan=\"1\" rowspan=\"1\" class=\"\">57.0</td><td colspan=\"1\" rowspan=\"1\" class=\"\">107.0</td><td colspan=\"1\" rowspan=\"1\" class=\"\">207.0</td><td colspan=\"1\" rowspan=\"1\" class=\"\">478.0</td></tr>\n",
       "<tr><td colspan=\"1\" rowspan=\"1\" class=\"\">Zurich</td><td colspan=\"1\" rowspan=\"1\" class=\"\">101.0</td><td colspan=\"1\" rowspan=\"1\" class=\"\">51.0</td><td colspan=\"1\" rowspan=\"1\" class=\"\">101.0</td><td colspan=\"1\" rowspan=\"1\" class=\"\">201.0</td><td colspan=\"1\" rowspan=\"1\" class=\"\">454.0</td></tr>\n",
       "</table>"
      ],
      "text/plain": [
       "<raw_magic.nested_table.NestedTable at 0x7f32500ebcf8>"
      ]
     },
     "execution_count": 4,
     "metadata": {},
     "output_type": "execute_result"
    }
   ],
   "source": [
    "%%query\n",
    "SELECT *\n",
    "FROM campaign\n",
    "ORDER BY Location"
   ]
  },
  {
   "cell_type": "markdown",
   "metadata": {},
   "source": [
    "CDR information could be used to get interesting statistics about phone calls in regions where the campaign is going to take place. It is found in large text log files.\n",
    "```\n",
    "59cc3bd800e83d965300166d|928147382718783|928147382718999|2016-07-05 00:01:41|2016-07-05 00:01:41|call\n",
    "59cc3bd700e83d9653001614|928147382720125|928147382719444|2016-07-05 00:03:25|2016-07-05 00:12:17|call\n",
    "59cc3bf2f0b8ac50d1001781|928147382719070|928147382720180|2016-07-05 00:04:52|2016-07-05 00:04:54|SMS\n",
    "59cc3bd800e83d965300164e|928147382718877|928147382719907|2016-07-05 00:07:23|2016-07-05 00:07:24|SMS\n",
    "59cc3bdb00e83d9653001712|928147382719498|928147382719102|2016-07-05 00:07:29|2016-07-05 00:07:29|SMS\n",
    "59cc3becf0b8ac50d100165b|928147382719541|928147382720077|2016-07-05 00:08:50|2016-07-05 00:11:00|call\n",
    "59cc3bd900e83d965300168b|928147382719249|928147382719136|2016-07-05 00:12:25|2016-07-05 00:12:25|SMS\n",
    "59cc3bf1f0b8ac50d100175a|928147382718251|928147382718436|2016-07-05 00:12:57|2016-07-05 00:16:58|call\n",
    "59cc3bda00e83d96530016d9|928147382718421|928147382719367|2016-07-05 00:13:13|2016-07-05 00:13:15|SMS\n",
    "59cc3bd900e83d9653001687|928147382719942|928147382718754|2016-07-05 00:13:21|2016-07-05 00:17:49|call\n",
    "59cc3becf0b8ac50d1001658|928147382718600|928147382718599|2016-07-05 00:13:49|2016-07-05 00:14:01|call\n",
    "```\n",
    "CSV files can be easily loaded in RAW (using `read_csv`). As the files do not have a header, it's added using the `INTO` keyword, and the query also takes care of parsing timestamps."
   ]
  },
  {
   "cell_type": "code",
   "execution_count": 5,
   "metadata": {},
   "outputs": [],
   "source": [
    "%%view cdr\n",
    "    SELECT *\n",
    "    FROM read_csv(\"s3://raw-tutorial/ipython-demos/CDR.txt\", cache := interval \"1 day\")\n",
    "    INTO (\n",
    "        tower: _1, caller: _2, callee: _3,\n",
    "        start: to_timestamp(_4, \"yyyy-MM-dd HH:mm:ss\"),\n",
    "        end: to_timestamp(_5, \"yyyy-MM-dd HH:mm:ss\"),\n",
    "        type: _6\n",
    "    )"
   ]
  },
  {
   "cell_type": "code",
   "execution_count": 6,
   "metadata": {},
   "outputs": [
    {
     "data": {
      "text/html": [
       "<table class=\"nested-table\">\n",
       "<tr><th colspan=\"1\" rowspan=\"1\">tower</th><th colspan=\"1\" rowspan=\"1\">caller</th><th colspan=\"1\" rowspan=\"1\">callee</th><th colspan=\"1\" rowspan=\"1\">start</th><th colspan=\"1\" rowspan=\"1\">end</th><th colspan=\"1\" rowspan=\"1\">type</th></tr>\n",
       "<tr><td colspan=\"1\" rowspan=\"1\" class=\"\">59cc3bd800e83d965300166d</td><td colspan=\"1\" rowspan=\"1\" class=\"\">928147382718783</td><td colspan=\"1\" rowspan=\"1\" class=\"\">928147382718999</td><td colspan=\"1\" rowspan=\"1\" class=\"\">2016-07-05 00:01:41</td><td colspan=\"1\" rowspan=\"1\" class=\"\">2016-07-05 00:01:41</td><td colspan=\"1\" rowspan=\"1\" class=\"\">call</td></tr>\n",
       "<tr><td colspan=\"1\" rowspan=\"1\" class=\"\">59cc3bd700e83d9653001614</td><td colspan=\"1\" rowspan=\"1\" class=\"\">928147382720125</td><td colspan=\"1\" rowspan=\"1\" class=\"\">928147382719444</td><td colspan=\"1\" rowspan=\"1\" class=\"\">2016-07-05 00:03:25</td><td colspan=\"1\" rowspan=\"1\" class=\"\">2016-07-05 00:12:17</td><td colspan=\"1\" rowspan=\"1\" class=\"\">call</td></tr>\n",
       "<tr><td colspan=\"1\" rowspan=\"1\" class=\"\">59cc3bf2f0b8ac50d1001781</td><td colspan=\"1\" rowspan=\"1\" class=\"\">928147382719070</td><td colspan=\"1\" rowspan=\"1\" class=\"\">928147382720180</td><td colspan=\"1\" rowspan=\"1\" class=\"\">2016-07-05 00:04:52</td><td colspan=\"1\" rowspan=\"1\" class=\"\">2016-07-05 00:04:54</td><td colspan=\"1\" rowspan=\"1\" class=\"\">SMS</td></tr>\n",
       "<tr><td colspan=\"1\" rowspan=\"1\" class=\"\">59cc3bd800e83d965300164e</td><td colspan=\"1\" rowspan=\"1\" class=\"\">928147382718877</td><td colspan=\"1\" rowspan=\"1\" class=\"\">928147382719907</td><td colspan=\"1\" rowspan=\"1\" class=\"\">2016-07-05 00:07:23</td><td colspan=\"1\" rowspan=\"1\" class=\"\">2016-07-05 00:07:24</td><td colspan=\"1\" rowspan=\"1\" class=\"\">SMS</td></tr>\n",
       "<tr><td colspan=\"1\" rowspan=\"1\" class=\"\">59cc3bdb00e83d9653001712</td><td colspan=\"1\" rowspan=\"1\" class=\"\">928147382719498</td><td colspan=\"1\" rowspan=\"1\" class=\"\">928147382719102</td><td colspan=\"1\" rowspan=\"1\" class=\"\">2016-07-05 00:07:29</td><td colspan=\"1\" rowspan=\"1\" class=\"\">2016-07-05 00:07:29</td><td colspan=\"1\" rowspan=\"1\" class=\"\">SMS</td></tr>\n",
       "<tr><td colspan=\"1\" rowspan=\"1\" class=\"\">59cc3becf0b8ac50d100165b</td><td colspan=\"1\" rowspan=\"1\" class=\"\">928147382719541</td><td colspan=\"1\" rowspan=\"1\" class=\"\">928147382720077</td><td colspan=\"1\" rowspan=\"1\" class=\"\">2016-07-05 00:08:50</td><td colspan=\"1\" rowspan=\"1\" class=\"\">2016-07-05 00:11:00</td><td colspan=\"1\" rowspan=\"1\" class=\"\">call</td></tr>\n",
       "<tr><td colspan=\"1\" rowspan=\"1\" class=\"\">59cc3bd900e83d965300168b</td><td colspan=\"1\" rowspan=\"1\" class=\"\">928147382719249</td><td colspan=\"1\" rowspan=\"1\" class=\"\">928147382719136</td><td colspan=\"1\" rowspan=\"1\" class=\"\">2016-07-05 00:12:25</td><td colspan=\"1\" rowspan=\"1\" class=\"\">2016-07-05 00:12:25</td><td colspan=\"1\" rowspan=\"1\" class=\"\">SMS</td></tr>\n",
       "<tr><td colspan=\"1\" rowspan=\"1\" class=\"\">59cc3bf1f0b8ac50d100175a</td><td colspan=\"1\" rowspan=\"1\" class=\"\">928147382718251</td><td colspan=\"1\" rowspan=\"1\" class=\"\">928147382718436</td><td colspan=\"1\" rowspan=\"1\" class=\"\">2016-07-05 00:12:57</td><td colspan=\"1\" rowspan=\"1\" class=\"\">2016-07-05 00:16:58</td><td colspan=\"1\" rowspan=\"1\" class=\"\">call</td></tr>\n",
       "<tr><td colspan=\"1\" rowspan=\"1\" class=\"\">59cc3bda00e83d96530016d9</td><td colspan=\"1\" rowspan=\"1\" class=\"\">928147382718421</td><td colspan=\"1\" rowspan=\"1\" class=\"\">928147382719367</td><td colspan=\"1\" rowspan=\"1\" class=\"\">2016-07-05 00:13:13</td><td colspan=\"1\" rowspan=\"1\" class=\"\">2016-07-05 00:13:15</td><td colspan=\"1\" rowspan=\"1\" class=\"\">SMS</td></tr>\n",
       "<tr><td colspan=\"1\" rowspan=\"1\" class=\"\">59cc3bd900e83d9653001687</td><td colspan=\"1\" rowspan=\"1\" class=\"\">928147382719942</td><td colspan=\"1\" rowspan=\"1\" class=\"\">928147382718754</td><td colspan=\"1\" rowspan=\"1\" class=\"\">2016-07-05 00:13:21</td><td colspan=\"1\" rowspan=\"1\" class=\"\">2016-07-05 00:17:49</td><td colspan=\"1\" rowspan=\"1\" class=\"\">call</td></tr>\n",
       "<tr><td colspan=\"1\" rowspan=\"1\" class=\"\">59cc3becf0b8ac50d1001658</td><td colspan=\"1\" rowspan=\"1\" class=\"\">928147382718600</td><td colspan=\"1\" rowspan=\"1\" class=\"\">928147382718599</td><td colspan=\"1\" rowspan=\"1\" class=\"\">2016-07-05 00:13:49</td><td colspan=\"1\" rowspan=\"1\" class=\"\">2016-07-05 00:14:01</td><td colspan=\"1\" rowspan=\"1\" class=\"\">call</td></tr>\n",
       "<tr><td colspan=\"1\" rowspan=\"1\" class=\"\">59cc3bf1f0b8ac50d100174e</td><td colspan=\"1\" rowspan=\"1\" class=\"\">928147382718901</td><td colspan=\"1\" rowspan=\"1\" class=\"\">928147382719082</td><td colspan=\"1\" rowspan=\"1\" class=\"\">2016-07-05 00:18:53</td><td colspan=\"1\" rowspan=\"1\" class=\"\">2016-07-05 00:18:54</td><td colspan=\"1\" rowspan=\"1\" class=\"\">SMS</td></tr>\n",
       "<tr><td colspan=\"1\" rowspan=\"1\" class=\"\">59cc3bdc00e83d965300175a</td><td colspan=\"1\" rowspan=\"1\" class=\"\">928147382720208</td><td colspan=\"1\" rowspan=\"1\" class=\"\">928147382719558</td><td colspan=\"1\" rowspan=\"1\" class=\"\">2016-07-05 00:21:37</td><td colspan=\"1\" rowspan=\"1\" class=\"\">2016-07-05 00:22:17</td><td colspan=\"1\" rowspan=\"1\" class=\"\">call</td></tr>\n",
       "<tr><td colspan=\"1\" rowspan=\"1\" class=\"\">59cc3bd800e83d9653001641</td><td colspan=\"1\" rowspan=\"1\" class=\"\">928147382718293</td><td colspan=\"1\" rowspan=\"1\" class=\"\">928147382719203</td><td colspan=\"1\" rowspan=\"1\" class=\"\">2016-07-05 00:22:48</td><td colspan=\"1\" rowspan=\"1\" class=\"\">2016-07-05 00:25:54</td><td colspan=\"1\" rowspan=\"1\" class=\"\">call</td></tr>\n",
       "<tr><td colspan=\"1\" rowspan=\"1\" class=\"\">59cc3beaf0b8ac50d1001610</td><td colspan=\"1\" rowspan=\"1\" class=\"\">928147382719849</td><td colspan=\"1\" rowspan=\"1\" class=\"\">928147382719563</td><td colspan=\"1\" rowspan=\"1\" class=\"\">2016-07-05 00:23:12</td><td colspan=\"1\" rowspan=\"1\" class=\"\">2016-07-05 00:25:58</td><td colspan=\"1\" rowspan=\"1\" class=\"\">call</td></tr>\n",
       "<tr><td colspan=\"1\" rowspan=\"1\" class=\"\">59cc3beef0b8ac50d10016be</td><td colspan=\"1\" rowspan=\"1\" class=\"\">928147382719830</td><td colspan=\"1\" rowspan=\"1\" class=\"\">928147382718790</td><td colspan=\"1\" rowspan=\"1\" class=\"\">2016-07-05 00:24:41</td><td colspan=\"1\" rowspan=\"1\" class=\"\">2016-07-05 00:32:46</td><td colspan=\"1\" rowspan=\"1\" class=\"\">call</td></tr>\n",
       "<tr><td colspan=\"1\" rowspan=\"1\" class=\"\">59cc3bdb00e83d965300171f</td><td colspan=\"1\" rowspan=\"1\" class=\"\">928147382718676</td><td colspan=\"1\" rowspan=\"1\" class=\"\">928147382719133</td><td colspan=\"1\" rowspan=\"1\" class=\"\">2016-07-05 00:25:08</td><td colspan=\"1\" rowspan=\"1\" class=\"\">2016-07-05 00:26:48</td><td colspan=\"1\" rowspan=\"1\" class=\"\">call</td></tr>\n",
       "<tr><td colspan=\"1\" rowspan=\"1\" class=\"\">59cc3beef0b8ac50d10016bb</td><td colspan=\"1\" rowspan=\"1\" class=\"\">928147382720127</td><td colspan=\"1\" rowspan=\"1\" class=\"\">928147382718449</td><td colspan=\"1\" rowspan=\"1\" class=\"\">2016-07-05 00:26:02</td><td colspan=\"1\" rowspan=\"1\" class=\"\">2016-07-05 00:30:19</td><td colspan=\"1\" rowspan=\"1\" class=\"\">call</td></tr>\n",
       "<tr><td colspan=\"1\" rowspan=\"1\" class=\"\">59cc3beff0b8ac50d1001709</td><td colspan=\"1\" rowspan=\"1\" class=\"\">928147382719315</td><td colspan=\"1\" rowspan=\"1\" class=\"\">928147382718634</td><td colspan=\"1\" rowspan=\"1\" class=\"\">2016-07-05 00:27:35</td><td colspan=\"1\" rowspan=\"1\" class=\"\">2016-07-05 00:27:35</td><td colspan=\"1\" rowspan=\"1\" class=\"\">call</td></tr>\n",
       "<tr><td colspan=\"1\" rowspan=\"1\" class=\"\">59cc3becf0b8ac50d1001670</td><td colspan=\"1\" rowspan=\"1\" class=\"\">928147382718364</td><td colspan=\"1\" rowspan=\"1\" class=\"\">928147382718334</td><td colspan=\"1\" rowspan=\"1\" class=\"\">2016-07-05 00:27:46</td><td colspan=\"1\" rowspan=\"1\" class=\"\">2016-07-05 00:32:35</td><td colspan=\"1\" rowspan=\"1\" class=\"\">call</td></tr>\n",
       "</table>"
      ],
      "text/plain": [
       "<raw_magic.nested_table.NestedTable at 0x7f325009ecf8>"
      ]
     },
     "execution_count": 6,
     "metadata": {},
     "output_type": "execute_result"
    }
   ],
   "source": [
    "%%query\n",
    "SELECT *\n",
    "FROM cdr\n",
    "LIMIT 20"
   ]
  },
  {
   "cell_type": "code",
   "execution_count": 7,
   "metadata": {},
   "outputs": [
    {
     "data": {
      "text/html": [
       "<table class=\"nested-table\">\n",
       "<tr><th colspan=\"1\" rowspan=\"1\">type</th><th colspan=\"1\" rowspan=\"1\">n</th></tr>\n",
       "<tr><td colspan=\"1\" rowspan=\"1\" class=\"\">SMS</td><td colspan=\"1\" rowspan=\"1\" class=\"\">100865</td></tr>\n",
       "<tr><td colspan=\"1\" rowspan=\"1\" class=\"\">call</td><td colspan=\"1\" rowspan=\"1\" class=\"\">99135</td></tr>\n",
       "</table>"
      ],
      "text/plain": [
       "<raw_magic.nested_table.NestedTable at 0x7f32500a1160>"
      ]
     },
     "execution_count": 7,
     "metadata": {},
     "output_type": "execute_result"
    }
   ],
   "source": [
    "%%query\n",
    "SELECT type, COUNT(*) AS n\n",
    "FROM cdr\n",
    "GROUP BY type"
   ]
  },
  {
   "cell_type": "markdown",
   "metadata": {},
   "source": [
    "It can be interesting to focus on \"power users\" of the provider, like those which spend a large amount of time calling."
   ]
  },
  {
   "cell_type": "code",
   "execution_count": 8,
   "metadata": {},
   "outputs": [],
   "source": [
    "%%view power_users\n",
    "SELECT caller\n",
    "FROM cdr\n",
    "GROUP BY caller\n",
    "HAVING SUM(end-start) > interval \"5 hours\""
   ]
  },
  {
   "cell_type": "code",
   "execution_count": 9,
   "metadata": {},
   "outputs": [
    {
     "data": {
      "text/html": [
       "<table class=\"nested-table\">\n",
       "<tr><th colspan=\"1\" rowspan=\"1\">long</th></tr>\n",
       "<tr><td colspan=\"1\" rowspan=\"1\" class=\"\">928147382718261</td></tr>\n",
       "<tr><td colspan=\"1\" rowspan=\"1\" class=\"\">928147382718271</td></tr>\n",
       "<tr><td colspan=\"1\" rowspan=\"1\" class=\"\">928147382718283</td></tr>\n",
       "<tr><td colspan=\"1\" rowspan=\"1\" class=\"\">928147382718293</td></tr>\n",
       "<tr><td colspan=\"1\" rowspan=\"1\" class=\"\">928147382718297</td></tr>\n",
       "<tr><td colspan=\"1\" rowspan=\"1\" class=\"\">928147382718373</td></tr>\n",
       "<tr><td colspan=\"1\" rowspan=\"1\" class=\"\">928147382718371</td></tr>\n",
       "<tr><td colspan=\"1\" rowspan=\"1\" class=\"\">928147382718381</td></tr>\n",
       "<tr><td colspan=\"1\" rowspan=\"1\" class=\"\">928147382718383</td></tr>\n",
       "<tr><td colspan=\"1\" rowspan=\"1\" class=\"\">928147382718393</td></tr>\n",
       "</table>"
      ],
      "text/plain": [
       "<raw_magic.nested_table.NestedTable at 0x7f32500a1e80>"
      ]
     },
     "execution_count": 9,
     "metadata": {},
     "output_type": "execute_result"
    }
   ],
   "source": [
    "%%query\n",
    "SELECT *\n",
    "FROM power_users\n",
    "LIMIT 10"
   ]
  },
  {
   "cell_type": "markdown",
   "metadata": {},
   "source": [
    "Now that the power users have been identified, it's possible to restrict the CDR to these users."
   ]
  },
  {
   "cell_type": "code",
   "execution_count": 10,
   "metadata": {},
   "outputs": [
    {
     "data": {
      "text/html": [
       "<table class=\"nested-table\">\n",
       "<tr><th colspan=\"1\" rowspan=\"1\">long</th></tr>\n",
       "<tr><td colspan=\"1\" rowspan=\"1\" class=\"\">33696</td></tr>\n",
       "</table>"
      ],
      "text/plain": [
       "<raw_magic.nested_table.NestedTable at 0x7f32500a1ef0>"
      ]
     },
     "execution_count": 10,
     "metadata": {},
     "output_type": "execute_result"
    }
   ],
   "source": [
    "%%query\n",
    "SELECT COUNT(*)\n",
    "FROM cdr\n",
    "WHERE caller IN power_users"
   ]
  },
  {
   "cell_type": "code",
   "execution_count": 11,
   "metadata": {},
   "outputs": [],
   "source": [
    "%%view cdr_power_users\n",
    "SELECT *\n",
    "FROM cdr\n",
    "WHERE caller in power_users"
   ]
  },
  {
   "cell_type": "markdown",
   "metadata": {},
   "source": [
    "The CDR info is now filtering the power users. We'd like to see where the phone calls have been done. The `tower` field is the internal identifier of the antennas of the provider. The location of antennas is known but it requires to access another external table."
   ]
  },
  {
   "cell_type": "code",
   "execution_count": 12,
   "metadata": {},
   "outputs": [
    {
     "data": {
      "text/html": [
       "<table class=\"nested-table\">\n",
       "<tr><th colspan=\"1\" rowspan=\"1\">tower</th><th colspan=\"1\" rowspan=\"1\">caller</th><th colspan=\"1\" rowspan=\"1\">callee</th><th colspan=\"1\" rowspan=\"1\">start</th><th colspan=\"1\" rowspan=\"1\">end</th><th colspan=\"1\" rowspan=\"1\">type</th></tr>\n",
       "<tr><td colspan=\"1\" rowspan=\"1\" class=\"\">59cc3bd800e83d965300166d</td><td colspan=\"1\" rowspan=\"1\" class=\"\">928147382718783</td><td colspan=\"1\" rowspan=\"1\" class=\"\">928147382718999</td><td colspan=\"1\" rowspan=\"1\" class=\"\">2016-07-05 00:01:41</td><td colspan=\"1\" rowspan=\"1\" class=\"\">2016-07-05 00:01:41</td><td colspan=\"1\" rowspan=\"1\" class=\"\">call</td></tr>\n",
       "<tr><td colspan=\"1\" rowspan=\"1\" class=\"\">59cc3becf0b8ac50d100165b</td><td colspan=\"1\" rowspan=\"1\" class=\"\">928147382719541</td><td colspan=\"1\" rowspan=\"1\" class=\"\">928147382720077</td><td colspan=\"1\" rowspan=\"1\" class=\"\">2016-07-05 00:08:50</td><td colspan=\"1\" rowspan=\"1\" class=\"\">2016-07-05 00:11:00</td><td colspan=\"1\" rowspan=\"1\" class=\"\">call</td></tr>\n",
       "<tr><td colspan=\"1\" rowspan=\"1\" class=\"\">59cc3bd900e83d9653001687</td><td colspan=\"1\" rowspan=\"1\" class=\"\">928147382719942</td><td colspan=\"1\" rowspan=\"1\" class=\"\">928147382718754</td><td colspan=\"1\" rowspan=\"1\" class=\"\">2016-07-05 00:13:21</td><td colspan=\"1\" rowspan=\"1\" class=\"\">2016-07-05 00:17:49</td><td colspan=\"1\" rowspan=\"1\" class=\"\">call</td></tr>\n",
       "<tr><td colspan=\"1\" rowspan=\"1\" class=\"\">59cc3bd800e83d9653001641</td><td colspan=\"1\" rowspan=\"1\" class=\"\">928147382718293</td><td colspan=\"1\" rowspan=\"1\" class=\"\">928147382719203</td><td colspan=\"1\" rowspan=\"1\" class=\"\">2016-07-05 00:22:48</td><td colspan=\"1\" rowspan=\"1\" class=\"\">2016-07-05 00:25:54</td><td colspan=\"1\" rowspan=\"1\" class=\"\">call</td></tr>\n",
       "<tr><td colspan=\"1\" rowspan=\"1\" class=\"\">59cc3beef0b8ac50d10016be</td><td colspan=\"1\" rowspan=\"1\" class=\"\">928147382719830</td><td colspan=\"1\" rowspan=\"1\" class=\"\">928147382718790</td><td colspan=\"1\" rowspan=\"1\" class=\"\">2016-07-05 00:24:41</td><td colspan=\"1\" rowspan=\"1\" class=\"\">2016-07-05 00:32:46</td><td colspan=\"1\" rowspan=\"1\" class=\"\">call</td></tr>\n",
       "<tr><td colspan=\"1\" rowspan=\"1\" class=\"\">59cc3beff0b8ac50d1001709</td><td colspan=\"1\" rowspan=\"1\" class=\"\">928147382719315</td><td colspan=\"1\" rowspan=\"1\" class=\"\">928147382718634</td><td colspan=\"1\" rowspan=\"1\" class=\"\">2016-07-05 00:27:35</td><td colspan=\"1\" rowspan=\"1\" class=\"\">2016-07-05 00:27:35</td><td colspan=\"1\" rowspan=\"1\" class=\"\">call</td></tr>\n",
       "<tr><td colspan=\"1\" rowspan=\"1\" class=\"\">59cc3becf0b8ac50d1001670</td><td colspan=\"1\" rowspan=\"1\" class=\"\">928147382718364</td><td colspan=\"1\" rowspan=\"1\" class=\"\">928147382718334</td><td colspan=\"1\" rowspan=\"1\" class=\"\">2016-07-05 00:27:46</td><td colspan=\"1\" rowspan=\"1\" class=\"\">2016-07-05 00:32:35</td><td colspan=\"1\" rowspan=\"1\" class=\"\">call</td></tr>\n",
       "<tr><td colspan=\"1\" rowspan=\"1\" class=\"\">59cc3beaf0b8ac50d100160b</td><td colspan=\"1\" rowspan=\"1\" class=\"\">928147382718887</td><td colspan=\"1\" rowspan=\"1\" class=\"\">928147382718813</td><td colspan=\"1\" rowspan=\"1\" class=\"\">2016-07-05 00:30:01</td><td colspan=\"1\" rowspan=\"1\" class=\"\">2016-07-05 00:30:31</td><td colspan=\"1\" rowspan=\"1\" class=\"\">call</td></tr>\n",
       "<tr><td colspan=\"1\" rowspan=\"1\" class=\"\">59cc3bf2f0b8ac50d100178a</td><td colspan=\"1\" rowspan=\"1\" class=\"\">928147382720305</td><td colspan=\"1\" rowspan=\"1\" class=\"\">928147382719218</td><td colspan=\"1\" rowspan=\"1\" class=\"\">2016-07-05 00:48:04</td><td colspan=\"1\" rowspan=\"1\" class=\"\">2016-07-05 00:50:43</td><td colspan=\"1\" rowspan=\"1\" class=\"\">call</td></tr>\n",
       "<tr><td colspan=\"1\" rowspan=\"1\" class=\"\">59cc3beaf0b8ac50d10015f3</td><td colspan=\"1\" rowspan=\"1\" class=\"\">928147382720259</td><td colspan=\"1\" rowspan=\"1\" class=\"\">928147382719632</td><td colspan=\"1\" rowspan=\"1\" class=\"\">2016-07-05 00:54:55</td><td colspan=\"1\" rowspan=\"1\" class=\"\">2016-07-05 01:03:13</td><td colspan=\"1\" rowspan=\"1\" class=\"\">call</td></tr>\n",
       "</table>"
      ],
      "text/plain": [
       "<raw_magic.nested_table.NestedTable at 0x7f32500ab240>"
      ]
     },
     "execution_count": 12,
     "metadata": {},
     "output_type": "execute_result"
    }
   ],
   "source": [
    "%%query\n",
    "SELECT *\n",
    "FROM cdr_power_users\n",
    "LIMIT 10"
   ]
  },
  {
   "cell_type": "markdown",
   "metadata": {},
   "source": [
    "The antennas as found in an operational database. The `id` field is the one we need to join on, which will permit to extract the `city` where the antennas are located."
   ]
  },
  {
   "cell_type": "code",
   "execution_count": 13,
   "metadata": {},
   "outputs": [],
   "source": [
    "%%view towers\n",
    "SELECT *\n",
    "FROM read_csv[record(id: string, name: string, city: string, lat:double, long:double)](\n",
    "    \"s3://raw-tutorial/ipython-demos/antennas.csv\",\n",
    "    delimiter := \"|\",\n",
    "    cache := interval \"1 week\"\n",
    ")"
   ]
  },
  {
   "cell_type": "code",
   "execution_count": 14,
   "metadata": {},
   "outputs": [
    {
     "data": {
      "text/html": [
       "<table class=\"nested-table\">\n",
       "<tr><th colspan=\"1\" rowspan=\"1\">id</th><th colspan=\"1\" rowspan=\"1\">name</th><th colspan=\"1\" rowspan=\"1\">city</th><th colspan=\"1\" rowspan=\"1\">lat</th><th colspan=\"1\" rowspan=\"1\">long</th></tr>\n",
       "<tr><td colspan=\"1\" rowspan=\"1\" class=\"\">59cc3beef0b8ac50d10016d3</td><td colspan=\"1\" rowspan=\"1\" class=\"\">MGIN Morgins</td><td colspan=\"1\" rowspan=\"1\" class=\"\">Lausanne</td><td colspan=\"1\" rowspan=\"1\" class=\"\">46.24133379</td><td colspan=\"1\" rowspan=\"1\" class=\"\">6.86238354</td></tr>\n",
       "<tr><td colspan=\"1\" rowspan=\"1\" class=\"\">59cc3bf1f0b8ac50d1001779</td><td colspan=\"1\" rowspan=\"1\" class=\"\">VLOR Vallorbe</td><td colspan=\"1\" rowspan=\"1\" class=\"\">Lausanne</td><td colspan=\"1\" rowspan=\"1\" class=\"\">46.71404927</td><td colspan=\"1\" rowspan=\"1\" class=\"\">6.36789015</td></tr>\n",
       "<tr><td colspan=\"1\" rowspan=\"1\" class=\"\">59cc3beaf0b8ac50d10015f2</td><td colspan=\"1\" rowspan=\"1\" class=\"\">AUBS Auberson, L&#x27;</td><td colspan=\"1\" rowspan=\"1\" class=\"\">Lausanne</td><td colspan=\"1\" rowspan=\"1\" class=\"\">46.83388084</td><td colspan=\"1\" rowspan=\"1\" class=\"\">6.5001323</td></tr>\n",
       "<tr><td colspan=\"1\" rowspan=\"1\" class=\"\">59cc3bf0f0b8ac50d100171c</td><td colspan=\"1\" rowspan=\"1\" class=\"\">ROMO Romainmôtier</td><td colspan=\"1\" rowspan=\"1\" class=\"\">Lausanne</td><td colspan=\"1\" rowspan=\"1\" class=\"\">46.69144782</td><td colspan=\"1\" rowspan=\"1\" class=\"\">6.46285045</td></tr>\n",
       "<tr><td colspan=\"1\" rowspan=\"1\" class=\"\">59cc3bf1f0b8ac50d1001778</td><td colspan=\"1\" rowspan=\"1\" class=\"\">VLOP Vallorbe Pralioux Dessous</td><td colspan=\"1\" rowspan=\"1\" class=\"\">Lausanne</td><td colspan=\"1\" rowspan=\"1\" class=\"\">46.717556</td><td colspan=\"1\" rowspan=\"1\" class=\"\">6.36578002</td></tr>\n",
       "<tr><td colspan=\"1\" rowspan=\"1\" class=\"\">59cc3bf0f0b8ac50d1001735</td><td colspan=\"1\" rowspan=\"1\" class=\"\">SCRX Ste-Croix</td><td colspan=\"1\" rowspan=\"1\" class=\"\">Lausanne</td><td colspan=\"1\" rowspan=\"1\" class=\"\">46.81262229</td><td colspan=\"1\" rowspan=\"1\" class=\"\">6.49455377</td></tr>\n",
       "<tr><td colspan=\"1\" rowspan=\"1\" class=\"\">59cc3beef0b8ac50d10016c2</td><td colspan=\"1\" rowspan=\"1\" class=\"\">LSNR Lausanne Renens</td><td colspan=\"1\" rowspan=\"1\" class=\"\">Lausanne</td><td colspan=\"1\" rowspan=\"1\" class=\"\">46.533287</td><td colspan=\"1\" rowspan=\"1\" class=\"\">6.58625368</td></tr>\n",
       "<tr><td colspan=\"1\" rowspan=\"1\" class=\"\">59cc3bedf0b8ac50d100169d</td><td colspan=\"1\" rowspan=\"1\" class=\"\">JOUX Vallée de Joux</td><td colspan=\"1\" rowspan=\"1\" class=\"\">Lausanne</td><td colspan=\"1\" rowspan=\"1\" class=\"\">46.67061405</td><td colspan=\"1\" rowspan=\"1\" class=\"\">6.33385672</td></tr>\n",
       "<tr><td colspan=\"1\" rowspan=\"1\" class=\"\">59cc3beaf0b8ac50d10015fb</td><td colspan=\"1\" rowspan=\"1\" class=\"\">BAYA Bayards, Les</td><td colspan=\"1\" rowspan=\"1\" class=\"\">Lausanne</td><td colspan=\"1\" rowspan=\"1\" class=\"\">46.91372984</td><td colspan=\"1\" rowspan=\"1\" class=\"\">6.50685167</td></tr>\n",
       "<tr><td colspan=\"1\" rowspan=\"1\" class=\"\">59cc3bebf0b8ac50d100162e</td><td colspan=\"1\" rowspan=\"1\" class=\"\">CHPY Champéry</td><td colspan=\"1\" rowspan=\"1\" class=\"\">Lausanne</td><td colspan=\"1\" rowspan=\"1\" class=\"\">46.16561916</td><td colspan=\"1\" rowspan=\"1\" class=\"\">6.86297639</td></tr>\n",
       "</table>"
      ],
      "text/plain": [
       "<raw_magic.nested_table.NestedTable at 0x7f32500abef0>"
      ]
     },
     "execution_count": 14,
     "metadata": {},
     "output_type": "execute_result"
    }
   ],
   "source": [
    "%%query\n",
    "SELECT *\n",
    "FROM towers\n",
    "WHERE city = \"Lausanne\"\n",
    "LIMIT 10"
   ]
  },
  {
   "cell_type": "code",
   "execution_count": 15,
   "metadata": {},
   "outputs": [
    {
     "data": {
      "text/html": [
       "<table class=\"nested-table\">\n",
       "<tr><th colspan=\"1\" rowspan=\"1\">string</th></tr>\n",
       "<tr><td colspan=\"1\" rowspan=\"1\" class=\"\">Luzern</td></tr>\n",
       "<tr><td colspan=\"1\" rowspan=\"1\" class=\"\">Sarnen</td></tr>\n",
       "<tr><td colspan=\"1\" rowspan=\"1\" class=\"\">Schwyz</td></tr>\n",
       "<tr><td colspan=\"1\" rowspan=\"1\" class=\"\">Herisau</td></tr>\n",
       "<tr><td colspan=\"1\" rowspan=\"1\" class=\"\">Sitten</td></tr>\n",
       "<tr><td colspan=\"1\" rowspan=\"1\" class=\"\">Zürich</td></tr>\n",
       "<tr><td colspan=\"1\" rowspan=\"1\" class=\"\">Schaffhausen</td></tr>\n",
       "<tr><td colspan=\"1\" rowspan=\"1\" class=\"\">Fribourg</td></tr>\n",
       "<tr><td colspan=\"1\" rowspan=\"1\" class=\"\">Lausanne</td></tr>\n",
       "<tr><td colspan=\"1\" rowspan=\"1\" class=\"\">Appenzell</td></tr>\n",
       "<tr><td colspan=\"1\" rowspan=\"1\" class=\"\">Zug</td></tr>\n",
       "<tr><td colspan=\"1\" rowspan=\"1\" class=\"\">Chur</td></tr>\n",
       "<tr><td colspan=\"1\" rowspan=\"1\" class=\"\">Aarau</td></tr>\n",
       "<tr><td colspan=\"1\" rowspan=\"1\" class=\"\">Basel</td></tr>\n",
       "<tr><td colspan=\"1\" rowspan=\"1\" class=\"\">Stans</td></tr>\n",
       "<tr><td colspan=\"1\" rowspan=\"1\" class=\"\">Neuchâtel</td></tr>\n",
       "<tr><td colspan=\"1\" rowspan=\"1\" class=\"\">Sankt Gallen</td></tr>\n",
       "<tr><td colspan=\"1\" rowspan=\"1\" class=\"\">Frauenfeld</td></tr>\n",
       "<tr><td colspan=\"1\" rowspan=\"1\" class=\"\">Altdorf</td></tr>\n",
       "<tr><td colspan=\"1\" rowspan=\"1\" class=\"\">Solothurn</td></tr>\n",
       "<tr><td colspan=\"1\" rowspan=\"1\" class=\"\">Delémont</td></tr>\n",
       "<tr><td colspan=\"1\" rowspan=\"1\" class=\"\">Bellinzona</td></tr>\n",
       "<tr><td colspan=\"1\" rowspan=\"1\" class=\"\">Liestal</td></tr>\n",
       "<tr><td colspan=\"1\" rowspan=\"1\" class=\"\">Genève</td></tr>\n",
       "<tr><td colspan=\"1\" rowspan=\"1\" class=\"\">Glarus</td></tr>\n",
       "</table>"
      ],
      "text/plain": [
       "<raw_magic.nested_table.NestedTable at 0x7f3250040080>"
      ]
     },
     "execution_count": 15,
     "metadata": {},
     "output_type": "execute_result"
    }
   ],
   "source": [
    "%%query\n",
    "SELECT DISTINCT city\n",
    "FROM towers"
   ]
  },
  {
   "cell_type": "markdown",
   "metadata": {},
   "source": [
    "Going back to our CDR data restricted to power users, we add a `city` field to the table which consists in picking the matching row found in the antenna table."
   ]
  },
  {
   "cell_type": "code",
   "execution_count": 16,
   "metadata": {},
   "outputs": [],
   "source": [
    "%%view cdr_power_by_city\n",
    "SELECT tower, caller, callee, start, end, type,\n",
    "    CFIRST(\n",
    "        SELECT city\n",
    "        FROM towers\n",
    "        WHERE id = tower\n",
    "    ) AS city\n",
    "FROM cdr_power_users"
   ]
  },
  {
   "cell_type": "markdown",
   "metadata": {},
   "source": [
    "Now the CDR rows have the city field."
   ]
  },
  {
   "cell_type": "code",
   "execution_count": 17,
   "metadata": {},
   "outputs": [
    {
     "data": {
      "text/html": [
       "<table class=\"nested-table\">\n",
       "<tr><th colspan=\"1\" rowspan=\"1\">tower</th><th colspan=\"1\" rowspan=\"1\">caller</th><th colspan=\"1\" rowspan=\"1\">callee</th><th colspan=\"1\" rowspan=\"1\">start</th><th colspan=\"1\" rowspan=\"1\">end</th><th colspan=\"1\" rowspan=\"1\">type</th><th colspan=\"1\" rowspan=\"1\">city</th></tr>\n",
       "<tr><td colspan=\"1\" rowspan=\"1\" class=\"\">59cc3bd800e83d965300166d</td><td colspan=\"1\" rowspan=\"1\" class=\"\">928147382718783</td><td colspan=\"1\" rowspan=\"1\" class=\"\">928147382718999</td><td colspan=\"1\" rowspan=\"1\" class=\"\">2016-07-05 00:01:41</td><td colspan=\"1\" rowspan=\"1\" class=\"\">2016-07-05 00:01:41</td><td colspan=\"1\" rowspan=\"1\" class=\"\">call</td><td colspan=\"1\" rowspan=\"1\" class=\"\">Altdorf</td></tr>\n",
       "<tr><td colspan=\"1\" rowspan=\"1\" class=\"\">59cc3becf0b8ac50d100165b</td><td colspan=\"1\" rowspan=\"1\" class=\"\">928147382719541</td><td colspan=\"1\" rowspan=\"1\" class=\"\">928147382720077</td><td colspan=\"1\" rowspan=\"1\" class=\"\">2016-07-05 00:08:50</td><td colspan=\"1\" rowspan=\"1\" class=\"\">2016-07-05 00:11:00</td><td colspan=\"1\" rowspan=\"1\" class=\"\">call</td><td colspan=\"1\" rowspan=\"1\" class=\"\">Neuchâtel</td></tr>\n",
       "<tr><td colspan=\"1\" rowspan=\"1\" class=\"\">59cc3bd900e83d9653001687</td><td colspan=\"1\" rowspan=\"1\" class=\"\">928147382719942</td><td colspan=\"1\" rowspan=\"1\" class=\"\">928147382718754</td><td colspan=\"1\" rowspan=\"1\" class=\"\">2016-07-05 00:13:21</td><td colspan=\"1\" rowspan=\"1\" class=\"\">2016-07-05 00:17:49</td><td colspan=\"1\" rowspan=\"1\" class=\"\">call</td><td colspan=\"1\" rowspan=\"1\" class=\"\">Aarau</td></tr>\n",
       "<tr><td colspan=\"1\" rowspan=\"1\" class=\"\">59cc3bd800e83d9653001641</td><td colspan=\"1\" rowspan=\"1\" class=\"\">928147382718293</td><td colspan=\"1\" rowspan=\"1\" class=\"\">928147382719203</td><td colspan=\"1\" rowspan=\"1\" class=\"\">2016-07-05 00:22:48</td><td colspan=\"1\" rowspan=\"1\" class=\"\">2016-07-05 00:25:54</td><td colspan=\"1\" rowspan=\"1\" class=\"\">call</td><td colspan=\"1\" rowspan=\"1\" class=\"\">Frauenfeld</td></tr>\n",
       "<tr><td colspan=\"1\" rowspan=\"1\" class=\"\">59cc3beef0b8ac50d10016be</td><td colspan=\"1\" rowspan=\"1\" class=\"\">928147382719830</td><td colspan=\"1\" rowspan=\"1\" class=\"\">928147382718790</td><td colspan=\"1\" rowspan=\"1\" class=\"\">2016-07-05 00:24:41</td><td colspan=\"1\" rowspan=\"1\" class=\"\">2016-07-05 00:32:46</td><td colspan=\"1\" rowspan=\"1\" class=\"\">call</td><td colspan=\"1\" rowspan=\"1\" class=\"\">Stans</td></tr>\n",
       "<tr><td colspan=\"1\" rowspan=\"1\" class=\"\">59cc3beff0b8ac50d1001709</td><td colspan=\"1\" rowspan=\"1\" class=\"\">928147382719315</td><td colspan=\"1\" rowspan=\"1\" class=\"\">928147382718634</td><td colspan=\"1\" rowspan=\"1\" class=\"\">2016-07-05 00:27:35</td><td colspan=\"1\" rowspan=\"1\" class=\"\">2016-07-05 00:27:35</td><td colspan=\"1\" rowspan=\"1\" class=\"\">call</td><td colspan=\"1\" rowspan=\"1\" class=\"\">Solothurn</td></tr>\n",
       "<tr><td colspan=\"1\" rowspan=\"1\" class=\"\">59cc3becf0b8ac50d1001670</td><td colspan=\"1\" rowspan=\"1\" class=\"\">928147382718364</td><td colspan=\"1\" rowspan=\"1\" class=\"\">928147382718334</td><td colspan=\"1\" rowspan=\"1\" class=\"\">2016-07-05 00:27:46</td><td colspan=\"1\" rowspan=\"1\" class=\"\">2016-07-05 00:32:35</td><td colspan=\"1\" rowspan=\"1\" class=\"\">call</td><td colspan=\"1\" rowspan=\"1\" class=\"\">Solothurn</td></tr>\n",
       "<tr><td colspan=\"1\" rowspan=\"1\" class=\"\">59cc3beaf0b8ac50d100160b</td><td colspan=\"1\" rowspan=\"1\" class=\"\">928147382718887</td><td colspan=\"1\" rowspan=\"1\" class=\"\">928147382718813</td><td colspan=\"1\" rowspan=\"1\" class=\"\">2016-07-05 00:30:01</td><td colspan=\"1\" rowspan=\"1\" class=\"\">2016-07-05 00:30:31</td><td colspan=\"1\" rowspan=\"1\" class=\"\">call</td><td colspan=\"1\" rowspan=\"1\" class=\"\">Neuchâtel</td></tr>\n",
       "<tr><td colspan=\"1\" rowspan=\"1\" class=\"\">59cc3bf2f0b8ac50d100178a</td><td colspan=\"1\" rowspan=\"1\" class=\"\">928147382720305</td><td colspan=\"1\" rowspan=\"1\" class=\"\">928147382719218</td><td colspan=\"1\" rowspan=\"1\" class=\"\">2016-07-05 00:48:04</td><td colspan=\"1\" rowspan=\"1\" class=\"\">2016-07-05 00:50:43</td><td colspan=\"1\" rowspan=\"1\" class=\"\">call</td><td colspan=\"1\" rowspan=\"1\" class=\"\">Sarnen</td></tr>\n",
       "<tr><td colspan=\"1\" rowspan=\"1\" class=\"\">59cc3beaf0b8ac50d10015f3</td><td colspan=\"1\" rowspan=\"1\" class=\"\">928147382720259</td><td colspan=\"1\" rowspan=\"1\" class=\"\">928147382719632</td><td colspan=\"1\" rowspan=\"1\" class=\"\">2016-07-05 00:54:55</td><td colspan=\"1\" rowspan=\"1\" class=\"\">2016-07-05 01:03:13</td><td colspan=\"1\" rowspan=\"1\" class=\"\">call</td><td colspan=\"1\" rowspan=\"1\" class=\"\">Bellinzona</td></tr>\n",
       "</table>"
      ],
      "text/plain": [
       "<raw_magic.nested_table.NestedTable at 0x7f3250043828>"
      ]
     },
     "execution_count": 17,
     "metadata": {},
     "output_type": "execute_result"
    }
   ],
   "source": [
    "%%query\n",
    "SELECT *\n",
    "FROM cdr_power_by_city\n",
    "LIMIT 10"
   ]
  },
  {
   "cell_type": "code",
   "execution_count": 18,
   "metadata": {},
   "outputs": [
    {
     "data": {
      "text/html": [
       "<table class=\"nested-table\">\n",
       "<tr><th colspan=\"1\" rowspan=\"1\">city</th><th colspan=\"1\" rowspan=\"1\">_2</th></tr>\n",
       "<tr><td colspan=\"1\" rowspan=\"1\" class=\"\">Neuchâtel</td><td colspan=\"1\" rowspan=\"1\" class=\"\">1431</td></tr>\n",
       "<tr><td colspan=\"1\" rowspan=\"1\" class=\"\">Sankt Gallen</td><td colspan=\"1\" rowspan=\"1\" class=\"\">431</td></tr>\n",
       "<tr><td colspan=\"1\" rowspan=\"1\" class=\"\">Delémont</td><td colspan=\"1\" rowspan=\"1\" class=\"\">1120</td></tr>\n",
       "<tr><td colspan=\"1\" rowspan=\"1\" class=\"\">Schaffhausen</td><td colspan=\"1\" rowspan=\"1\" class=\"\">248</td></tr>\n",
       "<tr><td colspan=\"1\" rowspan=\"1\" class=\"\">Frauenfeld</td><td colspan=\"1\" rowspan=\"1\" class=\"\">855</td></tr>\n",
       "<tr><td colspan=\"1\" rowspan=\"1\" class=\"\">Liestal</td><td colspan=\"1\" rowspan=\"1\" class=\"\">1140</td></tr>\n",
       "<tr><td colspan=\"1\" rowspan=\"1\" class=\"\">Luzern</td><td colspan=\"1\" rowspan=\"1\" class=\"\">106</td></tr>\n",
       "<tr><td colspan=\"1\" rowspan=\"1\" class=\"\">Genève</td><td colspan=\"1\" rowspan=\"1\" class=\"\">38</td></tr>\n",
       "<tr><td colspan=\"1\" rowspan=\"1\" class=\"\">Zürich</td><td colspan=\"1\" rowspan=\"1\" class=\"\">801</td></tr>\n",
       "<tr><td colspan=\"1\" rowspan=\"1\" class=\"\">Schwyz</td><td colspan=\"1\" rowspan=\"1\" class=\"\">712</td></tr>\n",
       "</table>"
      ],
      "text/plain": [
       "<raw_magic.nested_table.NestedTable at 0x7f3250045320>"
      ]
     },
     "execution_count": 18,
     "metadata": {},
     "output_type": "execute_result"
    }
   ],
   "source": [
    "%%query\n",
    "SELECT city, COUNT(*)\n",
    "FROM cdr_power_by_city\n",
    "GROUP BY city\n",
    "LIMIT 10"
   ]
  },
  {
   "cell_type": "markdown",
   "metadata": {},
   "source": [
    "Since the CDR contain the IMEI of callers, we can arrange IMEI's of callers by city. We still need to match these IMEI's to customers to get interesting statistics. This will be obtained thanks to a third external data source, the customer management system table (CMS)."
   ]
  },
  {
   "cell_type": "code",
   "execution_count": 19,
   "metadata": {},
   "outputs": [
    {
     "data": {
      "text/html": [
       "<table class=\"nested-table\">\n",
       "<tr><th colspan=\"1\" rowspan=\"1\">city</th><th colspan=\"1\" rowspan=\"1\">_2</th></tr>\n",
       "<tr><td colspan=\"1\" rowspan=\"10\" class=\"\">Neuchâtel</td><td colspan=\"1\" rowspan=\"1\" class=\"\">928147382720022</td></tr>\n",
       "<tr><td colspan=\"1\" rowspan=\"1\" class=\"\">928147382719718</td></tr>\n",
       "<tr><td colspan=\"1\" rowspan=\"1\" class=\"\">928147382719667</td></tr>\n",
       "<tr><td colspan=\"1\" rowspan=\"1\" class=\"\">928147382719682</td></tr>\n",
       "<tr><td colspan=\"1\" rowspan=\"1\" class=\"\">928147382718509</td></tr>\n",
       "<tr><td colspan=\"1\" rowspan=\"1\" class=\"\">928147382719918</td></tr>\n",
       "<tr><td colspan=\"1\" rowspan=\"1\" class=\"\">928147382719273</td></tr>\n",
       "<tr><td colspan=\"1\" rowspan=\"1\" class=\"\">928147382718585</td></tr>\n",
       "<tr><td colspan=\"1\" rowspan=\"1\" class=\"\">928147382720198</td></tr>\n",
       "<tr><td colspan=\"1\" rowspan=\"1\" class=\"\">928147382719949</td></tr>\n",
       "<tr><td colspan=\"1\" rowspan=\"10\" class=\"\">Sankt Gallen</td><td colspan=\"1\" rowspan=\"1\" class=\"\">928147382718283</td></tr>\n",
       "<tr><td colspan=\"1\" rowspan=\"1\" class=\"\">928147382718585</td></tr>\n",
       "<tr><td colspan=\"1\" rowspan=\"1\" class=\"\">928147382719066</td></tr>\n",
       "<tr><td colspan=\"1\" rowspan=\"1\" class=\"\">928147382719041</td></tr>\n",
       "<tr><td colspan=\"1\" rowspan=\"1\" class=\"\">928147382719368</td></tr>\n",
       "<tr><td colspan=\"1\" rowspan=\"1\" class=\"\">928147382719778</td></tr>\n",
       "<tr><td colspan=\"1\" rowspan=\"1\" class=\"\">928147382719788</td></tr>\n",
       "<tr><td colspan=\"1\" rowspan=\"1\" class=\"\">928147382718650</td></tr>\n",
       "<tr><td colspan=\"1\" rowspan=\"1\" class=\"\">928147382718483</td></tr>\n",
       "<tr><td colspan=\"1\" rowspan=\"1\" class=\"\">928147382719900</td></tr>\n",
       "</table>"
      ],
      "text/plain": [
       "<raw_magic.nested_table.NestedTable at 0x7f3250045a90>"
      ]
     },
     "execution_count": 19,
     "metadata": {},
     "output_type": "execute_result"
    }
   ],
   "source": [
    "%%query\n",
    "SELECT city, (SELECT DISTINCT caller FROM partition LIMIT 10)\n",
    "FROM cdr_power_by_city\n",
    "GROUP BY city\n",
    "LIMIT 2"
   ]
  },
  {
   "cell_type": "markdown",
   "metadata": {},
   "source": [
    "CMS info is found in a second operation database table. It contains personal info about customers."
   ]
  },
  {
   "cell_type": "code",
   "execution_count": 20,
   "metadata": {},
   "outputs": [],
   "source": [
    "%%view cms\n",
    "SELECT *\n",
    "FROM read_csv[record(imei: long, first_name: string, name: string, gender: string, age: int, address:string)](\n",
    "    \"s3://raw-tutorial/ipython-demos/cms.csv\",\n",
    "    delimiter := \"|\",\n",
    "    cache := interval \"1 day\"\n",
    ")"
   ]
  },
  {
   "cell_type": "code",
   "execution_count": 21,
   "metadata": {},
   "outputs": [
    {
     "data": {
      "text/html": [
       "<table class=\"nested-table\">\n",
       "<tr><th colspan=\"1\" rowspan=\"1\">imei</th><th colspan=\"1\" rowspan=\"1\">first_name</th><th colspan=\"1\" rowspan=\"1\">name</th><th colspan=\"1\" rowspan=\"1\">gender</th><th colspan=\"1\" rowspan=\"1\">age</th><th colspan=\"1\" rowspan=\"1\">address</th></tr>\n",
       "<tr><td colspan=\"1\" rowspan=\"1\" class=\"\">928147382718234</td><td colspan=\"1\" rowspan=\"1\" class=\"\">Stephannie</td><td colspan=\"1\" rowspan=\"1\" class=\"\">Ashmore</td><td colspan=\"1\" rowspan=\"1\" class=\"\">F</td><td colspan=\"1\" rowspan=\"1\" class=\"\">61</td><td colspan=\"1\" rowspan=\"1\" class=\"\">19 Mosinee Road</td></tr>\n",
       "<tr><td colspan=\"1\" rowspan=\"1\" class=\"\">928147382718235</td><td colspan=\"1\" rowspan=\"1\" class=\"\">Norton</td><td colspan=\"1\" rowspan=\"1\" class=\"\">Sture</td><td colspan=\"1\" rowspan=\"1\" class=\"\">M</td><td colspan=\"1\" rowspan=\"1\" class=\"\">54</td><td colspan=\"1\" rowspan=\"1\" class=\"\">37632 Eagan Center</td></tr>\n",
       "<tr><td colspan=\"1\" rowspan=\"1\" class=\"\">928147382718236</td><td colspan=\"1\" rowspan=\"1\" class=\"\">Teador</td><td colspan=\"1\" rowspan=\"1\" class=\"\">Norment</td><td colspan=\"1\" rowspan=\"1\" class=\"\">M</td><td colspan=\"1\" rowspan=\"1\" class=\"\">23</td><td colspan=\"1\" rowspan=\"1\" class=\"\">5 Mcguire Drive</td></tr>\n",
       "<tr><td colspan=\"1\" rowspan=\"1\" class=\"\">928147382718237</td><td colspan=\"1\" rowspan=\"1\" class=\"\">Rozelle</td><td colspan=\"1\" rowspan=\"1\" class=\"\">Reinink</td><td colspan=\"1\" rowspan=\"1\" class=\"\">F</td><td colspan=\"1\" rowspan=\"1\" class=\"\">45</td><td colspan=\"1\" rowspan=\"1\" class=\"\">403 Towne Center</td></tr>\n",
       "<tr><td colspan=\"1\" rowspan=\"1\" class=\"\">928147382718238</td><td colspan=\"1\" rowspan=\"1\" class=\"\">Suzi</td><td colspan=\"1\" rowspan=\"1\" class=\"\">Beaton</td><td colspan=\"1\" rowspan=\"1\" class=\"\">F</td><td colspan=\"1\" rowspan=\"1\" class=\"\">44</td><td colspan=\"1\" rowspan=\"1\" class=\"\">2443 Columbus Alley</td></tr>\n",
       "<tr><td colspan=\"1\" rowspan=\"1\" class=\"\">928147382718239</td><td colspan=\"1\" rowspan=\"1\" class=\"\">Anastassia</td><td colspan=\"1\" rowspan=\"1\" class=\"\">Nicandro</td><td colspan=\"1\" rowspan=\"1\" class=\"\">F</td><td colspan=\"1\" rowspan=\"1\" class=\"\">28</td><td colspan=\"1\" rowspan=\"1\" class=\"\">9 Loomis Street</td></tr>\n",
       "<tr><td colspan=\"1\" rowspan=\"1\" class=\"\">928147382718240</td><td colspan=\"1\" rowspan=\"1\" class=\"\">Jojo</td><td colspan=\"1\" rowspan=\"1\" class=\"\">Hyde</td><td colspan=\"1\" rowspan=\"1\" class=\"\">F</td><td colspan=\"1\" rowspan=\"1\" class=\"\">21</td><td colspan=\"1\" rowspan=\"1\" class=\"\">8 Lukken Junction</td></tr>\n",
       "<tr><td colspan=\"1\" rowspan=\"1\" class=\"\">928147382718241</td><td colspan=\"1\" rowspan=\"1\" class=\"\">Meredith</td><td colspan=\"1\" rowspan=\"1\" class=\"\">Leffler</td><td colspan=\"1\" rowspan=\"1\" class=\"\">M</td><td colspan=\"1\" rowspan=\"1\" class=\"\">67</td><td colspan=\"1\" rowspan=\"1\" class=\"\">5716 Longview Junction</td></tr>\n",
       "<tr><td colspan=\"1\" rowspan=\"1\" class=\"\">928147382718242</td><td colspan=\"1\" rowspan=\"1\" class=\"\">Elisabet</td><td colspan=\"1\" rowspan=\"1\" class=\"\">Misko</td><td colspan=\"1\" rowspan=\"1\" class=\"\">F</td><td colspan=\"1\" rowspan=\"1\" class=\"\">59</td><td colspan=\"1\" rowspan=\"1\" class=\"\">86533 Memorial Point</td></tr>\n",
       "<tr><td colspan=\"1\" rowspan=\"1\" class=\"\">928147382718243</td><td colspan=\"1\" rowspan=\"1\" class=\"\">Rebbecca</td><td colspan=\"1\" rowspan=\"1\" class=\"\">Ress</td><td colspan=\"1\" rowspan=\"1\" class=\"\">F</td><td colspan=\"1\" rowspan=\"1\" class=\"\">27</td><td colspan=\"1\" rowspan=\"1\" class=\"\">21998 Gulseth Circle</td></tr>\n",
       "</table>"
      ],
      "text/plain": [
       "<raw_magic.nested_table.NestedTable at 0x7f3250048d68>"
      ]
     },
     "execution_count": 21,
     "metadata": {},
     "output_type": "execute_result"
    }
   ],
   "source": [
    "%%query\n",
    "SELECT *\n",
    "FROM cms\n",
    "LIMIT 10"
   ]
  },
  {
   "cell_type": "markdown",
   "metadata": {},
   "source": [
    "Since we want to extract info from this table for each of the power users found in the various cities, we prepare a helper function. It takes an IMEI as a parameter and finds a match in the CMS table."
   ]
  },
  {
   "cell_type": "code",
   "execution_count": 22,
   "metadata": {},
   "outputs": [],
   "source": [
    "%%view customer_info\n",
    "\\imei:long ->\n",
    "  CFIRST (\n",
    "    SELECT *\n",
    "    FROM cms c_info\n",
    "    WHERE c_info.imei = imei\n",
    "  )"
   ]
  },
  {
   "cell_type": "code",
   "execution_count": 23,
   "metadata": {},
   "outputs": [
    {
     "data": {
      "text/html": [
       "<table class=\"nested-table\">\n",
       "<tr><th colspan=\"1\" rowspan=\"1\">imei</th><th colspan=\"1\" rowspan=\"1\">first_name</th><th colspan=\"1\" rowspan=\"1\">name</th><th colspan=\"1\" rowspan=\"1\">gender</th><th colspan=\"1\" rowspan=\"1\">age</th><th colspan=\"1\" rowspan=\"1\">address</th></tr>\n",
       "<tr><td colspan=\"1\" rowspan=\"1\" class=\"\">928147382718236</td><td colspan=\"1\" rowspan=\"1\" class=\"\">Teador</td><td colspan=\"1\" rowspan=\"1\" class=\"\">Norment</td><td colspan=\"1\" rowspan=\"1\" class=\"\">M</td><td colspan=\"1\" rowspan=\"1\" class=\"\">23</td><td colspan=\"1\" rowspan=\"1\" class=\"\">5 Mcguire Drive</td></tr>\n",
       "</table>"
      ],
      "text/plain": [
       "<raw_magic.nested_table.NestedTable at 0x7f3250048e48>"
      ]
     },
     "execution_count": 23,
     "metadata": {},
     "output_type": "execute_result"
    }
   ],
   "source": [
    "%%query\n",
    "customer_info(928147382718236)"
   ]
  },
  {
   "cell_type": "markdown",
   "metadata": {},
   "source": [
    "We can now replace the internal IMEI reported in the CDR by the matching customer information."
   ]
  },
  {
   "cell_type": "code",
   "execution_count": 24,
   "metadata": {
    "scrolled": true
   },
   "outputs": [
    {
     "data": {
      "text/html": [
       "<table class=\"nested-table\">\n",
       "<tr><th colspan=\"1\" rowspan=\"2\">city</th><th colspan=\"6\" rowspan=\"1\">_2</th></tr>\n",
       "<tr><th colspan=\"1\" rowspan=\"1\">imei</th><th colspan=\"1\" rowspan=\"1\">first_name</th><th colspan=\"1\" rowspan=\"1\">name</th><th colspan=\"1\" rowspan=\"1\">gender</th><th colspan=\"1\" rowspan=\"1\">age</th><th colspan=\"1\" rowspan=\"1\">address</th></tr>\n",
       "<tr><td colspan=\"1\" rowspan=\"10\" class=\"\">Neuchâtel</td><td colspan=\"1\" rowspan=\"1\" class=\"\">928147382720022</td><td colspan=\"1\" rowspan=\"1\" class=\"\">Ewan</td><td colspan=\"1\" rowspan=\"1\" class=\"\">McCloskey</td><td colspan=\"1\" rowspan=\"1\" class=\"\">M</td><td colspan=\"1\" rowspan=\"1\" class=\"\">66</td><td colspan=\"1\" rowspan=\"1\" class=\"\">958 Hermina Hill</td></tr>\n",
       "<tr><td colspan=\"1\" rowspan=\"1\" class=\"\">928147382719718</td><td colspan=\"1\" rowspan=\"1\" class=\"\">Riley</td><td colspan=\"1\" rowspan=\"1\" class=\"\">Guerin</td><td colspan=\"1\" rowspan=\"1\" class=\"\">M</td><td colspan=\"1\" rowspan=\"1\" class=\"\">48</td><td colspan=\"1\" rowspan=\"1\" class=\"\">15 Dexter Road</td></tr>\n",
       "<tr><td colspan=\"1\" rowspan=\"1\" class=\"\">928147382719682</td><td colspan=\"1\" rowspan=\"1\" class=\"\">Rodger</td><td colspan=\"1\" rowspan=\"1\" class=\"\">Gaudreau</td><td colspan=\"1\" rowspan=\"1\" class=\"\">M</td><td colspan=\"1\" rowspan=\"1\" class=\"\">34</td><td colspan=\"1\" rowspan=\"1\" class=\"\">0996 Marcy Street</td></tr>\n",
       "<tr><td colspan=\"1\" rowspan=\"1\" class=\"\">928147382719667</td><td colspan=\"1\" rowspan=\"1\" class=\"\">Christof</td><td colspan=\"1\" rowspan=\"1\" class=\"\">Steranka</td><td colspan=\"1\" rowspan=\"1\" class=\"\">M</td><td colspan=\"1\" rowspan=\"1\" class=\"\">29</td><td colspan=\"1\" rowspan=\"1\" class=\"\">1 Welch Court</td></tr>\n",
       "<tr><td colspan=\"1\" rowspan=\"1\" class=\"\">928147382718509</td><td colspan=\"1\" rowspan=\"1\" class=\"\">Maurie</td><td colspan=\"1\" rowspan=\"1\" class=\"\">Brading</td><td colspan=\"1\" rowspan=\"1\" class=\"\">M</td><td colspan=\"1\" rowspan=\"1\" class=\"\">28</td><td colspan=\"1\" rowspan=\"1\" class=\"\">5 Sunnyside Plaza</td></tr>\n",
       "<tr><td colspan=\"1\" rowspan=\"1\" class=\"\">928147382719273</td><td colspan=\"1\" rowspan=\"1\" class=\"\">Nigel</td><td colspan=\"1\" rowspan=\"1\" class=\"\">Chapmond</td><td colspan=\"1\" rowspan=\"1\" class=\"\">M</td><td colspan=\"1\" rowspan=\"1\" class=\"\">40</td><td colspan=\"1\" rowspan=\"1\" class=\"\">9 High Crossing Park</td></tr>\n",
       "<tr><td colspan=\"1\" rowspan=\"1\" class=\"\">928147382719918</td><td colspan=\"1\" rowspan=\"1\" class=\"\">Elmore</td><td colspan=\"1\" rowspan=\"1\" class=\"\">Corvo</td><td colspan=\"1\" rowspan=\"1\" class=\"\">M</td><td colspan=\"1\" rowspan=\"1\" class=\"\">56</td><td colspan=\"1\" rowspan=\"1\" class=\"\">3 Memorial Avenue</td></tr>\n",
       "<tr><td colspan=\"1\" rowspan=\"1\" class=\"\">928147382720198</td><td colspan=\"1\" rowspan=\"1\" class=\"\">Florrie</td><td colspan=\"1\" rowspan=\"1\" class=\"\">VanDerBoom</td><td colspan=\"1\" rowspan=\"1\" class=\"\">F</td><td colspan=\"1\" rowspan=\"1\" class=\"\">28</td><td colspan=\"1\" rowspan=\"1\" class=\"\">7 Division Trail</td></tr>\n",
       "<tr><td colspan=\"1\" rowspan=\"1\" class=\"\">928147382718585</td><td colspan=\"1\" rowspan=\"1\" class=\"\">Gypsy</td><td colspan=\"1\" rowspan=\"1\" class=\"\">Ninety-one</td><td colspan=\"1\" rowspan=\"1\" class=\"\">F</td><td colspan=\"1\" rowspan=\"1\" class=\"\">33</td><td colspan=\"1\" rowspan=\"1\" class=\"\">529 Rockefeller Terrace</td></tr>\n",
       "<tr><td colspan=\"1\" rowspan=\"1\" class=\"\">928147382719949</td><td colspan=\"1\" rowspan=\"1\" class=\"\">Michale</td><td colspan=\"1\" rowspan=\"1\" class=\"\">Stadelmeier</td><td colspan=\"1\" rowspan=\"1\" class=\"\">M</td><td colspan=\"1\" rowspan=\"1\" class=\"\">57</td><td colspan=\"1\" rowspan=\"1\" class=\"\">310 Cody Avenue</td></tr>\n",
       "<tr><td colspan=\"1\" rowspan=\"10\" class=\"\">Sankt Gallen</td><td colspan=\"1\" rowspan=\"1\" class=\"\">928147382718283</td><td colspan=\"1\" rowspan=\"1\" class=\"\">Prentiss</td><td colspan=\"1\" rowspan=\"1\" class=\"\">Reichenbach</td><td colspan=\"1\" rowspan=\"1\" class=\"\">M</td><td colspan=\"1\" rowspan=\"1\" class=\"\">64</td><td colspan=\"1\" rowspan=\"1\" class=\"\">3 Texas Pass</td></tr>\n",
       "<tr><td colspan=\"1\" rowspan=\"1\" class=\"\">928147382718585</td><td colspan=\"1\" rowspan=\"1\" class=\"\">Gypsy</td><td colspan=\"1\" rowspan=\"1\" class=\"\">Ninety-one</td><td colspan=\"1\" rowspan=\"1\" class=\"\">F</td><td colspan=\"1\" rowspan=\"1\" class=\"\">33</td><td colspan=\"1\" rowspan=\"1\" class=\"\">529 Rockefeller Terrace</td></tr>\n",
       "<tr><td colspan=\"1\" rowspan=\"1\" class=\"\">928147382719066</td><td colspan=\"1\" rowspan=\"1\" class=\"\">Kelcy</td><td colspan=\"1\" rowspan=\"1\" class=\"\">Drayton</td><td colspan=\"1\" rowspan=\"1\" class=\"\">F</td><td colspan=\"1\" rowspan=\"1\" class=\"\">31</td><td colspan=\"1\" rowspan=\"1\" class=\"\">3 Autumn Leaf Terrace</td></tr>\n",
       "<tr><td colspan=\"1\" rowspan=\"1\" class=\"\">928147382719041</td><td colspan=\"1\" rowspan=\"1\" class=\"\">Maurice</td><td colspan=\"1\" rowspan=\"1\" class=\"\">Manto</td><td colspan=\"1\" rowspan=\"1\" class=\"\">M</td><td colspan=\"1\" rowspan=\"1\" class=\"\">35</td><td colspan=\"1\" rowspan=\"1\" class=\"\">2049 Lillian Terrace</td></tr>\n",
       "<tr><td colspan=\"1\" rowspan=\"1\" class=\"\">928147382719368</td><td colspan=\"1\" rowspan=\"1\" class=\"\">Jo</td><td colspan=\"1\" rowspan=\"1\" class=\"\">Conboy</td><td colspan=\"1\" rowspan=\"1\" class=\"\">M</td><td colspan=\"1\" rowspan=\"1\" class=\"\">63</td><td colspan=\"1\" rowspan=\"1\" class=\"\">712 Kennedy Hill</td></tr>\n",
       "<tr><td colspan=\"1\" rowspan=\"1\" class=\"\">928147382719778</td><td colspan=\"1\" rowspan=\"1\" class=\"\">Julie</td><td colspan=\"1\" rowspan=\"1\" class=\"\">Olynyk</td><td colspan=\"1\" rowspan=\"1\" class=\"\">F</td><td colspan=\"1\" rowspan=\"1\" class=\"\">69</td><td colspan=\"1\" rowspan=\"1\" class=\"\">9233 Fisk Parkway</td></tr>\n",
       "<tr><td colspan=\"1\" rowspan=\"1\" class=\"\">928147382719788</td><td colspan=\"1\" rowspan=\"1\" class=\"\">Chickie</td><td colspan=\"1\" rowspan=\"1\" class=\"\">Pringle</td><td colspan=\"1\" rowspan=\"1\" class=\"\">F</td><td colspan=\"1\" rowspan=\"1\" class=\"\">54</td><td colspan=\"1\" rowspan=\"1\" class=\"\">7 Mallory Avenue</td></tr>\n",
       "<tr><td colspan=\"1\" rowspan=\"1\" class=\"\">928147382718650</td><td colspan=\"1\" rowspan=\"1\" class=\"\">Rutherford</td><td colspan=\"1\" rowspan=\"1\" class=\"\">Hockaday</td><td colspan=\"1\" rowspan=\"1\" class=\"\">M</td><td colspan=\"1\" rowspan=\"1\" class=\"\">40</td><td colspan=\"1\" rowspan=\"1\" class=\"\">33 Mesta Hill</td></tr>\n",
       "<tr><td colspan=\"1\" rowspan=\"1\" class=\"\">928147382718483</td><td colspan=\"1\" rowspan=\"1\" class=\"\">Mikael</td><td colspan=\"1\" rowspan=\"1\" class=\"\">Radulovich</td><td colspan=\"1\" rowspan=\"1\" class=\"\">M</td><td colspan=\"1\" rowspan=\"1\" class=\"\">37</td><td colspan=\"1\" rowspan=\"1\" class=\"\">16573 Buhler Parkway</td></tr>\n",
       "<tr><td colspan=\"1\" rowspan=\"1\" class=\"\">928147382719900</td><td colspan=\"1\" rowspan=\"1\" class=\"\">Durward</td><td colspan=\"1\" rowspan=\"1\" class=\"\">Brooke</td><td colspan=\"1\" rowspan=\"1\" class=\"\">M</td><td colspan=\"1\" rowspan=\"1\" class=\"\">42</td><td colspan=\"1\" rowspan=\"1\" class=\"\">594 Kennedy Lane</td></tr>\n",
       "</table>"
      ],
      "text/plain": [
       "<raw_magic.nested_table.NestedTable at 0x7f3250064208>"
      ]
     },
     "execution_count": 24,
     "metadata": {},
     "output_type": "execute_result"
    }
   ],
   "source": [
    "%%query\n",
    "SELECT city, SELECT customer_info(c) FROM c IN (SELECT DISTINCT caller FROM partition LIMIT 10)\n",
    "FROM cdr_power_by_city\n",
    "GROUP BY city\n",
    "LIMIT 2"
   ]
  },
  {
   "cell_type": "code",
   "execution_count": 25,
   "metadata": {},
   "outputs": [],
   "source": [
    "%%view power_users_by_city\n",
    "SELECT city, (\n",
    "    SELECT customer_info(caller) FROM caller IN (SELECT DISTINCT caller FROM partition)) AS users\n",
    "FROM cdr_power_by_city\n",
    "GROUP BY city"
   ]
  },
  {
   "cell_type": "code",
   "execution_count": 26,
   "metadata": {},
   "outputs": [
    {
     "data": {
      "text/html": [
       "<table class=\"nested-table\">\n",
       "<tr><th colspan=\"1\" rowspan=\"2\">city</th><th colspan=\"6\" rowspan=\"1\">users</th></tr>\n",
       "<tr><th colspan=\"1\" rowspan=\"1\">imei</th><th colspan=\"1\" rowspan=\"1\">first_name</th><th colspan=\"1\" rowspan=\"1\">name</th><th colspan=\"1\" rowspan=\"1\">gender</th><th colspan=\"1\" rowspan=\"1\">age</th><th colspan=\"1\" rowspan=\"1\">address</th></tr>\n",
       "<tr><td colspan=\"1\" rowspan=\"50\" class=\"\">Lausanne</td><td colspan=\"1\" rowspan=\"1\" class=\"\">928147382720310</td><td colspan=\"1\" rowspan=\"1\" class=\"\">Archibold</td><td colspan=\"1\" rowspan=\"1\" class=\"\">McTavish</td><td colspan=\"1\" rowspan=\"1\" class=\"\">M</td><td colspan=\"1\" rowspan=\"1\" class=\"\">52</td><td colspan=\"1\" rowspan=\"1\" class=\"\">1126 Superior Alley</td></tr>\n",
       "<tr><td colspan=\"1\" rowspan=\"1\" class=\"\">928147382720022</td><td colspan=\"1\" rowspan=\"1\" class=\"\">Ewan</td><td colspan=\"1\" rowspan=\"1\" class=\"\">McCloskey</td><td colspan=\"1\" rowspan=\"1\" class=\"\">M</td><td colspan=\"1\" rowspan=\"1\" class=\"\">66</td><td colspan=\"1\" rowspan=\"1\" class=\"\">958 Hermina Hill</td></tr>\n",
       "<tr><td colspan=\"1\" rowspan=\"1\" class=\"\">928147382719273</td><td colspan=\"1\" rowspan=\"1\" class=\"\">Nigel</td><td colspan=\"1\" rowspan=\"1\" class=\"\">Chapmond</td><td colspan=\"1\" rowspan=\"1\" class=\"\">M</td><td colspan=\"1\" rowspan=\"1\" class=\"\">40</td><td colspan=\"1\" rowspan=\"1\" class=\"\">9 High Crossing Park</td></tr>\n",
       "<tr><td colspan=\"1\" rowspan=\"1\" class=\"\">928147382718238</td><td colspan=\"1\" rowspan=\"1\" class=\"\">Suzi</td><td colspan=\"1\" rowspan=\"1\" class=\"\">Beaton</td><td colspan=\"1\" rowspan=\"1\" class=\"\">F</td><td colspan=\"1\" rowspan=\"1\" class=\"\">44</td><td colspan=\"1\" rowspan=\"1\" class=\"\">2443 Columbus Alley</td></tr>\n",
       "<tr><td colspan=\"1\" rowspan=\"1\" class=\"\">928147382719041</td><td colspan=\"1\" rowspan=\"1\" class=\"\">Maurice</td><td colspan=\"1\" rowspan=\"1\" class=\"\">Manto</td><td colspan=\"1\" rowspan=\"1\" class=\"\">M</td><td colspan=\"1\" rowspan=\"1\" class=\"\">35</td><td colspan=\"1\" rowspan=\"1\" class=\"\">2049 Lillian Terrace</td></tr>\n",
       "<tr><td colspan=\"1\" rowspan=\"1\" class=\"\">928147382719924</td><td colspan=\"1\" rowspan=\"1\" class=\"\">Sebastian</td><td colspan=\"1\" rowspan=\"1\" class=\"\">D&#x27;Ambrosio</td><td colspan=\"1\" rowspan=\"1\" class=\"\">M</td><td colspan=\"1\" rowspan=\"1\" class=\"\">51</td><td colspan=\"1\" rowspan=\"1\" class=\"\">45 Russell Center</td></tr>\n",
       "<tr><td colspan=\"1\" rowspan=\"1\" class=\"\">928147382719474</td><td colspan=\"1\" rowspan=\"1\" class=\"\">Fonz</td><td colspan=\"1\" rowspan=\"1\" class=\"\">Moledina</td><td colspan=\"1\" rowspan=\"1\" class=\"\">M</td><td colspan=\"1\" rowspan=\"1\" class=\"\">42</td><td colspan=\"1\" rowspan=\"1\" class=\"\">9736 Debra Street</td></tr>\n",
       "<tr><td colspan=\"1\" rowspan=\"1\" class=\"\">928147382718993</td><td colspan=\"1\" rowspan=\"1\" class=\"\">Derrek</td><td colspan=\"1\" rowspan=\"1\" class=\"\">Soules</td><td colspan=\"1\" rowspan=\"1\" class=\"\">M</td><td colspan=\"1\" rowspan=\"1\" class=\"\">48</td><td colspan=\"1\" rowspan=\"1\" class=\"\">4399 Lyons Pass</td></tr>\n",
       "<tr><td colspan=\"1\" rowspan=\"1\" class=\"\">928147382720163</td><td colspan=\"1\" rowspan=\"1\" class=\"\">Melony</td><td colspan=\"1\" rowspan=\"1\" class=\"\">Cipolla</td><td colspan=\"1\" rowspan=\"1\" class=\"\">F</td><td colspan=\"1\" rowspan=\"1\" class=\"\">36</td><td colspan=\"1\" rowspan=\"1\" class=\"\">00697 Briar Crest Crossing</td></tr>\n",
       "<tr><td colspan=\"1\" rowspan=\"1\" class=\"\">928147382719368</td><td colspan=\"1\" rowspan=\"1\" class=\"\">Jo</td><td colspan=\"1\" rowspan=\"1\" class=\"\">Conboy</td><td colspan=\"1\" rowspan=\"1\" class=\"\">M</td><td colspan=\"1\" rowspan=\"1\" class=\"\">63</td><td colspan=\"1\" rowspan=\"1\" class=\"\">712 Kennedy Hill</td></tr>\n",
       "<tr><td colspan=\"1\" rowspan=\"1\" class=\"\">928147382718957</td><td colspan=\"1\" rowspan=\"1\" class=\"\">Virgilio</td><td colspan=\"1\" rowspan=\"1\" class=\"\">Jimenez</td><td colspan=\"1\" rowspan=\"1\" class=\"\">M</td><td colspan=\"1\" rowspan=\"1\" class=\"\">26</td><td colspan=\"1\" rowspan=\"1\" class=\"\">78 Cody Center</td></tr>\n",
       "<tr><td colspan=\"1\" rowspan=\"1\" class=\"\">928147382718352</td><td colspan=\"1\" rowspan=\"1\" class=\"\">Jeanne</td><td colspan=\"1\" rowspan=\"1\" class=\"\">McLennan</td><td colspan=\"1\" rowspan=\"1\" class=\"\">F</td><td colspan=\"1\" rowspan=\"1\" class=\"\">62</td><td colspan=\"1\" rowspan=\"1\" class=\"\">7 Doe Crossing Terrace</td></tr>\n",
       "<tr><td colspan=\"1\" rowspan=\"1\" class=\"\">928147382720082</td><td colspan=\"1\" rowspan=\"1\" class=\"\">Corinne</td><td colspan=\"1\" rowspan=\"1\" class=\"\">Citarelli</td><td colspan=\"1\" rowspan=\"1\" class=\"\">F</td><td colspan=\"1\" rowspan=\"1\" class=\"\">25</td><td colspan=\"1\" rowspan=\"1\" class=\"\">381 Thackeray Hill</td></tr>\n",
       "<tr><td colspan=\"1\" rowspan=\"1\" class=\"\">928147382719707</td><td colspan=\"1\" rowspan=\"1\" class=\"\">Luanna</td><td colspan=\"1\" rowspan=\"1\" class=\"\">Couser</td><td colspan=\"1\" rowspan=\"1\" class=\"\">F</td><td colspan=\"1\" rowspan=\"1\" class=\"\">35</td><td colspan=\"1\" rowspan=\"1\" class=\"\">893 Southridge Way</td></tr>\n",
       "<tr><td colspan=\"1\" rowspan=\"1\" class=\"\">928147382719778</td><td colspan=\"1\" rowspan=\"1\" class=\"\">Julie</td><td colspan=\"1\" rowspan=\"1\" class=\"\">Olynyk</td><td colspan=\"1\" rowspan=\"1\" class=\"\">F</td><td colspan=\"1\" rowspan=\"1\" class=\"\">69</td><td colspan=\"1\" rowspan=\"1\" class=\"\">9233 Fisk Parkway</td></tr>\n",
       "<tr><td colspan=\"1\" rowspan=\"1\" class=\"\">928147382719104</td><td colspan=\"1\" rowspan=\"1\" class=\"\">Marsiella</td><td colspan=\"1\" rowspan=\"1\" class=\"\">Nagai</td><td colspan=\"1\" rowspan=\"1\" class=\"\">F</td><td colspan=\"1\" rowspan=\"1\" class=\"\">69</td><td colspan=\"1\" rowspan=\"1\" class=\"\">98 Dexter Trail</td></tr>\n",
       "<tr><td colspan=\"1\" rowspan=\"1\" class=\"\">928147382718935</td><td colspan=\"1\" rowspan=\"1\" class=\"\">Candi</td><td colspan=\"1\" rowspan=\"1\" class=\"\">Jarmon</td><td colspan=\"1\" rowspan=\"1\" class=\"\">F</td><td colspan=\"1\" rowspan=\"1\" class=\"\">33</td><td colspan=\"1\" rowspan=\"1\" class=\"\">22 Bonner Terrace</td></tr>\n",
       "<tr><td colspan=\"1\" rowspan=\"1\" class=\"\">928147382719971</td><td colspan=\"1\" rowspan=\"1\" class=\"\">Lucas</td><td colspan=\"1\" rowspan=\"1\" class=\"\">Robbins</td><td colspan=\"1\" rowspan=\"1\" class=\"\">M</td><td colspan=\"1\" rowspan=\"1\" class=\"\">42</td><td colspan=\"1\" rowspan=\"1\" class=\"\">0789 Elgar Trail</td></tr>\n",
       "<tr><td colspan=\"1\" rowspan=\"1\" class=\"\">928147382720293</td><td colspan=\"1\" rowspan=\"1\" class=\"\">Carmela</td><td colspan=\"1\" rowspan=\"1\" class=\"\">Dukes</td><td colspan=\"1\" rowspan=\"1\" class=\"\">F</td><td colspan=\"1\" rowspan=\"1\" class=\"\">54</td><td colspan=\"1\" rowspan=\"1\" class=\"\">18188 Browning Court</td></tr>\n",
       "<tr><td colspan=\"1\" rowspan=\"1\" class=\"\">928147382718883</td><td colspan=\"1\" rowspan=\"1\" class=\"\">Lacee</td><td colspan=\"1\" rowspan=\"1\" class=\"\">Crowe</td><td colspan=\"1\" rowspan=\"1\" class=\"\">F</td><td colspan=\"1\" rowspan=\"1\" class=\"\">57</td><td colspan=\"1\" rowspan=\"1\" class=\"\">7 Dovetail Court</td></tr>\n",
       "<tr><td colspan=\"1\" rowspan=\"1\" class=\"\">928147382718563</td><td colspan=\"1\" rowspan=\"1\" class=\"\">Felicio</td><td colspan=\"1\" rowspan=\"1\" class=\"\">Figura</td><td colspan=\"1\" rowspan=\"1\" class=\"\">M</td><td colspan=\"1\" rowspan=\"1\" class=\"\">25</td><td colspan=\"1\" rowspan=\"1\" class=\"\">6540 Sutteridge Plaza</td></tr>\n",
       "<tr><td colspan=\"1\" rowspan=\"1\" class=\"\">928147382718478</td><td colspan=\"1\" rowspan=\"1\" class=\"\">Murielle</td><td colspan=\"1\" rowspan=\"1\" class=\"\">Kosiorska</td><td colspan=\"1\" rowspan=\"1\" class=\"\">F</td><td colspan=\"1\" rowspan=\"1\" class=\"\">21</td><td colspan=\"1\" rowspan=\"1\" class=\"\">60707 Fieldstone Place</td></tr>\n",
       "<tr><td colspan=\"1\" rowspan=\"1\" class=\"\">928147382720315</td><td colspan=\"1\" rowspan=\"1\" class=\"\">Vito</td><td colspan=\"1\" rowspan=\"1\" class=\"\">Brodersen</td><td colspan=\"1\" rowspan=\"1\" class=\"\">M</td><td colspan=\"1\" rowspan=\"1\" class=\"\">44</td><td colspan=\"1\" rowspan=\"1\" class=\"\">59416 Boyd Way</td></tr>\n",
       "<tr><td colspan=\"1\" rowspan=\"1\" class=\"\">928147382720209</td><td colspan=\"1\" rowspan=\"1\" class=\"\">Barney</td><td colspan=\"1\" rowspan=\"1\" class=\"\">Rud</td><td colspan=\"1\" rowspan=\"1\" class=\"\">M</td><td colspan=\"1\" rowspan=\"1\" class=\"\">52</td><td colspan=\"1\" rowspan=\"1\" class=\"\">4 Clyde Gallagher Crossing</td></tr>\n",
       "<tr><td colspan=\"1\" rowspan=\"1\" class=\"\">928147382719788</td><td colspan=\"1\" rowspan=\"1\" class=\"\">Chickie</td><td colspan=\"1\" rowspan=\"1\" class=\"\">Pringle</td><td colspan=\"1\" rowspan=\"1\" class=\"\">F</td><td colspan=\"1\" rowspan=\"1\" class=\"\">54</td><td colspan=\"1\" rowspan=\"1\" class=\"\">7 Mallory Avenue</td></tr>\n",
       "<tr><td colspan=\"1\" rowspan=\"1\" class=\"\">928147382719518</td><td colspan=\"1\" rowspan=\"1\" class=\"\">Karlie</td><td colspan=\"1\" rowspan=\"1\" class=\"\">Hyman</td><td colspan=\"1\" rowspan=\"1\" class=\"\">F</td><td colspan=\"1\" rowspan=\"1\" class=\"\">61</td><td colspan=\"1\" rowspan=\"1\" class=\"\">87 Farwell Crossing</td></tr>\n",
       "<tr><td colspan=\"1\" rowspan=\"1\" class=\"\">928147382718649</td><td colspan=\"1\" rowspan=\"1\" class=\"\">Suellen</td><td colspan=\"1\" rowspan=\"1\" class=\"\">Marketing</td><td colspan=\"1\" rowspan=\"1\" class=\"\">F</td><td colspan=\"1\" rowspan=\"1\" class=\"\">49</td><td colspan=\"1\" rowspan=\"1\" class=\"\">7 Parkside Drive</td></tr>\n",
       "<tr><td colspan=\"1\" rowspan=\"1\" class=\"\">928147382718438</td><td colspan=\"1\" rowspan=\"1\" class=\"\">Davoud</td><td colspan=\"1\" rowspan=\"1\" class=\"\">Scovill</td><td colspan=\"1\" rowspan=\"1\" class=\"\">M</td><td colspan=\"1\" rowspan=\"1\" class=\"\">61</td><td colspan=\"1\" rowspan=\"1\" class=\"\">935 Sutherland Park</td></tr>\n",
       "<tr><td colspan=\"1\" rowspan=\"1\" class=\"\">928147382719540</td><td colspan=\"1\" rowspan=\"1\" class=\"\">Ford</td><td colspan=\"1\" rowspan=\"1\" class=\"\">Delle</td><td colspan=\"1\" rowspan=\"1\" class=\"\">M</td><td colspan=\"1\" rowspan=\"1\" class=\"\">34</td><td colspan=\"1\" rowspan=\"1\" class=\"\">4635 Killdeer Avenue</td></tr>\n",
       "<tr><td colspan=\"1\" rowspan=\"1\" class=\"\">928147382719632</td><td colspan=\"1\" rowspan=\"1\" class=\"\">Konstance</td><td colspan=\"1\" rowspan=\"1\" class=\"\">Taverner</td><td colspan=\"1\" rowspan=\"1\" class=\"\">F</td><td colspan=\"1\" rowspan=\"1\" class=\"\">40</td><td colspan=\"1\" rowspan=\"1\" class=\"\">9 Garrison Drive</td></tr>\n",
       "<tr><td colspan=\"1\" rowspan=\"1\" class=\"\">928147382718472</td><td colspan=\"1\" rowspan=\"1\" class=\"\">Jared</td><td colspan=\"1\" rowspan=\"1\" class=\"\">Ochs</td><td colspan=\"1\" rowspan=\"1\" class=\"\">M</td><td colspan=\"1\" rowspan=\"1\" class=\"\">50</td><td colspan=\"1\" rowspan=\"1\" class=\"\">1027 Red Cloud Avenue</td></tr>\n",
       "<tr><td colspan=\"1\" rowspan=\"1\" class=\"\">928147382718599</td><td colspan=\"1\" rowspan=\"1\" class=\"\">Canada</td><td colspan=\"1\" rowspan=\"1\" class=\"\">Kushwaha</td><td colspan=\"1\" rowspan=\"1\" class=\"\">F</td><td colspan=\"1\" rowspan=\"1\" class=\"\">20</td><td colspan=\"1\" rowspan=\"1\" class=\"\">7 Charing Cross Place</td></tr>\n",
       "<tr><td colspan=\"1\" rowspan=\"1\" class=\"\">928147382719211</td><td colspan=\"1\" rowspan=\"1\" class=\"\">Ramsey</td><td colspan=\"1\" rowspan=\"1\" class=\"\">Clinger</td><td colspan=\"1\" rowspan=\"1\" class=\"\">M</td><td colspan=\"1\" rowspan=\"1\" class=\"\">58</td><td colspan=\"1\" rowspan=\"1\" class=\"\">6 Monica Lane</td></tr>\n",
       "<tr><td colspan=\"1\" rowspan=\"1\" class=\"\">928147382718393</td><td colspan=\"1\" rowspan=\"1\" class=\"\">Milli</td><td colspan=\"1\" rowspan=\"1\" class=\"\">Ghani</td><td colspan=\"1\" rowspan=\"1\" class=\"\">F</td><td colspan=\"1\" rowspan=\"1\" class=\"\">44</td><td colspan=\"1\" rowspan=\"1\" class=\"\">7 Rusk Way</td></tr>\n",
       "<tr><td colspan=\"1\" rowspan=\"1\" class=\"\">928147382719129</td><td colspan=\"1\" rowspan=\"1\" class=\"\">Consuela</td><td colspan=\"1\" rowspan=\"1\" class=\"\">Toothman</td><td colspan=\"1\" rowspan=\"1\" class=\"\">F</td><td colspan=\"1\" rowspan=\"1\" class=\"\">48</td><td colspan=\"1\" rowspan=\"1\" class=\"\">678 Laurel Court</td></tr>\n",
       "<tr><td colspan=\"1\" rowspan=\"1\" class=\"\">928147382718401</td><td colspan=\"1\" rowspan=\"1\" class=\"\">Jody</td><td colspan=\"1\" rowspan=\"1\" class=\"\">Cassat</td><td colspan=\"1\" rowspan=\"1\" class=\"\">M</td><td colspan=\"1\" rowspan=\"1\" class=\"\">64</td><td colspan=\"1\" rowspan=\"1\" class=\"\">04 Truax Avenue</td></tr>\n",
       "<tr><td colspan=\"1\" rowspan=\"1\" class=\"\">928147382718383</td><td colspan=\"1\" rowspan=\"1\" class=\"\">Inna</td><td colspan=\"1\" rowspan=\"1\" class=\"\">Noy</td><td colspan=\"1\" rowspan=\"1\" class=\"\">F</td><td colspan=\"1\" rowspan=\"1\" class=\"\">22</td><td colspan=\"1\" rowspan=\"1\" class=\"\">360 Express Court</td></tr>\n",
       "<tr><td colspan=\"1\" rowspan=\"1\" class=\"\">928147382719173</td><td colspan=\"1\" rowspan=\"1\" class=\"\">Judah</td><td colspan=\"1\" rowspan=\"1\" class=\"\">McCarroll</td><td colspan=\"1\" rowspan=\"1\" class=\"\">M</td><td colspan=\"1\" rowspan=\"1\" class=\"\">65</td><td colspan=\"1\" rowspan=\"1\" class=\"\">2703 Chinook Road</td></tr>\n",
       "<tr><td colspan=\"1\" rowspan=\"1\" class=\"\">928147382720247</td><td colspan=\"1\" rowspan=\"1\" class=\"\">Fletcher</td><td colspan=\"1\" rowspan=\"1\" class=\"\">Grossman</td><td colspan=\"1\" rowspan=\"1\" class=\"\">M</td><td colspan=\"1\" rowspan=\"1\" class=\"\">61</td><td colspan=\"1\" rowspan=\"1\" class=\"\">0 Marquette Drive</td></tr>\n",
       "<tr><td colspan=\"1\" rowspan=\"1\" class=\"\">928147382719452</td><td colspan=\"1\" rowspan=\"1\" class=\"\">Dalton</td><td colspan=\"1\" rowspan=\"1\" class=\"\">Greer</td><td colspan=\"1\" rowspan=\"1\" class=\"\">M</td><td colspan=\"1\" rowspan=\"1\" class=\"\">69</td><td colspan=\"1\" rowspan=\"1\" class=\"\">0177 Johnson Lane</td></tr>\n",
       "<tr><td colspan=\"1\" rowspan=\"1\" class=\"\">928147382719374</td><td colspan=\"1\" rowspan=\"1\" class=\"\">Babita</td><td colspan=\"1\" rowspan=\"1\" class=\"\">Chiabaut</td><td colspan=\"1\" rowspan=\"1\" class=\"\">F</td><td colspan=\"1\" rowspan=\"1\" class=\"\">30</td><td colspan=\"1\" rowspan=\"1\" class=\"\">84 Mandrake Point</td></tr>\n",
       "<tr><td colspan=\"1\" rowspan=\"1\" class=\"\">928147382720148</td><td colspan=\"1\" rowspan=\"1\" class=\"\">Lucia</td><td colspan=\"1\" rowspan=\"1\" class=\"\">Brogden</td><td colspan=\"1\" rowspan=\"1\" class=\"\">F</td><td colspan=\"1\" rowspan=\"1\" class=\"\">47</td><td colspan=\"1\" rowspan=\"1\" class=\"\">49 Raven Lane</td></tr>\n",
       "<tr><td colspan=\"1\" rowspan=\"1\" class=\"\">928147382719377</td><td colspan=\"1\" rowspan=\"1\" class=\"\">Gamaliel</td><td colspan=\"1\" rowspan=\"1\" class=\"\">Rogers</td><td colspan=\"1\" rowspan=\"1\" class=\"\">M</td><td colspan=\"1\" rowspan=\"1\" class=\"\">31</td><td colspan=\"1\" rowspan=\"1\" class=\"\">536 Vera Road</td></tr>\n",
       "<tr><td colspan=\"1\" rowspan=\"1\" class=\"\">928147382718767</td><td colspan=\"1\" rowspan=\"1\" class=\"\">Cheslie</td><td colspan=\"1\" rowspan=\"1\" class=\"\">Fahy</td><td colspan=\"1\" rowspan=\"1\" class=\"\">F</td><td colspan=\"1\" rowspan=\"1\" class=\"\">67</td><td colspan=\"1\" rowspan=\"1\" class=\"\">60861 Spenser Alley</td></tr>\n",
       "<tr><td colspan=\"1\" rowspan=\"1\" class=\"\">928147382719414</td><td colspan=\"1\" rowspan=\"1\" class=\"\">Parnell</td><td colspan=\"1\" rowspan=\"1\" class=\"\">Mannion</td><td colspan=\"1\" rowspan=\"1\" class=\"\">M</td><td colspan=\"1\" rowspan=\"1\" class=\"\">36</td><td colspan=\"1\" rowspan=\"1\" class=\"\">8 Erie Alley</td></tr>\n",
       "<tr><td colspan=\"1\" rowspan=\"1\" class=\"\">928147382718519</td><td colspan=\"1\" rowspan=\"1\" class=\"\">Harland</td><td colspan=\"1\" rowspan=\"1\" class=\"\">Gooley</td><td colspan=\"1\" rowspan=\"1\" class=\"\">M</td><td colspan=\"1\" rowspan=\"1\" class=\"\">55</td><td colspan=\"1\" rowspan=\"1\" class=\"\">52 Helena Drive</td></tr>\n",
       "<tr><td colspan=\"1\" rowspan=\"1\" class=\"\">928147382720080</td><td colspan=\"1\" rowspan=\"1\" class=\"\">Stewart</td><td colspan=\"1\" rowspan=\"1\" class=\"\">Contardo</td><td colspan=\"1\" rowspan=\"1\" class=\"\">M</td><td colspan=\"1\" rowspan=\"1\" class=\"\">42</td><td colspan=\"1\" rowspan=\"1\" class=\"\">6811 American Ash Pass</td></tr>\n",
       "<tr><td colspan=\"1\" rowspan=\"1\" class=\"\">928147382719468</td><td colspan=\"1\" rowspan=\"1\" class=\"\">Erica</td><td colspan=\"1\" rowspan=\"1\" class=\"\">Bushell</td><td colspan=\"1\" rowspan=\"1\" class=\"\">F</td><td colspan=\"1\" rowspan=\"1\" class=\"\">51</td><td colspan=\"1\" rowspan=\"1\" class=\"\">140 Kinsman Court</td></tr>\n",
       "<tr><td colspan=\"1\" rowspan=\"1\" class=\"\">928147382719681</td><td colspan=\"1\" rowspan=\"1\" class=\"\">Hasheem</td><td colspan=\"1\" rowspan=\"1\" class=\"\">Sidorovsky</td><td colspan=\"1\" rowspan=\"1\" class=\"\">M</td><td colspan=\"1\" rowspan=\"1\" class=\"\">56</td><td colspan=\"1\" rowspan=\"1\" class=\"\">908 Westridge Circle</td></tr>\n",
       "<tr><td colspan=\"1\" rowspan=\"1\" class=\"\">928147382719247</td><td colspan=\"1\" rowspan=\"1\" class=\"\">Sam</td><td colspan=\"1\" rowspan=\"1\" class=\"\">Yuengling</td><td colspan=\"1\" rowspan=\"1\" class=\"\">F</td><td colspan=\"1\" rowspan=\"1\" class=\"\">22</td><td colspan=\"1\" rowspan=\"1\" class=\"\">56 Tennessee Crossing</td></tr>\n",
       "</table>"
      ],
      "text/plain": [
       "<raw_magic.nested_table.NestedTable at 0x7f3250069080>"
      ]
     },
     "execution_count": 26,
     "metadata": {},
     "output_type": "execute_result"
    }
   ],
   "source": [
    "%%query\n",
    "SELECT *\n",
    "FROM power_users_by_city\n",
    "WHERE city = \"Lausanne\""
   ]
  },
  {
   "cell_type": "markdown",
   "metadata": {},
   "source": [
    "Now that we have all the information we need, let's finalize a statistics table from this view."
   ]
  },
  {
   "cell_type": "code",
   "execution_count": 27,
   "metadata": {},
   "outputs": [],
   "source": [
    "%%view city_stats\n",
    "SELECT city,\n",
    "    (SELECT AVG(age) FROM users WHERE gender = \"F\") AS f,\n",
    "    (SELECT AVG(age) FROM users WHERE gender = \"M\") AS m\n",
    "FROM power_users_by_city"
   ]
  },
  {
   "cell_type": "code",
   "execution_count": 28,
   "metadata": {},
   "outputs": [
    {
     "data": {
      "text/html": [
       "<table class=\"nested-table\">\n",
       "<tr><th colspan=\"1\" rowspan=\"1\">city</th><th colspan=\"1\" rowspan=\"1\">f</th><th colspan=\"1\" rowspan=\"1\">m</th></tr>\n",
       "<tr><td colspan=\"1\" rowspan=\"1\" class=\"\">Neuchâtel</td><td colspan=\"1\" rowspan=\"1\" class=\"\">38</td><td colspan=\"1\" rowspan=\"1\" class=\"\">47</td></tr>\n",
       "<tr><td colspan=\"1\" rowspan=\"1\" class=\"\">Sankt Gallen</td><td colspan=\"1\" rowspan=\"1\" class=\"\">51</td><td colspan=\"1\" rowspan=\"1\" class=\"\">49</td></tr>\n",
       "<tr><td colspan=\"1\" rowspan=\"1\" class=\"\">Delémont</td><td colspan=\"1\" rowspan=\"1\" class=\"\">44</td><td colspan=\"1\" rowspan=\"1\" class=\"\">53</td></tr>\n",
       "<tr><td colspan=\"1\" rowspan=\"1\" class=\"\">Schaffhausen</td><td colspan=\"1\" rowspan=\"1\" class=\"\">36</td><td colspan=\"1\" rowspan=\"1\" class=\"\">50</td></tr>\n",
       "<tr><td colspan=\"1\" rowspan=\"1\" class=\"\">Frauenfeld</td><td colspan=\"1\" rowspan=\"1\" class=\"\">44</td><td colspan=\"1\" rowspan=\"1\" class=\"\">42</td></tr>\n",
       "<tr><td colspan=\"1\" rowspan=\"1\" class=\"\">Liestal</td><td colspan=\"1\" rowspan=\"1\" class=\"\">48</td><td colspan=\"1\" rowspan=\"1\" class=\"\">44</td></tr>\n",
       "<tr><td colspan=\"1\" rowspan=\"1\" class=\"\">Luzern</td><td colspan=\"1\" rowspan=\"1\" class=\"null-value\">null</td><td colspan=\"1\" rowspan=\"1\" class=\"\">28</td></tr>\n",
       "<tr><td colspan=\"1\" rowspan=\"1\" class=\"\">Genève</td><td colspan=\"1\" rowspan=\"1\" class=\"\">39</td><td colspan=\"1\" rowspan=\"1\" class=\"null-value\">null</td></tr>\n",
       "<tr><td colspan=\"1\" rowspan=\"1\" class=\"\">Zürich</td><td colspan=\"1\" rowspan=\"1\" class=\"\">41</td><td colspan=\"1\" rowspan=\"1\" class=\"\">45</td></tr>\n",
       "<tr><td colspan=\"1\" rowspan=\"1\" class=\"\">Schwyz</td><td colspan=\"1\" rowspan=\"1\" class=\"\">49</td><td colspan=\"1\" rowspan=\"1\" class=\"\">40</td></tr>\n",
       "<tr><td colspan=\"1\" rowspan=\"1\" class=\"\">Herisau</td><td colspan=\"1\" rowspan=\"1\" class=\"\">41</td><td colspan=\"1\" rowspan=\"1\" class=\"\">52</td></tr>\n",
       "<tr><td colspan=\"1\" rowspan=\"1\" class=\"\">Zug</td><td colspan=\"1\" rowspan=\"1\" class=\"null-value\">null</td><td colspan=\"1\" rowspan=\"1\" class=\"\">61</td></tr>\n",
       "<tr><td colspan=\"1\" rowspan=\"1\" class=\"\">Bellinzona</td><td colspan=\"1\" rowspan=\"1\" class=\"\">44</td><td colspan=\"1\" rowspan=\"1\" class=\"\">47</td></tr>\n",
       "<tr><td colspan=\"1\" rowspan=\"1\" class=\"\">Sitten</td><td colspan=\"1\" rowspan=\"1\" class=\"\">45</td><td colspan=\"1\" rowspan=\"1\" class=\"\">43</td></tr>\n",
       "<tr><td colspan=\"1\" rowspan=\"1\" class=\"\">Glarus</td><td colspan=\"1\" rowspan=\"1\" class=\"\">41</td><td colspan=\"1\" rowspan=\"1\" class=\"\">44</td></tr>\n",
       "<tr><td colspan=\"1\" rowspan=\"1\" class=\"\">Lausanne</td><td colspan=\"1\" rowspan=\"1\" class=\"\">44</td><td colspan=\"1\" rowspan=\"1\" class=\"\">48</td></tr>\n",
       "<tr><td colspan=\"1\" rowspan=\"1\" class=\"\">Aarau</td><td colspan=\"1\" rowspan=\"1\" class=\"\">43</td><td colspan=\"1\" rowspan=\"1\" class=\"\">49</td></tr>\n",
       "<tr><td colspan=\"1\" rowspan=\"1\" class=\"\">Solothurn</td><td colspan=\"1\" rowspan=\"1\" class=\"\">42</td><td colspan=\"1\" rowspan=\"1\" class=\"\">47</td></tr>\n",
       "<tr><td colspan=\"1\" rowspan=\"1\" class=\"\">Basel</td><td colspan=\"1\" rowspan=\"1\" class=\"\">36</td><td colspan=\"1\" rowspan=\"1\" class=\"\">53</td></tr>\n",
       "<tr><td colspan=\"1\" rowspan=\"1\" class=\"\">Stans</td><td colspan=\"1\" rowspan=\"1\" class=\"\">51</td><td colspan=\"1\" rowspan=\"1\" class=\"\">46</td></tr>\n",
       "<tr><td colspan=\"1\" rowspan=\"1\" class=\"\">Appenzell</td><td colspan=\"1\" rowspan=\"1\" class=\"\">44</td><td colspan=\"1\" rowspan=\"1\" class=\"\">43</td></tr>\n",
       "<tr><td colspan=\"1\" rowspan=\"1\" class=\"\">Altdorf</td><td colspan=\"1\" rowspan=\"1\" class=\"\">45</td><td colspan=\"1\" rowspan=\"1\" class=\"\">46</td></tr>\n",
       "<tr><td colspan=\"1\" rowspan=\"1\" class=\"\">Chur</td><td colspan=\"1\" rowspan=\"1\" class=\"\">46</td><td colspan=\"1\" rowspan=\"1\" class=\"\">45</td></tr>\n",
       "<tr><td colspan=\"1\" rowspan=\"1\" class=\"\">Fribourg</td><td colspan=\"1\" rowspan=\"1\" class=\"\">47</td><td colspan=\"1\" rowspan=\"1\" class=\"\">47</td></tr>\n",
       "<tr><td colspan=\"1\" rowspan=\"1\" class=\"\">Sarnen</td><td colspan=\"1\" rowspan=\"1\" class=\"\">46</td><td colspan=\"1\" rowspan=\"1\" class=\"\">45</td></tr>\n",
       "</table>"
      ],
      "text/plain": [
       "<raw_magic.nested_table.NestedTable at 0x7f32500696a0>"
      ]
     },
     "execution_count": 28,
     "metadata": {},
     "output_type": "execute_result"
    }
   ],
   "source": [
    "%%query\n",
    "SELECT *\n",
    "FROM city_stats"
   ]
  },
  {
   "cell_type": "markdown",
   "metadata": {},
   "source": [
    "Back to our Excel file. We can project the content of the Excel file and query the `city_stats` view we just built. Now the rows are added the statistics information we wanted.\n",
    "\n",
    "Unfortunately, there are little typos in the Excel file (the author didn't use accents while the antennas table does contain accents) and the match is failing for certain cities."
   ]
  },
  {
   "cell_type": "code",
   "execution_count": 29,
   "metadata": {},
   "outputs": [
    {
     "data": {
      "text/html": [
       "<table class=\"nested-table\">\n",
       "<tr><th colspan=\"1\" rowspan=\"2\">Location</th><th colspan=\"1\" rowspan=\"2\">PrintMedia</th><th colspan=\"1\" rowspan=\"2\">SocialMedia</th><th colspan=\"1\" rowspan=\"2\">Radio</th><th colspan=\"1\" rowspan=\"2\">Television</th><th colspan=\"1\" rowspan=\"2\">Total</th><th colspan=\"3\" rowspan=\"1\">stats</th></tr>\n",
       "<tr><th colspan=\"1\" rowspan=\"1\">city</th><th colspan=\"1\" rowspan=\"1\">f</th><th colspan=\"1\" rowspan=\"1\">m</th></tr>\n",
       "<tr><td colspan=\"1\" rowspan=\"1\" class=\"\">Geneve</td><td colspan=\"1\" rowspan=\"1\" class=\"\">100.0</td><td colspan=\"1\" rowspan=\"1\" class=\"\">50.0</td><td colspan=\"1\" rowspan=\"1\" class=\"\">100.0</td><td colspan=\"1\" rowspan=\"1\" class=\"\">200.0</td><td colspan=\"1\" rowspan=\"1\" class=\"\">450.0</td><td colspan=\"3\" rowspan=\"1\" class=\"null-value\">null</td></tr>\n",
       "<tr><td colspan=\"1\" rowspan=\"1\" class=\"\">Zurich</td><td colspan=\"1\" rowspan=\"1\" class=\"\">101.0</td><td colspan=\"1\" rowspan=\"1\" class=\"\">51.0</td><td colspan=\"1\" rowspan=\"1\" class=\"\">101.0</td><td colspan=\"1\" rowspan=\"1\" class=\"\">201.0</td><td colspan=\"1\" rowspan=\"1\" class=\"\">454.0</td><td colspan=\"3\" rowspan=\"1\" class=\"null-value\">null</td></tr>\n",
       "<tr><td colspan=\"1\" rowspan=\"1\" class=\"\">Basel</td><td colspan=\"1\" rowspan=\"1\" class=\"\">102.0</td><td colspan=\"1\" rowspan=\"1\" class=\"\">52.0</td><td colspan=\"1\" rowspan=\"1\" class=\"\">102.0</td><td colspan=\"1\" rowspan=\"1\" class=\"\">202.0</td><td colspan=\"1\" rowspan=\"1\" class=\"\">458.0</td><td colspan=\"1\" rowspan=\"1\" class=\"\">Basel</td><td colspan=\"1\" rowspan=\"1\" class=\"\">36</td><td colspan=\"1\" rowspan=\"1\" class=\"\">53</td></tr>\n",
       "<tr><td colspan=\"1\" rowspan=\"1\" class=\"\">Lausanne</td><td colspan=\"1\" rowspan=\"1\" class=\"\">103.0</td><td colspan=\"1\" rowspan=\"1\" class=\"\">53.0</td><td colspan=\"1\" rowspan=\"1\" class=\"\">103.0</td><td colspan=\"1\" rowspan=\"1\" class=\"\">203.0</td><td colspan=\"1\" rowspan=\"1\" class=\"\">462.0</td><td colspan=\"1\" rowspan=\"1\" class=\"\">Lausanne</td><td colspan=\"1\" rowspan=\"1\" class=\"\">44</td><td colspan=\"1\" rowspan=\"1\" class=\"\">48</td></tr>\n",
       "<tr><td colspan=\"1\" rowspan=\"1\" class=\"\">Luzern</td><td colspan=\"1\" rowspan=\"1\" class=\"\">104.0</td><td colspan=\"1\" rowspan=\"1\" class=\"\">54.0</td><td colspan=\"1\" rowspan=\"1\" class=\"\">104.0</td><td colspan=\"1\" rowspan=\"1\" class=\"\">204.0</td><td colspan=\"1\" rowspan=\"1\" class=\"\">466.0</td><td colspan=\"1\" rowspan=\"1\" class=\"\">Luzern</td><td colspan=\"1\" rowspan=\"1\" class=\"null-value\">null</td><td colspan=\"1\" rowspan=\"1\" class=\"\">28</td></tr>\n",
       "<tr><td colspan=\"1\" rowspan=\"1\" class=\"\">Fribourg</td><td colspan=\"1\" rowspan=\"1\" class=\"\">105.0</td><td colspan=\"1\" rowspan=\"1\" class=\"\">55.0</td><td colspan=\"1\" rowspan=\"1\" class=\"\">105.0</td><td colspan=\"1\" rowspan=\"1\" class=\"\">205.0</td><td colspan=\"1\" rowspan=\"1\" class=\"\">470.0</td><td colspan=\"1\" rowspan=\"1\" class=\"\">Fribourg</td><td colspan=\"1\" rowspan=\"1\" class=\"\">47</td><td colspan=\"1\" rowspan=\"1\" class=\"\">47</td></tr>\n",
       "<tr><td colspan=\"1\" rowspan=\"1\" class=\"\">Neuchatel</td><td colspan=\"1\" rowspan=\"1\" class=\"\">106.0</td><td colspan=\"1\" rowspan=\"1\" class=\"\">56.0</td><td colspan=\"1\" rowspan=\"1\" class=\"\">106.0</td><td colspan=\"1\" rowspan=\"1\" class=\"\">206.0</td><td colspan=\"1\" rowspan=\"1\" class=\"\">474.0</td><td colspan=\"3\" rowspan=\"1\" class=\"null-value\">null</td></tr>\n",
       "<tr><td colspan=\"1\" rowspan=\"1\" class=\"\">Zug</td><td colspan=\"1\" rowspan=\"1\" class=\"\">107.0</td><td colspan=\"1\" rowspan=\"1\" class=\"\">57.0</td><td colspan=\"1\" rowspan=\"1\" class=\"\">107.0</td><td colspan=\"1\" rowspan=\"1\" class=\"\">207.0</td><td colspan=\"1\" rowspan=\"1\" class=\"\">478.0</td><td colspan=\"1\" rowspan=\"1\" class=\"\">Zug</td><td colspan=\"1\" rowspan=\"1\" class=\"null-value\">null</td><td colspan=\"1\" rowspan=\"1\" class=\"\">61</td></tr>\n",
       "</table>"
      ],
      "text/plain": [
       "<raw_magic.nested_table.NestedTable at 0x7f325006ba90>"
      ]
     },
     "execution_count": 29,
     "metadata": {},
     "output_type": "execute_result"
    }
   ],
   "source": [
    "%%query\n",
    "SELECT Location, PrintMedia, SocialMedia, Radio, Television, Total,\n",
    "   CFIRST(SELECT * FROM city_stats WHERE city = Location) AS stats\n",
    "FROM campaign"
   ]
  },
  {
   "cell_type": "markdown",
   "metadata": {},
   "source": [
    "A solution: match the city name by similarity and pick the closest match. This permits to solve the problem."
   ]
  },
  {
   "cell_type": "code",
   "execution_count": 30,
   "metadata": {},
   "outputs": [
    {
     "data": {
      "text/html": [
       "<table class=\"nested-table\">\n",
       "<tr><th colspan=\"1\" rowspan=\"2\">Location</th><th colspan=\"1\" rowspan=\"2\">PrintMedia</th><th colspan=\"1\" rowspan=\"2\">SocialMedia</th><th colspan=\"1\" rowspan=\"2\">Radio</th><th colspan=\"1\" rowspan=\"2\">Television</th><th colspan=\"1\" rowspan=\"2\">Total</th><th colspan=\"3\" rowspan=\"1\">stats</th></tr>\n",
       "<tr><th colspan=\"1\" rowspan=\"1\">city</th><th colspan=\"1\" rowspan=\"1\">f</th><th colspan=\"1\" rowspan=\"1\">m</th></tr>\n",
       "<tr><td colspan=\"1\" rowspan=\"1\" class=\"\">Geneve</td><td colspan=\"1\" rowspan=\"1\" class=\"\">100.0</td><td colspan=\"1\" rowspan=\"1\" class=\"\">50.0</td><td colspan=\"1\" rowspan=\"1\" class=\"\">100.0</td><td colspan=\"1\" rowspan=\"1\" class=\"\">200.0</td><td colspan=\"1\" rowspan=\"1\" class=\"\">450.0</td><td colspan=\"1\" rowspan=\"1\" class=\"\">Genève</td><td colspan=\"1\" rowspan=\"1\" class=\"\">39</td><td colspan=\"1\" rowspan=\"1\" class=\"null-value\">null</td></tr>\n",
       "<tr><td colspan=\"1\" rowspan=\"1\" class=\"\">Zurich</td><td colspan=\"1\" rowspan=\"1\" class=\"\">101.0</td><td colspan=\"1\" rowspan=\"1\" class=\"\">51.0</td><td colspan=\"1\" rowspan=\"1\" class=\"\">101.0</td><td colspan=\"1\" rowspan=\"1\" class=\"\">201.0</td><td colspan=\"1\" rowspan=\"1\" class=\"\">454.0</td><td colspan=\"1\" rowspan=\"1\" class=\"\">Zürich</td><td colspan=\"1\" rowspan=\"1\" class=\"\">41</td><td colspan=\"1\" rowspan=\"1\" class=\"\">45</td></tr>\n",
       "<tr><td colspan=\"1\" rowspan=\"1\" class=\"\">Basel</td><td colspan=\"1\" rowspan=\"1\" class=\"\">102.0</td><td colspan=\"1\" rowspan=\"1\" class=\"\">52.0</td><td colspan=\"1\" rowspan=\"1\" class=\"\">102.0</td><td colspan=\"1\" rowspan=\"1\" class=\"\">202.0</td><td colspan=\"1\" rowspan=\"1\" class=\"\">458.0</td><td colspan=\"1\" rowspan=\"1\" class=\"\">Basel</td><td colspan=\"1\" rowspan=\"1\" class=\"\">36</td><td colspan=\"1\" rowspan=\"1\" class=\"\">53</td></tr>\n",
       "<tr><td colspan=\"1\" rowspan=\"1\" class=\"\">Lausanne</td><td colspan=\"1\" rowspan=\"1\" class=\"\">103.0</td><td colspan=\"1\" rowspan=\"1\" class=\"\">53.0</td><td colspan=\"1\" rowspan=\"1\" class=\"\">103.0</td><td colspan=\"1\" rowspan=\"1\" class=\"\">203.0</td><td colspan=\"1\" rowspan=\"1\" class=\"\">462.0</td><td colspan=\"1\" rowspan=\"1\" class=\"\">Lausanne</td><td colspan=\"1\" rowspan=\"1\" class=\"\">44</td><td colspan=\"1\" rowspan=\"1\" class=\"\">48</td></tr>\n",
       "<tr><td colspan=\"1\" rowspan=\"1\" class=\"\">Luzern</td><td colspan=\"1\" rowspan=\"1\" class=\"\">104.0</td><td colspan=\"1\" rowspan=\"1\" class=\"\">54.0</td><td colspan=\"1\" rowspan=\"1\" class=\"\">104.0</td><td colspan=\"1\" rowspan=\"1\" class=\"\">204.0</td><td colspan=\"1\" rowspan=\"1\" class=\"\">466.0</td><td colspan=\"1\" rowspan=\"1\" class=\"\">Luzern</td><td colspan=\"1\" rowspan=\"1\" class=\"null-value\">null</td><td colspan=\"1\" rowspan=\"1\" class=\"\">28</td></tr>\n",
       "<tr><td colspan=\"1\" rowspan=\"1\" class=\"\">Fribourg</td><td colspan=\"1\" rowspan=\"1\" class=\"\">105.0</td><td colspan=\"1\" rowspan=\"1\" class=\"\">55.0</td><td colspan=\"1\" rowspan=\"1\" class=\"\">105.0</td><td colspan=\"1\" rowspan=\"1\" class=\"\">205.0</td><td colspan=\"1\" rowspan=\"1\" class=\"\">470.0</td><td colspan=\"1\" rowspan=\"1\" class=\"\">Fribourg</td><td colspan=\"1\" rowspan=\"1\" class=\"\">47</td><td colspan=\"1\" rowspan=\"1\" class=\"\">47</td></tr>\n",
       "<tr><td colspan=\"1\" rowspan=\"1\" class=\"\">Neuchatel</td><td colspan=\"1\" rowspan=\"1\" class=\"\">106.0</td><td colspan=\"1\" rowspan=\"1\" class=\"\">56.0</td><td colspan=\"1\" rowspan=\"1\" class=\"\">106.0</td><td colspan=\"1\" rowspan=\"1\" class=\"\">206.0</td><td colspan=\"1\" rowspan=\"1\" class=\"\">474.0</td><td colspan=\"1\" rowspan=\"1\" class=\"\">Neuchâtel</td><td colspan=\"1\" rowspan=\"1\" class=\"\">38</td><td colspan=\"1\" rowspan=\"1\" class=\"\">47</td></tr>\n",
       "<tr><td colspan=\"1\" rowspan=\"1\" class=\"\">Zug</td><td colspan=\"1\" rowspan=\"1\" class=\"\">107.0</td><td colspan=\"1\" rowspan=\"1\" class=\"\">57.0</td><td colspan=\"1\" rowspan=\"1\" class=\"\">107.0</td><td colspan=\"1\" rowspan=\"1\" class=\"\">207.0</td><td colspan=\"1\" rowspan=\"1\" class=\"\">478.0</td><td colspan=\"1\" rowspan=\"1\" class=\"\">Zug</td><td colspan=\"1\" rowspan=\"1\" class=\"null-value\">null</td><td colspan=\"1\" rowspan=\"1\" class=\"\">61</td></tr>\n",
       "</table>"
      ],
      "text/plain": [
       "<raw_magic.nested_table.NestedTable at 0x7f325001c898>"
      ]
     },
     "execution_count": 30,
     "metadata": {},
     "output_type": "execute_result"
    }
   ],
   "source": [
    "%%query\n",
    "SELECT Location, PrintMedia, SocialMedia, Radio, Television, Total,\n",
    "   CFIRST(\n",
    "       SELECT *\n",
    "       FROM city_stats\n",
    "       ORDER BY levenshtein_distance(city,Location)\n",
    "       ASC) AS stats\n",
    "FROM campaign"
   ]
  },
  {
   "cell_type": "code",
   "execution_count": null,
   "metadata": {},
   "outputs": [],
   "source": []
  }
 ],
 "metadata": {
  "kernelspec": {
   "display_name": "Python 3",
   "language": "python",
   "name": "python3"
  },
  "language_info": {
   "codemirror_mode": {
    "name": "ipython",
    "version": 3
   },
   "file_extension": ".py",
   "mimetype": "text/x-python",
   "name": "python",
   "nbconvert_exporter": "python",
   "pygments_lexer": "ipython3",
   "version": "3.6.9"
  }
 },
 "nbformat": 4,
 "nbformat_minor": 2
}
