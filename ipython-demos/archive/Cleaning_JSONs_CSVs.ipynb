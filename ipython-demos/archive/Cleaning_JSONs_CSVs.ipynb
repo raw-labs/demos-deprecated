{
 "cells": [
  {
   "cell_type": "code",
   "execution_count": 1,
   "metadata": {},
   "outputs": [],
   "source": [
    "%load_ext raw_magic"
   ]
  },
  {
   "cell_type": "markdown",
   "metadata": {},
   "source": [
    "# Denormalize JSON\n",
    "\n",
    "The JSON file `country_sales.json` has some data about cost of items. "
   ]
  },
  {
   "cell_type": "code",
   "execution_count": 2,
   "metadata": {},
   "outputs": [
    {
     "name": "stdout",
     "output_type": "stream",
     "text": [
      "API error: S3 credentials already exists\n"
     ]
    }
   ],
   "source": [
    "%buckets_register raw-tutorial"
   ]
  },
  {
   "cell_type": "code",
   "execution_count": 3,
   "metadata": {},
   "outputs": [
    {
     "data": {
      "text/html": [
       "<table class=\"nested-table\">\n",
       "<tr><th colspan=\"1\" rowspan=\"2\">country</th><th colspan=\"3\" rowspan=\"1\">sales</th></tr>\n",
       "<tr><th colspan=\"1\" rowspan=\"1\">item</th><th colspan=\"1\" rowspan=\"1\">cost</th><th colspan=\"1\" rowspan=\"1\">date</th></tr>\n",
       "<tr><td colspan=\"1\" rowspan=\"6\" class=\"\">CH</td><td colspan=\"1\" rowspan=\"1\" class=\"\">201</td><td colspan=\"1\" rowspan=\"1\" class=\"\">450</td><td colspan=\"1\" rowspan=\"1\" class=\"\">2017-05-01 12:23</td></tr>\n",
       "<tr><td colspan=\"1\" rowspan=\"1\" class=\"\">100</td><td colspan=\"1\" rowspan=\"1\" class=\"\">70</td><td colspan=\"1\" rowspan=\"1\" class=\"\">2017-05-01 13:01</td></tr>\n",
       "<tr><td colspan=\"1\" rowspan=\"1\" class=\"\">201</td><td colspan=\"1\" rowspan=\"1\" class=\"\">270</td><td colspan=\"1\" rowspan=\"1\" class=\"\">2017-05-01 13:54</td></tr>\n",
       "<tr><td colspan=\"1\" rowspan=\"1\" class=\"\">110</td><td colspan=\"1\" rowspan=\"1\" class=\"\">30</td><td colspan=\"1\" rowspan=\"1\" class=\"\">2017-05-01 14:01</td></tr>\n",
       "<tr><td colspan=\"1\" rowspan=\"1\" class=\"\">101</td><td colspan=\"1\" rowspan=\"1\" class=\"\">80</td><td colspan=\"1\" rowspan=\"1\" class=\"\">2017-05-01 16:22</td></tr>\n",
       "<tr><td colspan=\"1\" rowspan=\"1\" class=\"\">101</td><td colspan=\"1\" rowspan=\"1\" class=\"\">450</td><td colspan=\"1\" rowspan=\"1\" class=\"\">2017-05-02 01:03</td></tr>\n",
       "<tr><td colspan=\"1\" rowspan=\"9\" class=\"\">US</td><td colspan=\"1\" rowspan=\"1\" class=\"\">200</td><td colspan=\"1\" rowspan=\"1\" class=\"\">210</td><td colspan=\"1\" rowspan=\"1\" class=\"\">2017-05-01 09:16</td></tr>\n",
       "<tr><td colspan=\"1\" rowspan=\"1\" class=\"\">200</td><td colspan=\"1\" rowspan=\"1\" class=\"\">200</td><td colspan=\"1\" rowspan=\"1\" class=\"\">2017-05-01 09:58</td></tr>\n",
       "<tr><td colspan=\"1\" rowspan=\"1\" class=\"\">210</td><td colspan=\"1\" rowspan=\"1\" class=\"\">320</td><td colspan=\"1\" rowspan=\"1\" class=\"\">2017-05-01 10:21</td></tr>\n",
       "<tr><td colspan=\"1\" rowspan=\"1\" class=\"\">112</td><td colspan=\"1\" rowspan=\"1\" class=\"\">40</td><td colspan=\"1\" rowspan=\"1\" class=\"\">2017-05-01 11:01</td></tr>\n",
       "<tr><td colspan=\"1\" rowspan=\"1\" class=\"\">100</td><td colspan=\"1\" rowspan=\"1\" class=\"\">40</td><td colspan=\"1\" rowspan=\"1\" class=\"\">2017-05-01 11:31</td></tr>\n",
       "<tr><td colspan=\"1\" rowspan=\"1\" class=\"\">101</td><td colspan=\"1\" rowspan=\"1\" class=\"\">10</td><td colspan=\"1\" rowspan=\"1\" class=\"\">2017-05-01 12:13</td></tr>\n",
       "<tr><td colspan=\"1\" rowspan=\"1\" class=\"\">112</td><td colspan=\"1\" rowspan=\"1\" class=\"\">40</td><td colspan=\"1\" rowspan=\"1\" class=\"\">2017-05-01 15:15</td></tr>\n",
       "<tr><td colspan=\"1\" rowspan=\"1\" class=\"\">112</td><td colspan=\"1\" rowspan=\"1\" class=\"\">70</td><td colspan=\"1\" rowspan=\"1\" class=\"\">2017-05-01 16:01</td></tr>\n",
       "<tr><td colspan=\"1\" rowspan=\"1\" class=\"\">111</td><td colspan=\"1\" rowspan=\"1\" class=\"\">30</td><td colspan=\"1\" rowspan=\"1\" class=\"\">2017-05-01 19:21</td></tr>\n",
       "</table>"
      ],
      "text/plain": [
       "<raw_magic.nested_table.NestedTable at 0x7f5a81ce2cc0>"
      ]
     },
     "execution_count": 3,
     "metadata": {},
     "output_type": "execute_result"
    }
   ],
   "source": [
    "%%query\n",
    "read(\"s3://raw-tutorial/ipython-demos/country_sales.json\")"
   ]
  },
  {
   "cell_type": "markdown",
   "metadata": {},
   "source": [
    "Since it contains nested data, we \"denormalize\" it by turning it into a regular flat table, through a SQL extension (see the FROM statement). The data is also cleaned: item IDs are added a `\"i#\"` prefix and the `date` field is converted into a timestamp.\n"
   ]
  },
  {
   "cell_type": "code",
   "execution_count": 4,
   "metadata": {},
   "outputs": [
    {
     "name": "stdout",
     "output_type": "stream",
     "text": [
      "View \"country_sales\" was replaced\n"
     ]
    }
   ],
   "source": [
    "%%view country_sales\n",
    "file := read(\"s3://raw-tutorial/ipython-demos/country_sales.json\");\n",
    "\n",
    "SELECT cs.country, \"i#\" + item AS item, cost,\n",
    "     TO_TIMESTAMP(date, \"yyyy-MM-dd HH:mm\") AS date\n",
    "   FROM cs IN file, cs.sales\n"
   ]
  },
  {
   "cell_type": "code",
   "execution_count": 5,
   "metadata": {},
   "outputs": [
    {
     "data": {
      "text/html": [
       "<table class=\"nested-table\">\n",
       "<tr><th colspan=\"1\" rowspan=\"1\">country</th><th colspan=\"1\" rowspan=\"1\">item</th><th colspan=\"1\" rowspan=\"1\">cost</th><th colspan=\"1\" rowspan=\"1\">date</th></tr>\n",
       "<tr><td colspan=\"1\" rowspan=\"1\" class=\"\">CH</td><td colspan=\"1\" rowspan=\"1\" class=\"\">i#201</td><td colspan=\"1\" rowspan=\"1\" class=\"\">450</td><td colspan=\"1\" rowspan=\"1\" class=\"\">2017-05-01 12:23:00</td></tr>\n",
       "<tr><td colspan=\"1\" rowspan=\"1\" class=\"\">CH</td><td colspan=\"1\" rowspan=\"1\" class=\"\">i#100</td><td colspan=\"1\" rowspan=\"1\" class=\"\">70</td><td colspan=\"1\" rowspan=\"1\" class=\"\">2017-05-01 13:01:00</td></tr>\n",
       "<tr><td colspan=\"1\" rowspan=\"1\" class=\"\">CH</td><td colspan=\"1\" rowspan=\"1\" class=\"\">i#201</td><td colspan=\"1\" rowspan=\"1\" class=\"\">270</td><td colspan=\"1\" rowspan=\"1\" class=\"\">2017-05-01 13:54:00</td></tr>\n",
       "<tr><td colspan=\"1\" rowspan=\"1\" class=\"\">CH</td><td colspan=\"1\" rowspan=\"1\" class=\"\">i#110</td><td colspan=\"1\" rowspan=\"1\" class=\"\">30</td><td colspan=\"1\" rowspan=\"1\" class=\"\">2017-05-01 14:01:00</td></tr>\n",
       "<tr><td colspan=\"1\" rowspan=\"1\" class=\"\">CH</td><td colspan=\"1\" rowspan=\"1\" class=\"\">i#101</td><td colspan=\"1\" rowspan=\"1\" class=\"\">80</td><td colspan=\"1\" rowspan=\"1\" class=\"\">2017-05-01 16:22:00</td></tr>\n",
       "<tr><td colspan=\"1\" rowspan=\"1\" class=\"\">CH</td><td colspan=\"1\" rowspan=\"1\" class=\"\">i#101</td><td colspan=\"1\" rowspan=\"1\" class=\"\">450</td><td colspan=\"1\" rowspan=\"1\" class=\"\">2017-05-02 01:03:00</td></tr>\n",
       "<tr><td colspan=\"1\" rowspan=\"1\" class=\"\">US</td><td colspan=\"1\" rowspan=\"1\" class=\"\">i#200</td><td colspan=\"1\" rowspan=\"1\" class=\"\">210</td><td colspan=\"1\" rowspan=\"1\" class=\"\">2017-05-01 09:16:00</td></tr>\n",
       "<tr><td colspan=\"1\" rowspan=\"1\" class=\"\">US</td><td colspan=\"1\" rowspan=\"1\" class=\"\">i#200</td><td colspan=\"1\" rowspan=\"1\" class=\"\">200</td><td colspan=\"1\" rowspan=\"1\" class=\"\">2017-05-01 09:58:00</td></tr>\n",
       "<tr><td colspan=\"1\" rowspan=\"1\" class=\"\">US</td><td colspan=\"1\" rowspan=\"1\" class=\"\">i#210</td><td colspan=\"1\" rowspan=\"1\" class=\"\">320</td><td colspan=\"1\" rowspan=\"1\" class=\"\">2017-05-01 10:21:00</td></tr>\n",
       "<tr><td colspan=\"1\" rowspan=\"1\" class=\"\">US</td><td colspan=\"1\" rowspan=\"1\" class=\"\">i#112</td><td colspan=\"1\" rowspan=\"1\" class=\"\">40</td><td colspan=\"1\" rowspan=\"1\" class=\"\">2017-05-01 11:01:00</td></tr>\n",
       "<tr><td colspan=\"1\" rowspan=\"1\" class=\"\">US</td><td colspan=\"1\" rowspan=\"1\" class=\"\">i#100</td><td colspan=\"1\" rowspan=\"1\" class=\"\">40</td><td colspan=\"1\" rowspan=\"1\" class=\"\">2017-05-01 11:31:00</td></tr>\n",
       "<tr><td colspan=\"1\" rowspan=\"1\" class=\"\">US</td><td colspan=\"1\" rowspan=\"1\" class=\"\">i#101</td><td colspan=\"1\" rowspan=\"1\" class=\"\">10</td><td colspan=\"1\" rowspan=\"1\" class=\"\">2017-05-01 12:13:00</td></tr>\n",
       "<tr><td colspan=\"1\" rowspan=\"1\" class=\"\">US</td><td colspan=\"1\" rowspan=\"1\" class=\"\">i#112</td><td colspan=\"1\" rowspan=\"1\" class=\"\">40</td><td colspan=\"1\" rowspan=\"1\" class=\"\">2017-05-01 15:15:00</td></tr>\n",
       "<tr><td colspan=\"1\" rowspan=\"1\" class=\"\">US</td><td colspan=\"1\" rowspan=\"1\" class=\"\">i#112</td><td colspan=\"1\" rowspan=\"1\" class=\"\">70</td><td colspan=\"1\" rowspan=\"1\" class=\"\">2017-05-01 16:01:00</td></tr>\n",
       "<tr><td colspan=\"1\" rowspan=\"1\" class=\"\">US</td><td colspan=\"1\" rowspan=\"1\" class=\"\">i#111</td><td colspan=\"1\" rowspan=\"1\" class=\"\">30</td><td colspan=\"1\" rowspan=\"1\" class=\"\">2017-05-01 19:21:00</td></tr>\n",
       "</table>"
      ],
      "text/plain": [
       "<raw_magic.nested_table.NestedTable at 0x7f5a81c8cc18>"
      ]
     },
     "execution_count": 5,
     "metadata": {},
     "output_type": "execute_result"
    }
   ],
   "source": [
    "%%query \n",
    "SELECT * FROM country_sales"
   ]
  },
  {
   "cell_type": "markdown",
   "metadata": {},
   "source": [
    "# Convert text file into table\n",
    "\n",
    "The file `products.txt` is a plain text file containing the description of products. "
   ]
  },
  {
   "cell_type": "code",
   "execution_count": 6,
   "metadata": {},
   "outputs": [
    {
     "data": {
      "text/html": [
       "<table class=\"nested-table\">\n",
       "<tr><th colspan=\"1\" rowspan=\"1\">string</th></tr>\n",
       "<tr><td colspan=\"1\" rowspan=\"1\" class=\"\">i#100: Monitor Samsung S24E450DL LED Monitor</td></tr>\n",
       "<tr><td colspan=\"1\" rowspan=\"1\" class=\"\">i#101: Monitor Acer V276HLCbmdpx ZeroFrame Monitor</td></tr>\n",
       "<tr><td colspan=\"1\" rowspan=\"1\" class=\"\">i#110: Monitor Dell UltraSharp U2414H</td></tr>\n",
       "<tr><td colspan=\"1\" rowspan=\"1\" class=\"\">i#111: Monitor Dell UltraSharp U2715H</td></tr>\n",
       "<tr><td colspan=\"1\" rowspan=\"1\" class=\"\">i#112: Monitor Dell Professional P2715Q 4K Monitor</td></tr>\n",
       "<tr><td colspan=\"1\" rowspan=\"1\" class=\"\">i#200: Keyboard Microsoft Sculpt Ergonomic Keyboard</td></tr>\n",
       "<tr><td colspan=\"1\" rowspan=\"1\" class=\"\">i#201: Keyboard Microsoft Sculpt Comfort Desktop</td></tr>\n",
       "<tr><td colspan=\"1\" rowspan=\"1\" class=\"\">i#210: Keyboard Logitech Wireless Illuminated Keyboard</td></tr>\n",
       "</table>"
      ],
      "text/plain": [
       "<raw_magic.nested_table.NestedTable at 0x7f5a81c8cc50>"
      ]
     },
     "execution_count": 6,
     "metadata": {},
     "output_type": "execute_result"
    }
   ],
   "source": [
    "%%query\n",
    "read(\"s3://raw-tutorial/ipython-demos/products.txt\")"
   ]
  },
  {
   "cell_type": "markdown",
   "metadata": {},
   "source": [
    "The text file is converted into a structured collection of records using the PARSE AS keyword, which splits the string into tokens, and converts each token into a record. As a result, items now looks like a regular SQL table and can be queried as such."
   ]
  },
  {
   "cell_type": "code",
   "execution_count": 7,
   "metadata": {},
   "outputs": [
    {
     "name": "stdout",
     "output_type": "stream",
     "text": [
      "View \"items\" was replaced\n"
     ]
    }
   ],
   "source": [
    "%%view items\n",
    "read(\"s3://raw-tutorial/ipython-demos/products.txt\")\n",
    "        PARSE AS r\"\"\"(i#\\w+): (\\w+) (.*)\"\"\"\n",
    "        INTO (id: _1, category: _2, model: _3)"
   ]
  },
  {
   "cell_type": "code",
   "execution_count": 8,
   "metadata": {},
   "outputs": [
    {
     "data": {
      "text/html": [
       "<table class=\"nested-table\">\n",
       "<tr><th colspan=\"1\" rowspan=\"1\">id</th><th colspan=\"1\" rowspan=\"1\">category</th><th colspan=\"1\" rowspan=\"1\">model</th></tr>\n",
       "<tr><td colspan=\"1\" rowspan=\"1\" class=\"\">i#100</td><td colspan=\"1\" rowspan=\"1\" class=\"\">Monitor</td><td colspan=\"1\" rowspan=\"1\" class=\"\">Samsung S24E450DL LED Monitor</td></tr>\n",
       "<tr><td colspan=\"1\" rowspan=\"1\" class=\"\">i#101</td><td colspan=\"1\" rowspan=\"1\" class=\"\">Monitor</td><td colspan=\"1\" rowspan=\"1\" class=\"\">Acer V276HLCbmdpx ZeroFrame Monitor</td></tr>\n",
       "<tr><td colspan=\"1\" rowspan=\"1\" class=\"\">i#110</td><td colspan=\"1\" rowspan=\"1\" class=\"\">Monitor</td><td colspan=\"1\" rowspan=\"1\" class=\"\">Dell UltraSharp U2414H</td></tr>\n",
       "<tr><td colspan=\"1\" rowspan=\"1\" class=\"\">i#111</td><td colspan=\"1\" rowspan=\"1\" class=\"\">Monitor</td><td colspan=\"1\" rowspan=\"1\" class=\"\">Dell UltraSharp U2715H</td></tr>\n",
       "<tr><td colspan=\"1\" rowspan=\"1\" class=\"\">i#112</td><td colspan=\"1\" rowspan=\"1\" class=\"\">Monitor</td><td colspan=\"1\" rowspan=\"1\" class=\"\">Dell Professional P2715Q 4K Monitor</td></tr>\n",
       "<tr><td colspan=\"1\" rowspan=\"1\" class=\"\">i#200</td><td colspan=\"1\" rowspan=\"1\" class=\"\">Keyboard</td><td colspan=\"1\" rowspan=\"1\" class=\"\">Microsoft Sculpt Ergonomic Keyboard</td></tr>\n",
       "<tr><td colspan=\"1\" rowspan=\"1\" class=\"\">i#201</td><td colspan=\"1\" rowspan=\"1\" class=\"\">Keyboard</td><td colspan=\"1\" rowspan=\"1\" class=\"\">Microsoft Sculpt Comfort Desktop</td></tr>\n",
       "<tr><td colspan=\"1\" rowspan=\"1\" class=\"\">i#210</td><td colspan=\"1\" rowspan=\"1\" class=\"\">Keyboard</td><td colspan=\"1\" rowspan=\"1\" class=\"\">Logitech Wireless Illuminated Keyboard</td></tr>\n",
       "</table>"
      ],
      "text/plain": [
       "<raw_magic.nested_table.NestedTable at 0x7f5a81ca1320>"
      ]
     },
     "execution_count": 8,
     "metadata": {},
     "output_type": "execute_result"
    }
   ],
   "source": [
    "%query items"
   ]
  },
  {
   "cell_type": "markdown",
   "metadata": {},
   "source": [
    "# Join JSON and Text file\n",
    "\n",
    "Now that `country_sales` and `items` are regular tables, these can be joined. This query joins a JSON file with a text file, both of which have been preprocessed using RAW queries.\n",
    "\n",
    "**Note that no schemas were created, no data was explicitly loaded and no separate ETL process or scripts were needed: these optimizations are all done internally by RAW and transparent to the user.**"
   ]
  },
  {
   "cell_type": "code",
   "execution_count": 9,
   "metadata": {},
   "outputs": [
    {
     "data": {
      "text/html": [
       "<table class=\"nested-table\">\n",
       "<tr><th colspan=\"1\" rowspan=\"1\">category</th><th colspan=\"1\" rowspan=\"1\">min</th><th colspan=\"1\" rowspan=\"1\">avg</th><th colspan=\"1\" rowspan=\"1\">max</th></tr>\n",
       "<tr><td colspan=\"1\" rowspan=\"1\" class=\"\">Monitor</td><td colspan=\"1\" rowspan=\"1\" class=\"\">10</td><td colspan=\"1\" rowspan=\"1\" class=\"\">45</td><td colspan=\"1\" rowspan=\"1\" class=\"\">80</td></tr>\n",
       "<tr><td colspan=\"1\" rowspan=\"1\" class=\"\">Keyboard</td><td colspan=\"1\" rowspan=\"1\" class=\"\">200</td><td colspan=\"1\" rowspan=\"1\" class=\"\">290</td><td colspan=\"1\" rowspan=\"1\" class=\"\">450</td></tr>\n",
       "</table>"
      ],
      "text/plain": [
       "<raw_magic.nested_table.NestedTable at 0x7f5a81ca1f98>"
      ]
     },
     "execution_count": 9,
     "metadata": {},
     "output_type": "execute_result"
    }
   ],
   "source": [
    "%%query \n",
    "\n",
    "joinedView := SELECT *\n",
    "    FROM country_sales, items\n",
    "    WHERE item = id;\n",
    "\n",
    "SELECT category, MIN(cost) AS min, AVG(cost) AS avg, MAX(cost) AS max\n",
    "FROM joinedView\n",
    "WHERE date < TIMESTAMP \"2017-05-02 00:00:00\"\n",
    "GROUP BY category"
   ]
  },
  {
   "cell_type": "code",
   "execution_count": null,
   "metadata": {},
   "outputs": [],
   "source": []
  }
 ],
 "metadata": {
  "kernelspec": {
   "display_name": "Python 3",
   "language": "python",
   "name": "python3"
  },
  "language_info": {
   "codemirror_mode": {
    "name": "ipython",
    "version": 3
   },
   "file_extension": ".py",
   "mimetype": "text/x-python",
   "name": "python",
   "nbconvert_exporter": "python",
   "pygments_lexer": "ipython3",
   "version": "3.6.9"
  }
 },
 "nbformat": 4,
 "nbformat_minor": 2
}
