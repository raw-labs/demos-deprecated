{
 "cells": [
  {
   "cell_type": "code",
   "execution_count": 2,
   "metadata": {},
   "outputs": [
    {
     "name": "stdout",
     "output_type": "stream",
     "text": [
      "The raw_magic extension is already loaded. To reload it, use:\n",
      "  %reload_ext raw_magic\n"
     ]
    }
   ],
   "source": [
    "%load_ext raw_magic"
   ]
  },
  {
   "cell_type": "code",
   "execution_count": 89,
   "metadata": {},
   "outputs": [
    {
     "data": {
      "text/html": [
       "<table class=\"nested-table\">\n",
       "<tr><th colspan=\"1\" rowspan=\"3\">_1</th><th colspan=\"5\" rowspan=\"1\">_2</th></tr>\n",
       "<tr><th colspan=\"1\" rowspan=\"2\">modified</th><th colspan=\"1\" rowspan=\"2\">size</th><th colspan=\"3\" rowspan=\"1\">blocks</th></tr>\n",
       "<tr><th colspan=\"1\" rowspan=\"1\">hosts</th><th colspan=\"1\" rowspan=\"1\">offset</th><th colspan=\"1\" rowspan=\"1\">length</th></tr>\n",
       "<tr><td colspan=\"1\" rowspan=\"1\" class=\"\">s3://raw-tutorial//read_many_demo/metadata.json</td><td colspan=\"1\" rowspan=\"1\" class=\"\">2020-11-25 14:45:15</td><td colspan=\"1\" rowspan=\"1\" class=\"\">65</td><td colspan=\"1\" rowspan=\"1\" class=\"\">localhost</td><td colspan=\"1\" rowspan=\"1\" class=\"\">0</td><td colspan=\"1\" rowspan=\"1\" class=\"\">65</td></tr>\n",
       "<tr><td colspan=\"1\" rowspan=\"1\" class=\"\">s3://raw-tutorial//read_many_demo/person1.json</td><td colspan=\"1\" rowspan=\"1\" class=\"\">2020-11-25 14:45:15</td><td colspan=\"1\" rowspan=\"1\" class=\"\">137</td><td colspan=\"1\" rowspan=\"1\" class=\"\">localhost</td><td colspan=\"1\" rowspan=\"1\" class=\"\">0</td><td colspan=\"1\" rowspan=\"1\" class=\"\">137</td></tr>\n",
       "<tr><td colspan=\"1\" rowspan=\"1\" class=\"\">s3://raw-tutorial//read_many_demo/person2.json</td><td colspan=\"1\" rowspan=\"1\" class=\"\">2020-11-25 14:45:15</td><td colspan=\"1\" rowspan=\"1\" class=\"\">156</td><td colspan=\"1\" rowspan=\"1\" class=\"\">localhost</td><td colspan=\"1\" rowspan=\"1\" class=\"\">0</td><td colspan=\"1\" rowspan=\"1\" class=\"\">156</td></tr>\n",
       "<tr><td colspan=\"1\" rowspan=\"1\" class=\"\">s3://raw-tutorial//read_many_demo/person3.json</td><td colspan=\"1\" rowspan=\"1\" class=\"\">2020-11-25 14:45:15</td><td colspan=\"1\" rowspan=\"1\" class=\"\">128</td><td colspan=\"1\" rowspan=\"1\" class=\"\">localhost</td><td colspan=\"1\" rowspan=\"1\" class=\"\">0</td><td colspan=\"1\" rowspan=\"1\" class=\"\">128</td></tr>\n",
       "<tr><td colspan=\"1\" rowspan=\"1\" class=\"\">s3://raw-tutorial//read_many_demo/read_me.txt</td><td colspan=\"1\" rowspan=\"1\" class=\"\">2020-11-25 14:45:15</td><td colspan=\"1\" rowspan=\"1\" class=\"\">2765</td><td colspan=\"1\" rowspan=\"1\" class=\"\">localhost</td><td colspan=\"1\" rowspan=\"1\" class=\"\">0</td><td colspan=\"1\" rowspan=\"1\" class=\"\">2765</td></tr>\n",
       "<tr><td colspan=\"1\" rowspan=\"1\" class=\"\">s3://raw-tutorial//read_many_demo/logs</td><td colspan=\"5\" rowspan=\"1\" class=\"null-value\">null</td></tr>\n",
       "</table>"
      ],
      "text/plain": [
       "<raw_magic.nested_table.NestedTable at 0x7f31fd50d748>"
      ]
     },
     "execution_count": 89,
     "metadata": {},
     "output_type": "execute_result"
    }
   ],
   "source": [
    "%%query\n",
    "ll(\"s3://raw-tutorial/read_many_demo/\")"
   ]
  },
  {
   "cell_type": "code",
   "execution_count": 84,
   "metadata": {},
   "outputs": [
    {
     "data": {
      "text/html": [
       "<table class=\"nested-table\">\n",
       "<tr><th colspan=\"1\" rowspan=\"1\">string</th></tr>\n",
       "<tr><td colspan=\"1\" rowspan=\"1\" class=\"\">s3://raw-tutorial//read_many_demo/logs/machine_log1.log</td></tr>\n",
       "<tr><td colspan=\"1\" rowspan=\"1\" class=\"\">s3://raw-tutorial//read_many_demo/logs/machine_log2.log</td></tr>\n",
       "<tr><td colspan=\"1\" rowspan=\"1\" class=\"\">s3://raw-tutorial//read_many_demo/logs/machine_log3.log</td></tr>\n",
       "<tr><td colspan=\"1\" rowspan=\"1\" class=\"\">s3://raw-tutorial//read_many_demo/logs/machine_log4.log</td></tr>\n",
       "</table>"
      ],
      "text/plain": [
       "<raw_magic.nested_table.NestedTable at 0x7f31fd57b908>"
      ]
     },
     "execution_count": 84,
     "metadata": {},
     "output_type": "execute_result"
    }
   ],
   "source": [
    "%%query\n",
    "ls(\"s3://raw-tutorial/read_many_demo/logs/\")"
   ]
  },
  {
   "cell_type": "code",
   "execution_count": 83,
   "metadata": {},
   "outputs": [
    {
     "name": "stdout",
     "output_type": "stream",
     "text": [
      "Showing only 100 values...\n"
     ]
    },
    {
     "data": {
      "text/html": [
       "<table class=\"nested-table\">\n",
       "<tr><th colspan=\"1\" rowspan=\"1\">timestamp</th><th colspan=\"1\" rowspan=\"1\">message</th></tr>\n",
       "<tr><td colspan=\"1\" rowspan=\"1\" class=\"\">07/03/2004 16:02:00</td><td colspan=\"1\" rowspan=\"1\" class=\"\">notice Apache/1.3.29 (Unix) configured -- resuming normal operations</td></tr>\n",
       "<tr><td colspan=\"1\" rowspan=\"1\" class=\"\">07/03/2004 16:02:00</td><td colspan=\"1\" rowspan=\"1\" class=\"\">info Server built: Feb 27 2004 13:56:37</td></tr>\n",
       "<tr><td colspan=\"1\" rowspan=\"1\" class=\"\">07/03/2004 16:02:00</td><td colspan=\"1\" rowspan=\"1\" class=\"\">notice Accept mutex: sysvsem (Default: sysvsem)</td></tr>\n",
       "<tr><td colspan=\"1\" rowspan=\"1\" class=\"\">07/03/2004 16:05:49</td><td colspan=\"1\" rowspan=\"1\" class=\"\">info client 64.242.88.10 (104)Connection reset by peer: client stopped connection before send body completed</td></tr>\n",
       "<tr><td colspan=\"1\" rowspan=\"1\" class=\"\">07/03/2004 16:45:56</td><td colspan=\"1\" rowspan=\"1\" class=\"\">info client 64.242.88.10 (104)Connection reset by peer: client stopped connection before send body completed</td></tr>\n",
       "<tr><td colspan=\"1\" rowspan=\"1\" class=\"\">07/03/2004 17:13:50</td><td colspan=\"1\" rowspan=\"1\" class=\"\">info client 64.242.88.10 (104)Connection reset by peer: client stopped connection before send body completed</td></tr>\n",
       "<tr><td colspan=\"1\" rowspan=\"1\" class=\"\">07/03/2004 17:21:44</td><td colspan=\"1\" rowspan=\"1\" class=\"\">info client 64.242.88.10 (104)Connection reset by peer: client stopped connection before send body completed</td></tr>\n",
       "<tr><td colspan=\"1\" rowspan=\"1\" class=\"\">07/03/2004 17:23:53</td><td colspan=\"1\" rowspan=\"1\" class=\"\">statistics: Use of uninitialized value in concatenation (.) or string at /home/httpd/twiki/lib/TWiki.pm line 528.</td></tr>\n",
       "<tr><td colspan=\"1\" rowspan=\"1\" class=\"\">07/03/2004 17:23:53</td><td colspan=\"1\" rowspan=\"1\" class=\"\">statistics: Can&#x27;t create file /home/httpd/twiki/data/Main/WebStatistics.txt - Permission denied</td></tr>\n",
       "<tr><td colspan=\"1\" rowspan=\"1\" class=\"\">07/03/2004 17:27:37</td><td colspan=\"1\" rowspan=\"1\" class=\"\">info client 64.242.88.10 (104)Connection reset by peer: client stopped connection before send body completed</td></tr>\n",
       "<tr><td colspan=\"1\" rowspan=\"1\" class=\"\">07/03/2004 17:31:39</td><td colspan=\"1\" rowspan=\"1\" class=\"\">info client 64.242.88.10 (104)Connection reset by peer: client stopped connection before send body completed</td></tr>\n",
       "<tr><td colspan=\"1\" rowspan=\"1\" class=\"\">07/03/2004 17:58:00</td><td colspan=\"1\" rowspan=\"1\" class=\"\">info client 64.242.88.10 (104)Connection reset by peer: client stopped connection before send body completed</td></tr>\n",
       "<tr><td colspan=\"1\" rowspan=\"1\" class=\"\">07/03/2004 18:00:09</td><td colspan=\"1\" rowspan=\"1\" class=\"\">info client 64.242.88.10 (104)Connection reset by peer: client stopped connection before send body completed</td></tr>\n",
       "<tr><td colspan=\"1\" rowspan=\"1\" class=\"\">07/03/2004 18:10:09</td><td colspan=\"1\" rowspan=\"1\" class=\"\">info client 64.242.88.10 (104)Connection reset by peer: client stopped connection before send body completed</td></tr>\n",
       "<tr><td colspan=\"1\" rowspan=\"1\" class=\"\">07/03/2004 18:19:01</td><td colspan=\"1\" rowspan=\"1\" class=\"\">info client 64.242.88.10 (104)Connection reset by peer: client stopped connection before send body completed</td></tr>\n",
       "<tr><td colspan=\"1\" rowspan=\"1\" class=\"\">07/03/2004 18:42:29</td><td colspan=\"1\" rowspan=\"1\" class=\"\">info client 64.242.88.10 (104)Connection reset by peer: client stopped connection before send body completed</td></tr>\n",
       "<tr><td colspan=\"1\" rowspan=\"1\" class=\"\">07/03/2004 18:52:30</td><td colspan=\"1\" rowspan=\"1\" class=\"\">info client 64.242.88.10 (104)Connection reset by peer: client stopped connection before send body completed</td></tr>\n",
       "<tr><td colspan=\"1\" rowspan=\"1\" class=\"\">07/03/2004 18:58:52</td><td colspan=\"1\" rowspan=\"1\" class=\"\">info client 64.242.88.10 (104)Connection reset by peer: client stopped connection before send body completed</td></tr>\n",
       "<tr><td colspan=\"1\" rowspan=\"1\" class=\"\">07/03/2004 19:03:58</td><td colspan=\"1\" rowspan=\"1\" class=\"\">info client 64.242.88.10 (104)Connection reset by peer: client stopped connection before send body completed</td></tr>\n",
       "<tr><td colspan=\"1\" rowspan=\"1\" class=\"\">07/03/2004 19:08:55</td><td colspan=\"1\" rowspan=\"1\" class=\"\">info client 64.242.88.10 (104)Connection reset by peer: client stopped connection before send body completed</td></tr>\n",
       "<tr><td colspan=\"1\" rowspan=\"1\" class=\"\">07/03/2004 19:22:11</td><td colspan=\"1\" rowspan=\"1\" class=\"\">info client 64.242.88.10 (104)Connection reset by peer: client stopped connection before send body completed</td></tr>\n",
       "<tr><td colspan=\"1\" rowspan=\"1\" class=\"\">07/03/2004 19:31:25</td><td colspan=\"1\" rowspan=\"1\" class=\"\">info client 64.242.88.10 (104)Connection reset by peer: client stopped connection before send body completed</td></tr>\n",
       "<tr><td colspan=\"1\" rowspan=\"1\" class=\"\">07/03/2004 19:39:40</td><td colspan=\"1\" rowspan=\"1\" class=\"\">info client 64.242.88.10 (104)Connection reset by peer: client stopped connection before send body completed</td></tr>\n",
       "<tr><td colspan=\"1\" rowspan=\"1\" class=\"\">07/03/2004 19:41:33</td><td colspan=\"1\" rowspan=\"1\" class=\"\">info client 64.242.88.10 (104)Connection reset by peer: client stopped connection before send body completed</td></tr>\n",
       "<tr><td colspan=\"1\" rowspan=\"1\" class=\"\">07/03/2004 19:42:45</td><td colspan=\"1\" rowspan=\"1\" class=\"\">info client 64.242.88.10 (104)Connection reset by peer: client stopped connection before send body completed</td></tr>\n",
       "<tr><td colspan=\"1\" rowspan=\"1\" class=\"\">07/03/2004 20:02:13</td><td colspan=\"1\" rowspan=\"1\" class=\"\">info client 64.242.88.10 (104)Connection reset by peer: client stopped connection before send body completed</td></tr>\n",
       "<tr><td colspan=\"1\" rowspan=\"1\" class=\"\">07/03/2004 20:04:35</td><td colspan=\"1\" rowspan=\"1\" class=\"\">info client 64.242.88.10 (104)Connection reset by peer: client stopped connection before send body completed</td></tr>\n",
       "<tr><td colspan=\"1\" rowspan=\"1\" class=\"\">07/03/2004 20:11:33</td><td colspan=\"1\" rowspan=\"1\" class=\"\">info client 64.242.88.10 (104)Connection reset by peer: client stopped connection before send body completed</td></tr>\n",
       "<tr><td colspan=\"1\" rowspan=\"1\" class=\"\">07/03/2004 20:12:55</td><td colspan=\"1\" rowspan=\"1\" class=\"\">info client 64.242.88.10 (104)Connection reset by peer: client stopped connection before send body completed</td></tr>\n",
       "<tr><td colspan=\"1\" rowspan=\"1\" class=\"\">07/03/2004 20:25:31</td><td colspan=\"1\" rowspan=\"1\" class=\"\">info client 64.242.88.10 (104)Connection reset by peer: client stopped connection before send body completed</td></tr>\n",
       "<tr><td colspan=\"1\" rowspan=\"1\" class=\"\">07/03/2004 20:44:48</td><td colspan=\"1\" rowspan=\"1\" class=\"\">info client 64.242.88.10 (104)Connection reset by peer: client stopped connection before send body completed</td></tr>\n",
       "<tr><td colspan=\"1\" rowspan=\"1\" class=\"\">07/03/2004 20:58:27</td><td colspan=\"1\" rowspan=\"1\" class=\"\">info client 64.242.88.10 (104)Connection reset by peer: client stopped connection before send body completed</td></tr>\n",
       "<tr><td colspan=\"1\" rowspan=\"1\" class=\"\">07/03/2004 21:16:17</td><td colspan=\"1\" rowspan=\"1\" class=\"\">error client 24.70.56.49 File does not exist: /home/httpd/twiki/view/Main/WebHome</td></tr>\n",
       "<tr><td colspan=\"1\" rowspan=\"1\" class=\"\">07/03/2004 21:20:14</td><td colspan=\"1\" rowspan=\"1\" class=\"\">info client 64.242.88.10 (104)Connection reset by peer: client stopped connection before send body completed</td></tr>\n",
       "<tr><td colspan=\"1\" rowspan=\"1\" class=\"\">07/03/2004 21:31:12</td><td colspan=\"1\" rowspan=\"1\" class=\"\">info client 64.242.88.10 (104)Connection reset by peer: client stopped connection before send body completed</td></tr>\n",
       "<tr><td colspan=\"1\" rowspan=\"1\" class=\"\">07/03/2004 21:39:55</td><td colspan=\"1\" rowspan=\"1\" class=\"\">info client 64.242.88.10 (104)Connection reset by peer: client stopped connection before send body completed</td></tr>\n",
       "<tr><td colspan=\"1\" rowspan=\"1\" class=\"\">07/03/2004 21:44:10</td><td colspan=\"1\" rowspan=\"1\" class=\"\">info client 64.242.88.10 (104)Connection reset by peer: client stopped connection before send body completed</td></tr>\n",
       "<tr><td colspan=\"1\" rowspan=\"1\" class=\"\">07/03/2004 22:06:16</td><td colspan=\"1\" rowspan=\"1\" class=\"\">info client 64.242.88.10 (104)Connection reset by peer: client stopped connection before send body completed</td></tr>\n",
       "<tr><td colspan=\"1\" rowspan=\"1\" class=\"\">07/03/2004 22:08:43</td><td colspan=\"1\" rowspan=\"1\" class=\"\">info client 64.242.88.10 (104)Connection reset by peer: client stopped connection before send body completed</td></tr>\n",
       "<tr><td colspan=\"1\" rowspan=\"1\" class=\"\">07/03/2004 22:09:44</td><td colspan=\"1\" rowspan=\"1\" class=\"\">info client 64.242.88.10 (104)Connection reset by peer: client stopped connection before send body completed</td></tr>\n",
       "<tr><td colspan=\"1\" rowspan=\"1\" class=\"\">07/03/2004 22:12:28</td><td colspan=\"1\" rowspan=\"1\" class=\"\">info client 64.242.88.10 (104)Connection reset by peer: client stopped connection before send body completed</td></tr>\n",
       "<tr><td colspan=\"1\" rowspan=\"1\" class=\"\">07/03/2004 22:27:18</td><td colspan=\"1\" rowspan=\"1\" class=\"\">info client 64.242.88.10 (104)Connection reset by peer: client stopped connection before send body completed</td></tr>\n",
       "<tr><td colspan=\"1\" rowspan=\"1\" class=\"\">07/03/2004 22:45:46</td><td colspan=\"1\" rowspan=\"1\" class=\"\">info client 64.242.88.10 (104)Connection reset by peer: client stopped connection before send body completed</td></tr>\n",
       "<tr><td colspan=\"1\" rowspan=\"1\" class=\"\">07/03/2004 23:30:23</td><td colspan=\"1\" rowspan=\"1\" class=\"\">info client 64.242.88.10 (104)Connection reset by peer: client stopped connection before send body completed</td></tr>\n",
       "<tr><td colspan=\"1\" rowspan=\"1\" class=\"\">07/03/2004 23:42:44</td><td colspan=\"1\" rowspan=\"1\" class=\"\">info client 64.242.88.10 (104)Connection reset by peer: client stopped connection before send body completed</td></tr>\n",
       "<tr><td colspan=\"1\" rowspan=\"1\" class=\"\">08/03/2004 00:11:22</td><td colspan=\"1\" rowspan=\"1\" class=\"\">info client 64.242.88.10 (104)Connection reset by peer: client stopped connection before send body completed</td></tr>\n",
       "<tr><td colspan=\"1\" rowspan=\"1\" class=\"\">08/03/2004 00:32:45</td><td colspan=\"1\" rowspan=\"1\" class=\"\">info client 64.242.88.10 (104)Connection reset by peer: client stopped connection before send body completed</td></tr>\n",
       "<tr><td colspan=\"1\" rowspan=\"1\" class=\"\">08/03/2004 00:40:10</td><td colspan=\"1\" rowspan=\"1\" class=\"\">info client 64.242.88.10 (104)Connection reset by peer: client stopped connection before send body completed</td></tr>\n",
       "<tr><td colspan=\"1\" rowspan=\"1\" class=\"\">08/03/2004 01:04:05</td><td colspan=\"1\" rowspan=\"1\" class=\"\">info client 64.242.88.10 (104)Connection reset by peer: client stopped connection before send body completed</td></tr>\n",
       "<tr><td colspan=\"1\" rowspan=\"1\" class=\"\">08/03/2004 01:19:18</td><td colspan=\"1\" rowspan=\"1\" class=\"\">info client 64.242.88.10 (104)Connection reset by peer: client stopped connection before send body completed</td></tr>\n",
       "<tr><td colspan=\"1\" rowspan=\"1\" class=\"\">08/03/2004 01:35:13</td><td colspan=\"1\" rowspan=\"1\" class=\"\">info client 64.242.88.10 (104)Connection reset by peer: client stopped connection before send body completed</td></tr>\n",
       "<tr><td colspan=\"1\" rowspan=\"1\" class=\"\">08/03/2004 01:47:06</td><td colspan=\"1\" rowspan=\"1\" class=\"\">info client 64.242.88.10 (104)Connection reset by peer: client stopped connection before send body completed</td></tr>\n",
       "<tr><td colspan=\"1\" rowspan=\"1\" class=\"\">08/03/2004 01:59:13</td><td colspan=\"1\" rowspan=\"1\" class=\"\">info client 64.242.88.10 (104)Connection reset by peer: client stopped connection before send body completed</td></tr>\n",
       "<tr><td colspan=\"1\" rowspan=\"1\" class=\"\">08/03/2004 02:12:24</td><td colspan=\"1\" rowspan=\"1\" class=\"\">info client 64.242.88.10 (104)Connection reset by peer: client stopped connection before send body completed</td></tr>\n",
       "<tr><td colspan=\"1\" rowspan=\"1\" class=\"\">08/03/2004 02:54:54</td><td colspan=\"1\" rowspan=\"1\" class=\"\">info client 64.242.88.10 (104)Connection reset by peer: client stopped connection before send body completed</td></tr>\n",
       "<tr><td colspan=\"1\" rowspan=\"1\" class=\"\">08/03/2004 03:46:27</td><td colspan=\"1\" rowspan=\"1\" class=\"\">info client 64.242.88.10 (104)Connection reset by peer: client stopped connection before send body completed</td></tr>\n",
       "<tr><td colspan=\"1\" rowspan=\"1\" class=\"\">08/03/2004 03:48:18</td><td colspan=\"1\" rowspan=\"1\" class=\"\">info client 64.242.88.10 (104)Connection reset by peer: client stopped connection before send body completed</td></tr>\n",
       "<tr><td colspan=\"1\" rowspan=\"1\" class=\"\">08/03/2004 03:52:17</td><td colspan=\"1\" rowspan=\"1\" class=\"\">info client 64.242.88.10 (104)Connection reset by peer: client stopped connection before send body completed</td></tr>\n",
       "<tr><td colspan=\"1\" rowspan=\"1\" class=\"\">08/03/2004 03:55:09</td><td colspan=\"1\" rowspan=\"1\" class=\"\">info client 64.242.88.10 (104)Connection reset by peer: client stopped connection before send body completed</td></tr>\n",
       "<tr><td colspan=\"1\" rowspan=\"1\" class=\"\">08/03/2004 04:22:55</td><td colspan=\"1\" rowspan=\"1\" class=\"\">info client 64.242.88.10 (104)Connection reset by peer: client stopped connection before send body completed</td></tr>\n",
       "<tr><td colspan=\"1\" rowspan=\"1\" class=\"\">08/03/2004 04:24:47</td><td colspan=\"1\" rowspan=\"1\" class=\"\">info client 64.242.88.10 (104)Connection reset by peer: client stopped connection before send body completed</td></tr>\n",
       "<tr><td colspan=\"1\" rowspan=\"1\" class=\"\">08/03/2004 04:40:32</td><td colspan=\"1\" rowspan=\"1\" class=\"\">info client 64.242.88.10 (104)Connection reset by peer: client stopped connection before send body completed</td></tr>\n",
       "<tr><td colspan=\"1\" rowspan=\"1\" class=\"\">08/03/2004 04:55:40</td><td colspan=\"1\" rowspan=\"1\" class=\"\">info client 64.242.88.10 (104)Connection reset by peer: client stopped connection before send body completed</td></tr>\n",
       "<tr><td colspan=\"1\" rowspan=\"1\" class=\"\">08/03/2004 04:59:13</td><td colspan=\"1\" rowspan=\"1\" class=\"\">info client 64.242.88.10 (104)Connection reset by peer: client stopped connection before send body completed</td></tr>\n",
       "<tr><td colspan=\"1\" rowspan=\"1\" class=\"\">08/03/2004 05:22:57</td><td colspan=\"1\" rowspan=\"1\" class=\"\">info client 64.242.88.10 (104)Connection reset by peer: client stopped connection before send body completed</td></tr>\n",
       "<tr><td colspan=\"1\" rowspan=\"1\" class=\"\">08/03/2004 05:24:29</td><td colspan=\"1\" rowspan=\"1\" class=\"\">info client 64.242.88.10 (104)Connection reset by peer: client stopped connection before send body completed</td></tr>\n",
       "<tr><td colspan=\"1\" rowspan=\"1\" class=\"\">08/03/2004 05:31:47</td><td colspan=\"1\" rowspan=\"1\" class=\"\">info client 64.242.88.10 (104)Connection reset by peer: client stopped connection before send body completed</td></tr>\n",
       "<tr><td colspan=\"1\" rowspan=\"1\" class=\"\">07/04/2004 16:02:00</td><td colspan=\"1\" rowspan=\"1\" class=\"\">notice Apache/1.3.29 (Unix) configured -- resuming normal operations</td></tr>\n",
       "<tr><td colspan=\"1\" rowspan=\"1\" class=\"\">07/04/2004 16:02:00</td><td colspan=\"1\" rowspan=\"1\" class=\"\">info Server built: Feb 27 2004 13:56:37</td></tr>\n",
       "<tr><td colspan=\"1\" rowspan=\"1\" class=\"\">07/04/2004 16:02:00</td><td colspan=\"1\" rowspan=\"1\" class=\"\">notice Accept mutex: sysvsem (Default: sysvsem)</td></tr>\n",
       "<tr><td colspan=\"1\" rowspan=\"1\" class=\"\">07/04/2004 16:05:49</td><td colspan=\"1\" rowspan=\"1\" class=\"\">info client 64.242.88.10 (104)Connection reset by peer: client stopped connection before send body completed</td></tr>\n",
       "<tr><td colspan=\"1\" rowspan=\"1\" class=\"\">07/04/2004 16:45:56</td><td colspan=\"1\" rowspan=\"1\" class=\"\">info client 64.242.88.10 (104)Connection reset by peer: client stopped connection before send body completed</td></tr>\n",
       "<tr><td colspan=\"1\" rowspan=\"1\" class=\"\">07/04/2004 17:13:50</td><td colspan=\"1\" rowspan=\"1\" class=\"\">info client 64.242.88.10 (104)Connection reset by peer: client stopped connection before send body completed</td></tr>\n",
       "<tr><td colspan=\"1\" rowspan=\"1\" class=\"\">07/04/2004 17:21:44</td><td colspan=\"1\" rowspan=\"1\" class=\"\">info client 64.242.88.10 (104)Connection reset by peer: client stopped connection before send body completed</td></tr>\n",
       "<tr><td colspan=\"1\" rowspan=\"1\" class=\"\">07/04/2004 17:23:53</td><td colspan=\"1\" rowspan=\"1\" class=\"\">statistics: Use of uninitialized value in concatenation (.) or string at /home/httpd/twiki/lib/TWiki.pm line 528.</td></tr>\n",
       "<tr><td colspan=\"1\" rowspan=\"1\" class=\"\">07/04/2004 17:23:53</td><td colspan=\"1\" rowspan=\"1\" class=\"\">statistics: Can&#x27;t create file /home/httpd/twiki/data/Main/WebStatistics.txt - Permission denied</td></tr>\n",
       "<tr><td colspan=\"1\" rowspan=\"1\" class=\"\">07/04/2004 17:27:37</td><td colspan=\"1\" rowspan=\"1\" class=\"\">info client 64.242.88.10 (104)Connection reset by peer: client stopped connection before send body completed</td></tr>\n",
       "<tr><td colspan=\"1\" rowspan=\"1\" class=\"\">07/04/2004 17:31:39</td><td colspan=\"1\" rowspan=\"1\" class=\"\">info client 64.242.88.10 (104)Connection reset by peer: client stopped connection before send body completed</td></tr>\n",
       "<tr><td colspan=\"1\" rowspan=\"1\" class=\"\">07/04/2004 17:58:00</td><td colspan=\"1\" rowspan=\"1\" class=\"\">info client 64.242.88.10 (104)Connection reset by peer: client stopped connection before send body completed</td></tr>\n",
       "<tr><td colspan=\"1\" rowspan=\"1\" class=\"\">07/04/2004 18:00:09</td><td colspan=\"1\" rowspan=\"1\" class=\"\">info client 64.242.88.10 (104)Connection reset by peer: client stopped connection before send body completed</td></tr>\n",
       "<tr><td colspan=\"1\" rowspan=\"1\" class=\"\">07/04/2004 18:10:09</td><td colspan=\"1\" rowspan=\"1\" class=\"\">info client 64.242.88.10 (104)Connection reset by peer: client stopped connection before send body completed</td></tr>\n",
       "<tr><td colspan=\"1\" rowspan=\"1\" class=\"\">07/04/2004 18:19:01</td><td colspan=\"1\" rowspan=\"1\" class=\"\">info client 64.242.88.10 (104)Connection reset by peer: client stopped connection before send body completed</td></tr>\n",
       "<tr><td colspan=\"1\" rowspan=\"1\" class=\"\">07/04/2004 18:42:29</td><td colspan=\"1\" rowspan=\"1\" class=\"\">info client 64.242.88.10 (104)Connection reset by peer: client stopped connection before send body completed</td></tr>\n",
       "<tr><td colspan=\"1\" rowspan=\"1\" class=\"\">07/04/2004 18:52:30</td><td colspan=\"1\" rowspan=\"1\" class=\"\">info client 64.242.88.10 (104)Connection reset by peer: client stopped connection before send body completed</td></tr>\n",
       "<tr><td colspan=\"1\" rowspan=\"1\" class=\"\">07/04/2004 18:58:52</td><td colspan=\"1\" rowspan=\"1\" class=\"\">info client 64.242.88.10 (104)Connection reset by peer: client stopped connection before send body completed</td></tr>\n",
       "<tr><td colspan=\"1\" rowspan=\"1\" class=\"\">07/04/2004 19:03:58</td><td colspan=\"1\" rowspan=\"1\" class=\"\">info client 64.242.88.10 (104)Connection reset by peer: client stopped connection before send body completed</td></tr>\n",
       "<tr><td colspan=\"1\" rowspan=\"1\" class=\"\">07/04/2004 19:08:55</td><td colspan=\"1\" rowspan=\"1\" class=\"\">info client 64.242.88.10 (104)Connection reset by peer: client stopped connection before send body completed</td></tr>\n",
       "<tr><td colspan=\"1\" rowspan=\"1\" class=\"\">07/04/2004 19:22:11</td><td colspan=\"1\" rowspan=\"1\" class=\"\">info client 64.242.88.10 (104)Connection reset by peer: client stopped connection before send body completed</td></tr>\n",
       "<tr><td colspan=\"1\" rowspan=\"1\" class=\"\">07/04/2004 19:31:25</td><td colspan=\"1\" rowspan=\"1\" class=\"\">info client 64.242.88.10 (104)Connection reset by peer: client stopped connection before send body completed</td></tr>\n",
       "<tr><td colspan=\"1\" rowspan=\"1\" class=\"\">07/04/2004 19:39:40</td><td colspan=\"1\" rowspan=\"1\" class=\"\">info client 64.242.88.10 (104)Connection reset by peer: client stopped connection before send body completed</td></tr>\n",
       "<tr><td colspan=\"1\" rowspan=\"1\" class=\"\">07/04/2004 19:41:33</td><td colspan=\"1\" rowspan=\"1\" class=\"\">info client 64.242.88.10 (104)Connection reset by peer: client stopped connection before send body completed</td></tr>\n",
       "<tr><td colspan=\"1\" rowspan=\"1\" class=\"\">07/04/2004 19:42:45</td><td colspan=\"1\" rowspan=\"1\" class=\"\">info client 64.242.88.10 (104)Connection reset by peer: client stopped connection before send body completed</td></tr>\n",
       "<tr><td colspan=\"1\" rowspan=\"1\" class=\"\">07/04/2004 20:02:13</td><td colspan=\"1\" rowspan=\"1\" class=\"\">info client 64.242.88.10 (104)Connection reset by peer: client stopped connection before send body completed</td></tr>\n",
       "<tr><td colspan=\"1\" rowspan=\"1\" class=\"\">07/04/2004 20:04:35</td><td colspan=\"1\" rowspan=\"1\" class=\"\">info client 64.242.88.10 (104)Connection reset by peer: client stopped connection before send body completed</td></tr>\n",
       "<tr><td colspan=\"1\" rowspan=\"1\" class=\"\">07/04/2004 20:11:33</td><td colspan=\"1\" rowspan=\"1\" class=\"\">info client 64.242.88.10 (104)Connection reset by peer: client stopped connection before send body completed</td></tr>\n",
       "<tr><td colspan=\"1\" rowspan=\"1\" class=\"\">07/04/2004 20:12:55</td><td colspan=\"1\" rowspan=\"1\" class=\"\">info client 64.242.88.10 (104)Connection reset by peer: client stopped connection before send body completed</td></tr>\n",
       "<tr><td colspan=\"1\" rowspan=\"1\" class=\"\">07/04/2004 20:25:31</td><td colspan=\"1\" rowspan=\"1\" class=\"\">info client 64.242.88.10 (104)Connection reset by peer: client stopped connection before send body completed</td></tr>\n",
       "<tr><td colspan=\"1\" rowspan=\"1\" class=\"\">07/04/2004 20:44:48</td><td colspan=\"1\" rowspan=\"1\" class=\"\">info client 64.242.88.10 (104)Connection reset by peer: client stopped connection before send body completed</td></tr>\n",
       "<tr><td colspan=\"1\" rowspan=\"1\" class=\"\">07/04/2004 20:58:27</td><td colspan=\"1\" rowspan=\"1\" class=\"\">info client 64.242.88.10 (104)Connection reset by peer: client stopped connection before send body completed</td></tr>\n",
       "<tr><td colspan=\"1\" rowspan=\"1\" class=\"\">07/04/2004 21:16:17</td><td colspan=\"1\" rowspan=\"1\" class=\"\">error client 24.70.56.49 File does not exist: /home/httpd/twiki/view/Main/WebHome</td></tr>\n",
       "</table>"
      ],
      "text/plain": [
       "<raw_magic.nested_table.NestedTable at 0x7f31fd560ac8>"
      ]
     },
     "execution_count": 83,
     "metadata": {},
     "output_type": "execute_result"
    }
   ],
   "source": [
    "%%query\n",
    "read_many(\"s3://raw-tutorial/read_many_demo/logs/\")"
   ]
  },
  {
   "cell_type": "code",
   "execution_count": 90,
   "metadata": {},
   "outputs": [
    {
     "name": "stdout",
     "output_type": "stream",
     "text": [
      "Execution error: failed to read JSON (line 4 column 2) (url: file:/home/cesar/development/read_many_demo/metadata.json): 'name': not found\n"
     ]
    }
   ],
   "source": [
    "%%query\n",
    "\n",
    "read_many(\"file:/home/cesar/development/read_many_demo/*.json\")"
   ]
  },
  {
   "cell_type": "code",
   "execution_count": 81,
   "metadata": {},
   "outputs": [
    {
     "data": {
      "text/html": [
       "<table class=\"nested-table\">\n",
       "<tr><th colspan=\"1\" rowspan=\"2\">file</th><th colspan=\"3\" rowspan=\"1\">columns</th></tr>\n",
       "<tr><th colspan=\"1\" rowspan=\"1\">col_name</th><th colspan=\"1\" rowspan=\"1\">col_type</th><th colspan=\"1\" rowspan=\"1\">nullable</th></tr>\n",
       "<tr><td colspan=\"1\" rowspan=\"2\" class=\"\">s3://raw-tutorial//read_many_demo/metadata.json</td><td colspan=\"1\" rowspan=\"1\" class=\"\">version</td><td colspan=\"1\" rowspan=\"1\" class=\"\">string</td><td colspan=\"1\" rowspan=\"1\" class=\"\">False</td></tr>\n",
       "<tr><td colspan=\"1\" rowspan=\"1\" class=\"\">comment</td><td colspan=\"1\" rowspan=\"1\" class=\"\">string</td><td colspan=\"1\" rowspan=\"1\" class=\"\">False</td></tr>\n",
       "<tr><td colspan=\"1\" rowspan=\"5\" class=\"\">s3://raw-tutorial//read_many_demo/person1.json</td><td colspan=\"1\" rowspan=\"1\" class=\"\">name</td><td colspan=\"1\" rowspan=\"1\" class=\"\">string</td><td colspan=\"1\" rowspan=\"1\" class=\"\">False</td></tr>\n",
       "<tr><td colspan=\"1\" rowspan=\"1\" class=\"\">age</td><td colspan=\"1\" rowspan=\"1\" class=\"\">int</td><td colspan=\"1\" rowspan=\"1\" class=\"\">False</td></tr>\n",
       "<tr><td colspan=\"1\" rowspan=\"1\" class=\"\">interests</td><td colspan=\"1\" rowspan=\"1\" class=\"\">collection(string)</td><td colspan=\"1\" rowspan=\"1\" class=\"\">False</td></tr>\n",
       "<tr><td colspan=\"1\" rowspan=\"1\" class=\"\">occupation</td><td colspan=\"1\" rowspan=\"1\" class=\"\">string</td><td colspan=\"1\" rowspan=\"1\" class=\"\">False</td></tr>\n",
       "<tr><td colspan=\"1\" rowspan=\"1\" class=\"\">salary</td><td colspan=\"1\" rowspan=\"1\" class=\"\">double</td><td colspan=\"1\" rowspan=\"1\" class=\"\">False</td></tr>\n",
       "<tr><td colspan=\"1\" rowspan=\"5\" class=\"\">s3://raw-tutorial//read_many_demo/person2.json</td><td colspan=\"1\" rowspan=\"1\" class=\"\">name</td><td colspan=\"1\" rowspan=\"1\" class=\"\">string</td><td colspan=\"1\" rowspan=\"1\" class=\"\">False</td></tr>\n",
       "<tr><td colspan=\"1\" rowspan=\"1\" class=\"\">age</td><td colspan=\"1\" rowspan=\"1\" class=\"\">int</td><td colspan=\"1\" rowspan=\"1\" class=\"\">False</td></tr>\n",
       "<tr><td colspan=\"1\" rowspan=\"1\" class=\"\">interests</td><td colspan=\"1\" rowspan=\"1\" class=\"\">collection(string)</td><td colspan=\"1\" rowspan=\"1\" class=\"\">False</td></tr>\n",
       "<tr><td colspan=\"1\" rowspan=\"1\" class=\"\">occupation</td><td colspan=\"1\" rowspan=\"1\" class=\"\">string</td><td colspan=\"1\" rowspan=\"1\" class=\"\">False</td></tr>\n",
       "<tr><td colspan=\"1\" rowspan=\"1\" class=\"\">salary</td><td colspan=\"1\" rowspan=\"1\" class=\"\">double</td><td colspan=\"1\" rowspan=\"1\" class=\"\">False</td></tr>\n",
       "<tr><td colspan=\"1\" rowspan=\"5\" class=\"\">s3://raw-tutorial//read_many_demo/person3.json</td><td colspan=\"1\" rowspan=\"1\" class=\"\">name</td><td colspan=\"1\" rowspan=\"1\" class=\"\">string</td><td colspan=\"1\" rowspan=\"1\" class=\"\">False</td></tr>\n",
       "<tr><td colspan=\"1\" rowspan=\"1\" class=\"\">age</td><td colspan=\"1\" rowspan=\"1\" class=\"\">int</td><td colspan=\"1\" rowspan=\"1\" class=\"\">False</td></tr>\n",
       "<tr><td colspan=\"1\" rowspan=\"1\" class=\"\">interests</td><td colspan=\"1\" rowspan=\"1\" class=\"\">collection(string)</td><td colspan=\"1\" rowspan=\"1\" class=\"\">False</td></tr>\n",
       "<tr><td colspan=\"1\" rowspan=\"1\" class=\"\">occupation</td><td colspan=\"1\" rowspan=\"1\" class=\"\">string</td><td colspan=\"1\" rowspan=\"1\" class=\"\">False</td></tr>\n",
       "<tr><td colspan=\"1\" rowspan=\"1\" class=\"\">salary</td><td colspan=\"1\" rowspan=\"1\" class=\"\">double</td><td colspan=\"1\" rowspan=\"1\" class=\"\">False</td></tr>\n",
       "</table>"
      ],
      "text/plain": [
       "<raw_magic.nested_table.NestedTable at 0x7f31fd572080>"
      ]
     },
     "execution_count": 81,
     "metadata": {},
     "output_type": "execute_result"
    }
   ],
   "source": [
    "%%query \n",
    "\n",
    "SELECT file, describe(file).columns \n",
    "FROM ls(\"s3://raw-tutorial/read_many_demo/*.json\") file "
   ]
  },
  {
   "cell_type": "code",
   "execution_count": 80,
   "metadata": {},
   "outputs": [
    {
     "data": {
      "text/html": [
       "<table class=\"nested-table\">\n",
       "<tr><th colspan=\"1\" rowspan=\"1\">name</th><th colspan=\"1\" rowspan=\"1\">age</th><th colspan=\"1\" rowspan=\"1\">interests</th><th colspan=\"1\" rowspan=\"1\">occupation</th><th colspan=\"1\" rowspan=\"1\">salary</th></tr>\n",
       "<tr><td colspan=\"1\" rowspan=\"3\" class=\"\">john</td><td colspan=\"1\" rowspan=\"3\" class=\"\">34</td><td colspan=\"1\" rowspan=\"1\" class=\"\">books</td><td colspan=\"1\" rowspan=\"3\" class=\"\">sales</td><td colspan=\"1\" rowspan=\"3\" class=\"\">15.5</td></tr>\n",
       "<tr><td colspan=\"1\" rowspan=\"1\" class=\"\">football</td></tr>\n",
       "<tr><td colspan=\"1\" rowspan=\"1\" class=\"\">finance</td></tr>\n",
       "<tr><td colspan=\"1\" rowspan=\"4\" class=\"\">Jane</td><td colspan=\"1\" rowspan=\"4\" class=\"\">45</td><td colspan=\"1\" rowspan=\"1\" class=\"\">3D printing</td><td colspan=\"1\" rowspan=\"4\" class=\"\">engineer</td><td colspan=\"1\" rowspan=\"4\" class=\"\">14.9</td></tr>\n",
       "<tr><td colspan=\"1\" rowspan=\"1\" class=\"\">electronics</td></tr>\n",
       "<tr><td colspan=\"1\" rowspan=\"1\" class=\"\">hiking</td></tr>\n",
       "<tr><td colspan=\"1\" rowspan=\"1\" class=\"\">arts</td></tr>\n",
       "<tr><td colspan=\"1\" rowspan=\"2\" class=\"\">bob</td><td colspan=\"1\" rowspan=\"2\" class=\"\">18</td><td colspan=\"1\" rowspan=\"1\" class=\"\">climbing</td><td colspan=\"1\" rowspan=\"2\" class=\"\">teacher</td><td colspan=\"1\" rowspan=\"2\" class=\"\">18.3</td></tr>\n",
       "<tr><td colspan=\"1\" rowspan=\"1\" class=\"\">sports</td></tr>\n",
       "</table>"
      ],
      "text/plain": [
       "<raw_magic.nested_table.NestedTable at 0x7f31fd560978>"
      ]
     },
     "execution_count": 80,
     "metadata": {},
     "output_type": "execute_result"
    }
   ],
   "source": [
    "%%query\n",
    "read_many(\"s3://raw-tutorial/read_many_demo/person*.json\")"
   ]
  },
  {
   "cell_type": "code",
   "execution_count": 78,
   "metadata": {},
   "outputs": [
    {
     "data": {
      "text/html": [
       "<table class=\"nested-table\">\n",
       "<tr><th colspan=\"1\" rowspan=\"1\">name</th><th colspan=\"1\" rowspan=\"1\">age</th><th colspan=\"1\" rowspan=\"1\">interests</th><th colspan=\"1\" rowspan=\"1\">occupation</th><th colspan=\"1\" rowspan=\"1\">salary</th></tr>\n",
       "<tr><td colspan=\"1\" rowspan=\"2\" class=\"\">bob</td><td colspan=\"1\" rowspan=\"2\" class=\"\">18</td><td colspan=\"1\" rowspan=\"1\" class=\"\">climbing</td><td colspan=\"1\" rowspan=\"2\" class=\"\">teacher</td><td colspan=\"1\" rowspan=\"2\" class=\"\">18.3</td></tr>\n",
       "<tr><td colspan=\"1\" rowspan=\"1\" class=\"\">sports</td></tr>\n",
       "<tr><td colspan=\"1\" rowspan=\"4\" class=\"\">Jane</td><td colspan=\"1\" rowspan=\"4\" class=\"\">45</td><td colspan=\"1\" rowspan=\"1\" class=\"\">3D printing</td><td colspan=\"1\" rowspan=\"4\" class=\"\">engineer</td><td colspan=\"1\" rowspan=\"4\" class=\"\">14.9</td></tr>\n",
       "<tr><td colspan=\"1\" rowspan=\"1\" class=\"\">electronics</td></tr>\n",
       "<tr><td colspan=\"1\" rowspan=\"1\" class=\"\">hiking</td></tr>\n",
       "<tr><td colspan=\"1\" rowspan=\"1\" class=\"\">arts</td></tr>\n",
       "<tr><td colspan=\"1\" rowspan=\"3\" class=\"\">john</td><td colspan=\"1\" rowspan=\"3\" class=\"\">34</td><td colspan=\"1\" rowspan=\"1\" class=\"\">books</td><td colspan=\"1\" rowspan=\"3\" class=\"\">sales</td><td colspan=\"1\" rowspan=\"3\" class=\"\">15.5</td></tr>\n",
       "<tr><td colspan=\"1\" rowspan=\"1\" class=\"\">football</td></tr>\n",
       "<tr><td colspan=\"1\" rowspan=\"1\" class=\"\">finance</td></tr>\n",
       "</table>"
      ],
      "text/plain": [
       "<raw_magic.nested_table.NestedTable at 0x7f31fd5c0240>"
      ]
     },
     "execution_count": 78,
     "metadata": {},
     "output_type": "execute_result"
    }
   ],
   "source": [
    "%%query\n",
    "\n",
    "good_files := select file \n",
    "        from ls(\"file:/home/cesar/development/read_many_demo/*.json\") file \n",
    "        where \"name\" in (select col_name from describe(file).columns);\n",
    "\n",
    "typealias person := record(\n",
    "    name: string, \n",
    "    age: int,\n",
    "    interests: collection(string),\n",
    "    occupation: string,\n",
    "    salary: double\n",
    ")\n",
    "\n",
    "\n",
    "select read_json[person](file) from good_files file"
   ]
  },
  {
   "cell_type": "code",
   "execution_count": null,
   "metadata": {},
   "outputs": [],
   "source": []
  }
 ],
 "metadata": {
  "kernelspec": {
   "display_name": "Python 3",
   "language": "python",
   "name": "python3"
  },
  "language_info": {
   "codemirror_mode": {
    "name": "ipython",
    "version": 3
   },
   "file_extension": ".py",
   "mimetype": "text/x-python",
   "name": "python",
   "nbconvert_exporter": "python",
   "pygments_lexer": "ipython3",
   "version": "3.6.9"
  }
 },
 "nbformat": 4,
 "nbformat_minor": 2
}
