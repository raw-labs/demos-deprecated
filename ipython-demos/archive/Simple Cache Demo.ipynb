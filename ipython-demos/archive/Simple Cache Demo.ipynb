{
 "cells": [
  {
   "cell_type": "code",
   "execution_count": 1,
   "metadata": {},
   "outputs": [],
   "source": [
    "%load_ext raw_magic"
   ]
  },
  {
   "cell_type": "markdown",
   "metadata": {},
   "source": [
    "Querying an Excel file from Dropbox. Letting RAW automatically discover the schema. Cache set to 15 seconds, i.e. \"give me data if it is 15 seconds or younger; if older, go back to source.\""
   ]
  },
  {
   "cell_type": "markdown",
   "metadata": {},
   "source": [
    "First query takes a bit longer..."
   ]
  },
  {
   "cell_type": "code",
   "execution_count": 2,
   "metadata": {},
   "outputs": [
    {
     "name": "stdout",
     "output_type": "stream",
     "text": [
      "API error: S3 credentials already exists\n"
     ]
    }
   ],
   "source": [
    "%buckets_register raw-tutorial"
   ]
  },
  {
   "cell_type": "code",
   "execution_count": 5,
   "metadata": {},
   "outputs": [
    {
     "name": "stdout",
     "output_type": "stream",
     "text": [
      "Execution time: 0:00:02.566150\n"
     ]
    },
    {
     "data": {
      "text/html": [
       "<table class=\"nested-table\">\n",
       "<tr><th colspan=\"1\" rowspan=\"1\">Location</th><th colspan=\"1\" rowspan=\"1\">PrintMedia</th><th colspan=\"1\" rowspan=\"1\">SocialMedia</th><th colspan=\"1\" rowspan=\"1\">Radio</th><th colspan=\"1\" rowspan=\"1\">Television</th><th colspan=\"1\" rowspan=\"1\">Total</th></tr>\n",
       "<tr><td colspan=\"1\" rowspan=\"1\" class=\"\">Geneve</td><td colspan=\"1\" rowspan=\"1\" class=\"\">100.0</td><td colspan=\"1\" rowspan=\"1\" class=\"\">50.0</td><td colspan=\"1\" rowspan=\"1\" class=\"\">100.0</td><td colspan=\"1\" rowspan=\"1\" class=\"\">200.0</td><td colspan=\"1\" rowspan=\"1\" class=\"\">450.0</td></tr>\n",
       "<tr><td colspan=\"1\" rowspan=\"1\" class=\"\">Zurich</td><td colspan=\"1\" rowspan=\"1\" class=\"\">101.0</td><td colspan=\"1\" rowspan=\"1\" class=\"\">51.0</td><td colspan=\"1\" rowspan=\"1\" class=\"\">32.0</td><td colspan=\"1\" rowspan=\"1\" class=\"\">201.0</td><td colspan=\"1\" rowspan=\"1\" class=\"\">385.0</td></tr>\n",
       "<tr><td colspan=\"1\" rowspan=\"1\" class=\"\">Basel</td><td colspan=\"1\" rowspan=\"1\" class=\"\">102.0</td><td colspan=\"1\" rowspan=\"1\" class=\"\">52.0</td><td colspan=\"1\" rowspan=\"1\" class=\"\">102.0</td><td colspan=\"1\" rowspan=\"1\" class=\"\">202.0</td><td colspan=\"1\" rowspan=\"1\" class=\"\">458.0</td></tr>\n",
       "<tr><td colspan=\"1\" rowspan=\"1\" class=\"\">Lausanne</td><td colspan=\"1\" rowspan=\"1\" class=\"\">103.0</td><td colspan=\"1\" rowspan=\"1\" class=\"\">53.0</td><td colspan=\"1\" rowspan=\"1\" class=\"\">103.0</td><td colspan=\"1\" rowspan=\"1\" class=\"\">203.0</td><td colspan=\"1\" rowspan=\"1\" class=\"\">462.0</td></tr>\n",
       "<tr><td colspan=\"1\" rowspan=\"1\" class=\"\">Luzern</td><td colspan=\"1\" rowspan=\"1\" class=\"\">104.0</td><td colspan=\"1\" rowspan=\"1\" class=\"\">54.0</td><td colspan=\"1\" rowspan=\"1\" class=\"\">104.0</td><td colspan=\"1\" rowspan=\"1\" class=\"\">204.0</td><td colspan=\"1\" rowspan=\"1\" class=\"\">466.0</td></tr>\n",
       "<tr><td colspan=\"1\" rowspan=\"1\" class=\"\">Fribourg</td><td colspan=\"1\" rowspan=\"1\" class=\"\">105.0</td><td colspan=\"1\" rowspan=\"1\" class=\"\">55.0</td><td colspan=\"1\" rowspan=\"1\" class=\"\">105.0</td><td colspan=\"1\" rowspan=\"1\" class=\"\">205.0</td><td colspan=\"1\" rowspan=\"1\" class=\"\">470.0</td></tr>\n",
       "<tr><td colspan=\"1\" rowspan=\"1\" class=\"\">Neuchatel</td><td colspan=\"1\" rowspan=\"1\" class=\"\">106.0</td><td colspan=\"1\" rowspan=\"1\" class=\"\">56.0</td><td colspan=\"1\" rowspan=\"1\" class=\"\">106.0</td><td colspan=\"1\" rowspan=\"1\" class=\"\">206.0</td><td colspan=\"1\" rowspan=\"1\" class=\"\">474.0</td></tr>\n",
       "<tr><td colspan=\"1\" rowspan=\"1\" class=\"\">Zug</td><td colspan=\"1\" rowspan=\"1\" class=\"\">107.0</td><td colspan=\"1\" rowspan=\"1\" class=\"\">57.0</td><td colspan=\"1\" rowspan=\"1\" class=\"\">107.0</td><td colspan=\"1\" rowspan=\"1\" class=\"\">207.0</td><td colspan=\"1\" rowspan=\"1\" class=\"\">478.0</td></tr>\n",
       "</table>"
      ],
      "text/plain": [
       "<raw_magic.nested_table.NestedTable at 0x7f00d6888be0>"
      ]
     },
     "execution_count": 5,
     "metadata": {},
     "output_type": "execute_result"
    }
   ],
   "source": [
    "%%timed_query\n",
    "SELECT *\n",
    "FROM read_excel(\"s3://raw-tutorial/ipython-demos/excel1.xlsx\", cache := interval \"15 second\")"
   ]
  },
  {
   "cell_type": "markdown",
   "metadata": {},
   "source": [
    "Second query is faster because we're reading from our caches. (RAW definitely caches this data since it's remote - Dropbox - and store in a non-optimal format - Excel.)"
   ]
  },
  {
   "cell_type": "code",
   "execution_count": 6,
   "metadata": {},
   "outputs": [
    {
     "name": "stdout",
     "output_type": "stream",
     "text": [
      "Execution time: 0:00:00.805501\n"
     ]
    },
    {
     "data": {
      "text/html": [
       "<table class=\"nested-table\">\n",
       "<tr><th colspan=\"1\" rowspan=\"1\">Location</th><th colspan=\"1\" rowspan=\"1\">PrintMedia</th><th colspan=\"1\" rowspan=\"1\">SocialMedia</th><th colspan=\"1\" rowspan=\"1\">Radio</th><th colspan=\"1\" rowspan=\"1\">Television</th><th colspan=\"1\" rowspan=\"1\">Total</th></tr>\n",
       "<tr><td colspan=\"1\" rowspan=\"1\" class=\"\">Geneve</td><td colspan=\"1\" rowspan=\"1\" class=\"\">100.0</td><td colspan=\"1\" rowspan=\"1\" class=\"\">50.0</td><td colspan=\"1\" rowspan=\"1\" class=\"\">100.0</td><td colspan=\"1\" rowspan=\"1\" class=\"\">200.0</td><td colspan=\"1\" rowspan=\"1\" class=\"\">450.0</td></tr>\n",
       "<tr><td colspan=\"1\" rowspan=\"1\" class=\"\">Zurich</td><td colspan=\"1\" rowspan=\"1\" class=\"\">101.0</td><td colspan=\"1\" rowspan=\"1\" class=\"\">51.0</td><td colspan=\"1\" rowspan=\"1\" class=\"\">32.0</td><td colspan=\"1\" rowspan=\"1\" class=\"\">201.0</td><td colspan=\"1\" rowspan=\"1\" class=\"\">385.0</td></tr>\n",
       "<tr><td colspan=\"1\" rowspan=\"1\" class=\"\">Basel</td><td colspan=\"1\" rowspan=\"1\" class=\"\">102.0</td><td colspan=\"1\" rowspan=\"1\" class=\"\">52.0</td><td colspan=\"1\" rowspan=\"1\" class=\"\">102.0</td><td colspan=\"1\" rowspan=\"1\" class=\"\">202.0</td><td colspan=\"1\" rowspan=\"1\" class=\"\">458.0</td></tr>\n",
       "<tr><td colspan=\"1\" rowspan=\"1\" class=\"\">Lausanne</td><td colspan=\"1\" rowspan=\"1\" class=\"\">103.0</td><td colspan=\"1\" rowspan=\"1\" class=\"\">53.0</td><td colspan=\"1\" rowspan=\"1\" class=\"\">103.0</td><td colspan=\"1\" rowspan=\"1\" class=\"\">203.0</td><td colspan=\"1\" rowspan=\"1\" class=\"\">462.0</td></tr>\n",
       "<tr><td colspan=\"1\" rowspan=\"1\" class=\"\">Luzern</td><td colspan=\"1\" rowspan=\"1\" class=\"\">104.0</td><td colspan=\"1\" rowspan=\"1\" class=\"\">54.0</td><td colspan=\"1\" rowspan=\"1\" class=\"\">104.0</td><td colspan=\"1\" rowspan=\"1\" class=\"\">204.0</td><td colspan=\"1\" rowspan=\"1\" class=\"\">466.0</td></tr>\n",
       "<tr><td colspan=\"1\" rowspan=\"1\" class=\"\">Fribourg</td><td colspan=\"1\" rowspan=\"1\" class=\"\">105.0</td><td colspan=\"1\" rowspan=\"1\" class=\"\">55.0</td><td colspan=\"1\" rowspan=\"1\" class=\"\">105.0</td><td colspan=\"1\" rowspan=\"1\" class=\"\">205.0</td><td colspan=\"1\" rowspan=\"1\" class=\"\">470.0</td></tr>\n",
       "<tr><td colspan=\"1\" rowspan=\"1\" class=\"\">Neuchatel</td><td colspan=\"1\" rowspan=\"1\" class=\"\">106.0</td><td colspan=\"1\" rowspan=\"1\" class=\"\">56.0</td><td colspan=\"1\" rowspan=\"1\" class=\"\">106.0</td><td colspan=\"1\" rowspan=\"1\" class=\"\">206.0</td><td colspan=\"1\" rowspan=\"1\" class=\"\">474.0</td></tr>\n",
       "<tr><td colspan=\"1\" rowspan=\"1\" class=\"\">Zug</td><td colspan=\"1\" rowspan=\"1\" class=\"\">107.0</td><td colspan=\"1\" rowspan=\"1\" class=\"\">57.0</td><td colspan=\"1\" rowspan=\"1\" class=\"\">107.0</td><td colspan=\"1\" rowspan=\"1\" class=\"\">207.0</td><td colspan=\"1\" rowspan=\"1\" class=\"\">478.0</td></tr>\n",
       "</table>"
      ],
      "text/plain": [
       "<raw_magic.nested_table.NestedTable at 0x7fbf9d2a9400>"
      ]
     },
     "execution_count": 6,
     "metadata": {},
     "output_type": "execute_result"
    }
   ],
   "source": [
    "%%timed_query\n",
    "SELECT *\n",
    "FROM read_excel(\"s3://raw-tutorial/ipython-demos/excel1.xlsx\", cache := interval \"15 second\")"
   ]
  },
  {
   "cell_type": "code",
   "execution_count": null,
   "metadata": {},
   "outputs": [],
   "source": []
  }
 ],
 "metadata": {
  "kernelspec": {
   "display_name": "Python 3",
   "language": "python",
   "name": "python3"
  },
  "language_info": {
   "codemirror_mode": {
    "name": "ipython",
    "version": 3
   },
   "file_extension": ".py",
   "mimetype": "text/x-python",
   "name": "python",
   "nbconvert_exporter": "python",
   "pygments_lexer": "ipython3",
   "version": "3.6.9"
  }
 },
 "nbformat": 4,
 "nbformat_minor": 2
}
