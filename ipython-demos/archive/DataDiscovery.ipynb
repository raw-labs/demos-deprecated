{
 "cells": [
  {
   "cell_type": "markdown",
   "metadata": {},
   "source": [
    "# Data discovery RAW"
   ]
  },
  {
   "cell_type": "code",
   "execution_count": 2,
   "metadata": {},
   "outputs": [],
   "source": [
    "%load_ext raw_magic"
   ]
  },
  {
   "cell_type": "code",
   "execution_count": 3,
   "metadata": {},
   "outputs": [
    {
     "name": "stdout",
     "output_type": "stream",
     "text": [
      "API error: S3 credentials already exists\n"
     ]
    }
   ],
   "source": [
    "%buckets_register raw-tutorial"
   ]
  },
  {
   "cell_type": "markdown",
   "metadata": {},
   "source": [
    "### Data discovery\n",
    "First let's list a folder in S3 using the `ls` command"
   ]
  },
  {
   "cell_type": "code",
   "execution_count": 4,
   "metadata": {},
   "outputs": [
    {
     "data": {
      "text/html": [
       "<table class=\"nested-table\">\n",
       "<tr><th colspan=\"1\" rowspan=\"3\">_1</th><th colspan=\"5\" rowspan=\"1\">_2</th></tr>\n",
       "<tr><th colspan=\"1\" rowspan=\"2\">modified</th><th colspan=\"1\" rowspan=\"2\">size</th><th colspan=\"3\" rowspan=\"1\">blocks</th></tr>\n",
       "<tr><th colspan=\"1\" rowspan=\"1\">hosts</th><th colspan=\"1\" rowspan=\"1\">offset</th><th colspan=\"1\" rowspan=\"1\">length</th></tr>\n",
       "<tr><td colspan=\"1\" rowspan=\"1\" class=\"\">s3://raw-tutorial//inference/CDR.txt</td><td colspan=\"1\" rowspan=\"1\" class=\"\">2020-11-20 12:00:41</td><td colspan=\"1\" rowspan=\"1\" class=\"\">304509</td><td colspan=\"1\" rowspan=\"1\" class=\"\">localhost</td><td colspan=\"1\" rowspan=\"1\" class=\"\">0</td><td colspan=\"1\" rowspan=\"1\" class=\"\">304509</td></tr>\n",
       "<tr><td colspan=\"1\" rowspan=\"1\" class=\"\">s3://raw-tutorial//inference/airports.csv</td><td colspan=\"1\" rowspan=\"1\" class=\"\">2020-11-20 12:00:41</td><td colspan=\"1\" rowspan=\"1\" class=\"\">850423</td><td colspan=\"1\" rowspan=\"1\" class=\"\">localhost</td><td colspan=\"1\" rowspan=\"1\" class=\"\">0</td><td colspan=\"1\" rowspan=\"1\" class=\"\">850423</td></tr>\n",
       "<tr><td colspan=\"1\" rowspan=\"1\" class=\"\">s3://raw-tutorial//inference/lore-ipsum.txt</td><td colspan=\"1\" rowspan=\"1\" class=\"\">2020-11-20 12:00:41</td><td colspan=\"1\" rowspan=\"1\" class=\"\">1242</td><td colspan=\"1\" rowspan=\"1\" class=\"\">localhost</td><td colspan=\"1\" rowspan=\"1\" class=\"\">0</td><td colspan=\"1\" rowspan=\"1\" class=\"\">1242</td></tr>\n",
       "<tr><td colspan=\"1\" rowspan=\"1\" class=\"\">s3://raw-tutorial//inference/machine_log.log</td><td colspan=\"1\" rowspan=\"1\" class=\"\">2020-11-20 12:00:41</td><td colspan=\"1\" rowspan=\"1\" class=\"\">8438</td><td colspan=\"1\" rowspan=\"1\" class=\"\">localhost</td><td colspan=\"1\" rowspan=\"1\" class=\"\">0</td><td colspan=\"1\" rowspan=\"1\" class=\"\">8438</td></tr>\n",
       "<tr><td colspan=\"1\" rowspan=\"1\" class=\"\">s3://raw-tutorial//inference/machines.parquet</td><td colspan=\"1\" rowspan=\"1\" class=\"\">2020-11-20 14:06:19</td><td colspan=\"1\" rowspan=\"1\" class=\"\">3293</td><td colspan=\"1\" rowspan=\"1\" class=\"\">localhost</td><td colspan=\"1\" rowspan=\"1\" class=\"\">0</td><td colspan=\"1\" rowspan=\"1\" class=\"\">3293</td></tr>\n",
       "<tr><td colspan=\"1\" rowspan=\"1\" class=\"\">s3://raw-tutorial//inference/patients.json</td><td colspan=\"1\" rowspan=\"1\" class=\"\">2020-11-20 12:00:41</td><td colspan=\"1\" rowspan=\"1\" class=\"\">188653</td><td colspan=\"1\" rowspan=\"1\" class=\"\">localhost</td><td colspan=\"1\" rowspan=\"1\" class=\"\">0</td><td colspan=\"1\" rowspan=\"1\" class=\"\">188653</td></tr>\n",
       "<tr><td colspan=\"1\" rowspan=\"1\" class=\"\">s3://raw-tutorial//inference/people.xml</td><td colspan=\"1\" rowspan=\"1\" class=\"\">2020-11-20 12:00:41</td><td colspan=\"1\" rowspan=\"1\" class=\"\">527</td><td colspan=\"1\" rowspan=\"1\" class=\"\">localhost</td><td colspan=\"1\" rowspan=\"1\" class=\"\">0</td><td colspan=\"1\" rowspan=\"1\" class=\"\">527</td></tr>\n",
       "</table>"
      ],
      "text/plain": [
       "<raw_magic.nested_table.NestedTable at 0x7ff5ff66c9b0>"
      ]
     },
     "execution_count": 4,
     "metadata": {},
     "output_type": "execute_result"
    }
   ],
   "source": [
    "%%query\n",
    "ll(\"s3://raw-tutorial/inference\")"
   ]
  },
  {
   "cell_type": "markdown",
   "metadata": {},
   "source": [
    "Let's look at the content of the csv file"
   ]
  },
  {
   "cell_type": "code",
   "execution_count": 4,
   "metadata": {},
   "outputs": [
    {
     "data": {
      "text/html": [
       "<table class=\"nested-table\">\n",
       "<tr><th colspan=\"1\" rowspan=\"1\">string</th></tr>\n",
       "<tr><td colspan=\"1\" rowspan=\"1\" class=\"\">&quot;AirportID&quot;,&quot;Name&quot;,&quot;City&quot;,&quot;Country&quot;,&quot;IATA_FAA&quot;,&quot;ICAO&quot;,&quot;Latitude&quot;,&quot;Longitude&quot;,&quot;Altitude&quot;,&quot;Timezone&quot;,&quot;DST&quot;,&quot;TZ&quot;</td></tr>\n",
       "<tr><td colspan=\"1\" rowspan=\"1\" class=\"\">1,&quot;Goroka&quot;,&quot;Goroka&quot;,&quot;Papua New Guinea&quot;,&quot;GKA&quot;,&quot;AYGA&quot;,-6.081689,145.391881,5282,10,&quot;U&quot;,&quot;Pacific/Port_Moresby&quot;</td></tr>\n",
       "<tr><td colspan=\"1\" rowspan=\"1\" class=\"\">2,&quot;Madang&quot;,&quot;Madang&quot;,&quot;Papua New Guinea&quot;,&quot;MAG&quot;,&quot;AYMD&quot;,-5.207083,145.7887,20,10,&quot;U&quot;,&quot;Pacific/Port_Moresby&quot;</td></tr>\n",
       "<tr><td colspan=\"1\" rowspan=\"1\" class=\"\">3,&quot;Mount Hagen&quot;,&quot;Mount Hagen&quot;,&quot;Papua New Guinea&quot;,&quot;HGU&quot;,&quot;AYMH&quot;,-5.826789,144.295861,5388,10,&quot;U&quot;,&quot;Pacific/Port_Moresby&quot;</td></tr>\n",
       "<tr><td colspan=\"1\" rowspan=\"1\" class=\"\">4,&quot;Nadzab&quot;,&quot;Nadzab&quot;,&quot;Papua New Guinea&quot;,&quot;LAE&quot;,&quot;AYNZ&quot;,-6.569828,146.726242,239,10,&quot;U&quot;,&quot;Pacific/Port_Moresby&quot;</td></tr>\n",
       "<tr><td colspan=\"1\" rowspan=\"1\" class=\"\">5,&quot;Port Moresby Jacksons Intl&quot;,&quot;Port Moresby&quot;,&quot;Papua New Guinea&quot;,&quot;POM&quot;,&quot;AYPY&quot;,-9.443383,147.22005,146,10,&quot;U&quot;,&quot;Pacific/Port_Moresby&quot;</td></tr>\n",
       "<tr><td colspan=\"1\" rowspan=\"1\" class=\"\">6,&quot;Wewak Intl&quot;,&quot;Wewak&quot;,&quot;Papua New Guinea&quot;,&quot;WWK&quot;,&quot;AYWK&quot;,-3.583828,143.669186,19,10,&quot;U&quot;,&quot;Pacific/Port_Moresby&quot;</td></tr>\n",
       "<tr><td colspan=\"1\" rowspan=\"1\" class=\"\">7,&quot;Narsarsuaq&quot;,&quot;Narssarssuaq&quot;,&quot;Greenland&quot;,&quot;UAK&quot;,&quot;BGBW&quot;,61.160517,-45.425978,112,-3,&quot;E&quot;,&quot;America/Godthab&quot;</td></tr>\n",
       "<tr><td colspan=\"1\" rowspan=\"1\" class=\"\">8,&quot;Nuuk&quot;,&quot;Godthaab&quot;,&quot;Greenland&quot;,&quot;GOH&quot;,&quot;BGGH&quot;,64.190922,-51.678064,283,-3,&quot;E&quot;,&quot;America/Godthab&quot;</td></tr>\n",
       "<tr><td colspan=\"1\" rowspan=\"1\" class=\"\">9,&quot;Sondre Stromfjord&quot;,&quot;Sondrestrom&quot;,&quot;Greenland&quot;,&quot;SFJ&quot;,&quot;BGSF&quot;,67.016969,-50.689325,165,-3,&quot;E&quot;,&quot;America/Godthab&quot;</td></tr>\n",
       "</table>"
      ],
      "text/plain": [
       "<raw_magic.nested_table.NestedTable at 0x7f7563b3a860>"
      ]
     },
     "execution_count": 4,
     "metadata": {},
     "output_type": "execute_result"
    }
   ],
   "source": [
    "%%query\n",
    "SELECT * from read_lines(\"s3://raw-tutorial/inference/airports.csv\") LIMIT 10"
   ]
  },
  {
   "cell_type": "markdown",
   "metadata": {},
   "source": [
    "We can look at the schema of the file using the `describe` function"
   ]
  },
  {
   "cell_type": "code",
   "execution_count": 5,
   "metadata": {},
   "outputs": [
    {
     "data": {
      "text/html": [
       "<table class=\"nested-table\">\n",
       "<tr><th colspan=\"1\" rowspan=\"2\">format</th><th colspan=\"1\" rowspan=\"2\">comment</th><th colspan=\"1\" rowspan=\"2\">type</th><th colspan=\"2\" rowspan=\"1\">properties</th><th colspan=\"1\" rowspan=\"2\">is_collection</th><th colspan=\"3\" rowspan=\"1\">columns</th></tr>\n",
       "<tr><th colspan=\"1\" rowspan=\"1\">name</th><th colspan=\"1\" rowspan=\"1\">value</th><th colspan=\"1\" rowspan=\"1\">col_name</th><th colspan=\"1\" rowspan=\"1\">col_type</th><th colspan=\"1\" rowspan=\"1\">nullable</th></tr>\n",
       "<tr><td colspan=\"1\" rowspan=\"12\" class=\"\">csv</td><td colspan=\"1\" rowspan=\"12\" class=\"\">encoding utf-8 (confidence: 100%)</td><td colspan=\"1\" rowspan=\"12\" class=\"\">collection(record(`AirportID`: int,`Name`: string,`City`: string,`Country`: string,`IATA_FAA`: string,`ICAO`: string,`Latitude`: double,`Longitude`: double,`Altitude`: int,`Timezone`: double,`DST`: string,`TZ`: string))</td><td colspan=\"1\" rowspan=\"1\" class=\"\">has_header</td><td colspan=\"1\" rowspan=\"1\" class=\"\">true</td><td colspan=\"1\" rowspan=\"12\" class=\"\">True</td><td colspan=\"1\" rowspan=\"1\" class=\"\">AirportID</td><td colspan=\"1\" rowspan=\"1\" class=\"\">int</td><td colspan=\"1\" rowspan=\"1\" class=\"\">False</td></tr>\n",
       "<tr><td colspan=\"1\" rowspan=\"1\" class=\"\">nans</td><td colspan=\"1\" rowspan=\"1\" class=\"\">[]</td><td colspan=\"1\" rowspan=\"1\" class=\"\">Name</td><td colspan=\"1\" rowspan=\"1\" class=\"\">string</td><td colspan=\"1\" rowspan=\"1\" class=\"\">False</td></tr>\n",
       "<tr><td colspan=\"1\" rowspan=\"1\" class=\"\">multiLine_fields</td><td colspan=\"1\" rowspan=\"1\" class=\"\">false</td><td colspan=\"1\" rowspan=\"1\" class=\"\">City</td><td colspan=\"1\" rowspan=\"1\" class=\"\">string</td><td colspan=\"1\" rowspan=\"1\" class=\"\">False</td></tr>\n",
       "<tr><td colspan=\"1\" rowspan=\"1\" class=\"\">skip</td><td colspan=\"1\" rowspan=\"1\" class=\"\">1</td><td colspan=\"1\" rowspan=\"1\" class=\"\">Country</td><td colspan=\"1\" rowspan=\"1\" class=\"\">string</td><td colspan=\"1\" rowspan=\"1\" class=\"\">False</td></tr>\n",
       "<tr><td colspan=\"1\" rowspan=\"1\" class=\"\">nulls</td><td colspan=\"1\" rowspan=\"1\" class=\"\">[&quot;&quot;]</td><td colspan=\"1\" rowspan=\"1\" class=\"\">IATA_FAA</td><td colspan=\"1\" rowspan=\"1\" class=\"\">string</td><td colspan=\"1\" rowspan=\"1\" class=\"\">False</td></tr>\n",
       "<tr><td colspan=\"1\" rowspan=\"1\" class=\"\">quote</td><td colspan=\"1\" rowspan=\"1\" class=\"\">&quot;</td><td colspan=\"1\" rowspan=\"1\" class=\"\">ICAO</td><td colspan=\"1\" rowspan=\"1\" class=\"\">string</td><td colspan=\"1\" rowspan=\"1\" class=\"\">False</td></tr>\n",
       "<tr><td colspan=\"1\" rowspan=\"1\" class=\"\">escape</td><td colspan=\"1\" rowspan=\"1\" class=\"\">\\</td><td colspan=\"1\" rowspan=\"1\" class=\"\">Latitude</td><td colspan=\"1\" rowspan=\"1\" class=\"\">double</td><td colspan=\"1\" rowspan=\"1\" class=\"\">False</td></tr>\n",
       "<tr><td colspan=\"1\" rowspan=\"5\" class=\"\">delimiter</td><td colspan=\"1\" rowspan=\"5\" class=\"\">,</td><td colspan=\"1\" rowspan=\"1\" class=\"\">Longitude</td><td colspan=\"1\" rowspan=\"1\" class=\"\">double</td><td colspan=\"1\" rowspan=\"1\" class=\"\">False</td></tr>\n",
       "<tr><td colspan=\"1\" rowspan=\"1\" class=\"\">Altitude</td><td colspan=\"1\" rowspan=\"1\" class=\"\">int</td><td colspan=\"1\" rowspan=\"1\" class=\"\">False</td></tr>\n",
       "<tr><td colspan=\"1\" rowspan=\"1\" class=\"\">Timezone</td><td colspan=\"1\" rowspan=\"1\" class=\"\">double</td><td colspan=\"1\" rowspan=\"1\" class=\"\">False</td></tr>\n",
       "<tr><td colspan=\"1\" rowspan=\"1\" class=\"\">DST</td><td colspan=\"1\" rowspan=\"1\" class=\"\">string</td><td colspan=\"1\" rowspan=\"1\" class=\"\">False</td></tr>\n",
       "<tr><td colspan=\"1\" rowspan=\"1\" class=\"\">TZ</td><td colspan=\"1\" rowspan=\"1\" class=\"\">string</td><td colspan=\"1\" rowspan=\"1\" class=\"\">False</td></tr>\n",
       "</table>"
      ],
      "text/plain": [
       "<raw_magic.nested_table.NestedTable at 0x7f7563b3ad68>"
      ]
     },
     "execution_count": 5,
     "metadata": {},
     "output_type": "execute_result"
    }
   ],
   "source": [
    "%%query \n",
    "describe(\"s3://raw-tutorial/inference/airports.csv\")"
   ]
  },
  {
   "cell_type": "markdown",
   "metadata": {},
   "source": [
    "Actually we could just use the `read` function to get the parsed content of the file."
   ]
  },
  {
   "cell_type": "code",
   "execution_count": 83,
   "metadata": {},
   "outputs": [
    {
     "data": {
      "text/html": [
       "<table class=\"nested-table\">\n",
       "<tr><th colspan=\"1\" rowspan=\"1\">AirportID</th><th colspan=\"1\" rowspan=\"1\">Name</th><th colspan=\"1\" rowspan=\"1\">City</th><th colspan=\"1\" rowspan=\"1\">Country</th><th colspan=\"1\" rowspan=\"1\">IATA_FAA</th><th colspan=\"1\" rowspan=\"1\">ICAO</th><th colspan=\"1\" rowspan=\"1\">Latitude</th><th colspan=\"1\" rowspan=\"1\">Longitude</th><th colspan=\"1\" rowspan=\"1\">Altitude</th><th colspan=\"1\" rowspan=\"1\">Timezone</th><th colspan=\"1\" rowspan=\"1\">DST</th><th colspan=\"1\" rowspan=\"1\">TZ</th></tr>\n",
       "<tr><td colspan=\"1\" rowspan=\"1\" class=\"\">1</td><td colspan=\"1\" rowspan=\"1\" class=\"\">Goroka</td><td colspan=\"1\" rowspan=\"1\" class=\"\">Goroka</td><td colspan=\"1\" rowspan=\"1\" class=\"\">Papua New Guinea</td><td colspan=\"1\" rowspan=\"1\" class=\"\">GKA</td><td colspan=\"1\" rowspan=\"1\" class=\"\">AYGA</td><td colspan=\"1\" rowspan=\"1\" class=\"\">-6.081689</td><td colspan=\"1\" rowspan=\"1\" class=\"\">145.391881</td><td colspan=\"1\" rowspan=\"1\" class=\"\">5282</td><td colspan=\"1\" rowspan=\"1\" class=\"\">10.0</td><td colspan=\"1\" rowspan=\"1\" class=\"\">U</td><td colspan=\"1\" rowspan=\"1\" class=\"\">Pacific/Port_Moresby</td></tr>\n",
       "<tr><td colspan=\"1\" rowspan=\"1\" class=\"\">2</td><td colspan=\"1\" rowspan=\"1\" class=\"\">Madang</td><td colspan=\"1\" rowspan=\"1\" class=\"\">Madang</td><td colspan=\"1\" rowspan=\"1\" class=\"\">Papua New Guinea</td><td colspan=\"1\" rowspan=\"1\" class=\"\">MAG</td><td colspan=\"1\" rowspan=\"1\" class=\"\">AYMD</td><td colspan=\"1\" rowspan=\"1\" class=\"\">-5.207083</td><td colspan=\"1\" rowspan=\"1\" class=\"\">145.7887</td><td colspan=\"1\" rowspan=\"1\" class=\"\">20</td><td colspan=\"1\" rowspan=\"1\" class=\"\">10.0</td><td colspan=\"1\" rowspan=\"1\" class=\"\">U</td><td colspan=\"1\" rowspan=\"1\" class=\"\">Pacific/Port_Moresby</td></tr>\n",
       "<tr><td colspan=\"1\" rowspan=\"1\" class=\"\">3</td><td colspan=\"1\" rowspan=\"1\" class=\"\">Mount Hagen</td><td colspan=\"1\" rowspan=\"1\" class=\"\">Mount Hagen</td><td colspan=\"1\" rowspan=\"1\" class=\"\">Papua New Guinea</td><td colspan=\"1\" rowspan=\"1\" class=\"\">HGU</td><td colspan=\"1\" rowspan=\"1\" class=\"\">AYMH</td><td colspan=\"1\" rowspan=\"1\" class=\"\">-5.826789</td><td colspan=\"1\" rowspan=\"1\" class=\"\">144.295861</td><td colspan=\"1\" rowspan=\"1\" class=\"\">5388</td><td colspan=\"1\" rowspan=\"1\" class=\"\">10.0</td><td colspan=\"1\" rowspan=\"1\" class=\"\">U</td><td colspan=\"1\" rowspan=\"1\" class=\"\">Pacific/Port_Moresby</td></tr>\n",
       "<tr><td colspan=\"1\" rowspan=\"1\" class=\"\">4</td><td colspan=\"1\" rowspan=\"1\" class=\"\">Nadzab</td><td colspan=\"1\" rowspan=\"1\" class=\"\">Nadzab</td><td colspan=\"1\" rowspan=\"1\" class=\"\">Papua New Guinea</td><td colspan=\"1\" rowspan=\"1\" class=\"\">LAE</td><td colspan=\"1\" rowspan=\"1\" class=\"\">AYNZ</td><td colspan=\"1\" rowspan=\"1\" class=\"\">-6.569828</td><td colspan=\"1\" rowspan=\"1\" class=\"\">146.726242</td><td colspan=\"1\" rowspan=\"1\" class=\"\">239</td><td colspan=\"1\" rowspan=\"1\" class=\"\">10.0</td><td colspan=\"1\" rowspan=\"1\" class=\"\">U</td><td colspan=\"1\" rowspan=\"1\" class=\"\">Pacific/Port_Moresby</td></tr>\n",
       "<tr><td colspan=\"1\" rowspan=\"1\" class=\"\">5</td><td colspan=\"1\" rowspan=\"1\" class=\"\">Port Moresby Jacksons Intl</td><td colspan=\"1\" rowspan=\"1\" class=\"\">Port Moresby</td><td colspan=\"1\" rowspan=\"1\" class=\"\">Papua New Guinea</td><td colspan=\"1\" rowspan=\"1\" class=\"\">POM</td><td colspan=\"1\" rowspan=\"1\" class=\"\">AYPY</td><td colspan=\"1\" rowspan=\"1\" class=\"\">-9.443383</td><td colspan=\"1\" rowspan=\"1\" class=\"\">147.22005</td><td colspan=\"1\" rowspan=\"1\" class=\"\">146</td><td colspan=\"1\" rowspan=\"1\" class=\"\">10.0</td><td colspan=\"1\" rowspan=\"1\" class=\"\">U</td><td colspan=\"1\" rowspan=\"1\" class=\"\">Pacific/Port_Moresby</td></tr>\n",
       "<tr><td colspan=\"1\" rowspan=\"1\" class=\"\">6</td><td colspan=\"1\" rowspan=\"1\" class=\"\">Wewak Intl</td><td colspan=\"1\" rowspan=\"1\" class=\"\">Wewak</td><td colspan=\"1\" rowspan=\"1\" class=\"\">Papua New Guinea</td><td colspan=\"1\" rowspan=\"1\" class=\"\">WWK</td><td colspan=\"1\" rowspan=\"1\" class=\"\">AYWK</td><td colspan=\"1\" rowspan=\"1\" class=\"\">-3.583828</td><td colspan=\"1\" rowspan=\"1\" class=\"\">143.669186</td><td colspan=\"1\" rowspan=\"1\" class=\"\">19</td><td colspan=\"1\" rowspan=\"1\" class=\"\">10.0</td><td colspan=\"1\" rowspan=\"1\" class=\"\">U</td><td colspan=\"1\" rowspan=\"1\" class=\"\">Pacific/Port_Moresby</td></tr>\n",
       "<tr><td colspan=\"1\" rowspan=\"1\" class=\"\">7</td><td colspan=\"1\" rowspan=\"1\" class=\"\">Narsarsuaq</td><td colspan=\"1\" rowspan=\"1\" class=\"\">Narssarssuaq</td><td colspan=\"1\" rowspan=\"1\" class=\"\">Greenland</td><td colspan=\"1\" rowspan=\"1\" class=\"\">UAK</td><td colspan=\"1\" rowspan=\"1\" class=\"\">BGBW</td><td colspan=\"1\" rowspan=\"1\" class=\"\">61.160517</td><td colspan=\"1\" rowspan=\"1\" class=\"\">-45.425978</td><td colspan=\"1\" rowspan=\"1\" class=\"\">112</td><td colspan=\"1\" rowspan=\"1\" class=\"\">-3.0</td><td colspan=\"1\" rowspan=\"1\" class=\"\">E</td><td colspan=\"1\" rowspan=\"1\" class=\"\">America/Godthab</td></tr>\n",
       "<tr><td colspan=\"1\" rowspan=\"1\" class=\"\">8</td><td colspan=\"1\" rowspan=\"1\" class=\"\">Nuuk</td><td colspan=\"1\" rowspan=\"1\" class=\"\">Godthaab</td><td colspan=\"1\" rowspan=\"1\" class=\"\">Greenland</td><td colspan=\"1\" rowspan=\"1\" class=\"\">GOH</td><td colspan=\"1\" rowspan=\"1\" class=\"\">BGGH</td><td colspan=\"1\" rowspan=\"1\" class=\"\">64.190922</td><td colspan=\"1\" rowspan=\"1\" class=\"\">-51.678064</td><td colspan=\"1\" rowspan=\"1\" class=\"\">283</td><td colspan=\"1\" rowspan=\"1\" class=\"\">-3.0</td><td colspan=\"1\" rowspan=\"1\" class=\"\">E</td><td colspan=\"1\" rowspan=\"1\" class=\"\">America/Godthab</td></tr>\n",
       "<tr><td colspan=\"1\" rowspan=\"1\" class=\"\">9</td><td colspan=\"1\" rowspan=\"1\" class=\"\">Sondre Stromfjord</td><td colspan=\"1\" rowspan=\"1\" class=\"\">Sondrestrom</td><td colspan=\"1\" rowspan=\"1\" class=\"\">Greenland</td><td colspan=\"1\" rowspan=\"1\" class=\"\">SFJ</td><td colspan=\"1\" rowspan=\"1\" class=\"\">BGSF</td><td colspan=\"1\" rowspan=\"1\" class=\"\">67.016969</td><td colspan=\"1\" rowspan=\"1\" class=\"\">-50.689325</td><td colspan=\"1\" rowspan=\"1\" class=\"\">165</td><td colspan=\"1\" rowspan=\"1\" class=\"\">-3.0</td><td colspan=\"1\" rowspan=\"1\" class=\"\">E</td><td colspan=\"1\" rowspan=\"1\" class=\"\">America/Godthab</td></tr>\n",
       "<tr><td colspan=\"1\" rowspan=\"1\" class=\"\">10</td><td colspan=\"1\" rowspan=\"1\" class=\"\">Thule Air Base</td><td colspan=\"1\" rowspan=\"1\" class=\"\">Thule</td><td colspan=\"1\" rowspan=\"1\" class=\"\">Greenland</td><td colspan=\"1\" rowspan=\"1\" class=\"\">THU</td><td colspan=\"1\" rowspan=\"1\" class=\"\">BGTL</td><td colspan=\"1\" rowspan=\"1\" class=\"\">76.531203</td><td colspan=\"1\" rowspan=\"1\" class=\"\">-68.703161</td><td colspan=\"1\" rowspan=\"1\" class=\"\">251</td><td colspan=\"1\" rowspan=\"1\" class=\"\">-4.0</td><td colspan=\"1\" rowspan=\"1\" class=\"\">E</td><td colspan=\"1\" rowspan=\"1\" class=\"\">America/Thule</td></tr>\n",
       "</table>"
      ],
      "text/plain": [
       "<raw_magic.nested_table.NestedTable at 0x7f1c5f5bcf60>"
      ]
     },
     "execution_count": 83,
     "metadata": {},
     "output_type": "execute_result"
    }
   ],
   "source": [
    "%%query\n",
    "select * from read(\"s3://raw-tutorial//inference/airports.csv\") limit 10"
   ]
  },
  {
   "cell_type": "markdown",
   "metadata": {},
   "source": [
    "We can also get the schema for every file in this folder with the following query."
   ]
  },
  {
   "cell_type": "code",
   "execution_count": 33,
   "metadata": {},
   "outputs": [
    {
     "data": {
      "text/html": [
       "<table class=\"nested-table\">\n",
       "<tr><th colspan=\"1\" rowspan=\"3\">file</th><th colspan=\"9\" rowspan=\"1\">_2</th></tr>\n",
       "<tr><th colspan=\"1\" rowspan=\"2\">format</th><th colspan=\"1\" rowspan=\"2\">comment</th><th colspan=\"1\" rowspan=\"2\">type</th><th colspan=\"2\" rowspan=\"1\">properties</th><th colspan=\"1\" rowspan=\"2\">is_collection</th><th colspan=\"3\" rowspan=\"1\">columns</th></tr>\n",
       "<tr><th colspan=\"1\" rowspan=\"1\">name</th><th colspan=\"1\" rowspan=\"1\">value</th><th colspan=\"1\" rowspan=\"1\">col_name</th><th colspan=\"1\" rowspan=\"1\">col_type</th><th colspan=\"1\" rowspan=\"1\">nullable</th></tr>\n",
       "<tr><td colspan=\"1\" rowspan=\"8\" class=\"\">s3://raw-tutorial//inference/CDR.txt</td><td colspan=\"1\" rowspan=\"8\" class=\"\">csv</td><td colspan=\"1\" rowspan=\"8\" class=\"\">encoding iso-8859-2 (confidence: 28%)</td><td colspan=\"1\" rowspan=\"8\" class=\"\">collection(record(`_1`: string,`_2`: long,`_3`: long,`_4`: string,`_5`: string,`_6`: string))</td><td colspan=\"1\" rowspan=\"1\" class=\"\">has_header</td><td colspan=\"1\" rowspan=\"1\" class=\"\">false</td><td colspan=\"1\" rowspan=\"8\" class=\"\">True</td><td colspan=\"1\" rowspan=\"1\" class=\"\">_1</td><td colspan=\"1\" rowspan=\"1\" class=\"\">string</td><td colspan=\"1\" rowspan=\"1\" class=\"\">False</td></tr>\n",
       "<tr><td colspan=\"1\" rowspan=\"1\" class=\"\">nans</td><td colspan=\"1\" rowspan=\"1\" class=\"\">[]</td><td colspan=\"1\" rowspan=\"1\" class=\"\">_2</td><td colspan=\"1\" rowspan=\"1\" class=\"\">long</td><td colspan=\"1\" rowspan=\"1\" class=\"\">False</td></tr>\n",
       "<tr><td colspan=\"1\" rowspan=\"1\" class=\"\">multiLine_fields</td><td colspan=\"1\" rowspan=\"1\" class=\"\">false</td><td colspan=\"1\" rowspan=\"1\" class=\"\">_3</td><td colspan=\"1\" rowspan=\"1\" class=\"\">long</td><td colspan=\"1\" rowspan=\"1\" class=\"\">False</td></tr>\n",
       "<tr><td colspan=\"1\" rowspan=\"1\" class=\"\">skip</td><td colspan=\"1\" rowspan=\"1\" class=\"\">0</td><td colspan=\"1\" rowspan=\"1\" class=\"\">_4</td><td colspan=\"1\" rowspan=\"1\" class=\"\">string</td><td colspan=\"1\" rowspan=\"1\" class=\"\">False</td></tr>\n",
       "<tr><td colspan=\"1\" rowspan=\"1\" class=\"\">nulls</td><td colspan=\"1\" rowspan=\"1\" class=\"\">[&quot;&quot;]</td><td colspan=\"1\" rowspan=\"1\" class=\"\">_5</td><td colspan=\"1\" rowspan=\"1\" class=\"\">string</td><td colspan=\"1\" rowspan=\"1\" class=\"\">False</td></tr>\n",
       "<tr><td colspan=\"1\" rowspan=\"1\" class=\"\">quote</td><td colspan=\"1\" rowspan=\"1\" class=\"\">&quot;</td><td colspan=\"1\" rowspan=\"3\" class=\"\">_6</td><td colspan=\"1\" rowspan=\"3\" class=\"\">string</td><td colspan=\"1\" rowspan=\"3\" class=\"\">False</td></tr>\n",
       "<tr><td colspan=\"1\" rowspan=\"1\" class=\"\">escape</td><td colspan=\"1\" rowspan=\"1\" class=\"\">\\</td></tr>\n",
       "<tr><td colspan=\"1\" rowspan=\"1\" class=\"\">delimiter</td><td colspan=\"1\" rowspan=\"1\" class=\"\">|</td></tr>\n",
       "<tr><td colspan=\"1\" rowspan=\"12\" class=\"\">s3://raw-tutorial//inference/airports.csv</td><td colspan=\"1\" rowspan=\"12\" class=\"\">csv</td><td colspan=\"1\" rowspan=\"12\" class=\"\">encoding utf-8 (confidence: 100%)</td><td colspan=\"1\" rowspan=\"12\" class=\"\">collection(record(`AirportID`: int,`Name`: string,`City`: string,`Country`: string,`IATA_FAA`: string,`ICAO`: string,`Latitude`: double,`Longitude`: double,`Altitude`: int,`Timezone`: double,`DST`: string,`TZ`: string))</td><td colspan=\"1\" rowspan=\"1\" class=\"\">has_header</td><td colspan=\"1\" rowspan=\"1\" class=\"\">true</td><td colspan=\"1\" rowspan=\"12\" class=\"\">True</td><td colspan=\"1\" rowspan=\"1\" class=\"\">AirportID</td><td colspan=\"1\" rowspan=\"1\" class=\"\">int</td><td colspan=\"1\" rowspan=\"1\" class=\"\">False</td></tr>\n",
       "<tr><td colspan=\"1\" rowspan=\"1\" class=\"\">nans</td><td colspan=\"1\" rowspan=\"1\" class=\"\">[]</td><td colspan=\"1\" rowspan=\"1\" class=\"\">Name</td><td colspan=\"1\" rowspan=\"1\" class=\"\">string</td><td colspan=\"1\" rowspan=\"1\" class=\"\">False</td></tr>\n",
       "<tr><td colspan=\"1\" rowspan=\"1\" class=\"\">multiLine_fields</td><td colspan=\"1\" rowspan=\"1\" class=\"\">false</td><td colspan=\"1\" rowspan=\"1\" class=\"\">City</td><td colspan=\"1\" rowspan=\"1\" class=\"\">string</td><td colspan=\"1\" rowspan=\"1\" class=\"\">False</td></tr>\n",
       "<tr><td colspan=\"1\" rowspan=\"1\" class=\"\">skip</td><td colspan=\"1\" rowspan=\"1\" class=\"\">1</td><td colspan=\"1\" rowspan=\"1\" class=\"\">Country</td><td colspan=\"1\" rowspan=\"1\" class=\"\">string</td><td colspan=\"1\" rowspan=\"1\" class=\"\">False</td></tr>\n",
       "<tr><td colspan=\"1\" rowspan=\"1\" class=\"\">nulls</td><td colspan=\"1\" rowspan=\"1\" class=\"\">[&quot;&quot;]</td><td colspan=\"1\" rowspan=\"1\" class=\"\">IATA_FAA</td><td colspan=\"1\" rowspan=\"1\" class=\"\">string</td><td colspan=\"1\" rowspan=\"1\" class=\"\">False</td></tr>\n",
       "<tr><td colspan=\"1\" rowspan=\"1\" class=\"\">quote</td><td colspan=\"1\" rowspan=\"1\" class=\"\">&quot;</td><td colspan=\"1\" rowspan=\"1\" class=\"\">ICAO</td><td colspan=\"1\" rowspan=\"1\" class=\"\">string</td><td colspan=\"1\" rowspan=\"1\" class=\"\">False</td></tr>\n",
       "<tr><td colspan=\"1\" rowspan=\"1\" class=\"\">escape</td><td colspan=\"1\" rowspan=\"1\" class=\"\">\\</td><td colspan=\"1\" rowspan=\"1\" class=\"\">Latitude</td><td colspan=\"1\" rowspan=\"1\" class=\"\">double</td><td colspan=\"1\" rowspan=\"1\" class=\"\">False</td></tr>\n",
       "<tr><td colspan=\"1\" rowspan=\"5\" class=\"\">delimiter</td><td colspan=\"1\" rowspan=\"5\" class=\"\">,</td><td colspan=\"1\" rowspan=\"1\" class=\"\">Longitude</td><td colspan=\"1\" rowspan=\"1\" class=\"\">double</td><td colspan=\"1\" rowspan=\"1\" class=\"\">False</td></tr>\n",
       "<tr><td colspan=\"1\" rowspan=\"1\" class=\"\">Altitude</td><td colspan=\"1\" rowspan=\"1\" class=\"\">int</td><td colspan=\"1\" rowspan=\"1\" class=\"\">False</td></tr>\n",
       "<tr><td colspan=\"1\" rowspan=\"1\" class=\"\">Timezone</td><td colspan=\"1\" rowspan=\"1\" class=\"\">double</td><td colspan=\"1\" rowspan=\"1\" class=\"\">False</td></tr>\n",
       "<tr><td colspan=\"1\" rowspan=\"1\" class=\"\">DST</td><td colspan=\"1\" rowspan=\"1\" class=\"\">string</td><td colspan=\"1\" rowspan=\"1\" class=\"\">False</td></tr>\n",
       "<tr><td colspan=\"1\" rowspan=\"1\" class=\"\">TZ</td><td colspan=\"1\" rowspan=\"1\" class=\"\">string</td><td colspan=\"1\" rowspan=\"1\" class=\"\">False</td></tr>\n",
       "<tr><td colspan=\"1\" rowspan=\"1\" class=\"\">s3://raw-tutorial//inference/lore-ipsum.txt</td><td colspan=\"1\" rowspan=\"1\" class=\"\">lines</td><td colspan=\"1\" rowspan=\"1\" class=\"\">encoding iso-8859-1 (confidence: 35%)</td><td colspan=\"1\" rowspan=\"1\" class=\"\">collection(string)</td><td colspan=\"1\" rowspan=\"1\" class=\"\">regex</td><td colspan=\"1\" rowspan=\"1\" class=\"\">null</td><td colspan=\"1\" rowspan=\"1\" class=\"\">True</td><td colspan=\"1\" rowspan=\"1\" class=\"null-value\">null</td><td colspan=\"1\" rowspan=\"1\" class=\"\">string</td><td colspan=\"1\" rowspan=\"1\" class=\"\">False</td></tr>\n",
       "<tr><td colspan=\"1\" rowspan=\"2\" class=\"\">s3://raw-tutorial//inference/machine_log.log</td><td colspan=\"1\" rowspan=\"2\" class=\"\">lines</td><td colspan=\"1\" rowspan=\"2\" class=\"\">encoding iso-8859-1 (confidence: 77%)</td><td colspan=\"1\" rowspan=\"2\" class=\"\">collection(record(`timestamp`: string,`message`: string) nullable)</td><td colspan=\"1\" rowspan=\"2\" class=\"\">regex</td><td colspan=\"1\" rowspan=\"2\" class=\"\">^(\\d{2}/\\d{2}/\\d{4} \\d{2}:\\d{2}:\\d{2}) (.*)</td><td colspan=\"1\" rowspan=\"2\" class=\"\">True</td><td colspan=\"1\" rowspan=\"1\" class=\"\">timestamp</td><td colspan=\"1\" rowspan=\"1\" class=\"\">string</td><td colspan=\"1\" rowspan=\"1\" class=\"\">False</td></tr>\n",
       "<tr><td colspan=\"1\" rowspan=\"1\" class=\"\">message</td><td colspan=\"1\" rowspan=\"1\" class=\"\">string</td><td colspan=\"1\" rowspan=\"1\" class=\"\">False</td></tr>\n",
       "<tr><td colspan=\"1\" rowspan=\"6\" class=\"\">s3://raw-tutorial//inference/machines.parquet</td><td colspan=\"1\" rowspan=\"6\" class=\"\">parquet-raw</td><td colspan=\"1\" rowspan=\"6\" class=\"\"></td><td colspan=\"1\" rowspan=\"6\" class=\"\">collection(record(`machineID`: int,`model`: string,`age`: int,`status`: string,`lat`: double,`long`: double))</td><td colspan=\"2\" rowspan=\"6\" class=\"empty-value\">empty</td><td colspan=\"1\" rowspan=\"6\" class=\"\">True</td><td colspan=\"1\" rowspan=\"1\" class=\"\">machineID</td><td colspan=\"1\" rowspan=\"1\" class=\"\">int</td><td colspan=\"1\" rowspan=\"1\" class=\"\">False</td></tr>\n",
       "<tr><td colspan=\"1\" rowspan=\"1\" class=\"\">model</td><td colspan=\"1\" rowspan=\"1\" class=\"\">string</td><td colspan=\"1\" rowspan=\"1\" class=\"\">False</td></tr>\n",
       "<tr><td colspan=\"1\" rowspan=\"1\" class=\"\">age</td><td colspan=\"1\" rowspan=\"1\" class=\"\">int</td><td colspan=\"1\" rowspan=\"1\" class=\"\">False</td></tr>\n",
       "<tr><td colspan=\"1\" rowspan=\"1\" class=\"\">status</td><td colspan=\"1\" rowspan=\"1\" class=\"\">string</td><td colspan=\"1\" rowspan=\"1\" class=\"\">False</td></tr>\n",
       "<tr><td colspan=\"1\" rowspan=\"1\" class=\"\">lat</td><td colspan=\"1\" rowspan=\"1\" class=\"\">double</td><td colspan=\"1\" rowspan=\"1\" class=\"\">False</td></tr>\n",
       "<tr><td colspan=\"1\" rowspan=\"1\" class=\"\">long</td><td colspan=\"1\" rowspan=\"1\" class=\"\">double</td><td colspan=\"1\" rowspan=\"1\" class=\"\">False</td></tr>\n",
       "<tr><td colspan=\"1\" rowspan=\"6\" class=\"\">s3://raw-tutorial//inference/patients.json</td><td colspan=\"1\" rowspan=\"6\" class=\"\">json</td><td colspan=\"1\" rowspan=\"6\" class=\"\">encoding iso-8859-1 (confidence: 58%)</td><td colspan=\"1\" rowspan=\"6\" class=\"\">collection(record(`city`: string,`country`: string,`patient_id`: string,`year_of_birth`: int,`gender`: string,`diagnosis`: collection(record(`diag_id`: string,`code`: string,`diag_date`: string,`description`: string,`patient_id`: string))))</td><td colspan=\"2\" rowspan=\"6\" class=\"empty-value\">empty</td><td colspan=\"1\" rowspan=\"6\" class=\"\">True</td><td colspan=\"1\" rowspan=\"1\" class=\"\">city</td><td colspan=\"1\" rowspan=\"1\" class=\"\">string</td><td colspan=\"1\" rowspan=\"1\" class=\"\">False</td></tr>\n",
       "<tr><td colspan=\"1\" rowspan=\"1\" class=\"\">country</td><td colspan=\"1\" rowspan=\"1\" class=\"\">string</td><td colspan=\"1\" rowspan=\"1\" class=\"\">False</td></tr>\n",
       "<tr><td colspan=\"1\" rowspan=\"1\" class=\"\">patient_id</td><td colspan=\"1\" rowspan=\"1\" class=\"\">string</td><td colspan=\"1\" rowspan=\"1\" class=\"\">False</td></tr>\n",
       "<tr><td colspan=\"1\" rowspan=\"1\" class=\"\">year_of_birth</td><td colspan=\"1\" rowspan=\"1\" class=\"\">int</td><td colspan=\"1\" rowspan=\"1\" class=\"\">False</td></tr>\n",
       "<tr><td colspan=\"1\" rowspan=\"1\" class=\"\">gender</td><td colspan=\"1\" rowspan=\"1\" class=\"\">string</td><td colspan=\"1\" rowspan=\"1\" class=\"\">False</td></tr>\n",
       "<tr><td colspan=\"1\" rowspan=\"1\" class=\"\">diagnosis</td><td colspan=\"1\" rowspan=\"1\" class=\"\">collection(record(`diag_id`: string,`code`: string,`diag_date`: string,`description`: string,`patient_id`: string))</td><td colspan=\"1\" rowspan=\"1\" class=\"\">False</td></tr>\n",
       "<tr><td colspan=\"1\" rowspan=\"1\" class=\"\">s3://raw-tutorial//inference/people.xml</td><td colspan=\"1\" rowspan=\"1\" class=\"\">xml</td><td colspan=\"1\" rowspan=\"1\" class=\"\">encoding iso-8859-1 (confidence: 38%)</td><td colspan=\"1\" rowspan=\"1\" class=\"\">record(`person`: collection(record(`@id`: int,`name`: string,`age`: int,`hobby`: collection(string),`salary`: double nullable)))</td><td colspan=\"2\" rowspan=\"1\" class=\"empty-value\">empty</td><td colspan=\"1\" rowspan=\"1\" class=\"\">False</td><td colspan=\"1\" rowspan=\"1\" class=\"\">person</td><td colspan=\"1\" rowspan=\"1\" class=\"\">collection(record(`@id`: int,`name`: string,`age`: int,`hobby`: collection(string),`salary`: double nullable))</td><td colspan=\"1\" rowspan=\"1\" class=\"\">False</td></tr>\n",
       "</table>"
      ],
      "text/plain": [
       "<raw_magic.nested_table.NestedTable at 0x7f1c5f677b70>"
      ]
     },
     "execution_count": 33,
     "metadata": {},
     "output_type": "execute_result"
    }
   ],
   "source": [
    "%%query\n",
    "select file, \n",
    "    describe(file)\n",
    "from file in ls(\"s3://raw-tutorial/inference\")"
   ]
  },
  {
   "cell_type": "markdown",
   "metadata": {},
   "source": [
    "\n",
    "We can see that we have several formats in here:\n",
    " * A csv, json and xml file.\n",
    " * A text/csv file separated by `|` without header, the system just named each column _1 .. _6.\n",
    " * A log file where the system could find extract two fields, `timestamp` and `message`.\n",
    " * A parquet file.\n",
    "\n",
    "## Finding files with errors\n",
    "\n",
    "\n",
    "Now lets look at another folder.\n",
    "This is a sample of the [NY Yellow Taxi Trip Data](https://data.cityofnewyork.us/Transportation/2018-Yellow-Taxi-Trip-Data/t29m-gskq#__sid=js0). \n",
    "\n",
    "They are all supposed to be CSV files but some of them have errors and some of them have different fields.\n",
    "\n",
    "So for instance the following query shows which files do not parse as CSV."
   ]
  },
  {
   "cell_type": "code",
   "execution_count": 77,
   "metadata": {},
   "outputs": [
    {
     "data": {
      "text/html": [
       "<table class=\"nested-table\">\n",
       "<tr><th colspan=\"1\" rowspan=\"3\">file</th><th colspan=\"9\" rowspan=\"1\">info</th></tr>\n",
       "<tr><th colspan=\"1\" rowspan=\"2\">format</th><th colspan=\"1\" rowspan=\"2\">comment</th><th colspan=\"1\" rowspan=\"2\">type</th><th colspan=\"2\" rowspan=\"1\">properties</th><th colspan=\"1\" rowspan=\"2\">is_collection</th><th colspan=\"3\" rowspan=\"1\">columns</th></tr>\n",
       "<tr><th colspan=\"1\" rowspan=\"1\">name</th><th colspan=\"1\" rowspan=\"1\">value</th><th colspan=\"1\" rowspan=\"1\">col_name</th><th colspan=\"1\" rowspan=\"1\">col_type</th><th colspan=\"1\" rowspan=\"1\">nullable</th></tr>\n",
       "<tr><td colspan=\"1\" rowspan=\"1\" class=\"\">file:/home/cesar/development/nyc-taxis-sample/yellow_tripdata_2014-08.csv</td><td colspan=\"1\" rowspan=\"1\" class=\"\">lines</td><td colspan=\"1\" rowspan=\"1\" class=\"\">encoding iso-8859-1 (confidence: 15%)</td><td colspan=\"1\" rowspan=\"1\" class=\"\">collection(string)</td><td colspan=\"1\" rowspan=\"1\" class=\"\">regex</td><td colspan=\"1\" rowspan=\"1\" class=\"\">null</td><td colspan=\"1\" rowspan=\"1\" class=\"\">True</td><td colspan=\"1\" rowspan=\"1\" class=\"null-value\">null</td><td colspan=\"1\" rowspan=\"1\" class=\"\">string</td><td colspan=\"1\" rowspan=\"1\" class=\"\">False</td></tr>\n",
       "<tr><td colspan=\"1\" rowspan=\"1\" class=\"\">file:/home/cesar/development/nyc-taxis-sample/yellow_tripdata_2012-05.csv</td><td colspan=\"1\" rowspan=\"1\" class=\"\">lines</td><td colspan=\"1\" rowspan=\"1\" class=\"\">encoding iso-8859-1 (confidence: 38%)</td><td colspan=\"1\" rowspan=\"1\" class=\"\">collection(string)</td><td colspan=\"1\" rowspan=\"1\" class=\"\">regex</td><td colspan=\"1\" rowspan=\"1\" class=\"\">null</td><td colspan=\"1\" rowspan=\"1\" class=\"\">True</td><td colspan=\"1\" rowspan=\"1\" class=\"null-value\">null</td><td colspan=\"1\" rowspan=\"1\" class=\"\">string</td><td colspan=\"1\" rowspan=\"1\" class=\"\">False</td></tr>\n",
       "<tr><td colspan=\"1\" rowspan=\"1\" class=\"\">file:/home/cesar/development/nyc-taxis-sample/yellow_tripdata_2010-05.csv</td><td colspan=\"1\" rowspan=\"1\" class=\"\">lines</td><td colspan=\"1\" rowspan=\"1\" class=\"\">encoding iso-8859-2 (confidence: 43%)</td><td colspan=\"1\" rowspan=\"1\" class=\"\">collection(string)</td><td colspan=\"1\" rowspan=\"1\" class=\"\">regex</td><td colspan=\"1\" rowspan=\"1\" class=\"\">null</td><td colspan=\"1\" rowspan=\"1\" class=\"\">True</td><td colspan=\"1\" rowspan=\"1\" class=\"null-value\">null</td><td colspan=\"1\" rowspan=\"1\" class=\"\">string</td><td colspan=\"1\" rowspan=\"1\" class=\"\">False</td></tr>\n",
       "<tr><td colspan=\"1\" rowspan=\"1\" class=\"\">file:/home/cesar/development/nyc-taxis-sample/yellow_tripdata_2012-07.csv</td><td colspan=\"1\" rowspan=\"1\" class=\"\">lines</td><td colspan=\"1\" rowspan=\"1\" class=\"\">encoding iso-8859-1 (confidence: 27%)</td><td colspan=\"1\" rowspan=\"1\" class=\"\">collection(string)</td><td colspan=\"1\" rowspan=\"1\" class=\"\">regex</td><td colspan=\"1\" rowspan=\"1\" class=\"\">null</td><td colspan=\"1\" rowspan=\"1\" class=\"\">True</td><td colspan=\"1\" rowspan=\"1\" class=\"null-value\">null</td><td colspan=\"1\" rowspan=\"1\" class=\"\">string</td><td colspan=\"1\" rowspan=\"1\" class=\"\">False</td></tr>\n",
       "<tr><td colspan=\"1\" rowspan=\"1\" class=\"\">file:/home/cesar/development/nyc-taxis-sample/yellow_tripdata_2013-08.csv</td><td colspan=\"1\" rowspan=\"1\" class=\"\">lines</td><td colspan=\"1\" rowspan=\"1\" class=\"\">encoding iso-8859-1 (confidence: 17%)</td><td colspan=\"1\" rowspan=\"1\" class=\"\">collection(string)</td><td colspan=\"1\" rowspan=\"1\" class=\"\">regex</td><td colspan=\"1\" rowspan=\"1\" class=\"\">null</td><td colspan=\"1\" rowspan=\"1\" class=\"\">True</td><td colspan=\"1\" rowspan=\"1\" class=\"null-value\">null</td><td colspan=\"1\" rowspan=\"1\" class=\"\">string</td><td colspan=\"1\" rowspan=\"1\" class=\"\">False</td></tr>\n",
       "</table>"
      ],
      "text/plain": [
       "<raw_magic.nested_table.NestedTable at 0x7f1c5f6479b0>"
      ]
     },
     "execution_count": 77,
     "metadata": {},
     "output_type": "execute_result"
    }
   ],
   "source": [
    "%%query\n",
    "\n",
    "descriptions := select file, \n",
    "                    describe(file) as info\n",
    "                    from file in ls(\"file:/home/cesar/development/nyc-taxis-sample\");\n",
    "\n",
    "\n",
    "select * from descriptions where info.format != \"csv\" limit 5"
   ]
  },
  {
   "cell_type": "markdown",
   "metadata": {},
   "source": [
    "### Similarity in field names over the CSV files\n",
    "The following query makes a grouping of how many fields are shared between the first file and all the other. <br>\n",
    "We can see that some share all the fields (7) but a lot of them do not."
   ]
  },
  {
   "cell_type": "code",
   "execution_count": 48,
   "metadata": {},
   "outputs": [
    {
     "data": {
      "text/html": [
       "<table class=\"nested-table\">\n",
       "<tr><th colspan=\"1\" rowspan=\"1\">sim</th><th colspan=\"1\" rowspan=\"1\">partition</th></tr>\n",
       "<tr><td colspan=\"1\" rowspan=\"12\" class=\"\">7</td><td colspan=\"1\" rowspan=\"1\" class=\"\">file:/home/cesar/development/nyc-taxis-sample/fhv_tripdata_2018-09.csv</td></tr>\n",
       "<tr><td colspan=\"1\" rowspan=\"1\" class=\"\">file:/home/cesar/development/nyc-taxis-sample/fhv_tripdata_2018-03.csv</td></tr>\n",
       "<tr><td colspan=\"1\" rowspan=\"1\" class=\"\">file:/home/cesar/development/nyc-taxis-sample/fhv_tripdata_2018-12.csv</td></tr>\n",
       "<tr><td colspan=\"1\" rowspan=\"1\" class=\"\">file:/home/cesar/development/nyc-taxis-sample/fhv_tripdata_2018-06.csv</td></tr>\n",
       "<tr><td colspan=\"1\" rowspan=\"1\" class=\"\">file:/home/cesar/development/nyc-taxis-sample/fhv_tripdata_2018-10.csv</td></tr>\n",
       "<tr><td colspan=\"1\" rowspan=\"1\" class=\"\">file:/home/cesar/development/nyc-taxis-sample/fhv_tripdata_2018-02.csv</td></tr>\n",
       "<tr><td colspan=\"1\" rowspan=\"1\" class=\"\">file:/home/cesar/development/nyc-taxis-sample/fhv_tripdata_2018-01.csv</td></tr>\n",
       "<tr><td colspan=\"1\" rowspan=\"1\" class=\"\">file:/home/cesar/development/nyc-taxis-sample/fhv_tripdata_2018-11.csv</td></tr>\n",
       "<tr><td colspan=\"1\" rowspan=\"1\" class=\"\">file:/home/cesar/development/nyc-taxis-sample/fhv_tripdata_2018-08.csv</td></tr>\n",
       "<tr><td colspan=\"1\" rowspan=\"1\" class=\"\">file:/home/cesar/development/nyc-taxis-sample/fhv_tripdata_2018-05.csv</td></tr>\n",
       "<tr><td colspan=\"1\" rowspan=\"1\" class=\"\">file:/home/cesar/development/nyc-taxis-sample/fhv_tripdata_2018-04.csv</td></tr>\n",
       "<tr><td colspan=\"1\" rowspan=\"1\" class=\"\">file:/home/cesar/development/nyc-taxis-sample/fhv_tripdata_2018-07.csv</td></tr>\n",
       "<tr><td colspan=\"1\" rowspan=\"6\" class=\"\">6</td><td colspan=\"1\" rowspan=\"1\" class=\"\">file:/home/cesar/development/nyc-taxis-sample/fhv_tripdata_2017-11.csv</td></tr>\n",
       "<tr><td colspan=\"1\" rowspan=\"1\" class=\"\">file:/home/cesar/development/nyc-taxis-sample/fhv_tripdata_2017-08.csv</td></tr>\n",
       "<tr><td colspan=\"1\" rowspan=\"1\" class=\"\">file:/home/cesar/development/nyc-taxis-sample/fhv_tripdata_2017-09.csv</td></tr>\n",
       "<tr><td colspan=\"1\" rowspan=\"1\" class=\"\">file:/home/cesar/development/nyc-taxis-sample/fhv_tripdata_2017-07.csv</td></tr>\n",
       "<tr><td colspan=\"1\" rowspan=\"1\" class=\"\">file:/home/cesar/development/nyc-taxis-sample/fhv_tripdata_2017-10.csv</td></tr>\n",
       "<tr><td colspan=\"1\" rowspan=\"1\" class=\"\">file:/home/cesar/development/nyc-taxis-sample/fhv_tripdata_2017-12.csv</td></tr>\n",
       "<tr><td colspan=\"1\" rowspan=\"6\" class=\"\">5</td><td colspan=\"1\" rowspan=\"1\" class=\"\">file:/home/cesar/development/nyc-taxis-sample/fhv_tripdata_2017-03.csv</td></tr>\n",
       "<tr><td colspan=\"1\" rowspan=\"1\" class=\"\">file:/home/cesar/development/nyc-taxis-sample/fhv_tripdata_2017-04.csv</td></tr>\n",
       "<tr><td colspan=\"1\" rowspan=\"1\" class=\"\">file:/home/cesar/development/nyc-taxis-sample/fhv_tripdata_2017-02.csv</td></tr>\n",
       "<tr><td colspan=\"1\" rowspan=\"1\" class=\"\">file:/home/cesar/development/nyc-taxis-sample/fhv_tripdata_2017-05.csv</td></tr>\n",
       "<tr><td colspan=\"1\" rowspan=\"1\" class=\"\">file:/home/cesar/development/nyc-taxis-sample/fhv_tripdata_2017-01.csv</td></tr>\n",
       "<tr><td colspan=\"1\" rowspan=\"1\" class=\"\">file:/home/cesar/development/nyc-taxis-sample/fhv_tripdata_2017-06.csv</td></tr>\n",
       "<tr><td colspan=\"1\" rowspan=\"57\" class=\"\">1</td><td colspan=\"1\" rowspan=\"1\" class=\"\">file:/home/cesar/development/nyc-taxis-sample/fhv_tripdata_2016-10.csv</td></tr>\n",
       "<tr><td colspan=\"1\" rowspan=\"1\" class=\"\">file:/home/cesar/development/nyc-taxis-sample/fhv_tripdata_2015-09.csv</td></tr>\n",
       "<tr><td colspan=\"1\" rowspan=\"1\" class=\"\">file:/home/cesar/development/nyc-taxis-sample/fhv_tripdata_2016-05.csv</td></tr>\n",
       "<tr><td colspan=\"1\" rowspan=\"1\" class=\"\">file:/home/cesar/development/nyc-taxis-sample/fhvhv_tripdata_2020-06.csv</td></tr>\n",
       "<tr><td colspan=\"1\" rowspan=\"1\" class=\"\">file:/home/cesar/development/nyc-taxis-sample/fhv_tripdata_2019-12.csv</td></tr>\n",
       "<tr><td colspan=\"1\" rowspan=\"1\" class=\"\">file:/home/cesar/development/nyc-taxis-sample/fhv_tripdata_2016-11.csv</td></tr>\n",
       "<tr><td colspan=\"1\" rowspan=\"1\" class=\"\">file:/home/cesar/development/nyc-taxis-sample/fhv_tripdata_2015-03.csv</td></tr>\n",
       "<tr><td colspan=\"1\" rowspan=\"1\" class=\"\">file:/home/cesar/development/nyc-taxis-sample/fhv_tripdata_2015-07.csv</td></tr>\n",
       "<tr><td colspan=\"1\" rowspan=\"1\" class=\"\">file:/home/cesar/development/nyc-taxis-sample/fhv_tripdata_2019-02.csv</td></tr>\n",
       "<tr><td colspan=\"1\" rowspan=\"1\" class=\"\">file:/home/cesar/development/nyc-taxis-sample/fhvhv_tripdata_2019-10.csv</td></tr>\n",
       "<tr><td colspan=\"1\" rowspan=\"1\" class=\"\">file:/home/cesar/development/nyc-taxis-sample/fhv_tripdata_2016-03.csv</td></tr>\n",
       "<tr><td colspan=\"1\" rowspan=\"1\" class=\"\">file:/home/cesar/development/nyc-taxis-sample/fhv_tripdata_2019-10.csv</td></tr>\n",
       "<tr><td colspan=\"1\" rowspan=\"1\" class=\"\">file:/home/cesar/development/nyc-taxis-sample/fhv_tripdata_2019-08.csv</td></tr>\n",
       "<tr><td colspan=\"1\" rowspan=\"1\" class=\"\">file:/home/cesar/development/nyc-taxis-sample/fhv_tripdata_2015-08.csv</td></tr>\n",
       "<tr><td colspan=\"1\" rowspan=\"1\" class=\"\">file:/home/cesar/development/nyc-taxis-sample/fhvhv_tripdata_2019-04.csv</td></tr>\n",
       "<tr><td colspan=\"1\" rowspan=\"1\" class=\"\">file:/home/cesar/development/nyc-taxis-sample/fhv_tripdata_2020-01.csv</td></tr>\n",
       "<tr><td colspan=\"1\" rowspan=\"1\" class=\"\">file:/home/cesar/development/nyc-taxis-sample/fhvhv_tripdata_2020-04.csv</td></tr>\n",
       "<tr><td colspan=\"1\" rowspan=\"1\" class=\"\">file:/home/cesar/development/nyc-taxis-sample/fhv_tripdata_2019-05.csv</td></tr>\n",
       "<tr><td colspan=\"1\" rowspan=\"1\" class=\"\">file:/home/cesar/development/nyc-taxis-sample/fhv_tripdata_2016-08.csv</td></tr>\n",
       "<tr><td colspan=\"1\" rowspan=\"1\" class=\"\">file:/home/cesar/development/nyc-taxis-sample/fhv_tripdata_2019-07.csv</td></tr>\n",
       "<tr><td colspan=\"1\" rowspan=\"1\" class=\"\">file:/home/cesar/development/nyc-taxis-sample/fhv_tripdata_2019-06.csv</td></tr>\n",
       "<tr><td colspan=\"1\" rowspan=\"1\" class=\"\">file:/home/cesar/development/nyc-taxis-sample/fhv_tripdata_2019-01.csv</td></tr>\n",
       "<tr><td colspan=\"1\" rowspan=\"1\" class=\"\">file:/home/cesar/development/nyc-taxis-sample/fhv_tripdata_2016-04.csv</td></tr>\n",
       "<tr><td colspan=\"1\" rowspan=\"1\" class=\"\">file:/home/cesar/development/nyc-taxis-sample/fhv_tripdata_2020-02.csv</td></tr>\n",
       "<tr><td colspan=\"1\" rowspan=\"1\" class=\"\">file:/home/cesar/development/nyc-taxis-sample/fhvhv_tripdata_2020-01.csv</td></tr>\n",
       "<tr><td colspan=\"1\" rowspan=\"1\" class=\"\">file:/home/cesar/development/nyc-taxis-sample/fhv_tripdata_2016-07.csv</td></tr>\n",
       "<tr><td colspan=\"1\" rowspan=\"1\" class=\"\">file:/home/cesar/development/nyc-taxis-sample/fhv_tripdata_2015-11.csv</td></tr>\n",
       "<tr><td colspan=\"1\" rowspan=\"1\" class=\"\">file:/home/cesar/development/nyc-taxis-sample/fhvhv_tripdata_2019-07.csv</td></tr>\n",
       "<tr><td colspan=\"1\" rowspan=\"1\" class=\"\">file:/home/cesar/development/nyc-taxis-sample/fhvhv_tripdata_2019-05.csv</td></tr>\n",
       "<tr><td colspan=\"1\" rowspan=\"1\" class=\"\">file:/home/cesar/development/nyc-taxis-sample/fhvhv_tripdata_2019-03.csv</td></tr>\n",
       "<tr><td colspan=\"1\" rowspan=\"1\" class=\"\">file:/home/cesar/development/nyc-taxis-sample/fhv_tripdata_2019-04.csv</td></tr>\n",
       "<tr><td colspan=\"1\" rowspan=\"1\" class=\"\">file:/home/cesar/development/nyc-taxis-sample/fhv_tripdata_2015-12.csv</td></tr>\n",
       "<tr><td colspan=\"1\" rowspan=\"1\" class=\"\">file:/home/cesar/development/nyc-taxis-sample/fhvhv_tripdata_2019-06.csv</td></tr>\n",
       "<tr><td colspan=\"1\" rowspan=\"1\" class=\"\">file:/home/cesar/development/nyc-taxis-sample/fhvhv_tripdata_2020-05.csv</td></tr>\n",
       "<tr><td colspan=\"1\" rowspan=\"1\" class=\"\">file:/home/cesar/development/nyc-taxis-sample/fhv_tripdata_2016-06.csv</td></tr>\n",
       "<tr><td colspan=\"1\" rowspan=\"1\" class=\"\">file:/home/cesar/development/nyc-taxis-sample/fhvhv_tripdata_2019-12.csv</td></tr>\n",
       "<tr><td colspan=\"1\" rowspan=\"1\" class=\"\">file:/home/cesar/development/nyc-taxis-sample/fhv_tripdata_2015-06.csv</td></tr>\n",
       "<tr><td colspan=\"1\" rowspan=\"1\" class=\"\">file:/home/cesar/development/nyc-taxis-sample/fhv_tripdata_2016-02.csv</td></tr>\n",
       "<tr><td colspan=\"1\" rowspan=\"1\" class=\"\">file:/home/cesar/development/nyc-taxis-sample/fhv_tripdata_2015-01.csv</td></tr>\n",
       "<tr><td colspan=\"1\" rowspan=\"1\" class=\"\">file:/home/cesar/development/nyc-taxis-sample/fhvhv_tripdata_2019-11.csv</td></tr>\n",
       "<tr><td colspan=\"1\" rowspan=\"1\" class=\"\">file:/home/cesar/development/nyc-taxis-sample/fhvhv_tripdata_2019-09.csv</td></tr>\n",
       "<tr><td colspan=\"1\" rowspan=\"1\" class=\"\">file:/home/cesar/development/nyc-taxis-sample/fhvhv_tripdata_2019-02.csv</td></tr>\n",
       "<tr><td colspan=\"1\" rowspan=\"1\" class=\"\">file:/home/cesar/development/nyc-taxis-sample/fhv_tripdata_2019-03.csv</td></tr>\n",
       "<tr><td colspan=\"1\" rowspan=\"1\" class=\"\">file:/home/cesar/development/nyc-taxis-sample/fhv_tripdata_2016-01.csv</td></tr>\n",
       "<tr><td colspan=\"1\" rowspan=\"1\" class=\"\">file:/home/cesar/development/nyc-taxis-sample/fhv_tripdata_2020-03.csv</td></tr>\n",
       "<tr><td colspan=\"1\" rowspan=\"1\" class=\"\">file:/home/cesar/development/nyc-taxis-sample/fhv_tripdata_2015-04.csv</td></tr>\n",
       "<tr><td colspan=\"1\" rowspan=\"1\" class=\"\">file:/home/cesar/development/nyc-taxis-sample/fhvhv_tripdata_2020-02.csv</td></tr>\n",
       "<tr><td colspan=\"1\" rowspan=\"1\" class=\"\">file:/home/cesar/development/nyc-taxis-sample/fhv_tripdata_2016-12.csv</td></tr>\n",
       "<tr><td colspan=\"1\" rowspan=\"1\" class=\"\">file:/home/cesar/development/nyc-taxis-sample/fhv_tripdata_2015-02.csv</td></tr>\n",
       "<tr><td colspan=\"1\" rowspan=\"1\" class=\"\">file:/home/cesar/development/nyc-taxis-sample/fhv_tripdata_2016-09.csv</td></tr>\n",
       "<tr><td colspan=\"1\" rowspan=\"1\" class=\"\">file:/home/cesar/development/nyc-taxis-sample/fhv_tripdata_2020-04.csv</td></tr>\n",
       "<tr><td colspan=\"1\" rowspan=\"1\" class=\"\">file:/home/cesar/development/nyc-taxis-sample/fhv_tripdata_2019-11.csv</td></tr>\n",
       "<tr><td colspan=\"1\" rowspan=\"1\" class=\"\">file:/home/cesar/development/nyc-taxis-sample/fhvhv_tripdata_2019-08.csv</td></tr>\n",
       "<tr><td colspan=\"1\" rowspan=\"1\" class=\"\">file:/home/cesar/development/nyc-taxis-sample/fhv_tripdata_2019-09.csv</td></tr>\n",
       "<tr><td colspan=\"1\" rowspan=\"1\" class=\"\">file:/home/cesar/development/nyc-taxis-sample/fhv_tripdata_2015-10.csv</td></tr>\n",
       "<tr><td colspan=\"1\" rowspan=\"1\" class=\"\">file:/home/cesar/development/nyc-taxis-sample/fhv_tripdata_2015-05.csv</td></tr>\n",
       "<tr><td colspan=\"1\" rowspan=\"1\" class=\"\">file:/home/cesar/development/nyc-taxis-sample/fhvhv_tripdata_2020-03.csv</td></tr>\n",
       "<tr><td colspan=\"1\" rowspan=\"223\" class=\"\">0</td><td colspan=\"1\" rowspan=\"1\" class=\"\">file:/home/cesar/development/nyc-taxis-sample/yellow_tripdata_2014-08.csv</td></tr>\n",
       "<tr><td colspan=\"1\" rowspan=\"1\" class=\"\">file:/home/cesar/development/nyc-taxis-sample/yellow_tripdata_2012-05.csv</td></tr>\n",
       "<tr><td colspan=\"1\" rowspan=\"1\" class=\"\">file:/home/cesar/development/nyc-taxis-sample/yellow_tripdata_2010-05.csv</td></tr>\n",
       "<tr><td colspan=\"1\" rowspan=\"1\" class=\"\">file:/home/cesar/development/nyc-taxis-sample/yellow_tripdata_2012-07.csv</td></tr>\n",
       "<tr><td colspan=\"1\" rowspan=\"1\" class=\"\">file:/home/cesar/development/nyc-taxis-sample/yellow_tripdata_2013-08.csv</td></tr>\n",
       "<tr><td colspan=\"1\" rowspan=\"1\" class=\"\">file:/home/cesar/development/nyc-taxis-sample/yellow_tripdata_2020-01.csv</td></tr>\n",
       "<tr><td colspan=\"1\" rowspan=\"1\" class=\"\">file:/home/cesar/development/nyc-taxis-sample/yellow_tripdata_2020-05.csv</td></tr>\n",
       "<tr><td colspan=\"1\" rowspan=\"1\" class=\"\">file:/home/cesar/development/nyc-taxis-sample/green_tripdata_2017-05.csv</td></tr>\n",
       "<tr><td colspan=\"1\" rowspan=\"1\" class=\"\">file:/home/cesar/development/nyc-taxis-sample/yellow_tripdata_2011-05.csv</td></tr>\n",
       "<tr><td colspan=\"1\" rowspan=\"1\" class=\"\">file:/home/cesar/development/nyc-taxis-sample/yellow_tripdata_2019-12.csv</td></tr>\n",
       "<tr><td colspan=\"1\" rowspan=\"1\" class=\"\">file:/home/cesar/development/nyc-taxis-sample/green_tripdata_2018-04.csv</td></tr>\n",
       "<tr><td colspan=\"1\" rowspan=\"1\" class=\"\">file:/home/cesar/development/nyc-taxis-sample/yellow_tripdata_2011-12.csv</td></tr>\n",
       "<tr><td colspan=\"1\" rowspan=\"1\" class=\"\">file:/home/cesar/development/nyc-taxis-sample/yellow_tripdata_2015-05.csv</td></tr>\n",
       "<tr><td colspan=\"1\" rowspan=\"1\" class=\"\">file:/home/cesar/development/nyc-taxis-sample/yellow_tripdata_2010-02.csv</td></tr>\n",
       "<tr><td colspan=\"1\" rowspan=\"1\" class=\"\">file:/home/cesar/development/nyc-taxis-sample/yellow_tripdata_2017-12.csv</td></tr>\n",
       "<tr><td colspan=\"1\" rowspan=\"1\" class=\"\">file:/home/cesar/development/nyc-taxis-sample/green_tripdata_2015-10.csv</td></tr>\n",
       "<tr><td colspan=\"1\" rowspan=\"1\" class=\"\">file:/home/cesar/development/nyc-taxis-sample/green_tripdata_2016-11.csv</td></tr>\n",
       "<tr><td colspan=\"1\" rowspan=\"1\" class=\"\">file:/home/cesar/development/nyc-taxis-sample/green_tripdata_2014-10.csv</td></tr>\n",
       "<tr><td colspan=\"1\" rowspan=\"1\" class=\"\">file:/home/cesar/development/nyc-taxis-sample/yellow_tripdata_2018-07.csv</td></tr>\n",
       "<tr><td colspan=\"1\" rowspan=\"1\" class=\"\">file:/home/cesar/development/nyc-taxis-sample/yellow_tripdata_2017-11.csv</td></tr>\n",
       "<tr><td colspan=\"1\" rowspan=\"1\" class=\"\">file:/home/cesar/development/nyc-taxis-sample/yellow_tripdata_2009-09.csv</td></tr>\n",
       "<tr><td colspan=\"1\" rowspan=\"1\" class=\"\">file:/home/cesar/development/nyc-taxis-sample/yellow_tripdata_2016-09.csv</td></tr>\n",
       "<tr><td colspan=\"1\" rowspan=\"1\" class=\"\">file:/home/cesar/development/nyc-taxis-sample/yellow_tripdata_2016-02.csv</td></tr>\n",
       "<tr><td colspan=\"1\" rowspan=\"1\" class=\"\">file:/home/cesar/development/nyc-taxis-sample/yellow_tripdata_2012-01.csv</td></tr>\n",
       "<tr><td colspan=\"1\" rowspan=\"1\" class=\"\">file:/home/cesar/development/nyc-taxis-sample/yellow_tripdata_2016-07.csv</td></tr>\n",
       "<tr><td colspan=\"1\" rowspan=\"1\" class=\"\">file:/home/cesar/development/nyc-taxis-sample/yellow_tripdata_2010-10.csv</td></tr>\n",
       "<tr><td colspan=\"1\" rowspan=\"1\" class=\"\">file:/home/cesar/development/nyc-taxis-sample/yellow_tripdata_2018-04.csv</td></tr>\n",
       "<tr><td colspan=\"1\" rowspan=\"1\" class=\"\">file:/home/cesar/development/nyc-taxis-sample/nyc-sample.hjson</td></tr>\n",
       "<tr><td colspan=\"1\" rowspan=\"1\" class=\"\">file:/home/cesar/development/nyc-taxis-sample/yellow_tripdata_2011-03.csv</td></tr>\n",
       "<tr><td colspan=\"1\" rowspan=\"1\" class=\"\">file:/home/cesar/development/nyc-taxis-sample/yellow_tripdata_2018-01.csv</td></tr>\n",
       "<tr><td colspan=\"1\" rowspan=\"1\" class=\"\">file:/home/cesar/development/nyc-taxis-sample/yellow_tripdata_2014-05.csv</td></tr>\n",
       "<tr><td colspan=\"1\" rowspan=\"1\" class=\"\">file:/home/cesar/development/nyc-taxis-sample/yellow_tripdata_2012-09.csv</td></tr>\n",
       "<tr><td colspan=\"1\" rowspan=\"1\" class=\"\">file:/home/cesar/development/nyc-taxis-sample/yellow_tripdata_2019-01.csv</td></tr>\n",
       "<tr><td colspan=\"1\" rowspan=\"1\" class=\"\">file:/home/cesar/development/nyc-taxis-sample/yellow_tripdata_2018-08.csv</td></tr>\n",
       "<tr><td colspan=\"1\" rowspan=\"1\" class=\"\">file:/home/cesar/development/nyc-taxis-sample/green_tripdata_2015-01.csv</td></tr>\n",
       "<tr><td colspan=\"1\" rowspan=\"1\" class=\"\">file:/home/cesar/development/nyc-taxis-sample/green_tripdata_2017-10.csv</td></tr>\n",
       "<tr><td colspan=\"1\" rowspan=\"1\" class=\"\">file:/home/cesar/development/nyc-taxis-sample/yellow_tripdata_2009-05.csv</td></tr>\n",
       "<tr><td colspan=\"1\" rowspan=\"1\" class=\"\">file:/home/cesar/development/nyc-taxis-sample/yellow_tripdata_2019-02.csv</td></tr>\n",
       "<tr><td colspan=\"1\" rowspan=\"1\" class=\"\">file:/home/cesar/development/nyc-taxis-sample/yellow_tripdata_2013-07.csv</td></tr>\n",
       "<tr><td colspan=\"1\" rowspan=\"1\" class=\"\">file:/home/cesar/development/nyc-taxis-sample/yellow_tripdata_2014-09.csv</td></tr>\n",
       "<tr><td colspan=\"1\" rowspan=\"1\" class=\"\">file:/home/cesar/development/nyc-taxis-sample/yellow_tripdata_2013-10.csv</td></tr>\n",
       "<tr><td colspan=\"1\" rowspan=\"1\" class=\"\">file:/home/cesar/development/nyc-taxis-sample/green_tripdata_2017-02.csv</td></tr>\n",
       "<tr><td colspan=\"1\" rowspan=\"1\" class=\"\">file:/home/cesar/development/nyc-taxis-sample/yellow_tripdata_2014-07.csv</td></tr>\n",
       "<tr><td colspan=\"1\" rowspan=\"1\" class=\"\">file:/home/cesar/development/nyc-taxis-sample/green_tripdata_2013-09.csv</td></tr>\n",
       "<tr><td colspan=\"1\" rowspan=\"1\" class=\"\">file:/home/cesar/development/nyc-taxis-sample/yellow_tripdata_2015-03.csv</td></tr>\n",
       "<tr><td colspan=\"1\" rowspan=\"1\" class=\"\">file:/home/cesar/development/nyc-taxis-sample/yellow_tripdata_2012-12.csv</td></tr>\n",
       "<tr><td colspan=\"1\" rowspan=\"1\" class=\"\">file:/home/cesar/development/nyc-taxis-sample/green_tripdata_2017-08.csv</td></tr>\n",
       "<tr><td colspan=\"1\" rowspan=\"1\" class=\"\">file:/home/cesar/development/nyc-taxis-sample/yellow_tripdata_2013-12.csv</td></tr>\n",
       "<tr><td colspan=\"1\" rowspan=\"1\" class=\"\">file:/home/cesar/development/nyc-taxis-sample/green_tripdata_2019-06.csv</td></tr>\n",
       "<tr><td colspan=\"1\" rowspan=\"1\" class=\"\">file:/home/cesar/development/nyc-taxis-sample/green_tripdata_2019-10.csv</td></tr>\n",
       "<tr><td colspan=\"1\" rowspan=\"1\" class=\"\">file:/home/cesar/development/nyc-taxis-sample/yellow_tripdata_2014-02.csv</td></tr>\n",
       "<tr><td colspan=\"1\" rowspan=\"1\" class=\"\">file:/home/cesar/development/nyc-taxis-sample/yellow_tripdata_2020-06.csv</td></tr>\n",
       "<tr><td colspan=\"1\" rowspan=\"1\" class=\"\">file:/home/cesar/development/nyc-taxis-sample/yellow_tripdata_2013-05.csv</td></tr>\n",
       "<tr><td colspan=\"1\" rowspan=\"1\" class=\"\">file:/home/cesar/development/nyc-taxis-sample/yellow_tripdata_2015-10.csv</td></tr>\n",
       "<tr><td colspan=\"1\" rowspan=\"1\" class=\"\">file:/home/cesar/development/nyc-taxis-sample/green_tripdata_2018-07.csv</td></tr>\n",
       "<tr><td colspan=\"1\" rowspan=\"1\" class=\"\">file:/home/cesar/development/nyc-taxis-sample/yellow_tripdata_2010-01.csv</td></tr>\n",
       "<tr><td colspan=\"1\" rowspan=\"1\" class=\"\">file:/home/cesar/development/nyc-taxis-sample/green_tripdata_2014-11.csv</td></tr>\n",
       "<tr><td colspan=\"1\" rowspan=\"1\" class=\"\">file:/home/cesar/development/nyc-taxis-sample/green_tripdata_2018-11.csv</td></tr>\n",
       "<tr><td colspan=\"1\" rowspan=\"1\" class=\"\">file:/home/cesar/development/nyc-taxis-sample/yellow_tripdata_2019-08.csv</td></tr>\n",
       "<tr><td colspan=\"1\" rowspan=\"1\" class=\"\">file:/home/cesar/development/nyc-taxis-sample/yellow_tripdata_2018-09.csv</td></tr>\n",
       "<tr><td colspan=\"1\" rowspan=\"1\" class=\"\">file:/home/cesar/development/nyc-taxis-sample/green_tripdata_2017-06.csv</td></tr>\n",
       "<tr><td colspan=\"1\" rowspan=\"1\" class=\"\">file:/home/cesar/development/nyc-taxis-sample/yellow_tripdata_2017-03.csv</td></tr>\n",
       "<tr><td colspan=\"1\" rowspan=\"1\" class=\"\">file:/home/cesar/development/nyc-taxis-sample/green_tripdata_2016-02.csv</td></tr>\n",
       "<tr><td colspan=\"1\" rowspan=\"1\" class=\"\">file:/home/cesar/development/nyc-taxis-sample/yellow_tripdata_2013-09.csv</td></tr>\n",
       "<tr><td colspan=\"1\" rowspan=\"1\" class=\"\">file:/home/cesar/development/nyc-taxis-sample/yellow_tripdata_2015-04.csv</td></tr>\n",
       "<tr><td colspan=\"1\" rowspan=\"1\" class=\"\">file:/home/cesar/development/nyc-taxis-sample/yellow_tripdata_2013-11.csv</td></tr>\n",
       "<tr><td colspan=\"1\" rowspan=\"1\" class=\"\">file:/home/cesar/development/nyc-taxis-sample/yellow_tripdata_2011-08.csv</td></tr>\n",
       "<tr><td colspan=\"1\" rowspan=\"1\" class=\"\">file:/home/cesar/development/nyc-taxis-sample/yellow_tripdata_2009-10.csv</td></tr>\n",
       "<tr><td colspan=\"1\" rowspan=\"1\" class=\"\">file:/home/cesar/development/nyc-taxis-sample/yellow_tripdata_2019-10.csv</td></tr>\n",
       "<tr><td colspan=\"1\" rowspan=\"1\" class=\"\">file:/home/cesar/development/nyc-taxis-sample/green_tripdata_2017-03.csv</td></tr>\n",
       "<tr><td colspan=\"1\" rowspan=\"1\" class=\"\">file:/home/cesar/development/nyc-taxis-sample/green_tripdata_2016-05.csv</td></tr>\n",
       "<tr><td colspan=\"1\" rowspan=\"1\" class=\"\">file:/home/cesar/development/nyc-taxis-sample/yellow_tripdata_2017-04.csv</td></tr>\n",
       "<tr><td colspan=\"1\" rowspan=\"1\" class=\"\">file:/home/cesar/development/nyc-taxis-sample/yellow_tripdata_2016-03.csv</td></tr>\n",
       "<tr><td colspan=\"1\" rowspan=\"1\" class=\"\">file:/home/cesar/development/nyc-taxis-sample/yellow_tripdata_2016-06.csv</td></tr>\n",
       "<tr><td colspan=\"1\" rowspan=\"1\" class=\"\">file:/home/cesar/development/nyc-taxis-sample/yellow_tripdata_2020-03.csv</td></tr>\n",
       "<tr><td colspan=\"1\" rowspan=\"1\" class=\"\">file:/home/cesar/development/nyc-taxis-sample/yellow_tripdata_2014-03.csv</td></tr>\n",
       "<tr><td colspan=\"1\" rowspan=\"1\" class=\"\">file:/home/cesar/development/nyc-taxis-sample/yellow_tripdata_2012-03.csv</td></tr>\n",
       "<tr><td colspan=\"1\" rowspan=\"1\" class=\"\">file:/home/cesar/development/nyc-taxis-sample/yellow_tripdata_2009-11.csv</td></tr>\n",
       "<tr><td colspan=\"1\" rowspan=\"1\" class=\"\">file:/home/cesar/development/nyc-taxis-sample/green_tripdata_2016-07.csv</td></tr>\n",
       "<tr><td colspan=\"1\" rowspan=\"1\" class=\"\">file:/home/cesar/development/nyc-taxis-sample/yellow_tripdata_2019-07.csv</td></tr>\n",
       "<tr><td colspan=\"1\" rowspan=\"1\" class=\"\">file:/home/cesar/development/nyc-taxis-sample/yellow_tripdata_2013-06.csv</td></tr>\n",
       "<tr><td colspan=\"1\" rowspan=\"1\" class=\"\">file:/home/cesar/development/nyc-taxis-sample/green_tripdata_2020-05.csv</td></tr>\n",
       "<tr><td colspan=\"1\" rowspan=\"1\" class=\"\">file:/home/cesar/development/nyc-taxis-sample/yellow_tripdata_2016-01.csv</td></tr>\n",
       "<tr><td colspan=\"1\" rowspan=\"1\" class=\"\">file:/home/cesar/development/nyc-taxis-sample/yellow_tripdata_2019-09.csv</td></tr>\n",
       "<tr><td colspan=\"1\" rowspan=\"1\" class=\"\">file:/home/cesar/development/nyc-taxis-sample/green_tripdata_2018-05.csv</td></tr>\n",
       "<tr><td colspan=\"1\" rowspan=\"1\" class=\"\">file:/home/cesar/development/nyc-taxis-sample/green_tripdata_2014-02.csv</td></tr>\n",
       "<tr><td colspan=\"1\" rowspan=\"1\" class=\"\">file:/home/cesar/development/nyc-taxis-sample/yellow_tripdata_2010-09.csv</td></tr>\n",
       "<tr><td colspan=\"1\" rowspan=\"1\" class=\"\">file:/home/cesar/development/nyc-taxis-sample/yellow_tripdata_2018-05.csv</td></tr>\n",
       "<tr><td colspan=\"1\" rowspan=\"1\" class=\"\">file:/home/cesar/development/nyc-taxis-sample/yellow_tripdata_2018-03.csv</td></tr>\n",
       "<tr><td colspan=\"1\" rowspan=\"1\" class=\"\">file:/home/cesar/development/nyc-taxis-sample/green_tripdata_2020-06.csv</td></tr>\n",
       "<tr><td colspan=\"1\" rowspan=\"1\" class=\"\">file:/home/cesar/development/nyc-taxis-sample/green_tripdata_2019-03.csv</td></tr>\n",
       "<tr><td colspan=\"1\" rowspan=\"1\" class=\"\">file:/home/cesar/development/nyc-taxis-sample/green_tripdata_2019-05.csv</td></tr>\n",
       "<tr><td colspan=\"1\" rowspan=\"1\" class=\"\">file:/home/cesar/development/nyc-taxis-sample/green_tripdata_2020-04.csv</td></tr>\n",
       "<tr><td colspan=\"1\" rowspan=\"1\" class=\"\">file:/home/cesar/development/nyc-taxis-sample/yellow_tripdata_2010-11.csv</td></tr>\n",
       "<tr><td colspan=\"1\" rowspan=\"1\" class=\"\">file:/home/cesar/development/nyc-taxis-sample/green_tripdata_2019-02.csv</td></tr>\n",
       "<tr><td colspan=\"1\" rowspan=\"1\" class=\"\">file:/home/cesar/development/nyc-taxis-sample/yellow_tripdata_2009-02.csv</td></tr>\n",
       "<tr><td colspan=\"1\" rowspan=\"1\" class=\"\">file:/home/cesar/development/nyc-taxis-sample/yellow_tripdata_2016-12.csv</td></tr>\n",
       "<tr><td colspan=\"1\" rowspan=\"1\" class=\"\">file:/home/cesar/development/nyc-taxis-sample/green_tripdata_2015-06.csv</td></tr>\n",
       "<tr><td colspan=\"1\" rowspan=\"1\" class=\"\">file:/home/cesar/development/nyc-taxis-sample/yellow_tripdata_2015-08.csv</td></tr>\n",
       "<tr><td colspan=\"1\" rowspan=\"1\" class=\"\">file:/home/cesar/development/nyc-taxis-sample/green_tripdata_2016-03.csv</td></tr>\n",
       "<tr><td colspan=\"1\" rowspan=\"1\" class=\"\">file:/home/cesar/development/nyc-taxis-sample/yellow_tripdata_2011-07.csv</td></tr>\n",
       "<tr><td colspan=\"1\" rowspan=\"1\" class=\"\">file:/home/cesar/development/nyc-taxis-sample/yellow_tripdata_2010-06.csv</td></tr>\n",
       "<tr><td colspan=\"1\" rowspan=\"1\" class=\"\">file:/home/cesar/development/nyc-taxis-sample/yellow_tripdata_2014-01.csv</td></tr>\n",
       "<tr><td colspan=\"1\" rowspan=\"1\" class=\"\">file:/home/cesar/development/nyc-taxis-sample/yellow_tripdata_2012-06.csv</td></tr>\n",
       "<tr><td colspan=\"1\" rowspan=\"1\" class=\"\">file:/home/cesar/development/nyc-taxis-sample/yellow_tripdata_2009-12.csv</td></tr>\n",
       "<tr><td colspan=\"1\" rowspan=\"1\" class=\"\">file:/home/cesar/development/nyc-taxis-sample/green_tripdata_2017-12.csv</td></tr>\n",
       "<tr><td colspan=\"1\" rowspan=\"1\" class=\"\">file:/home/cesar/development/nyc-taxis-sample/yellow_tripdata_2020-04.csv</td></tr>\n",
       "<tr><td colspan=\"1\" rowspan=\"1\" class=\"\">file:/home/cesar/development/nyc-taxis-sample/yellow_tripdata_2010-12.csv</td></tr>\n",
       "<tr><td colspan=\"1\" rowspan=\"1\" class=\"\">file:/home/cesar/development/nyc-taxis-sample/yellow_tripdata_2016-11.csv</td></tr>\n",
       "<tr><td colspan=\"1\" rowspan=\"1\" class=\"\">file:/home/cesar/development/nyc-taxis-sample/green_tripdata_2017-01.csv</td></tr>\n",
       "<tr><td colspan=\"1\" rowspan=\"1\" class=\"\">file:/home/cesar/development/nyc-taxis-sample/green_tripdata_2016-12.csv</td></tr>\n",
       "<tr><td colspan=\"1\" rowspan=\"1\" class=\"\">file:/home/cesar/development/nyc-taxis-sample/green_tripdata_2018-01.csv</td></tr>\n",
       "<tr><td colspan=\"1\" rowspan=\"1\" class=\"\">file:/home/cesar/development/nyc-taxis-sample/green_tripdata_2018-09.csv</td></tr>\n",
       "<tr><td colspan=\"1\" rowspan=\"1\" class=\"\">file:/home/cesar/development/nyc-taxis-sample/yellow_tripdata_2013-04.csv</td></tr>\n",
       "<tr><td colspan=\"1\" rowspan=\"1\" class=\"\">file:/home/cesar/development/nyc-taxis-sample/green_tripdata_2015-09.csv</td></tr>\n",
       "<tr><td colspan=\"1\" rowspan=\"1\" class=\"\">file:/home/cesar/development/nyc-taxis-sample/green_tripdata_2013-10.csv</td></tr>\n",
       "<tr><td colspan=\"1\" rowspan=\"1\" class=\"\">file:/home/cesar/development/nyc-taxis-sample/yellow_tripdata_2017-09.csv</td></tr>\n",
       "<tr><td colspan=\"1\" rowspan=\"1\" class=\"\">file:/home/cesar/development/nyc-taxis-sample/yellow_tripdata_2017-01.csv</td></tr>\n",
       "<tr><td colspan=\"1\" rowspan=\"1\" class=\"\">file:/home/cesar/development/nyc-taxis-sample/green_tripdata_2015-02.csv</td></tr>\n",
       "<tr><td colspan=\"1\" rowspan=\"1\" class=\"\">file:/home/cesar/development/nyc-taxis-sample/yellow_tripdata_2018-10.csv</td></tr>\n",
       "<tr><td colspan=\"1\" rowspan=\"1\" class=\"\">file:/home/cesar/development/nyc-taxis-sample/yellow_tripdata_2015-09.csv</td></tr>\n",
       "<tr><td colspan=\"1\" rowspan=\"1\" class=\"\">file:/home/cesar/development/nyc-taxis-sample/yellow_tripdata_2020-02.csv</td></tr>\n",
       "<tr><td colspan=\"1\" rowspan=\"1\" class=\"\">file:/home/cesar/development/nyc-taxis-sample/yellow_tripdata_2011-02.csv</td></tr>\n",
       "<tr><td colspan=\"1\" rowspan=\"1\" class=\"\">file:/home/cesar/development/nyc-taxis-sample/green_tripdata_2015-12.csv</td></tr>\n",
       "<tr><td colspan=\"1\" rowspan=\"1\" class=\"\">file:/home/cesar/development/nyc-taxis-sample/green_tripdata_2017-07.csv</td></tr>\n",
       "<tr><td colspan=\"1\" rowspan=\"1\" class=\"\">file:/home/cesar/development/nyc-taxis-sample/yellow_tripdata_2019-11.csv</td></tr>\n",
       "<tr><td colspan=\"1\" rowspan=\"1\" class=\"\">file:/home/cesar/development/nyc-taxis-sample/green_tripdata_2019-12.csv</td></tr>\n",
       "<tr><td colspan=\"1\" rowspan=\"1\" class=\"\">file:/home/cesar/development/nyc-taxis-sample/yellow_tripdata_2017-05.csv</td></tr>\n",
       "<tr><td colspan=\"1\" rowspan=\"1\" class=\"\">file:/home/cesar/development/nyc-taxis-sample/green_tripdata_2019-01.csv</td></tr>\n",
       "<tr><td colspan=\"1\" rowspan=\"1\" class=\"\">file:/home/cesar/development/nyc-taxis-sample/yellow_tripdata_2013-02.csv</td></tr>\n",
       "<tr><td colspan=\"1\" rowspan=\"1\" class=\"\">file:/home/cesar/development/nyc-taxis-sample/yellow_tripdata_2009-03.csv</td></tr>\n",
       "<tr><td colspan=\"1\" rowspan=\"1\" class=\"\">file:/home/cesar/development/nyc-taxis-sample/yellow_tripdata_2014-06.csv</td></tr>\n",
       "<tr><td colspan=\"1\" rowspan=\"1\" class=\"\">file:/home/cesar/development/nyc-taxis-sample/green_tripdata_2013-12.csv</td></tr>\n",
       "<tr><td colspan=\"1\" rowspan=\"1\" class=\"\">file:/home/cesar/development/nyc-taxis-sample/yellow_tripdata_2016-05.csv</td></tr>\n",
       "<tr><td colspan=\"1\" rowspan=\"1\" class=\"\">file:/home/cesar/development/nyc-taxis-sample/yellow_tripdata_2018-11.csv</td></tr>\n",
       "<tr><td colspan=\"1\" rowspan=\"1\" class=\"\">file:/home/cesar/development/nyc-taxis-sample/yellow_tripdata_2012-02.csv</td></tr>\n",
       "<tr><td colspan=\"1\" rowspan=\"1\" class=\"\">file:/home/cesar/development/nyc-taxis-sample/yellow_tripdata_2011-10.csv</td></tr>\n",
       "<tr><td colspan=\"1\" rowspan=\"1\" class=\"\">file:/home/cesar/development/nyc-taxis-sample/files-with-errors.hjson</td></tr>\n",
       "<tr><td colspan=\"1\" rowspan=\"1\" class=\"\">file:/home/cesar/development/nyc-taxis-sample/green_tripdata_2016-06.csv</td></tr>\n",
       "<tr><td colspan=\"1\" rowspan=\"1\" class=\"\">file:/home/cesar/development/nyc-taxis-sample/green_tripdata_2020-01.csv</td></tr>\n",
       "<tr><td colspan=\"1\" rowspan=\"1\" class=\"\">file:/home/cesar/development/nyc-taxis-sample/green_tripdata_2013-11.csv</td></tr>\n",
       "<tr><td colspan=\"1\" rowspan=\"1\" class=\"\">file:/home/cesar/development/nyc-taxis-sample/green_tripdata_2013-08.csv</td></tr>\n",
       "<tr><td colspan=\"1\" rowspan=\"1\" class=\"\">file:/home/cesar/development/nyc-taxis-sample/yellow_tripdata_2018-06.csv</td></tr>\n",
       "<tr><td colspan=\"1\" rowspan=\"1\" class=\"\">file:/home/cesar/development/nyc-taxis-sample/green_tripdata_2016-10.csv</td></tr>\n",
       "<tr><td colspan=\"1\" rowspan=\"1\" class=\"\">file:/home/cesar/development/nyc-taxis-sample/yellow_tripdata_2017-06.csv</td></tr>\n",
       "<tr><td colspan=\"1\" rowspan=\"1\" class=\"\">file:/home/cesar/development/nyc-taxis-sample/yellow_tripdata_2014-10.csv</td></tr>\n",
       "<tr><td colspan=\"1\" rowspan=\"1\" class=\"\">file:/home/cesar/development/nyc-taxis-sample/green_tripdata_2015-08.csv</td></tr>\n",
       "<tr><td colspan=\"1\" rowspan=\"1\" class=\"\">file:/home/cesar/development/nyc-taxis-sample/yellow_tripdata_2012-08.csv</td></tr>\n",
       "<tr><td colspan=\"1\" rowspan=\"1\" class=\"\">file:/home/cesar/development/nyc-taxis-sample/yellow_tripdata_2015-07.csv</td></tr>\n",
       "<tr><td colspan=\"1\" rowspan=\"1\" class=\"\">file:/home/cesar/development/nyc-taxis-sample/yellow_tripdata_2015-01.csv</td></tr>\n",
       "<tr><td colspan=\"1\" rowspan=\"1\" class=\"\">file:/home/cesar/development/nyc-taxis-sample/yellow_tripdata_2009-07.csv</td></tr>\n",
       "<tr><td colspan=\"1\" rowspan=\"1\" class=\"\">file:/home/cesar/development/nyc-taxis-sample/green_tripdata_2019-09.csv</td></tr>\n",
       "<tr><td colspan=\"1\" rowspan=\"1\" class=\"\">file:/home/cesar/development/nyc-taxis-sample/green_tripdata_2016-09.csv</td></tr>\n",
       "<tr><td colspan=\"1\" rowspan=\"1\" class=\"\">file:/home/cesar/development/nyc-taxis-sample/green_tripdata_2016-04.csv</td></tr>\n",
       "<tr><td colspan=\"1\" rowspan=\"1\" class=\"\">file:/home/cesar/development/nyc-taxis-sample/yellow_tripdata_2011-04.csv</td></tr>\n",
       "<tr><td colspan=\"1\" rowspan=\"1\" class=\"\">file:/home/cesar/development/nyc-taxis-sample/green_tripdata_2019-07.csv</td></tr>\n",
       "<tr><td colspan=\"1\" rowspan=\"1\" class=\"\">file:/home/cesar/development/nyc-taxis-sample/yellow_tripdata_2011-06.csv</td></tr>\n",
       "<tr><td colspan=\"1\" rowspan=\"1\" class=\"\">file:/home/cesar/development/nyc-taxis-sample/green_tripdata_2017-04.csv</td></tr>\n",
       "<tr><td colspan=\"1\" rowspan=\"1\" class=\"\">file:/home/cesar/development/nyc-taxis-sample/yellow_tripdata_2018-12.csv</td></tr>\n",
       "<tr><td colspan=\"1\" rowspan=\"1\" class=\"\">file:/home/cesar/development/nyc-taxis-sample/yellow_tripdata_2010-07.csv</td></tr>\n",
       "<tr><td colspan=\"1\" rowspan=\"1\" class=\"\">file:/home/cesar/development/nyc-taxis-sample/yellow_tripdata_2017-07.csv</td></tr>\n",
       "<tr><td colspan=\"1\" rowspan=\"1\" class=\"\">file:/home/cesar/development/nyc-taxis-sample/yellow_tripdata_2014-12.csv</td></tr>\n",
       "<tr><td colspan=\"1\" rowspan=\"1\" class=\"\">file:/home/cesar/development/nyc-taxis-sample/green_tripdata_2018-02.csv</td></tr>\n",
       "<tr><td colspan=\"1\" rowspan=\"1\" class=\"\">file:/home/cesar/development/nyc-taxis-sample/yellow_tripdata_2019-05.csv</td></tr>\n",
       "<tr><td colspan=\"1\" rowspan=\"1\" class=\"\">file:/home/cesar/development/nyc-taxis-sample/green_tripdata_2017-11.csv</td></tr>\n",
       "<tr><td colspan=\"1\" rowspan=\"1\" class=\"\">file:/home/cesar/development/nyc-taxis-sample/yellow_tripdata_2019-06.csv</td></tr>\n",
       "<tr><td colspan=\"1\" rowspan=\"1\" class=\"\">file:/home/cesar/development/nyc-taxis-sample/green_tripdata_2015-04.csv</td></tr>\n",
       "<tr><td colspan=\"1\" rowspan=\"1\" class=\"\">file:/home/cesar/development/nyc-taxis-sample/yellow_tripdata_2015-06.csv</td></tr>\n",
       "<tr><td colspan=\"1\" rowspan=\"1\" class=\"\">file:/home/cesar/development/nyc-taxis-sample/yellow_tripdata_2011-09.csv</td></tr>\n",
       "<tr><td colspan=\"1\" rowspan=\"1\" class=\"\">file:/home/cesar/development/nyc-taxis-sample/yellow_tripdata_2014-11.csv</td></tr>\n",
       "<tr><td colspan=\"1\" rowspan=\"1\" class=\"\">file:/home/cesar/development/nyc-taxis-sample/green_tripdata_2018-12.csv</td></tr>\n",
       "<tr><td colspan=\"1\" rowspan=\"1\" class=\"\">file:/home/cesar/development/nyc-taxis-sample/yellow_tripdata_2017-02.csv</td></tr>\n",
       "<tr><td colspan=\"1\" rowspan=\"1\" class=\"\">file:/home/cesar/development/nyc-taxis-sample/green_tripdata_2014-12.csv</td></tr>\n",
       "<tr><td colspan=\"1\" rowspan=\"1\" class=\"\">file:/home/cesar/development/nyc-taxis-sample/green_tripdata_2014-09.csv</td></tr>\n",
       "<tr><td colspan=\"1\" rowspan=\"1\" class=\"\">file:/home/cesar/development/nyc-taxis-sample/green_tripdata_2019-08.csv</td></tr>\n",
       "<tr><td colspan=\"1\" rowspan=\"1\" class=\"\">file:/home/cesar/development/nyc-taxis-sample/yellow_tripdata_2019-04.csv</td></tr>\n",
       "<tr><td colspan=\"1\" rowspan=\"1\" class=\"\">file:/home/cesar/development/nyc-taxis-sample/green_tripdata_2017-09.csv</td></tr>\n",
       "<tr><td colspan=\"1\" rowspan=\"1\" class=\"\">file:/home/cesar/development/nyc-taxis-sample/yellow_tripdata_2009-06.csv</td></tr>\n",
       "<tr><td colspan=\"1\" rowspan=\"1\" class=\"\">file:/home/cesar/development/nyc-taxis-sample/green_tripdata_2019-11.csv</td></tr>\n",
       "<tr><td colspan=\"1\" rowspan=\"1\" class=\"\">file:/home/cesar/development/nyc-taxis-sample/yellow_tripdata_2016-04.csv</td></tr>\n",
       "<tr><td colspan=\"1\" rowspan=\"1\" class=\"\">file:/home/cesar/development/nyc-taxis-sample/green_tripdata_2014-04.csv</td></tr>\n",
       "<tr><td colspan=\"1\" rowspan=\"1\" class=\"\">file:/home/cesar/development/nyc-taxis-sample/green_tripdata_2014-01.csv</td></tr>\n",
       "<tr><td colspan=\"1\" rowspan=\"1\" class=\"\">file:/home/cesar/development/nyc-taxis-sample/yellow_tripdata_2012-04.csv</td></tr>\n",
       "<tr><td colspan=\"1\" rowspan=\"1\" class=\"\">file:/home/cesar/development/nyc-taxis-sample/yellow_tripdata_2019-03.csv</td></tr>\n",
       "<tr><td colspan=\"1\" rowspan=\"1\" class=\"\">file:/home/cesar/development/nyc-taxis-sample/green_tripdata_2018-03.csv</td></tr>\n",
       "<tr><td colspan=\"1\" rowspan=\"1\" class=\"\">file:/home/cesar/development/nyc-taxis-sample/yellow_tripdata_2009-04.csv</td></tr>\n",
       "<tr><td colspan=\"1\" rowspan=\"1\" class=\"\">file:/home/cesar/development/nyc-taxis-sample/green_tripdata_2015-03.csv</td></tr>\n",
       "<tr><td colspan=\"1\" rowspan=\"1\" class=\"\">file:/home/cesar/development/nyc-taxis-sample/yellow_tripdata_2016-10.csv</td></tr>\n",
       "<tr><td colspan=\"1\" rowspan=\"1\" class=\"\">file:/home/cesar/development/nyc-taxis-sample/green_tripdata_2014-06.csv</td></tr>\n",
       "<tr><td colspan=\"1\" rowspan=\"1\" class=\"\">file:/home/cesar/development/nyc-taxis-sample/yellow_tripdata_2009-01.csv</td></tr>\n",
       "<tr><td colspan=\"1\" rowspan=\"1\" class=\"\">file:/home/cesar/development/nyc-taxis-sample/green_tripdata_2016-08.csv</td></tr>\n",
       "<tr><td colspan=\"1\" rowspan=\"1\" class=\"\">file:/home/cesar/development/nyc-taxis-sample/green_tripdata_2014-08.csv</td></tr>\n",
       "<tr><td colspan=\"1\" rowspan=\"1\" class=\"\">file:/home/cesar/development/nyc-taxis-sample/yellow_tripdata_2017-10.csv</td></tr>\n",
       "<tr><td colspan=\"1\" rowspan=\"1\" class=\"\">file:/home/cesar/development/nyc-taxis-sample/yellow_tripdata_2013-03.csv</td></tr>\n",
       "<tr><td colspan=\"1\" rowspan=\"1\" class=\"\">file:/home/cesar/development/nyc-taxis-sample/green_tripdata_2020-02.csv</td></tr>\n",
       "<tr><td colspan=\"1\" rowspan=\"1\" class=\"\">file:/home/cesar/development/nyc-taxis-sample/green_tripdata_2015-05.csv</td></tr>\n",
       "<tr><td colspan=\"1\" rowspan=\"1\" class=\"\">file:/home/cesar/development/nyc-taxis-sample/green_tripdata_2018-10.csv</td></tr>\n",
       "<tr><td colspan=\"1\" rowspan=\"1\" class=\"\">file:/home/cesar/development/nyc-taxis-sample/green_tripdata_2014-07.csv</td></tr>\n",
       "<tr><td colspan=\"1\" rowspan=\"1\" class=\"\">file:/home/cesar/development/nyc-taxis-sample/yellow_tripdata_2016-08.csv</td></tr>\n",
       "<tr><td colspan=\"1\" rowspan=\"1\" class=\"\">file:/home/cesar/development/nyc-taxis-sample/yellow_tripdata_2009-08.csv</td></tr>\n",
       "<tr><td colspan=\"1\" rowspan=\"1\" class=\"\">file:/home/cesar/development/nyc-taxis-sample/green_tripdata_2014-05.csv</td></tr>\n",
       "<tr><td colspan=\"1\" rowspan=\"1\" class=\"\">file:/home/cesar/development/nyc-taxis-sample/yellow_tripdata_2015-11.csv</td></tr>\n",
       "<tr><td colspan=\"1\" rowspan=\"1\" class=\"\">file:/home/cesar/development/nyc-taxis-sample/yellow_tripdata_2017-08.csv</td></tr>\n",
       "<tr><td colspan=\"1\" rowspan=\"1\" class=\"\">file:/home/cesar/development/nyc-taxis-sample/yellow_tripdata_2011-01.csv</td></tr>\n",
       "<tr><td colspan=\"1\" rowspan=\"1\" class=\"\">file:/home/cesar/development/nyc-taxis-sample/yellow_tripdata_2010-04.csv</td></tr>\n",
       "<tr><td colspan=\"1\" rowspan=\"1\" class=\"\">file:/home/cesar/development/nyc-taxis-sample/yellow_tripdata_2013-01.csv</td></tr>\n",
       "<tr><td colspan=\"1\" rowspan=\"1\" class=\"\">file:/home/cesar/development/nyc-taxis-sample/green_tripdata_2018-08.csv</td></tr>\n",
       "<tr><td colspan=\"1\" rowspan=\"1\" class=\"\">file:/home/cesar/development/nyc-taxis-sample/green_tripdata_2016-01.csv</td></tr>\n",
       "<tr><td colspan=\"1\" rowspan=\"1\" class=\"\">file:/home/cesar/development/nyc-taxis-sample/yellow_tripdata_2014-04.csv</td></tr>\n",
       "<tr><td colspan=\"1\" rowspan=\"1\" class=\"\">file:/home/cesar/development/nyc-taxis-sample/yellow_tripdata_2015-12.csv</td></tr>\n",
       "<tr><td colspan=\"1\" rowspan=\"1\" class=\"\">file:/home/cesar/development/nyc-taxis-sample/yellow_tripdata_2010-08.csv</td></tr>\n",
       "<tr><td colspan=\"1\" rowspan=\"1\" class=\"\">file:/home/cesar/development/nyc-taxis-sample/green_tripdata_2018-06.csv</td></tr>\n",
       "<tr><td colspan=\"1\" rowspan=\"1\" class=\"\">file:/home/cesar/development/nyc-taxis-sample/green_tripdata_2014-03.csv</td></tr>\n",
       "<tr><td colspan=\"1\" rowspan=\"1\" class=\"\">file:/home/cesar/development/nyc-taxis-sample/yellow_tripdata_2010-03.csv</td></tr>\n",
       "<tr><td colspan=\"1\" rowspan=\"1\" class=\"\">file:/home/cesar/development/nyc-taxis-sample/green_tripdata_2019-04.csv</td></tr>\n",
       "<tr><td colspan=\"1\" rowspan=\"1\" class=\"\">file:/home/cesar/development/nyc-taxis-sample/green_tripdata_2015-11.csv</td></tr>\n",
       "<tr><td colspan=\"1\" rowspan=\"1\" class=\"\">file:/home/cesar/development/nyc-taxis-sample/yellow_tripdata_2018-02.csv</td></tr>\n",
       "<tr><td colspan=\"1\" rowspan=\"1\" class=\"\">file:/home/cesar/development/nyc-taxis-sample/green_tripdata_2020-03.csv</td></tr>\n",
       "<tr><td colspan=\"1\" rowspan=\"1\" class=\"\">file:/home/cesar/development/nyc-taxis-sample/green_tripdata_2015-07.csv</td></tr>\n",
       "<tr><td colspan=\"1\" rowspan=\"1\" class=\"\">file:/home/cesar/development/nyc-taxis-sample/yellow_tripdata_2012-10.csv</td></tr>\n",
       "<tr><td colspan=\"1\" rowspan=\"1\" class=\"\">file:/home/cesar/development/nyc-taxis-sample/yellow_tripdata_2015-02.csv</td></tr>\n",
       "<tr><td colspan=\"1\" rowspan=\"1\" class=\"\">file:/home/cesar/development/nyc-taxis-sample/yellow_tripdata_2012-11.csv</td></tr>\n",
       "<tr><td colspan=\"1\" rowspan=\"1\" class=\"\">file:/home/cesar/development/nyc-taxis-sample/yellow_tripdata_2011-11.csv</td></tr>\n",
       "</table>"
      ],
      "text/plain": [
       "<raw_magic.nested_table.NestedTable at 0x7f1c5f62b320>"
      ]
     },
     "execution_count": 48,
     "metadata": {},
     "output_type": "execute_result"
    }
   ],
   "source": [
    "%%query\n",
    "\n",
    "ref_file := \"file:/home/cesar/development/nyc-taxis-sample/fhv_tripdata_2018-01.csv\";\n",
    "\n",
    "\n",
    "columns_of(f: string) := \n",
    "    select col_name from describe(f).columns;\n",
    "    \n",
    "ref_columns := columns_of(ref_file);\n",
    "\n",
    "similarity(f: string) := select count(*) from columns_of(f) c where c in ref_columns;\n",
    "\n",
    "select sim, partition\n",
    "from f in ls(\"file:/home/cesar/development/nyc-taxis-sample/\")\n",
    "group by similarity(f) sim\n",
    "order by sim desc\n"
   ]
  },
  {
   "cell_type": "markdown",
   "metadata": {},
   "source": [
    "### Reading the data of a file with an error\n",
    "\n",
    "By reading a file with an error we find out that the second line is empty, right after the header."
   ]
  },
  {
   "cell_type": "code",
   "execution_count": 87,
   "metadata": {},
   "outputs": [
    {
     "data": {
      "text/html": [
       "<table class=\"nested-table\">\n",
       "<tr><th colspan=\"1\" rowspan=\"1\">string</th></tr>\n",
       "<tr><td colspan=\"1\" rowspan=\"1\" class=\"\">vendor_id, pickup_datetime, dropoff_datetime, passenger_count, trip_distance, pickup_longitude, pickup_latitude, rate_code, store_and_fwd_flag, dropoff_longitude, dropoff_latitude, payment_type, fare_amount, surcharge, mta_tax, tip_amount, tolls_amount, total_amount</td></tr>\n",
       "<tr><td colspan=\"1\" rowspan=\"1\" class=\"\"></td></tr>\n",
       "<tr><td colspan=\"1\" rowspan=\"1\" class=\"\">CMT,2014-08-16 14:58:49,2014-08-16 15:15:59,1,2.7000000000000002,-73.946537000000006,40.776812999999997,1,N,-73.976192999999995,40.755625000000002,CSH,14,0,0.5,0,0,14.5</td></tr>\n",
       "<tr><td colspan=\"1\" rowspan=\"1\" class=\"\">CMT,2014-08-16 08:10:48,2014-08-16 08:58:16,3,20.399999999999999,-73.776857000000007,40.645099000000002,1,Y,-73.916248999999993,40.837356999999997,CSH,58.5,0,0.5,0,5.3300000000000001,64.329999999999998</td></tr>\n",
       "<tr><td colspan=\"1\" rowspan=\"1\" class=\"\">CMT,2014-08-16 09:44:07,2014-08-16 09:54:37,1,2.1000000000000001,-73.986585000000005,40.725847999999999,1,N,-73.977157000000005,40.751961000000001,CSH,9.5,0,0.5,0,0,10</td></tr>\n",
       "<tr><td colspan=\"1\" rowspan=\"1\" class=\"\">CMT,2014-08-16 10:46:13,2014-08-16 10:51:25,1,1.3,-73.976290000000006,40.765231,1,N,-73.961484999999996,40.777889000000002,CSH,6,0,0.5,0,0,6.5</td></tr>\n",
       "<tr><td colspan=\"1\" rowspan=\"1\" class=\"\">CMT,2014-08-16 09:27:23,2014-08-16 09:39:37,2,1.7,-73.995248000000004,40.754646000000001,1,Y,-73.995902999999998,40.769201000000002,CSH,10.5,0,0.5,0,0,11</td></tr>\n",
       "<tr><td colspan=\"1\" rowspan=\"1\" class=\"\">CMT,2014-08-16 14:14:16,2014-08-16 14:25:33,2,1.7,-73.991534999999999,40.759863000000003,1,N,-74.005722000000006,40.737558,CSH,10,0,0.5,0,0,10.5</td></tr>\n",
       "<tr><td colspan=\"1\" rowspan=\"1\" class=\"\">CMT,2014-08-16 15:55:16,2014-08-16 16:00:10,1,1,-73.972307000000001,40.794075999999997,1,N,-73.963864999999998,40.807858000000003,CSH,6,0,0.5,0,0,6.5</td></tr>\n",
       "<tr><td colspan=\"1\" rowspan=\"1\" class=\"\">CMT,2014-08-16 14:08:29,2014-08-16 14:32:03,1,9.1999999999999993,-73.967337999999998,40.766008999999997,1,N,-73.872972000000004,40.774487000000001,CSH,28.5,0,0.5,0,0,29</td></tr>\n",
       "</table>"
      ],
      "text/plain": [
       "<raw_magic.nested_table.NestedTable at 0x7f1c5f5a65f8>"
      ]
     },
     "execution_count": 87,
     "metadata": {},
     "output_type": "execute_result"
    }
   ],
   "source": [
    "%%query \n",
    "select * from \n",
    "    read(\"file:/home/cesar/development/nyc-taxis-sample/yellow_tripdata_2014-08.csv\")\n",
    "    limit 10"
   ]
  },
  {
   "cell_type": "markdown",
   "metadata": {},
   "source": [
    "So by passing the `skip := 2` to `read_csv` we now can see all the fields"
   ]
  },
  {
   "cell_type": "code",
   "execution_count": 79,
   "metadata": {},
   "outputs": [
    {
     "data": {
      "text/html": [
       "<table class=\"nested-table\">\n",
       "<tr><th colspan=\"1\" rowspan=\"1\">_1</th><th colspan=\"1\" rowspan=\"1\">_2</th><th colspan=\"1\" rowspan=\"1\">_3</th><th colspan=\"1\" rowspan=\"1\">_4</th><th colspan=\"1\" rowspan=\"1\">_5</th><th colspan=\"1\" rowspan=\"1\">_6</th><th colspan=\"1\" rowspan=\"1\">_7</th><th colspan=\"1\" rowspan=\"1\">_8</th><th colspan=\"1\" rowspan=\"1\">_9</th><th colspan=\"1\" rowspan=\"1\">_10</th><th colspan=\"1\" rowspan=\"1\">_11</th><th colspan=\"1\" rowspan=\"1\">_12</th><th colspan=\"1\" rowspan=\"1\">_13</th><th colspan=\"1\" rowspan=\"1\">_14</th><th colspan=\"1\" rowspan=\"1\">_15</th><th colspan=\"1\" rowspan=\"1\">_16</th><th colspan=\"1\" rowspan=\"1\">_17</th><th colspan=\"1\" rowspan=\"1\">_18</th></tr>\n",
       "<tr><td colspan=\"1\" rowspan=\"1\" class=\"\">CMT</td><td colspan=\"1\" rowspan=\"1\" class=\"\">2014-08-16 14:58:49</td><td colspan=\"1\" rowspan=\"1\" class=\"\">2014-08-16 15:15:59</td><td colspan=\"1\" rowspan=\"1\" class=\"\">1</td><td colspan=\"1\" rowspan=\"1\" class=\"\">2.7</td><td colspan=\"1\" rowspan=\"1\" class=\"\">-73.946537</td><td colspan=\"1\" rowspan=\"1\" class=\"\">40.776813</td><td colspan=\"1\" rowspan=\"1\" class=\"\">1</td><td colspan=\"1\" rowspan=\"1\" class=\"\">N</td><td colspan=\"1\" rowspan=\"1\" class=\"\">-73.976193</td><td colspan=\"1\" rowspan=\"1\" class=\"\">40.755625</td><td colspan=\"1\" rowspan=\"1\" class=\"\">CSH</td><td colspan=\"1\" rowspan=\"1\" class=\"\">14.0</td><td colspan=\"1\" rowspan=\"1\" class=\"\">0.0</td><td colspan=\"1\" rowspan=\"1\" class=\"\">0.5</td><td colspan=\"1\" rowspan=\"1\" class=\"\">0.0</td><td colspan=\"1\" rowspan=\"1\" class=\"\">0.0</td><td colspan=\"1\" rowspan=\"1\" class=\"\">14.5</td></tr>\n",
       "<tr><td colspan=\"1\" rowspan=\"1\" class=\"\">CMT</td><td colspan=\"1\" rowspan=\"1\" class=\"\">2014-08-16 08:10:48</td><td colspan=\"1\" rowspan=\"1\" class=\"\">2014-08-16 08:58:16</td><td colspan=\"1\" rowspan=\"1\" class=\"\">3</td><td colspan=\"1\" rowspan=\"1\" class=\"\">20.4</td><td colspan=\"1\" rowspan=\"1\" class=\"\">-73.776857</td><td colspan=\"1\" rowspan=\"1\" class=\"\">40.645099</td><td colspan=\"1\" rowspan=\"1\" class=\"\">1</td><td colspan=\"1\" rowspan=\"1\" class=\"\">Y</td><td colspan=\"1\" rowspan=\"1\" class=\"\">-73.916249</td><td colspan=\"1\" rowspan=\"1\" class=\"\">40.837357</td><td colspan=\"1\" rowspan=\"1\" class=\"\">CSH</td><td colspan=\"1\" rowspan=\"1\" class=\"\">58.5</td><td colspan=\"1\" rowspan=\"1\" class=\"\">0.0</td><td colspan=\"1\" rowspan=\"1\" class=\"\">0.5</td><td colspan=\"1\" rowspan=\"1\" class=\"\">0.0</td><td colspan=\"1\" rowspan=\"1\" class=\"\">5.33</td><td colspan=\"1\" rowspan=\"1\" class=\"\">64.33</td></tr>\n",
       "<tr><td colspan=\"1\" rowspan=\"1\" class=\"\">CMT</td><td colspan=\"1\" rowspan=\"1\" class=\"\">2014-08-16 09:44:07</td><td colspan=\"1\" rowspan=\"1\" class=\"\">2014-08-16 09:54:37</td><td colspan=\"1\" rowspan=\"1\" class=\"\">1</td><td colspan=\"1\" rowspan=\"1\" class=\"\">2.1</td><td colspan=\"1\" rowspan=\"1\" class=\"\">-73.986585</td><td colspan=\"1\" rowspan=\"1\" class=\"\">40.725848</td><td colspan=\"1\" rowspan=\"1\" class=\"\">1</td><td colspan=\"1\" rowspan=\"1\" class=\"\">N</td><td colspan=\"1\" rowspan=\"1\" class=\"\">-73.977157</td><td colspan=\"1\" rowspan=\"1\" class=\"\">40.751961</td><td colspan=\"1\" rowspan=\"1\" class=\"\">CSH</td><td colspan=\"1\" rowspan=\"1\" class=\"\">9.5</td><td colspan=\"1\" rowspan=\"1\" class=\"\">0.0</td><td colspan=\"1\" rowspan=\"1\" class=\"\">0.5</td><td colspan=\"1\" rowspan=\"1\" class=\"\">0.0</td><td colspan=\"1\" rowspan=\"1\" class=\"\">0.0</td><td colspan=\"1\" rowspan=\"1\" class=\"\">10.0</td></tr>\n",
       "<tr><td colspan=\"1\" rowspan=\"1\" class=\"\">CMT</td><td colspan=\"1\" rowspan=\"1\" class=\"\">2014-08-16 10:46:13</td><td colspan=\"1\" rowspan=\"1\" class=\"\">2014-08-16 10:51:25</td><td colspan=\"1\" rowspan=\"1\" class=\"\">1</td><td colspan=\"1\" rowspan=\"1\" class=\"\">1.3</td><td colspan=\"1\" rowspan=\"1\" class=\"\">-73.97629</td><td colspan=\"1\" rowspan=\"1\" class=\"\">40.765231</td><td colspan=\"1\" rowspan=\"1\" class=\"\">1</td><td colspan=\"1\" rowspan=\"1\" class=\"\">N</td><td colspan=\"1\" rowspan=\"1\" class=\"\">-73.961485</td><td colspan=\"1\" rowspan=\"1\" class=\"\">40.777889</td><td colspan=\"1\" rowspan=\"1\" class=\"\">CSH</td><td colspan=\"1\" rowspan=\"1\" class=\"\">6.0</td><td colspan=\"1\" rowspan=\"1\" class=\"\">0.0</td><td colspan=\"1\" rowspan=\"1\" class=\"\">0.5</td><td colspan=\"1\" rowspan=\"1\" class=\"\">0.0</td><td colspan=\"1\" rowspan=\"1\" class=\"\">0.0</td><td colspan=\"1\" rowspan=\"1\" class=\"\">6.5</td></tr>\n",
       "<tr><td colspan=\"1\" rowspan=\"1\" class=\"\">CMT</td><td colspan=\"1\" rowspan=\"1\" class=\"\">2014-08-16 09:27:23</td><td colspan=\"1\" rowspan=\"1\" class=\"\">2014-08-16 09:39:37</td><td colspan=\"1\" rowspan=\"1\" class=\"\">2</td><td colspan=\"1\" rowspan=\"1\" class=\"\">1.7</td><td colspan=\"1\" rowspan=\"1\" class=\"\">-73.995248</td><td colspan=\"1\" rowspan=\"1\" class=\"\">40.754646</td><td colspan=\"1\" rowspan=\"1\" class=\"\">1</td><td colspan=\"1\" rowspan=\"1\" class=\"\">Y</td><td colspan=\"1\" rowspan=\"1\" class=\"\">-73.995903</td><td colspan=\"1\" rowspan=\"1\" class=\"\">40.769201</td><td colspan=\"1\" rowspan=\"1\" class=\"\">CSH</td><td colspan=\"1\" rowspan=\"1\" class=\"\">10.5</td><td colspan=\"1\" rowspan=\"1\" class=\"\">0.0</td><td colspan=\"1\" rowspan=\"1\" class=\"\">0.5</td><td colspan=\"1\" rowspan=\"1\" class=\"\">0.0</td><td colspan=\"1\" rowspan=\"1\" class=\"\">0.0</td><td colspan=\"1\" rowspan=\"1\" class=\"\">11.0</td></tr>\n",
       "</table>"
      ],
      "text/plain": [
       "<raw_magic.nested_table.NestedTable at 0x7f1c5f5cd198>"
      ]
     },
     "execution_count": 79,
     "metadata": {},
     "output_type": "execute_result"
    }
   ],
   "source": [
    "%%query \n",
    "select * from \n",
    "    read_csv(\"file:/home/cesar/development/nyc-taxis-sample/yellow_tripdata_2014-08.csv\", skip := 2)\n",
    "    limit 5"
   ]
  },
  {
   "cell_type": "markdown",
   "metadata": {},
   "source": [
    "By passing the schema of the file to the `read_csv` function we can correct all the field names"
   ]
  },
  {
   "cell_type": "code",
   "execution_count": 80,
   "metadata": {},
   "outputs": [
    {
     "data": {
      "text/html": [
       "<table class=\"nested-table\">\n",
       "<tr><th colspan=\"1\" rowspan=\"1\">VendorID</th><th colspan=\"1\" rowspan=\"1\">tpep_pickup_datetime</th><th colspan=\"1\" rowspan=\"1\">tpep_dropoff_datetime</th><th colspan=\"1\" rowspan=\"1\">passenger_count</th><th colspan=\"1\" rowspan=\"1\">trip_distance</th><th colspan=\"1\" rowspan=\"1\">pickup_longitude</th><th colspan=\"1\" rowspan=\"1\">pickup_latitude</th><th colspan=\"1\" rowspan=\"1\">RatecodeID</th><th colspan=\"1\" rowspan=\"1\">store_and_fwd_flag</th><th colspan=\"1\" rowspan=\"1\">dropoff_longitude</th><th colspan=\"1\" rowspan=\"1\">dropoff_latitude</th><th colspan=\"1\" rowspan=\"1\">payment_type</th><th colspan=\"1\" rowspan=\"1\">fare_amount</th><th colspan=\"1\" rowspan=\"1\">extra</th><th colspan=\"1\" rowspan=\"1\">mta_tax</th><th colspan=\"1\" rowspan=\"1\">tip_amount</th><th colspan=\"1\" rowspan=\"1\">tolls_amount</th><th colspan=\"1\" rowspan=\"1\">total_amount</th></tr>\n",
       "<tr><td colspan=\"1\" rowspan=\"1\" class=\"\">CMT</td><td colspan=\"1\" rowspan=\"1\" class=\"\">2014-08-16 14:58:49</td><td colspan=\"1\" rowspan=\"1\" class=\"\">2014-08-16 15:15:59</td><td colspan=\"1\" rowspan=\"1\" class=\"\">1</td><td colspan=\"1\" rowspan=\"1\" class=\"\">2.7</td><td colspan=\"1\" rowspan=\"1\" class=\"\">-73.946537</td><td colspan=\"1\" rowspan=\"1\" class=\"\">40.776813</td><td colspan=\"1\" rowspan=\"1\" class=\"\">1</td><td colspan=\"1\" rowspan=\"1\" class=\"\">N</td><td colspan=\"1\" rowspan=\"1\" class=\"\">-73.976193</td><td colspan=\"1\" rowspan=\"1\" class=\"\">40.755625</td><td colspan=\"1\" rowspan=\"1\" class=\"\">CSH</td><td colspan=\"1\" rowspan=\"1\" class=\"\">14.0</td><td colspan=\"1\" rowspan=\"1\" class=\"\">0.0</td><td colspan=\"1\" rowspan=\"1\" class=\"\">0.5</td><td colspan=\"1\" rowspan=\"1\" class=\"\">0.0</td><td colspan=\"1\" rowspan=\"1\" class=\"\">0.0</td><td colspan=\"1\" rowspan=\"1\" class=\"\">14.5</td></tr>\n",
       "<tr><td colspan=\"1\" rowspan=\"1\" class=\"\">CMT</td><td colspan=\"1\" rowspan=\"1\" class=\"\">2014-08-16 08:10:48</td><td colspan=\"1\" rowspan=\"1\" class=\"\">2014-08-16 08:58:16</td><td colspan=\"1\" rowspan=\"1\" class=\"\">3</td><td colspan=\"1\" rowspan=\"1\" class=\"\">20.4</td><td colspan=\"1\" rowspan=\"1\" class=\"\">-73.776857</td><td colspan=\"1\" rowspan=\"1\" class=\"\">40.645099</td><td colspan=\"1\" rowspan=\"1\" class=\"\">1</td><td colspan=\"1\" rowspan=\"1\" class=\"\">Y</td><td colspan=\"1\" rowspan=\"1\" class=\"\">-73.916249</td><td colspan=\"1\" rowspan=\"1\" class=\"\">40.837357</td><td colspan=\"1\" rowspan=\"1\" class=\"\">CSH</td><td colspan=\"1\" rowspan=\"1\" class=\"\">58.5</td><td colspan=\"1\" rowspan=\"1\" class=\"\">0.0</td><td colspan=\"1\" rowspan=\"1\" class=\"\">0.5</td><td colspan=\"1\" rowspan=\"1\" class=\"\">0.0</td><td colspan=\"1\" rowspan=\"1\" class=\"\">5.33</td><td colspan=\"1\" rowspan=\"1\" class=\"\">64.33</td></tr>\n",
       "<tr><td colspan=\"1\" rowspan=\"1\" class=\"\">CMT</td><td colspan=\"1\" rowspan=\"1\" class=\"\">2014-08-16 09:44:07</td><td colspan=\"1\" rowspan=\"1\" class=\"\">2014-08-16 09:54:37</td><td colspan=\"1\" rowspan=\"1\" class=\"\">1</td><td colspan=\"1\" rowspan=\"1\" class=\"\">2.1</td><td colspan=\"1\" rowspan=\"1\" class=\"\">-73.986585</td><td colspan=\"1\" rowspan=\"1\" class=\"\">40.725848</td><td colspan=\"1\" rowspan=\"1\" class=\"\">1</td><td colspan=\"1\" rowspan=\"1\" class=\"\">N</td><td colspan=\"1\" rowspan=\"1\" class=\"\">-73.977157</td><td colspan=\"1\" rowspan=\"1\" class=\"\">40.751961</td><td colspan=\"1\" rowspan=\"1\" class=\"\">CSH</td><td colspan=\"1\" rowspan=\"1\" class=\"\">9.5</td><td colspan=\"1\" rowspan=\"1\" class=\"\">0.0</td><td colspan=\"1\" rowspan=\"1\" class=\"\">0.5</td><td colspan=\"1\" rowspan=\"1\" class=\"\">0.0</td><td colspan=\"1\" rowspan=\"1\" class=\"\">0.0</td><td colspan=\"1\" rowspan=\"1\" class=\"\">10.0</td></tr>\n",
       "<tr><td colspan=\"1\" rowspan=\"1\" class=\"\">CMT</td><td colspan=\"1\" rowspan=\"1\" class=\"\">2014-08-16 10:46:13</td><td colspan=\"1\" rowspan=\"1\" class=\"\">2014-08-16 10:51:25</td><td colspan=\"1\" rowspan=\"1\" class=\"\">1</td><td colspan=\"1\" rowspan=\"1\" class=\"\">1.3</td><td colspan=\"1\" rowspan=\"1\" class=\"\">-73.97629</td><td colspan=\"1\" rowspan=\"1\" class=\"\">40.765231</td><td colspan=\"1\" rowspan=\"1\" class=\"\">1</td><td colspan=\"1\" rowspan=\"1\" class=\"\">N</td><td colspan=\"1\" rowspan=\"1\" class=\"\">-73.961485</td><td colspan=\"1\" rowspan=\"1\" class=\"\">40.777889</td><td colspan=\"1\" rowspan=\"1\" class=\"\">CSH</td><td colspan=\"1\" rowspan=\"1\" class=\"\">6.0</td><td colspan=\"1\" rowspan=\"1\" class=\"\">0.0</td><td colspan=\"1\" rowspan=\"1\" class=\"\">0.5</td><td colspan=\"1\" rowspan=\"1\" class=\"\">0.0</td><td colspan=\"1\" rowspan=\"1\" class=\"\">0.0</td><td colspan=\"1\" rowspan=\"1\" class=\"\">6.5</td></tr>\n",
       "<tr><td colspan=\"1\" rowspan=\"1\" class=\"\">CMT</td><td colspan=\"1\" rowspan=\"1\" class=\"\">2014-08-16 09:27:23</td><td colspan=\"1\" rowspan=\"1\" class=\"\">2014-08-16 09:39:37</td><td colspan=\"1\" rowspan=\"1\" class=\"\">2</td><td colspan=\"1\" rowspan=\"1\" class=\"\">1.7</td><td colspan=\"1\" rowspan=\"1\" class=\"\">-73.995248</td><td colspan=\"1\" rowspan=\"1\" class=\"\">40.754646</td><td colspan=\"1\" rowspan=\"1\" class=\"\">1</td><td colspan=\"1\" rowspan=\"1\" class=\"\">Y</td><td colspan=\"1\" rowspan=\"1\" class=\"\">-73.995903</td><td colspan=\"1\" rowspan=\"1\" class=\"\">40.769201</td><td colspan=\"1\" rowspan=\"1\" class=\"\">CSH</td><td colspan=\"1\" rowspan=\"1\" class=\"\">10.5</td><td colspan=\"1\" rowspan=\"1\" class=\"\">0.0</td><td colspan=\"1\" rowspan=\"1\" class=\"\">0.5</td><td colspan=\"1\" rowspan=\"1\" class=\"\">0.0</td><td colspan=\"1\" rowspan=\"1\" class=\"\">0.0</td><td colspan=\"1\" rowspan=\"1\" class=\"\">11.0</td></tr>\n",
       "</table>"
      ],
      "text/plain": [
       "<raw_magic.nested_table.NestedTable at 0x7f1c5f5cdd68>"
      ]
     },
     "execution_count": 80,
     "metadata": {},
     "output_type": "execute_result"
    }
   ],
   "source": [
    "%%query\n",
    "\n",
    "typealias t := record(\n",
    "    VendorID: string,\n",
    "    tpep_pickup_datetime: string,\n",
    "    tpep_dropoff_datetime: string,\n",
    "    passenger_count: int,\n",
    "    trip_distance: double,\n",
    "    pickup_longitude: double,\n",
    "    pickup_latitude: double,\n",
    "    RatecodeID: int,\n",
    "    store_and_fwd_flag: string,\n",
    "    dropoff_longitude: double,\n",
    "    dropoff_latitude: double,\n",
    "    payment_type: string,\n",
    "    fare_amount: double,\n",
    "    extra: double,\n",
    "    mta_tax: double,\n",
    "    tip_amount: double,\n",
    "    tolls_amount: double,\n",
    "    total_amount: double\n",
    ");\n",
    "    \n",
    "select * from \n",
    "    read_csv[t](\"file:/home/cesar/development/nyc-taxis-sample/yellow_tripdata_2014-08.csv\", skip := 2) \n",
    "    limit 5"
   ]
  },
  {
   "cell_type": "code",
   "execution_count": null,
   "metadata": {},
   "outputs": [],
   "source": []
  }
 ],
 "metadata": {
  "kernelspec": {
   "display_name": "Python 3",
   "language": "python",
   "name": "python3"
  },
  "language_info": {
   "codemirror_mode": {
    "name": "ipython",
    "version": 3
   },
   "file_extension": ".py",
   "mimetype": "text/x-python",
   "name": "python",
   "nbconvert_exporter": "python",
   "pygments_lexer": "ipython3",
   "version": "3.6.9"
  }
 },
 "nbformat": 4,
 "nbformat_minor": 2
}
